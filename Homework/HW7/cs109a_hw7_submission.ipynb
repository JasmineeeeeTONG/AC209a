{
 "cells": [
  {
   "cell_type": "markdown",
   "metadata": {},
   "source": [
    "# CS 109A/STAT 121A/AC 209A/CSCI E-109A: Homework 7\n",
    "# LDA/QDA and Decision Trees\n",
    "\n",
    "**Harvard University**<br/>\n",
    "**Fall 2017**<br/>\n",
    "**Instructors**: Pavlos Protopapas, Kevin Rader, Rahul Dave, Margo Levine\n",
    "\n",
    "---\n",
    "\n",
    "### INSTRUCTIONS\n",
    "\n",
    "- To submit your assignment follow the instructions given in canvas.\n",
    "- Restart the kernel and run the whole notebook again before you submit. \n",
    "- Do not include your name(s) in the notebook if you are submitting as a group. \n",
    "- If you submit individually and you have worked with someone, please include the name of your [one] partner below. \n",
    "\n",
    "---"
   ]
  },
  {
   "cell_type": "markdown",
   "metadata": {},
   "source": [
    "Your partner's name (if you submit separately): **Chia Chi Ho (Michelle Ho)**\n",
    "\n",
    "Enrollment Status (109A, 121A, 209A, or E109A): **209A**"
   ]
  },
  {
   "cell_type": "markdown",
   "metadata": {},
   "source": [
    "Import libraries:"
   ]
  },
  {
   "cell_type": "code",
   "execution_count": 1,
   "metadata": {
    "collapsed": true
   },
   "outputs": [],
   "source": [
    "import numpy as np\n",
    "import pandas as pd\n",
    "import matplotlib\n",
    "import matplotlib.pyplot as plt\n",
    "from sklearn.linear_model import LogisticRegressionCV\n",
    "import sklearn.metrics as metrics\n",
    "from sklearn.preprocessing import PolynomialFeatures\n",
    "from sklearn.discriminant_analysis import LinearDiscriminantAnalysis\n",
    "from sklearn.discriminant_analysis import QuadraticDiscriminantAnalysis\n",
    "from sklearn.neighbors import KNeighborsClassifier\n",
    "from sklearn.tree import DecisionTreeClassifier\n",
    "from sklearn.model_selection import cross_val_score\n",
    "#import pydotplus\n",
    "#import io\n",
    "from sklearn.tree import export_graphviz\n",
    "from IPython.display import Image\n",
    "from IPython.display import display\n",
    "%matplotlib inline"
   ]
  },
  {
   "cell_type": "markdown",
   "metadata": {},
   "source": [
    "\n",
    "## Multiclass Thyroid Classification\n",
    "\n",
    "In this problem, you will build a model for diagnosing disorders in a patient's thyroid gland. Given the results of medical tests on a patient, the task is to classify the patient either as:\n",
    "- *normal* (class 1)\n",
    "- having *hyperthyroidism* (class 2)\n",
    "- or having *hypothyroidism* (class 3). \n",
    "\n",
    "The data set is provided in the file `hw7_dataset.csv`. Columns 1-2 contain biomarkers for a patient (predictors):\n",
    "- Biomarker 1: (Logarithm of) level of basal thyroid-stimulating hormone (TSH) as measured by radioimmuno assay\n",
    "- Biomarker 2: (Logarithm of) maximal absolute difference of TSH value after injection of 200 micro grams of thyrotropin-releasing hormone as compared to the basal value.\n",
    "\n",
    "The last column contains the diagnosis for the patient from a medical expert. This data set was obtained from the UCI machine learning repository.\n",
    "\n",
    "Notice that unlike previous exercises, the task at hand is a 3-class classification problem. We will explore the use of different methods for multiclass classification.\n",
    "\n",
    "First task: split the data using the following code:"
   ]
  },
  {
   "cell_type": "code",
   "execution_count": 2,
   "metadata": {
    "collapsed": true
   },
   "outputs": [],
   "source": [
    "np.random.seed(9001)\n",
    "df = pd.read_csv('hw7_dataset.csv')\n",
    "msk = np.random.rand(len(df)) < 0.5\n",
    "data_train = df[msk]\n",
    "data_test = df[~msk]"
   ]
  },
  {
   "cell_type": "markdown",
   "metadata": {},
   "source": [
    "## Question 1: Fit Classification Models\n",
    "\n",
    "1. Generate a 2D scatter plot of the training set, denoting each class with a different color. Does it appear that the data points can be separated well by a linear classifier?\n",
    "\n",
    "2. Briefly explain the difference between multinomial logistic regression and one-vs-rest (OvR) logistic regression methods for fitting a multiclass classifier (in 2-3 sentences).\n",
    "\n",
    "3. Fit linear classification models on the thyroid data set using both the methods.  You should use $L_2$ regularization in both cases, tuning the regularization parameter using cross-validation.  Is there a difference in the overall classification accuracy of the two methods on the training and test sets?\n",
    "\n",
    "4. Also, compare the training and test accuracies of these models with the following classification methods:\n",
    "    - Multiclass Logistic Regression with quadratic terms \n",
    "    - Linear Discriminant Analysis\n",
    "    - Quadratic Discriminant Analysis\n",
    "    - k-Nearest Neighbors\n",
    "    <br>\n",
    "*Note:* you may use either the OvR or multinomial variant for the multiclass logistic regression (with $L_2$ regularization). Do not forget to use cross-validation to choose the regularization parameter, and also the number of neighbors in k-NN. \n",
    "\n",
    "5. Does the inclusion of the polynomial terms in logistic regression yield better test accuracy compared to the model with only linear terms? \n",
    "\n",
    "\n",
    "*Hint:* You may use the `KNeighborsClassifier` class to fit a k-NN classification model."
   ]
  },
  {
   "cell_type": "markdown",
   "metadata": {},
   "source": [
    "> ### 2D scatter plot of the training set"
   ]
  },
  {
   "cell_type": "code",
   "execution_count": 3,
   "metadata": {},
   "outputs": [
    {
     "data": {
      "text/plain": [
       "((102, 2), (113, 2), (102,), (113,))"
      ]
     },
     "execution_count": 3,
     "metadata": {},
     "output_type": "execute_result"
    }
   ],
   "source": [
    "# Split TRAIN & TEST data into predictors(X) and response(y)\n",
    "X_train = data_train.iloc[:, :-1]\n",
    "X_test = data_test.iloc[:, :-1]\n",
    "y_train = data_train.iloc[:, -1]\n",
    "y_test = data_test.iloc[:, -1]\n",
    "\n",
    "X_train.shape, X_test.shape, y_train.shape, y_test.shape"
   ]
  },
  {
   "cell_type": "code",
   "execution_count": 4,
   "metadata": {},
   "outputs": [
    {
     "data": {
      "text/plain": [
       "<matplotlib.legend.Legend at 0x112a19c88>"
      ]
     },
     "execution_count": 4,
     "metadata": {},
     "output_type": "execute_result"
    },
    {
     "data": {
      "image/png": "[encoded data removed]",
      "text/plain": [
       "<matplotlib.figure.Figure at 0x10f674550>"
      ]
     },
     "metadata": {},
     "output_type": "display_data"
    }
   ],
   "source": [
    "fig, ax = plt.subplots(1, 1, figsize = (8, 8))\n",
    "\n",
    "ax.scatter(X_train[y_train == 1].iloc[:, 0], X_train[y_train == 1].iloc[:, 1], color='b', \n",
    "           alpha=0.8, label='1 - Normal')\n",
    "ax.scatter(X_train[y_train == 2].iloc[:, 0], X_train[y_train == 2].iloc[:, 1], color='c', \n",
    "           alpha=0.8, label='2 - Hyper')\n",
    "ax.scatter(X_train[y_train == 3].iloc[:, 0], X_train[y_train == 3].iloc[:, 1], color='r', \n",
    "           alpha=0.8, label='3 - Hypo')\n",
    "\n",
    "ax.set_xlabel(\"Biomarker 1\", fontsize=14)\n",
    "ax.set_ylabel(\"Biomarker 2\", fontsize=14)\n",
    "ax.set_title(\"Diagnosis based on Biomarkers 1 and 2 - TRAIN\", fontsize=18)\n",
    "ax.legend(fontsize=14)"
   ]
  },
  {
   "cell_type": "markdown",
   "metadata": {},
   "source": [
    "> ### Multinomial & OvR logistic regression"
   ]
  },
  {
   "cell_type": "code",
   "execution_count": 5,
   "metadata": {},
   "outputs": [
    {
     "name": "stdout",
     "output_type": "stream",
     "text": [
      "=============================\n",
      "MULTINOMIAL logistic regression\n",
      "\n",
      "Optimal C = [ 2.7825594  2.7825594  2.7825594]\n",
      "train_acc = 0.8921568627450981\n",
      "test_acc = 0.8849557522123894\n",
      "\n",
      "=============================\n",
      "ONE-VS-REST logistic regression\n",
      "\n",
      "Optimal C = [ 0.35938137  2.7825594   2.7825594 ]\n",
      "train_acc = 0.8431372549019608\n",
      "test_acc = 0.8407079646017699\n",
      "\n"
     ]
    }
   ],
   "source": [
    "log_multi = LogisticRegressionCV(penalty='l2', multi_class='multinomial').fit(X_train, y_train)\n",
    "print('=============================')\n",
    "print(\"MULTINOMIAL logistic regression\\n\")\n",
    "print('Optimal C = {}'.format(log_multi.C_))\n",
    "print('train_acc = {}\\ntest_acc = {}\\n'.format(log_multi.score(X_train, y_train), log_multi.score(X_test, y_test)))\n",
    "\n",
    "log_ovr = LogisticRegressionCV(penalty='l2', multi_class='ovr').fit(X_train, y_train)\n",
    "print('=============================')\n",
    "print(\"ONE-VS-REST logistic regression\\n\")\n",
    "print('Optimal C = {}'.format(log_ovr.C_))\n",
    "print('train_acc = {}\\ntest_acc = {}\\n'.format(log_ovr.score(X_train, y_train), log_ovr.score(X_test, y_test)))\n"
   ]
  },
  {
   "cell_type": "markdown",
   "metadata": {},
   "source": [
    "> ### Multiclass Logistic Regression with quadratic terms \n",
    "> Both Multinomial & OvR implemented for reference."
   ]
  },
  {
   "cell_type": "code",
   "execution_count": 6,
   "metadata": {},
   "outputs": [
    {
     "data": {
      "text/plain": [
       "((102,), (102, 6), (113,), (113, 6))"
      ]
     },
     "execution_count": 6,
     "metadata": {},
     "output_type": "execute_result"
    }
   ],
   "source": [
    "# Generate quadratic terms\n",
    "X_train_quad = PolynomialFeatures(2).fit_transform(X_train)\n",
    "X_test_quad = PolynomialFeatures(2).fit_transform(X_test)\n",
    "\n",
    "y_train.shape, X_train_quad.shape, y_test.shape, X_test_quad.shape"
   ]
  },
  {
   "cell_type": "code",
   "execution_count": 7,
   "metadata": {},
   "outputs": [
    {
     "name": "stdout",
     "output_type": "stream",
     "text": [
      "=============================\n",
      "MULTINOMIAL logistic regression w/ QUADRATIC TERMS\n",
      "\n",
      "Optimal C = [ 2.7825594  2.7825594  2.7825594]\n",
      "train_acc = 0.8921568627450981\n",
      "test_acc = 0.8938053097345132\n",
      "\n",
      "=============================\n",
      "ONE-VS-REST logistic regression w/ QUADRATIC TERMS\n",
      "\n",
      "Optimal C = [ 21.5443469    2.7825594    0.35938137]\n",
      "train_acc = 0.8823529411764706\n",
      "test_acc = 0.8761061946902655\n",
      "\n"
     ]
    }
   ],
   "source": [
    "# Fit and score Multi-class LogisticRegression with quadratic terms\n",
    "log_multi_quad = LogisticRegressionCV(penalty='l2', multi_class='multinomial').fit(X_train_quad, y_train)\n",
    "print('=============================')\n",
    "print('MULTINOMIAL logistic regression w/ QUADRATIC TERMS\\n')\n",
    "print('Optimal C = {}'.format(log_multi_quad.C_))\n",
    "print('train_acc = {}\\ntest_acc = {}\\n'.format(log_multi_quad.score(X_train_quad, y_train), log_multi_quad.score(X_test_quad, y_test)))\n",
    "\n",
    "log_ovr_quad = LogisticRegressionCV(penalty='l2', multi_class='ovr').fit(X_train_quad, y_train)\n",
    "print('=============================')\n",
    "print('ONE-VS-REST logistic regression w/ QUADRATIC TERMS\\n')\n",
    "print('Optimal C = {}'.format(log_ovr_quad.C_))\n",
    "print('train_acc = {}\\ntest_acc = {}\\n'.format(log_ovr_quad.score(X_train_quad, y_train), log_ovr_quad.score(X_test_quad, y_test)))\n"
   ]
  },
  {
   "cell_type": "markdown",
   "metadata": {},
   "source": [
    "> ### Linear Discriminant Analysis"
   ]
  },
  {
   "cell_type": "code",
   "execution_count": 8,
   "metadata": {},
   "outputs": [
    {
     "name": "stdout",
     "output_type": "stream",
     "text": [
      "=============================\n",
      "LDA\n",
      "\n",
      "train_acc = 0.8725490196078431\n",
      "test_acc = 0.831858407079646\n",
      "\n"
     ]
    }
   ],
   "source": [
    "# Fit and score LDA\n",
    "lda = LinearDiscriminantAnalysis().fit(X_train, y_train)\n",
    "print('=============================')\n",
    "print('LDA\\n')\n",
    "print('train_acc = {}\\ntest_acc = {}\\n'.format(lda.score(X_train, y_train), lda.score(X_test, y_test)))"
   ]
  },
  {
   "cell_type": "markdown",
   "metadata": {},
   "source": [
    "> ### Quadratic Discriminant Analysis "
   ]
  },
  {
   "cell_type": "code",
   "execution_count": 9,
   "metadata": {},
   "outputs": [
    {
     "name": "stdout",
     "output_type": "stream",
     "text": [
      "=============================\n",
      "QDA\n",
      "\n",
      "train_acc = 0.8725490196078431\n",
      "test_acc = 0.8495575221238938\n",
      "\n"
     ]
    }
   ],
   "source": [
    "# Fit and score QDA\n",
    "qda = QuadraticDiscriminantAnalysis().fit(X_train, y_train)\n",
    "print('=============================')\n",
    "print('QDA\\n')\n",
    "print('train_acc = {}\\ntest_acc = {}\\n'.format(qda.score(X_train, y_train), qda.score(X_test, y_test)))"
   ]
  },
  {
   "cell_type": "markdown",
   "metadata": {},
   "source": [
    "> ### k-Nearest Neighbors"
   ]
  },
  {
   "cell_type": "code",
   "execution_count": 10,
   "metadata": {},
   "outputs": [
    {
     "name": "stdout",
     "output_type": "stream",
     "text": [
      "=============================\n",
      "KNN Classifier\n",
      "\n",
      "Optimal K = 3\n",
      "train_acc = 0.9313725490196079\n",
      "test_acc = 0.8672566371681416\n",
      "\n"
     ]
    }
   ],
   "source": [
    "# Fit and score KNN using CV to find the Optimal K\n",
    "ks = [1, 2, 3, 5, 7, 10, 20, 30]\n",
    "\n",
    "cv_scores = []\n",
    "\n",
    "for k in ks:\n",
    "    knn = KNeighborsClassifier(n_neighbors=k)\n",
    "    scores = cross_val_score(knn, X_train, y_train, scoring='accuracy')\n",
    "    cv_scores.append(scores.mean())\n",
    "\n",
    "optimal_k = ks[cv_scores.index(max(cv_scores))]\n",
    "knn_optimal = KNeighborsClassifier(n_neighbors=optimal_k).fit(X_train, y_train)\n",
    "print('=============================')\n",
    "print('KNN Classifier\\n')\n",
    "print('Optimal K = {}'.format(optimal_k))\n",
    "print('train_acc = {}\\ntest_acc = {}\\n'.format(knn_optimal.score(X_train, y_train), knn_optimal.score(X_test, y_test)))"
   ]
  },
  {
   "cell_type": "markdown",
   "metadata": {},
   "source": [
    "## Answers for Questions 1\n",
    "\n",
    "Does it appear that the data points can be separated well by a linear classifier?\n",
    "\n",
    "> **Yes. The scatter plot shows that the data points can be separately relatively well (but not perfectly) by a linear boundaries. Thus, they can be seperated by a linear classifier.**\n",
    "\n",
    "Briefly explain the difference between multinomial logistic regression and one-vs-rest (OvR) logistic regression methods for fitting a multiclass classifier (in 2-3 sentences).\n",
    "\n",
    "> **One-vs-Rest (OvR) logistic regression fits each class against the rest classes, giving `k` probabilities where `k` is the number of classes. It classifies an observation as the class associated with the highest fitted probability. In this way, the fitted probabilities of all classes do not necessarily add up to 1, and thus can be sensitive to outliers.**\n",
    "\n",
    "> **On the other hand, multinomial logistic regression learns the parameters for each class interdependently and draws its decision boundaries only once. In this way, the fitted probabilities of the classes add up to 1 at any given point, and thus can be more robust to outliers.**\n",
    "\n",
    "Is there a difference in the overall classification accuracy of the two methods on the training and test sets?\n",
    "\n",
    "> **Yes, there is. Multinomial logsitic regression performed better than OvR on both the training and the test sets. The overall classification accuracies are reprinted below:**\n",
    "\n",
    ">> ** Multinomial TRAINING accuracy: 0.8921568627450981**\n",
    "\n",
    ">> ** OvR TRAINING accuracy: 0.8431372549019608**\n",
    "\n",
    ">> ** Multinomial TEST accuracy: 0.8849557522123894**\n",
    "\n",
    ">> ** OvR TEST accuracy: 0.8407079646017699**\n",
    "\n",
    "\n",
    "Compare the training and test accuracies of these models with the following classification methods:\n",
    "\n",
    " **Classifier**                |    **Training accuracy**     |     **Test accuracy**\n",
    "-------------------------------|------------------------------|------------------------\n",
    "Multinomial w/ LINEAR terms    |     0.8921568627450981       |     0.8849557522123894\n",
    "OvR w/ LINEAR terms            |     0.8431372549019608       |     0.8407079646017699\n",
    "Multinomial w/ QUADRATIC terms |     0.8921568627450981       |     0.8938053097345132\n",
    "OvR w/ QUADRATIC terms         |     0.8823529411764706       |     0.8761061946902655           \n",
    "Linear Discriminant Analysis   |     0.8725490196078431       |     0.831858407079646\n",
    "Quadratic Discriminant Analysis|     0.8725490196078431       |     0.8495575221238938\n",
    "k-Nearest Neighbors            |     0.9313725490196079       |     0.8672566371681416\n",
    "\n",
    "\n",
    "Does the inclusion of the polynomial terms in logistic regression yield better test accuracy compared to the model with only linear terms? \n",
    "\n",
    "> **Yes, based on the summary table above, the inclusion of the polynomial terms yielded better test accuracy compared to the model with only linear terms.**"
   ]
  },
  {
   "cell_type": "markdown",
   "metadata": {},
   "source": [
    "## Question 2: Visualize Decision Boundaries\n",
    "\n",
    "The following code will allow you to visualize the decision boundaries of a given classification model."
   ]
  },
  {
   "cell_type": "code",
   "execution_count": 11,
   "metadata": {
    "collapsed": true
   },
   "outputs": [],
   "source": [
    "#--------  plot_decision_boundary\n",
    "# A function that visualizes the data and the decision boundaries\n",
    "# Input: \n",
    "#      x (predictors)\n",
    "#      y (labels)\n",
    "#      model (the classifier you want to visualize)\n",
    "#      title (title for plot)\n",
    "#      ax (a set of axes to plot on)\n",
    "#      poly_degree (highest degree of polynomial terms included in the model; None by default)\n",
    "\n",
    "def plot_decision_boundary(x, y, model, title, ax, poly_degree=None):\n",
    "    # Create mesh\n",
    "    # Interval of points for biomarker 1\n",
    "    min0 = x[:,0].min()\n",
    "    max0 = x[:,0].max()\n",
    "    interval0 = np.arange(min0, max0, (max0-min0)/100)\n",
    "    n0 = np.size(interval0)\n",
    "    \n",
    "    # Interval of points for biomarker 2\n",
    "    min1 = x[:,1].min()\n",
    "    max1 = x[:,1].max()\n",
    "    interval1 = np.arange(min1, max1, (max1-min1)/100)\n",
    "    n1 = np.size(interval1)\n",
    "\n",
    "    # Create mesh grid of points\n",
    "    x1, x2 = np.meshgrid(interval0, interval1)\n",
    "    x1 = x1.reshape(-1,1)\n",
    "    x2 = x2.reshape(-1,1)\n",
    "    xx = np.concatenate((x1, x2), axis=1)\n",
    "\n",
    "    # Predict on mesh of points\n",
    "    # Check if polynomial terms need to be included\n",
    "    if(poly_degree!=None):\n",
    "        # Use PolynomialFeatures to generate polynomial terms\n",
    "        poly = PolynomialFeatures(poly_degree)\n",
    "        xx_ = poly.fit_transform(xx)\n",
    "        yy = model.predict(xx_) \n",
    "    else:   \n",
    "        yy = model.predict(xx)\n",
    "        \n",
    "    yy = yy.reshape((n0, n1))\n",
    "\n",
    "    # Plot decision surface\n",
    "    x1 = x1.reshape(n0, n1)\n",
    "    x2 = x2.reshape(n0, n1)\n",
    "    ax.contourf(x1, x2, yy, cmap=plt.cm.coolwarm, alpha=0.8)\n",
    "    \n",
    "    # Plot scatter plot of data\n",
    "    yy = y.reshape(-1,)\n",
    "    ax.scatter(x[yy==1,0], x[yy==1,1], c='blue', label='Normal', cmap=plt.cm.coolwarm)\n",
    "    ax.scatter(x[yy==2,0], x[yy==2,1], c='cyan', label='Hyper', cmap=plt.cm.coolwarm)\n",
    "    ax.scatter(x[yy==3,0], x[yy==3,1], c='red', label='Hypo', cmap=plt.cm.coolwarm)\n",
    "    \n",
    "    # Label axis, title\n",
    "    ax.set_title(title)\n",
    "    ax.set_xlabel('Biomarker 1')\n",
    "    ax.set_ylabel('Biomarker 2')\n",
    "    \n",
    "    ax.legend()"
   ]
  },
  {
   "cell_type": "markdown",
   "metadata": {},
   "source": [
    "**Note:** The provided code uses `sklearn`'s `PolynomialFeatures` to generate higher-order polynomial terms, with degree `poly_degree`. \n",
    "Also, if you have loaded the data sets into `pandas` data frames, you may use the `as_matrix` function to obtain a `numpy` array from the data frame objects.\n",
    "\n",
    "1. Use the above code to visualize the decision boundaries for each of the model fitted in the previous part.\n",
    "2. Comment on the difference in the decision boundaries (if any) for the OvR and multinomial logistic regression models. Is there a difference between the decision boundaries for the linear logistic regression models and LDA. What about the decision boundaries for the quadratic logistic regression and QDA? Give an explanation for your answer."
   ]
  },
  {
   "cell_type": "code",
   "execution_count": 12,
   "metadata": {},
   "outputs": [
    {
     "data": {
      "image/png": "[encoded data removed]",
      "text/plain": [
       "<matplotlib.figure.Figure at 0x112a19828>"
      ]
     },
     "metadata": {},
     "output_type": "display_data"
    }
   ],
   "source": [
    "fig, ax = plt.subplots(1, 1, figsize = (6, 6))\n",
    "plot_decision_boundary(X_train.as_matrix(), y_train.as_matrix(), log_multi, 'Linear Multinomial - TRAIN', ax)\n",
    "ax.title.set_size(16)"
   ]
  },
  {
   "cell_type": "code",
   "execution_count": 13,
   "metadata": {},
   "outputs": [
    {
     "data": {
      "image/png": "[encoded data removed]",
      "text/plain": [
       "<matplotlib.figure.Figure at 0x112d46940>"
      ]
     },
     "metadata": {},
     "output_type": "display_data"
    }
   ],
   "source": [
    "fig, ax = plt.subplots(1, 1, figsize = (6, 6))\n",
    "plot_decision_boundary(X_train.as_matrix(), y_train.as_matrix(), log_ovr, 'Linear OvR - TRAIN', ax)\n",
    "ax.title.set_size(16)"
   ]
  },
  {
   "cell_type": "code",
   "execution_count": 14,
   "metadata": {},
   "outputs": [
    {
     "data": {
      "image/png": "[encoded data removed]",
      "text/plain": [
       "<matplotlib.figure.Figure at 0x112e19c50>"
      ]
     },
     "metadata": {},
     "output_type": "display_data"
    }
   ],
   "source": [
    "fig, ax = plt.subplots(1, 1, figsize = (6, 6))\n",
    "plot_decision_boundary(X_train.as_matrix(), y_train.as_matrix(), log_multi_quad, 'Quadratic Multinomial - TRAIN', ax, poly_degree=2)\n",
    "ax.title.set_size(16)"
   ]
  },
  {
   "cell_type": "code",
   "execution_count": 15,
   "metadata": {},
   "outputs": [
    {
     "data": {
      "image/png": "[encoded data removed]",
      "text/plain": [
       "<matplotlib.figure.Figure at 0x112ede5f8>"
      ]
     },
     "metadata": {},
     "output_type": "display_data"
    }
   ],
   "source": [
    "fig, ax = plt.subplots(1, 1, figsize = (6, 6))\n",
    "plot_decision_boundary(X_train.as_matrix(), y_train.as_matrix(), log_ovr_quad, 'Quadratic OvR - TRAIN', ax, poly_degree=2)\n",
    "ax.title.set_size(16)"
   ]
  },
  {
   "cell_type": "code",
   "execution_count": 16,
   "metadata": {},
   "outputs": [
    {
     "data": {
      "image/png": "[encoded data removed]",
      "text/plain": [
       "<matplotlib.figure.Figure at 0x112fc4908>"
      ]
     },
     "metadata": {},
     "output_type": "display_data"
    }
   ],
   "source": [
    "fig, ax = plt.subplots(1, 1, figsize = (6, 6))\n",
    "plot_decision_boundary(X_train.as_matrix(), y_train.as_matrix(), lda, 'LDA - TRAIN', ax)\n",
    "ax.title.set_size(16)"
   ]
  },
  {
   "cell_type": "code",
   "execution_count": 17,
   "metadata": {},
   "outputs": [
    {
     "data": {
      "image/png": "[encoded data removed]",
      "text/plain": [
       "<matplotlib.figure.Figure at 0x112ef7ba8>"
      ]
     },
     "metadata": {},
     "output_type": "display_data"
    }
   ],
   "source": [
    "fig, ax = plt.subplots(1, 1, figsize = (6, 6))\n",
    "plot_decision_boundary(X_train.as_matrix(), y_train.as_matrix(), qda, 'QDA - TRAIN', ax)\n",
    "ax.title.set_size(16)"
   ]
  },
  {
   "cell_type": "code",
   "execution_count": 18,
   "metadata": {},
   "outputs": [
    {
     "data": {
      "image/png": "[encoded data removed]",
      "text/plain": [
       "<matplotlib.figure.Figure at 0x112d4b710>"
      ]
     },
     "metadata": {},
     "output_type": "display_data"
    }
   ],
   "source": [
    "fig, ax = plt.subplots(1, 1, figsize = (6, 6))\n",
    "plot_decision_boundary(X_train.as_matrix(), y_train.as_matrix(), knn_optimal, 'K-NN (K=3) - TRAIN', ax)\n",
    "ax.title.set_size(16)"
   ]
  },
  {
   "cell_type": "markdown",
   "metadata": {},
   "source": [
    "## Answer for Question (2)\n",
    "\n",
    "Comment on the difference in the decision boundaries (if any) for the OvR and multinomial logistic regression models. \n",
    "> **The major difference is that **\n",
    "\n",
    ">> - **In the OvR model, the boundary of the red region touches the boundary of the cyan region.**\n",
    ">> - **In the multinomial model, the red and cyan regions are completely separated by the blue region.**\n",
    "\n",
    "> **The reason is that the OvR models draws 3 separate boundaries, each considering 1 class versus the other 2 classes combined. Thus, the line separating red from (blue + cyan) is steep and intersects with the line separating cyan from (blue + red), resulting in the blue class having a bound on the right (at some larger Biomarker 1 values). On the other hand, the multinomial approach fits classes all at once, and thus the blue region extends to larger Biomarker 1 values without being bounded.  **\n",
    "\n",
    "\n",
    "Is there a difference between the decision boundaries for the linear logistic regression models and LDA. \n",
    "> **The major difference is that**\n",
    "\n",
    ">> - ** In the LDA model, the regions have relatively more similar areas.**\n",
    "\n",
    ">> - ** In the linear logistic regression model, region areas are more different.**\n",
    "\n",
    "> **The reason is that LDA models the predictors as multivariate normal distributions conditioned on the response and draws decision boundaries where the distribution densities intersect. Since LDA assumes that the predictor distributions have the same variance, the resulting regions would have similar areas. On the other hand, linear logistic regression estimates the probability of being in each class using the logit transformation and determine the regions by choosing the class with the highest probability. In this way, there is no guarantee that the area of the class regions should be similar.**\n",
    "\n",
    "What about the decision boundaries for the quadratic logistic regression and QDA? Give an explanation for your answer.\n",
    "> **The major difference is that**\n",
    "\n",
    ">> - ** The quadratic logistic regression has open regions. **\n",
    "\n",
    ">> - ** The QDA can draw enclosed ovals. **\n",
    "\n",
    "> **The reason is that quadratic logistic regression simply turns its linear boundaries into 2nd order curves, which opens up. On the other hand, the QDA models predictors as multivariate normal distributions conditioned on the response and draws decision boundaries where the distribution densities intersect. In addition, QDA does not assume equal variance among predictors in different classes. More specifically, the blue class has high prior and low variance while the cyan class has low prior and high variance. The high variance of the cyan class leads to its large area, while the high prior of the blue class results in an oval boundary.**\n"
   ]
  },
  {
   "cell_type": "markdown",
   "metadata": {},
   "source": [
    "## Question 3: Fit Decision Trees\n",
    "\n",
    "We next try out decision trees for thyroid classification. For the following questions, you may use the *Gini* index as the splitting criterion while fitting the decision tree. \n",
    "1. Fit a decision tree model to the thyroid data set with (maximum) tree depths 2, 3, ..., 10. Make plots of the training and test accuracies as a function of the tree depth. Is there a depth at which the fitted decision tree model achieves near-perfect classification on the training set? If so, what can you say about the test accuracy of this model?\n",
    "\n",
    "2. Use 5-fold cross-validation to find the optimal tree depth. How does the performance of a decision tree fitted with this depth compare with the models fitted in Part 2(a)?\n",
    "\n",
    "3. Use the code provided in Part 2(c) to visualize the decision boundary of the fitted decision tree. How is the decision boundary of the decision tree model different from the other methods? Given an explanation for your observation.\n",
    "\n",
    "4. Use the `export_graphviz` function in `sklearn` to generate a visualization of the tree diagram for the fitted model. Based on the visualization, explain *in words* how the fitted model diagnoses 'hypothyroidism' for a patient.  \n"
   ]
  },
  {
   "cell_type": "markdown",
   "metadata": {},
   "source": [
    "*Note:* Look at the `export_graphviz` function in the `sklearn.tree` module. \n",
    "\n",
    "You can get a graphic for this visualization by pasting the generated graphviz file in the text box at http://www.webgraphviz.com/ , or you can do it on your own computer.\n",
    "\n",
    "If you choose the do the latter, you will have to install `GraphViz` and `pydot` to use the decision tree rendering code. For this, you may execute the following commands in a terminal:\n",
    "\n",
    "`$pip install graphviz`<br>\n",
    "`$pip install pydot`\n",
    "\n",
    "*Hint:* You may use the `DecisionTreeClassifier` class to fit a decision tree classifier and the `max_depth` attribute to set the tree depth. You may use the `cross_val_score` function for cross-validation with decision trees."
   ]
  },
  {
   "cell_type": "code",
   "execution_count": 19,
   "metadata": {},
   "outputs": [
    {
     "data": {
      "text/plain": [
       "<matplotlib.legend.Legend at 0x112c19668>"
      ]
     },
     "execution_count": 19,
     "metadata": {},
     "output_type": "execute_result"
    },
    {
     "data": {
      "image/png": "[encoded data removed]",
      "text/plain": [
       "<matplotlib.figure.Figure at 0x112e82da0>"
      ]
     },
     "metadata": {},
     "output_type": "display_data"
    }
   ],
   "source": [
    "depths = [2, 3, 4, 5, 6, 7, 8, 9, 10]\n",
    "tree_acc_train = []\n",
    "tree_acc_test = []\n",
    "for d in depths:\n",
    "    clf_tree = DecisionTreeClassifier(max_depth=d).fit(X_train, y_train)\n",
    "    tree_acc_train.append(clf_tree.score(X_train, y_train))\n",
    "    tree_acc_test.append(clf_tree.score(X_test, y_test))\n",
    "\n",
    "fig, ax = plt.subplots(1, 1, figsize = (6, 6))\n",
    "ax.plot(depths, tree_acc_train, 'b-', label='train')\n",
    "ax.plot(depths, tree_acc_test, 'r-', label='test')\n",
    "ax.set_xlabel('Tree_Depth', fontsize=16)\n",
    "ax.set_ylabel('Accracy', fontsize=16)\n",
    "ax.set_title('Decision Tree Accuracy VS. Depth', fontsize=16)\n",
    "ax.legend()"
   ]
  },
  {
   "cell_type": "code",
   "execution_count": 20,
   "metadata": {},
   "outputs": [
    {
     "name": "stdout",
     "output_type": "stream",
     "text": [
      "Depth = 6\n",
      "train_acc: 0.9705882352941176\n",
      "test_acc: 0.8495575221238938\n",
      "\n",
      "Depth = 4\n",
      "train_acc: 0.9607843137254902\n",
      "test_acc: 0.8849557522123894\n"
     ]
    }
   ],
   "source": [
    "# training and test accuracies at depth = 6\n",
    "print('Depth = 6')\n",
    "print('train_acc: {}'.format(tree_acc_train[4]))\n",
    "print('test_acc: {}\\n'.format(tree_acc_test[4]))\n",
    "\n",
    "# training and test accuracies at depth = 4\n",
    "print('Depth = 4')\n",
    "print('train_acc: {}'.format(tree_acc_train[2]))\n",
    "print('test_acc: {}'.format(tree_acc_test[2]))"
   ]
  },
  {
   "cell_type": "code",
   "execution_count": 21,
   "metadata": {},
   "outputs": [
    {
     "name": "stdout",
     "output_type": "stream",
     "text": [
      "=============================\n",
      "Decision Tree\n",
      "\n",
      "Optimal Depth = 2\n",
      "train_acc = 0.9215686274509803\n",
      "test_acc = 0.8761061946902655\n",
      "\n"
     ]
    }
   ],
   "source": [
    "cv_scores_tree = []\n",
    "\n",
    "for d in depths:\n",
    "    tree = DecisionTreeClassifier(max_depth=d)\n",
    "    scores = cross_val_score(tree, X_train, y_train, cv=5, scoring='accuracy')\n",
    "    cv_scores_tree.append(scores.mean())\n",
    "\n",
    "optimal_depth = depths[cv_scores_tree.index(max(cv_scores_tree))]\n",
    "tree_optimal = DecisionTreeClassifier(max_depth=optimal_depth).fit(X_train, y_train)\n",
    "print('=============================')\n",
    "print('Decision Tree\\n')\n",
    "print('Optimal Depth = {}'.format(optimal_depth))\n",
    "print('train_acc = {}\\ntest_acc = {}\\n'.format(tree_optimal.score(X_train, y_train), tree_optimal.score(X_test, y_test)))"
   ]
  },
  {
   "cell_type": "code",
   "execution_count": 22,
   "metadata": {},
   "outputs": [
    {
     "data": {
      "image/png": "[encoded data removed]",
      "text/plain": [
       "<matplotlib.figure.Figure at 0x112fb75c0>"
      ]
     },
     "metadata": {},
     "output_type": "display_data"
    }
   ],
   "source": [
    "fig, ax = plt.subplots(1, 1, figsize = (6, 6))\n",
    "plot_decision_boundary(X_train.as_matrix(), y_train.as_matrix(), tree_optimal, 'Decision Tree (Depth=2) - TRAIN', ax)\n",
    "ax.title.set_size(16)"
   ]
  },
  {
   "cell_type": "code",
   "execution_count": 23,
   "metadata": {
    "collapsed": true
   },
   "outputs": [],
   "source": [
    "export_graphviz(tree_optimal, out_file='tree_optimal.dot')"
   ]
  },
  {
   "cell_type": "markdown",
   "metadata": {},
   "source": [
    "![decision_tree](tree_vis.png)"
   ]
  },
  {
   "cell_type": "markdown",
   "metadata": {},
   "source": [
    "## Answer for Question (3)\n",
    "\n",
    "Is there a depth at which the fitted decision tree model achieves near-perfect classification on the training set? If so, what can you say about the test accuracy of this model?\n",
    "\n",
    "> ** Yes, at tree depth >= 6, the fitted decision tree model achieves near-perfect classification on the training set (train_acc = 0.970588). The corresponding test accuracy is 0.849558, which is not the optimal achievable test accuracy based on the graph. The best TEST accuracy according to the graph occurs at depth = 4 with accuracy = 0.884956. This suggests that the model with depth >= 6 has overfitted on the training data, resulting in a worse test accuracy compared to a model that has not overfitted.**\n",
    "\n",
    "Use 5-fold cross-validation to find the optimal tree depth. How does the performance of a decision tree fitted with this depth compare with the models fitted in Part 2(a)?\n",
    "\n",
    "> ** The cross-validated decision tree model has an optimal depth of 2. The training accuracy = 0.9215686274509803 and the test accuracy = 0.8761061946902655. Comparing the performance of the decision tree (depth=2) model with other models, we rank the models by their test accuracies as follows:**\n",
    "\n",
    ">> ** Quadratic Multinomial > Linear Multinomial > Quadratic OvR = Decision Tree (Depth=2) > K-NN (K=3) > QDA  > Linear OvR > LDA **\n",
    "\n",
    "How is the decision boundary of the decision tree model different from the other methods? Given an explanation for your observation.\n",
    "\n",
    "> ** The decision boundaries of the decision tree model are either vertical or horizontal lines whereas other models draw sloped lines and/or higher order curves. This is explained by how decision trees are trained, which is by asking whether a certain feature is greater than or less than some value at a decision node (1 feature per split, greedily). By doing so, we are effectively drawing vertical or horizontal lines dividing the greater than portion and the less than portion, resulting in decision boundaries that are either vertical or horizontal. However, other models are fitted on the whole set of predictors, resulting in sloped lines or higher order curves as boundaries.**\n",
    "\n",
    "Use the `export_graphviz` function in `sklearn` to generate a visualization of the tree diagram for the fitted model. Based on the visualization, explain *in words* how the fitted model diagnoses 'hypothyroidism' for a patient.  \n",
    "\n",
    "> ** The fitted model diagnoses 'hypothyroidism' (red) for a patient if the patient's biomarker 2 > -0.9485 and the patient's biomarker 1 > 1.2259**"
   ]
  },
  {
   "cell_type": "markdown",
   "metadata": {},
   "source": [
    "## Question 4: Too many models to choose from!\n",
    "\n",
    "We have so far seen six different ways of fitting a classification model for thyroid classification problem: **linear logistic regression**, **logistic regression with polynomial terms**, **LDA**, **QDA**, **k-NN** and **decision tree**. Which of these methods should one use in practice? To answer this question, we now look at the pros and cons of each method.\n",
    "\n",
    "1. Compare and contrast the six models based on each of the following criteria (a supporting table to summarize your  thoughts can be helpful):\n",
    "  - Classification performance\n",
    "  - Complexity of decision boundary\n",
    "  - Memory storage\n",
    "  - Ease of interpretability\n",
    "\n",
    "2. If you were a clinician who had to use the classifier to diagnose thyroid disorders in patients, which among the six methods would you be most comfortable in using? "
   ]
  },
  {
   "cell_type": "markdown",
   "metadata": {},
   "source": [
    "##  Answer to Question (4)\n",
    "\n",
    "Compare and contrast the six models\n",
    "\n",
    "> **See summary in the following table:**\n",
    "> - p: # of predictors\n",
    "> - n: # of observations\n",
    "> - k: # of classes\n",
    "\n",
    "Classifier| Classification Performance| Complexity of Decision Boundary | Memory Storage | Ease of Interpretability\n",
    "----------|---------------------------|--------------------------------|----------------|--------------------------\n",
    "Linear logistic regression| 0.885 (rank 2) |Linear (rank 1 least complicated)| $O(p)$ (rank 1 least memory) | rank 4\n",
    "Logistic regression w/ poly terms| 0.894 (rank 1 highest test_acc) |Curves (rank 4) | $O(p^2)$ (rank 2) | rank 5\n",
    "LDA| 0.832 (rank 6) |Linear (rank 1)| $O(p^2+k)$ (rank 4) | rank 2\n",
    "QDA| 0.850 (rank 5) |Curves (rank 4) | $O(kp^2+k)$ (rank 5) | rank 3\n",
    "K-NN| 0.867 (rank 3) | Arbitrarily complicated (rank 6) | $O(np)$ (rank 6) |rank 6\n",
    "Decision Tree| 0.876 (rank 3) | Axis-aligned partition of feature space (rank 3)| $O(2^{depth})$ (rank 3 if depth is moderate) | rank 1 easiest\n",
    "\n",
    "\n",
    "> **Note: For memory storage, non-parametric methods such as K-NN and Decision Tree typically requires more memory storage than parametric methods such as linear logistic regression and discriminant analysis. However, for our case of decision tree with only depth=2, the memory storage requirement is low.**\n",
    "\n",
    "\n",
    "If you were a clinician who had to use the classifier to diagnose thyroid disorders in patients, which among the six methods would you be most comfortable in using? \n",
    "\n",
    "> ** We would be most comfortable in using the Decision Tree model (depth = 2), because it has **\n",
    "> - ** relatively high performance **\n",
    "> - ** highest ease of interpretability **\n",
    "    >> ** readable from axies alined boundaries; each axis corresponds with a feature**\n",
    "> - ** relatively low complexity of decision boundaries **\n",
    "    >> ** axis-aligned partitions **\n",
    "> - ** relatively low memory storage requirement **\n",
    "    >> ** with a reasonable depth, just need to store the decision nodes and the associated boundary values **"
   ]
  },
  {
   "cell_type": "markdown",
   "metadata": {},
   "source": [
    "## Question 5: Including an 'abstain' option\n",
    "\n",
    "One of the reasons a hospital might be hesitant to use your thyroid classification model is that a misdiagnosis by the model on a patient can sometimes prove to be very costly (e.g. if the patient were to file a law suit seeking a compensation for damages). One way to mitigate this concern is to allow the model to 'abstain' from making a prediction, whenever it is uncertain about the diagnosis for a patient. However, when the model abstains from making a prediction, the hospital will have to forward the patient to a thyroid specialist (i.e. an endocrinologist), which would incur additional cost. How does one design a thyroid classification model with an abstain option, such that the cost to the hospital is minimized?\n",
    "\n",
    "1. More specifically, suppose the cost incurred by a hospital when a model mis-predicts on a patient is \\$5000, and the cost incurred when the model abstains from making a prediction is \\$1000. What is the average cost per patient for the OvR logistic regression model from Question 1, Part 3? Note that this needs to be evaluated on the patients in the test set. Your task is to design a classification strategy (into the 3 groups plus the *abstain* group) that has as low cost as possible per patient.   Give a justification for your approach.\n",
    "\n",
    "2. **Presentation:** Prepare a set of 5 slides explaining your approach to the hospital management. Your presentation must be accessible to the lay man. Explain in particular how your approach would be robust to changes in the costs of using the abstain option.\n",
    "\n",
    "*Hint:* think of a way to use the estimated probabilities from the logistic regression model to decide who to classify as *abstain*."
   ]
  },
  {
   "cell_type": "code",
   "execution_count": 24,
   "metadata": {},
   "outputs": [
    {
     "name": "stdout",
     "output_type": "stream",
     "text": [
      "========================\n",
      "NO abstain\n",
      "------------------------\n",
      "OvR Logistic Regression \n",
      "\n",
      "Avg-loss per patient on TEST set = 796.4601769911505\n"
     ]
    }
   ],
   "source": [
    "# Loss of log_OVR without abstain (t=0)\n",
    "model = log_ovr\n",
    "model_name = 'OvR Logistic Regression'\n",
    "print('========================')\n",
    "print('NO abstain')\n",
    "print('------------------------')\n",
    "print(model_name, '\\n')\n",
    "\n",
    "loss_avg = ((1-log_ovr.score(X_test, y_test)) * len(y_test) * 5000)/len(y_test)\n",
    "print('Avg-loss per patient on TEST set = {}'.format(loss_avg))"
   ]
  },
  {
   "cell_type": "markdown",
   "metadata": {},
   "source": [
    "### Q(5) Approach: Abstain if the predicted class k has its predicted probability smaller than its threshold \n",
    "\n",
    "> $k = max(y_{proba}[i]) + 1$\n",
    "\n",
    "> $max(y_{proba}[i]) \\leq t_k$\n"
   ]
  },
  {
   "cell_type": "code",
   "execution_count": 25,
   "metadata": {
    "collapsed": true
   },
   "outputs": [],
   "source": [
    "def get_optimal_t_3Thresholds(yi_proba, yi_true, abstain_c=1000, mis_pred_c=5000, print_op=True):\n",
    "    t_lin = np.linspace(0, 1, 501)\n",
    "    losses = []\n",
    "    M, N = yi_proba.shape\n",
    "    for t in t_lin:\n",
    "        loss = 0\n",
    "        abs_loss = 0\n",
    "        mis_loss = 0\n",
    "        for i in range(M):\n",
    "            yi_hat = np.argmax(yi_proba[i]) + 1 # class label correct from 0-indexing\n",
    "            max_p = max(yi_proba[i])\n",
    "            if max_p <= t: # abstained\n",
    "                loss += abstain_c\n",
    "            else: # NOT abstained\n",
    "                if yi_hat != yi_true[i]: # mis-classified\n",
    "                    loss += mis_pred_c\n",
    "        \n",
    "        losses.append(loss)\n",
    "    \n",
    "    optimal_idx = np.argmin(losses)\n",
    "    min_loss = losses[optimal_idx]\n",
    "    ii = optimal_idx\n",
    "    while losses[ii] == min_loss:\n",
    "        ii += 1\n",
    "    optimal_idx = int((optimal_idx + ii - 1)/2)\n",
    "    \n",
    "    if print_op:\n",
    "        print('Class {}: optimal_t = {}'.format(int(yi_true[0]), t_lin[optimal_idx]))\n",
    "\n",
    "    return t_lin[optimal_idx]\n",
    "\n",
    "def decide_abstain_mis_3Thresholds(y_proba, y_true, t1, t2, t3):\n",
    "    M, N = y_proba.shape\n",
    "    y_abstain = np.zeros((M,)) # abstained\n",
    "    y_mis = np.zeros((M,)) # NOT abstained and mis-classified\n",
    "    for i in range(M):\n",
    "        y_hat = np.argmax(y_proba[i]) + 1 # class label correct from 0-indexing\n",
    "        max_p = max(y_proba[i])\n",
    "        \n",
    "        if y_hat == 1:\n",
    "            t = t1\n",
    "        elif y_hat == 2:\n",
    "            t = t2\n",
    "        else:\n",
    "            t = t3\n",
    "        \n",
    "        if max_p <= t: # class_i probability is smaller than ti\n",
    "            y_abstain[i] = 1 # abstained\n",
    "        else: # NOT abstained\n",
    "            if y_hat != y_true[i]: \n",
    "                y_mis[i] = 1 # mis-classified\n",
    "    \n",
    "    return y_abstain, y_mis\n",
    "\n",
    "# avg_loss = (mis_prediction_cost + abstain_cost)/ n_observations\n",
    "def get_avg_loss(y_abstain, y_mis, abstain_c=1000, mis_pred_c=5000):\n",
    "    return (sum(y_mis == 1)*mis_pred_c + sum(y_abstain == 1)*abstain_c)/len(y_abstain)"
   ]
  },
  {
   "cell_type": "code",
   "execution_count": 26,
   "metadata": {},
   "outputs": [
    {
     "name": "stdout",
     "output_type": "stream",
     "text": [
      "========================\n",
      "Metric: 3 Thresholds\n",
      "------------------------\n",
      "OvR Logistic Regression \n",
      "\n",
      "Class 1: optimal_t = 0.6880000000000001\n",
      "Class 2: optimal_t = 0.812\n",
      "Class 3: optimal_t = 0.274\n",
      "\n",
      "Avg-loss per patient on TRAIN set = 323.52941176470586\n",
      "Avg-loss per patient on TEST set = 477.87610619469024\n"
     ]
    }
   ],
   "source": [
    "model = log_ovr\n",
    "model_name = 'OvR Logistic Regression'\n",
    "y_pred = model.predict(X_train)\n",
    "\n",
    "print('========================')\n",
    "print('Metric: 3 Thresholds')\n",
    "print('------------------------')\n",
    "print(model_name, '\\n')\n",
    "\n",
    "t = []\n",
    "for i in range(3):\n",
    "    label = i+1\n",
    "    yi_proba = model.predict_proba(X_train)[y_pred == label]\n",
    "    yi_true = y_train[y_pred == label]\n",
    "    t.append(get_optimal_t_3Thresholds(yi_proba, yi_true.as_matrix()))\n",
    "\n",
    "y_abstain_train, y_mis_train = decide_abstain_mis_3Thresholds(model.predict_proba(X_train), y_train.as_matrix(), t[0], t[1], t[2])\n",
    "y_abstain_test, y_mis_test = decide_abstain_mis_3Thresholds(model.predict_proba(X_test), y_test.as_matrix(), t[0], t[1], t[2])\n",
    "\n",
    "print('\\nAvg-loss per patient on TRAIN set = {}'.format(get_avg_loss(y_abstain_train, y_mis_train)))\n",
    "print('Avg-loss per patient on TEST set = {}'.format(get_avg_loss(y_abstain_test, y_mis_test)))"
   ]
  },
  {
   "cell_type": "code",
   "execution_count": 27,
   "metadata": {
    "collapsed": true
   },
   "outputs": [],
   "source": [
    "model = log_ovr\n",
    "model_name = 'OvR Logistic Regression'\n",
    "y_pred = model.predict(X_train)\n",
    "\n",
    "cost_step = 500\n",
    "n_cost = 20\n",
    "abstain_costs = [100 + i * cost_step for i in np.arange(n_cost)]\n",
    "mis_pred_costs = [100 + i * cost_step for i in np.arange(n_cost)]\n",
    "\n",
    "abstain_rates_ac = []\n",
    "mis_pred_rates_ac = []\n",
    "for ac in abstain_costs:\n",
    "    y_pred = model.predict(X_train)\n",
    "    t = []\n",
    "    for i in range(3):\n",
    "        label = i+1\n",
    "        yi_proba = model.predict_proba(X_train)[y_pred == label]\n",
    "        yi_true = y_train[y_pred == label]\n",
    "        t.append(get_optimal_t_3Thresholds(yi_proba, yi_true.as_matrix(), abstain_c = ac, mis_pred_c=5000, print_op=False))\n",
    "    \n",
    "    #y_abstain_train, y_mis_train = decide_abstain_mis_3Thresholds(model.predict_proba(X_train), y_train.as_matrix(), t[0], t[1], t[2])\n",
    "    \n",
    "    y_abstain_test, y_mis_test = decide_abstain_mis_3Thresholds(model.predict_proba(X_test), y_test.as_matrix(), t[0], t[1], t[2])\n",
    "    abstain_rates_ac.append(np.mean(y_abstain_test))\n",
    "    mis_pred_rates_ac.append(np.mean(y_mis_test))\n",
    "\n",
    "abstain_rates_mpc = []\n",
    "mis_pred_rates_mpc = []\n",
    "for mpc in mis_pred_costs:\n",
    "    y_pred = model.predict(X_train)\n",
    "    t = []\n",
    "    for i in range(3):\n",
    "        label = i+1\n",
    "        yi_proba = model.predict_proba(X_train)[y_pred == label]\n",
    "        yi_true = y_train[y_pred == label]\n",
    "        t.append(get_optimal_t_3Thresholds(yi_proba, yi_true.as_matrix(), abstain_c=1000, mis_pred_c = mpc, print_op=False))\n",
    "    \n",
    "    #y_abstain_train, y_mis_train = decide_abstain_mis_3Thresholds(model.predict_proba(X_train), y_train.as_matrix(), t[0], t[1], t[2])\n",
    "    \n",
    "    y_abstain_test, y_mis_test = decide_abstain_mis_3Thresholds(model.predict_proba(X_test), y_test.as_matrix(), t[0], t[1], t[2])\n",
    "    abstain_rates_mpc.append(np.mean(y_abstain_test))\n",
    "    mis_pred_rates_mpc.append(np.mean(y_mis_test))"
   ]
  },
  {
   "cell_type": "code",
   "execution_count": 28,
   "metadata": {},
   "outputs": [
    {
     "data": {
      "text/plain": [
       "<matplotlib.text.Text at 0x112e13cc0>"
      ]
     },
     "execution_count": 28,
     "metadata": {},
     "output_type": "execute_result"
    },
    {
     "data": {
      "image/png": "[encoded data removed]",
      "text/plain": [
       "<matplotlib.figure.Figure at 0x113cae160>"
      ]
     },
     "metadata": {},
     "output_type": "display_data"
    }
   ],
   "source": [
    "fig, ax = plt.subplots(1, 2, figsize = (14, 5))\n",
    "ax[0].plot(abstain_costs, abstain_rates_ac, 'r-', label='abstain_rate')\n",
    "# ax[0].plot(abstain_costs, mis_pred_rates_ac, 'b-', label='mis_pred_rate')\n",
    "ax[0].set_title('Abstention Rate VS. Abstention Cost\\n Fixed Mis-Classification Cost = 5000', fontsize=16)\n",
    "ax[0].set_xlabel('Abstention Cost', fontsize=16)\n",
    "ax[0].set_ylabel('Abstention Rate', fontsize=16)\n",
    "# ax[0].legend()\n",
    "\n",
    "ax[1].plot(mis_pred_costs, abstain_rates_mpc, 'r-', label='abstain_rate')\n",
    "# ax[1].plot(mis_pred_costs, mis_pred_rates_mpc, 'b-', label='mis_pred_rate')\n",
    "ax[1].set_title('Abstention Rate VS. Mis-Classification Cost\\n Fixed Abstention Cost = 1000', fontsize=16)\n",
    "ax[1].set_xlabel('Mis-Classification Cost', fontsize=16)\n",
    "ax[1].set_ylabel('Abstention Rate', fontsize=16)\n",
    "# ax[1].legend()"
   ]
  },
  {
   "cell_type": "markdown",
   "metadata": {},
   "source": [
    "##  Answer to Question (5)\n",
    "\n",
    "How does one design a thyroid classification model with an abstain option, such that the cost to the hospital is minimized?\n",
    "\n",
    "1. More specifically, suppose the cost incurred by a hospital when a model mis-predicts on a patient is \\$5000, and the cost incurred when the model abstains from making a prediction is \\$1000. What is the average cost per patient for the OvR logistic regression model from Question 1, Part 3? Note that this needs to be evaluated on the patients in the test set. Your task is to design a classification strategy (into the 3 groups plus the *abstain* group) that has as low cost as possible per patient.  Give a justification for your approach.\n",
    "\n",
    "2. **Presentation:** Prepare a set of 5 slides explaining your approach to the hospital management. Your presentation must be accessible to the lay man. Explain in particular how your approach would be robust to changes in the costs of using the abstain option.\n",
    "\n",
    "\n",
    "> - ** Idea: **\n",
    "\n",
    ">> ** total cost = abstention cost + mis-classification cost **\n",
    "\n",
    ">> ** If all predictions are abstained, the total cost would be dominated by abstention; if nothing abstained, the total cost would be dominated by mis-classifications. Therefore, we designed a model which can find the optimal abstention rate to minimize the total cost. **\n",
    "\n",
    "> - ** Approach: **\n",
    "\n",
    ">> ** For a single classification output, we estimate the probability associated with the class from the model. If this probability is higher than the class's credibility threshold, we decide it NOT to be abstained. Otherwise, we would change the output class to be ABSTAINED.**\n",
    "\n",
    ">> ** The credibility thresholds of the all classes are found on the TRAINING set. For each class, by looping through all possible thresholds in `np.linspace(0, 1, 501)`, we calculate and record the current total cost using this threshold given the unit cost of abstention and mis-classification. The optimal threshold is the one that gives the minimum total cost. **\n",
    "\n",
    ">> ** With the credibility thresholds (t1, t2, t3 in this case), we evaluate the total cost of the fitted model on the TEST set. **\n",
    "\n",
    "\n",
    "> - ** Benchmark: **\n",
    "\n",
    ">> ** Without Abstention:**\n",
    "\n",
    ">> ** Average cost per patient on TEST set for the OvR logistic regression model is 796.4601769911505.**\n",
    "\n",
    "> - **Result: **\n",
    "\n",
    ">> ** With Abstention based on the optimal thresholds of the 3 classes found on TRAIN set: **\n",
    "\n",
    ">> - ** Class 1: t = 0.688 **\n",
    "\n",
    ">> - ** Class 2: t = 0.812 **\n",
    "\n",
    ">> - ** Class 3: t = 0.274 **\n",
    "\n",
    ">> ** Average cost per patient on TEST set for the OvR logistic regression model is 477.87610619469024.**\n",
    "\n",
    "> - **Robustness: **\n",
    "\n",
    ">> ** As shown in the above plot of *Abstention Rates VS. Costs*, we can see: **\n",
    "\n",
    ">> - ** from *left* plot: Given a mis-classification cost, our model's abstention rate decreases as the abstention cost increases**\n",
    "\n",
    ">> - ** form *right* plot: Given a abstention cost, our model's abstention rate increases as the mis-classification cost increases**\n",
    "\n",
    ">> **This intuitively demonstrate our model's robustness that the total cost would be minimized if either of the following is true:**\n",
    "\n",
    ">> - ** Abstain less when the abstention cost is relatively higher than the mis-classification cost. **\n",
    "\n",
    ">> - ** Abstain more when the mis-classification cost is relatively higher than the abstention cost. **\n"
   ]
  },
  {
   "cell_type": "markdown",
   "metadata": {},
   "source": [
    "---\n",
    "### Supplementary Approach 1: \n",
    "\n",
    "### Abstain if abs[max($y_{proba}[i]$) - min($y_{proba}[i]$)] is smaller than a given threshold"
   ]
  },
  {
   "cell_type": "code",
   "execution_count": 29,
   "metadata": {
    "collapsed": true
   },
   "outputs": [],
   "source": [
    "# Decide to abstain if abs(max(y_proba[i])-min(y_proba[i])) is smaller than a given threshold t\n",
    "def decide_abstain_mis_t_MaxDiff(y_proba, y_true, t):\n",
    "    M, N = y_proba.shape\n",
    "    y_abstain = np.zeros((M,)) # abstained\n",
    "    y_mis = np.zeros((M,)) # NOT abstained and mis-classified\n",
    "    for i in range(M):\n",
    "        y_hat = np.argmax(y_proba[i]) + 1 # class label correct from 0-indexing\n",
    "        \n",
    "        sorted_probas = np.sort(y_proba[i])\n",
    "        min_p = sorted_probas[0]\n",
    "        max_p = sorted_probas[-1]\n",
    "        diff_proba = max_p - min_p\n",
    "        \n",
    "        if diff_proba <= t: # Diff. of max_p and min_pis is smaller than t\n",
    "            y_abstain[i] = 1 # abstained\n",
    "        \n",
    "        else: # NOT abstained\n",
    "            if y_hat != y_true[i]: \n",
    "                y_mis[i] = 1 # mis-classified\n",
    "    \n",
    "    return y_abstain, y_mis"
   ]
  },
  {
   "cell_type": "code",
   "execution_count": 30,
   "metadata": {
    "collapsed": true
   },
   "outputs": [],
   "source": [
    "def get_t_MaxDiff(model, X, y,  poly_deg=0):\n",
    "    avg_losses = []\n",
    "    t_lin = np.linspace(0, 1, 501)\n",
    "    for t in t_lin:\n",
    "        if poly_deg != 0: # transform to polynomial features\n",
    "            XX = PolynomialFeatures(poly_deg).fit_transform(X)\n",
    "            y_abstain, y_mis = decide_abstain_mis_t_MaxDiff(model.predict_proba(XX), y.as_matrix(), t)\n",
    "        else:\n",
    "            y_abstain, y_mis = decide_abstain_mis_t_MaxDiff(model.predict_proba(X), y.as_matrix(), t)\n",
    "        avg_losses.append(get_avg_loss(y_abstain, y_mis))\n",
    "    \n",
    "    optimal_idx = np.argmin(avg_losses)\n",
    "    return t_lin[optimal_idx], avg_losses[optimal_idx]\n",
    "    "
   ]
  },
  {
   "cell_type": "code",
   "execution_count": 31,
   "metadata": {},
   "outputs": [
    {
     "name": "stdout",
     "output_type": "stream",
     "text": [
      "========================\n",
      "Metric: MaxDiff Threshold\n",
      "------------------------\n",
      "OvR Logistic Regression \n",
      "\n",
      "Min(Avg-loss) per patient on TRAIN set = 0.68, achieved at t = 362.7450980392157\n",
      "Avg-loss per patient on TEST set = 575.2212389380531\n"
     ]
    }
   ],
   "source": [
    "model = log_ovr\n",
    "model_name = 'OvR Logistic Regression'\n",
    "print('========================')\n",
    "print('Metric: MaxDiff Threshold')\n",
    "print('------------------------')\n",
    "print(model_name, '\\n')\n",
    "\n",
    "t_train, loss_train = get_t_MaxDiff(model, X_train, y_train)\n",
    "print('Min(Avg-loss) per patient on TRAIN set = {}, achieved at t = {}'.format(t_train, loss_train))\n",
    "y_abstain_test, y_mis_test = decide_abstain_mis_t_MaxDiff(model.predict_proba(X_test), y_test.as_matrix(), t_train)\n",
    "print('Avg-loss per patient on TEST set = {}'.format(get_avg_loss(y_abstain_test, y_mis_test)))"
   ]
  },
  {
   "cell_type": "markdown",
   "metadata": {},
   "source": [
    "---\n",
    "### Supplementary Approach 2: \n",
    "\n",
    "### Abstain if max($y_{proba}[i]$) is smaller than a given threshold"
   ]
  },
  {
   "cell_type": "code",
   "execution_count": 32,
   "metadata": {
    "collapsed": true
   },
   "outputs": [],
   "source": [
    "# Decide to abstain if abs(max(y_proba[i])-min(y_proba[i])) is smaller than a given threshold t\n",
    "def decide_abstain_mis_t_MaxMax(y_proba, y_true, t):\n",
    "    M, N = y_proba.shape\n",
    "    y_abstain = np.zeros((M,)) # abstained\n",
    "    y_mis = np.zeros((M,)) # NOT abstained and mis-classified\n",
    "    for i in range(M):\n",
    "        y_hat = np.argmax(y_proba[i]) + 1 # class label correct from 0-indexing\n",
    "        \n",
    "        sorted_probas = np.sort(y_proba[i])\n",
    "        max_p = sorted_probas[-1]\n",
    "        \n",
    "        if max_p <= t: # max_p is smaller than threshold t\n",
    "            y_abstain[i] = 1 # abstained\n",
    "        \n",
    "        else: # NOT abstained\n",
    "            if y_hat != y_true[i]: \n",
    "                y_mis[i] = 1 # mis-classified\n",
    "    \n",
    "    return y_abstain, y_mis"
   ]
  },
  {
   "cell_type": "code",
   "execution_count": 33,
   "metadata": {
    "collapsed": true
   },
   "outputs": [],
   "source": [
    "def get_t_MaxMax(model, X, y,  poly_deg=0):\n",
    "    avg_losses = []\n",
    "    t_lin = np.linspace(0, 1, 501)\n",
    "    for t in t_lin:\n",
    "        if poly_deg != 0: # transform to polynomial features\n",
    "            XX = PolynomialFeatures(poly_deg).fit_transform(X)\n",
    "            y_abstain, y_mis = decide_abstain_mis_t_MaxMax(model.predict_proba(XX), y.as_matrix(), t)\n",
    "        else:\n",
    "            y_abstain, y_mis = decide_abstain_mis_t_MaxMax(model.predict_proba(X), y.as_matrix(), t)\n",
    "        avg_losses.append(get_avg_loss(y_abstain, y_mis))\n",
    "    \n",
    "    optimal_idx = np.argmin(avg_losses)\n",
    "    return t_lin[optimal_idx], avg_losses[optimal_idx]\n",
    "    "
   ]
  },
  {
   "cell_type": "code",
   "execution_count": 34,
   "metadata": {},
   "outputs": [
    {
     "name": "stdout",
     "output_type": "stream",
     "text": [
      "========================\n",
      "Metric: MaxMax Threshold\n",
      "------------------------\n",
      "OvR Logistic Regression \n",
      "\n",
      "Min(Avg-loss) per patient on TRAIN set = 0.68, achieved at t = 362.7450980392157\n",
      "Avg-loss per patient on TEST set = 575.2212389380531\n"
     ]
    }
   ],
   "source": [
    "model = log_ovr\n",
    "model_name = 'OvR Logistic Regression'\n",
    "print('========================')\n",
    "print('Metric: MaxMax Threshold')\n",
    "print('------------------------')\n",
    "print(model_name, '\\n')\n",
    "\n",
    "t_train, loss_train = get_t_MaxDiff(model, X_train, y_train)\n",
    "print('Min(Avg-loss) per patient on TRAIN set = {}, achieved at t = {}'.format(t_train, loss_train))\n",
    "y_abstain_test, y_mis_test = decide_abstain_mis_t_MaxMax(model.predict_proba(X_test), y_test.as_matrix(), t_train)\n",
    "print('Avg-loss per patient on TEST set = {}'.format(get_avg_loss(y_abstain_test, y_mis_test)))"
   ]
  },
  {
   "cell_type": "code",
   "execution_count": null,
   "metadata": {
    "collapsed": true
   },
   "outputs": [],
   "source": []
  }
 ],
 "metadata": {
  "anaconda-cloud": {},
  "kernelspec": {
   "display_name": "Python 3",
   "language": "python",
   "name": "python3"
  },
  "language_info": {
   "codemirror_mode": {
    "name": "ipython",
    "version": 3
   },
   "file_extension": ".py",
   "mimetype": "text/x-python",
   "name": "python",
   "nbconvert_exporter": "python",
   "pygments_lexer": "ipython3",
   "version": "3.6.1"
  }
 },
 "nbformat": 4,
 "nbformat_minor": 1
}
