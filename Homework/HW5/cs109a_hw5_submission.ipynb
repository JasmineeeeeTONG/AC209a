{
 "cells": [
  {
   "cell_type": "markdown",
   "metadata": {},
   "source": [
    "# CS 109A/STAT 121A/AC 209A/CSCI E-109A: Homework 5\n",
    "# Logistic Regression and PCA \n",
    "\n",
    "**Harvard University**<br/>\n",
    "**Fall 2017**<br/>\n",
    "**Instructors**: Pavlos Protopapas, Kevin Rader, Rahul Dave, Margo Levine\n",
    "\n",
    "---\n",
    "\n",
    "### INSTRUCTIONS\n",
    "\n",
    "- To submit your assignment follow the instructions given in canvas.\n",
    "- Restart the kernel and run the whole notebook again before you submit. \n",
    "- Do not include your name(s) in the notebook if you are submitting as a group. \n",
    "- If you submit individually and you have worked with someone, please include the name of your [one] partner below. \n",
    "\n",
    "---"
   ]
  },
  {
   "cell_type": "markdown",
   "metadata": {},
   "source": [
    "Your partner's name (if you submit separately): **Chia Chi Ho (Michelle Ho)**\n",
    "\n",
    "Enrollment Status (109A, 121A, 209A, or E109A): **209A**\n",
    "\n",
    "---\n",
    "**Note: in this HW, to be consistent, I specify Cancer_type=0 to denote ALL, and Cancer_type=1 to denote AML. **\n",
    "\n",
    "---\n"
   ]
  },
  {
   "cell_type": "markdown",
   "metadata": {},
   "source": [
    "Import libraries:"
   ]
  },
  {
   "cell_type": "code",
   "execution_count": 1,
   "metadata": {},
   "outputs": [
    {
     "name": "stderr",
     "output_type": "stream",
     "text": [
      "/Users/jasminetong/anaconda/lib/python3.6/site-packages/statsmodels/compat/pandas.py:56: FutureWarning: The pandas.core.datetools module is deprecated and will be removed in a future version. Please use the pandas.tseries module instead.\n",
      "  from pandas.core import datetools\n"
     ]
    }
   ],
   "source": [
    "import numpy as np\n",
    "import pandas as pd\n",
    "import matplotlib\n",
    "import matplotlib.pyplot as plt\n",
    "import seaborn as sns\n",
    "import statsmodels.api as sm\n",
    "from statsmodels.api import OLS\n",
    "from sklearn.decomposition import PCA\n",
    "from sklearn.linear_model import LogisticRegression\n",
    "from sklearn.linear_model import LogisticRegressionCV\n",
    "from sklearn.utils import resample\n",
    "from sklearn.model_selection import cross_val_score\n",
    "from sklearn.metrics import accuracy_score\n",
    "%matplotlib inline\n",
    "\n"
   ]
  },
  {
   "cell_type": "markdown",
   "metadata": {},
   "source": [
    "## Cancer Classification from Gene Expressions\n",
    "\n",
    "In this homework assignment, we will build a classification model to distinguish between two related classes of cancer, acute lymphoblastic leukemia (ALL) and acute myeloid leukemia (AML), using gene expression measurements. The data set is provided in the file `dataset_hw5.csv`. Each row in this file corresponds to a tumor tissue sample from a patient with one of the two forms of Leukemia. The first column contains the cancer type, with 0 indicating the ALL class and 1 indicating the AML class. Columns 2-7130 contain expression levels of 7129 genes recorded from each tissue sample. \n",
    "\n",
    "In the following parts, we will use logistic regression to build a classification model for this data set. We will also use principal components analysis (PCA) to visualize the data and to reduce its dimensions. \n",
    "\n"
   ]
  },
  {
   "cell_type": "markdown",
   "metadata": {},
   "source": [
    "## Part (a): Data Exploration\n",
    "\n",
    "1. First step is to  split  the observations into an approximate 50-50 train-test split.  Below is some code to do this for you (we want to make sure everyone has the same splits).\n",
    "\n",
    "2. Take a peak at your training set: you should notice the severe differences in the measurements from one gene to the next (some are negative, some hover around zero, and some are well into the thousands).  To account for these differences in scale and variability, normalize each predictor to vary between 0 and 1.\n",
    "\n",
    "3. Notice that the results training set contains more predictors than observations. Do you foresee a problem in fitting a classification model to such a data set?\n",
    "\n",
    "4. A convenient tool to visualize the gene expression data is a heat map. Arrange the rows of the training set so that the 'AML' rows are grouped together and the 'ALL' rows are together. Generate a heat map of the data with expression values from the following genes: \n",
    "`D49818_at`, `M23161_at`, `hum_alu_at`, `AFFX-PheX-5_at`, `M15990_at`. By observing the heat map, comment on which of these genes are useful in discriminating between the two classes.\n",
    "\n",
    "5. We can also visualize this data set in two dimensions using PCA. Find the top two principal components for the gene expression data. Generate a scatter plot using these principal components, highlighting the AML and ALL points in different colors. How well do the top two principal components discriminate between the two classes?\n",
    "\n"
   ]
  },
  {
   "cell_type": "code",
   "execution_count": 2,
   "metadata": {
    "collapsed": true
   },
   "outputs": [],
   "source": [
    "np.random.seed(9001)\n",
    "df = pd.read_csv('dataset_hw5.csv')\n",
    "msk = np.random.rand(len(df)) < 0.5\n",
    "data_train = df[msk]\n",
    "data_test = df[~msk]"
   ]
  },
  {
   "cell_type": "code",
   "execution_count": 3,
   "metadata": {},
   "outputs": [
    {
     "data": {
      "text/plain": [
       "7129"
      ]
     },
     "execution_count": 3,
     "metadata": {},
     "output_type": "execute_result"
    }
   ],
   "source": [
    "all_predictors = list(data_train.columns)\n",
    "all_predictors.remove('Cancer_type')\n",
    "len(all_predictors)"
   ]
  },
  {
   "cell_type": "code",
   "execution_count": 4,
   "metadata": {
    "collapsed": true
   },
   "outputs": [],
   "source": [
    "# Standardize test and train data\n",
    "df_train = pd.DataFrame()\n",
    "df_test = pd.DataFrame()\n",
    "for p in data_train.columns:\n",
    "    if (not np.logical_or((data_train[p]==0), ((data_train[p]==1))).all()): # standardize if continuous variable\n",
    "        df_train[p] = (data_train[p] - data_train[p].mean())/data_train[p].std()\n",
    "        df_test[p] = (data_test[p] - data_train[p].mean())/data_train[p].std()\n",
    "    else:\n",
    "        df_train[p] = data_train[p] # append to dataframes w/o normalization if not continuous \n",
    "        df_test[p] = data_test[p]"
   ]
  },
  {
   "cell_type": "code",
   "execution_count": 5,
   "metadata": {},
   "outputs": [
    {
     "data": {
      "text/html": [
       "<div>\n",
       "<style>\n",
       "    .dataframe thead tr:only-child th {\n",
       "        text-align: right;\n",
       "    }\n",
       "\n",
       "    .dataframe thead th {\n",
       "        text-align: left;\n",
       "    }\n",
       "\n",
       "    .dataframe tbody tr th {\n",
       "        vertical-align: top;\n",
       "    }\n",
       "</style>\n",
       "<table border=\"1\" class=\"dataframe\">\n",
       "  <thead>\n",
       "    <tr style=\"text-align: right;\">\n",
       "      <th></th>\n",
       "      <th>Cancer_type</th>\n",
       "      <th>AFFX-BioB-5_at</th>\n",
       "      <th>AFFX-BioB-M_at</th>\n",
       "      <th>AFFX-BioB-3_at</th>\n",
       "      <th>AFFX-BioC-5_at</th>\n",
       "      <th>AFFX-BioC-3_at</th>\n",
       "      <th>AFFX-BioDn-5_at</th>\n",
       "      <th>AFFX-BioDn-3_at</th>\n",
       "      <th>AFFX-CreX-5_at</th>\n",
       "      <th>AFFX-CreX-3_at</th>\n",
       "      <th>...</th>\n",
       "      <th>U48730_at</th>\n",
       "      <th>U58516_at</th>\n",
       "      <th>U73738_at</th>\n",
       "      <th>X06956_at</th>\n",
       "      <th>X16699_at</th>\n",
       "      <th>X83863_at</th>\n",
       "      <th>Z17240_at</th>\n",
       "      <th>L49218_f_at</th>\n",
       "      <th>M71243_f_at</th>\n",
       "      <th>Z78285_f_at</th>\n",
       "    </tr>\n",
       "  </thead>\n",
       "  <tbody>\n",
       "    <tr>\n",
       "      <th>0</th>\n",
       "      <td>0</td>\n",
       "      <td>-0.779208</td>\n",
       "      <td>0.165303</td>\n",
       "      <td>-0.440211</td>\n",
       "      <td>-0.832435</td>\n",
       "      <td>-0.242254</td>\n",
       "      <td>-1.006038</td>\n",
       "      <td>0.856866</td>\n",
       "      <td>0.286845</td>\n",
       "      <td>1.642969</td>\n",
       "      <td>...</td>\n",
       "      <td>0.459604</td>\n",
       "      <td>-0.352156</td>\n",
       "      <td>-1.091470</td>\n",
       "      <td>0.392367</td>\n",
       "      <td>0.188727</td>\n",
       "      <td>0.116657</td>\n",
       "      <td>0.096927</td>\n",
       "      <td>0.630846</td>\n",
       "      <td>-0.452910</td>\n",
       "      <td>0.049965</td>\n",
       "    </tr>\n",
       "    <tr>\n",
       "      <th>5</th>\n",
       "      <td>0</td>\n",
       "      <td>0.511878</td>\n",
       "      <td>0.974951</td>\n",
       "      <td>0.552011</td>\n",
       "      <td>-1.432645</td>\n",
       "      <td>0.625746</td>\n",
       "      <td>0.504626</td>\n",
       "      <td>-0.198711</td>\n",
       "      <td>0.824852</td>\n",
       "      <td>-0.868608</td>\n",
       "      <td>...</td>\n",
       "      <td>-1.418218</td>\n",
       "      <td>-1.228870</td>\n",
       "      <td>0.894241</td>\n",
       "      <td>-0.594481</td>\n",
       "      <td>0.655948</td>\n",
       "      <td>-1.028804</td>\n",
       "      <td>-1.014114</td>\n",
       "      <td>0.126619</td>\n",
       "      <td>-0.784603</td>\n",
       "      <td>-0.831473</td>\n",
       "    </tr>\n",
       "    <tr>\n",
       "      <th>9</th>\n",
       "      <td>0</td>\n",
       "      <td>-3.080327</td>\n",
       "      <td>-0.644345</td>\n",
       "      <td>-0.160712</td>\n",
       "      <td>1.196848</td>\n",
       "      <td>-1.050392</td>\n",
       "      <td>0.048213</td>\n",
       "      <td>0.095207</td>\n",
       "      <td>0.638196</td>\n",
       "      <td>0.120202</td>\n",
       "      <td>...</td>\n",
       "      <td>1.227180</td>\n",
       "      <td>1.795336</td>\n",
       "      <td>1.613390</td>\n",
       "      <td>-0.285775</td>\n",
       "      <td>1.694218</td>\n",
       "      <td>2.188526</td>\n",
       "      <td>3.102138</td>\n",
       "      <td>1.081049</td>\n",
       "      <td>0.121109</td>\n",
       "      <td>-0.892969</td>\n",
       "    </tr>\n",
       "    <tr>\n",
       "      <th>12</th>\n",
       "      <td>0</td>\n",
       "      <td>1.249642</td>\n",
       "      <td>-0.860251</td>\n",
       "      <td>0.517074</td>\n",
       "      <td>0.406095</td>\n",
       "      <td>0.004677</td>\n",
       "      <td>-0.016071</td>\n",
       "      <td>1.255077</td>\n",
       "      <td>0.012352</td>\n",
       "      <td>-0.789503</td>\n",
       "      <td>...</td>\n",
       "      <td>1.007873</td>\n",
       "      <td>1.202714</td>\n",
       "      <td>-0.919733</td>\n",
       "      <td>-0.518570</td>\n",
       "      <td>-0.053536</td>\n",
       "      <td>1.579287</td>\n",
       "      <td>-0.188549</td>\n",
       "      <td>0.936984</td>\n",
       "      <td>0.155481</td>\n",
       "      <td>0.480435</td>\n",
       "    </tr>\n",
       "    <tr>\n",
       "      <th>13</th>\n",
       "      <td>0</td>\n",
       "      <td>-0.164405</td>\n",
       "      <td>-0.455427</td>\n",
       "      <td>-1.131972</td>\n",
       "      <td>-0.413240</td>\n",
       "      <td>0.835263</td>\n",
       "      <td>0.350345</td>\n",
       "      <td>-0.144984</td>\n",
       "      <td>1.955763</td>\n",
       "      <td>0.397069</td>\n",
       "      <td>...</td>\n",
       "      <td>-0.664348</td>\n",
       "      <td>-0.095557</td>\n",
       "      <td>0.121424</td>\n",
       "      <td>-1.394081</td>\n",
       "      <td>1.278910</td>\n",
       "      <td>-1.218193</td>\n",
       "      <td>-0.736354</td>\n",
       "      <td>-0.161510</td>\n",
       "      <td>-0.743356</td>\n",
       "      <td>0.357444</td>\n",
       "    </tr>\n",
       "  </tbody>\n",
       "</table>\n",
       "<p>5 rows × 7130 columns</p>\n",
       "</div>"
      ],
      "text/plain": [
       "    Cancer_type  AFFX-BioB-5_at  AFFX-BioB-M_at  AFFX-BioB-3_at  \\\n",
       "0             0       -0.779208        0.165303       -0.440211   \n",
       "5             0        0.511878        0.974951        0.552011   \n",
       "9             0       -3.080327       -0.644345       -0.160712   \n",
       "12            0        1.249642       -0.860251        0.517074   \n",
       "13            0       -0.164405       -0.455427       -1.131972   \n",
       "\n",
       "    AFFX-BioC-5_at  AFFX-BioC-3_at  AFFX-BioDn-5_at  AFFX-BioDn-3_at  \\\n",
       "0        -0.832435       -0.242254        -1.006038         0.856866   \n",
       "5        -1.432645        0.625746         0.504626        -0.198711   \n",
       "9         1.196848       -1.050392         0.048213         0.095207   \n",
       "12        0.406095        0.004677        -0.016071         1.255077   \n",
       "13       -0.413240        0.835263         0.350345        -0.144984   \n",
       "\n",
       "    AFFX-CreX-5_at  AFFX-CreX-3_at     ...       U48730_at  U58516_at  \\\n",
       "0         0.286845        1.642969     ...        0.459604  -0.352156   \n",
       "5         0.824852       -0.868608     ...       -1.418218  -1.228870   \n",
       "9         0.638196        0.120202     ...        1.227180   1.795336   \n",
       "12        0.012352       -0.789503     ...        1.007873   1.202714   \n",
       "13        1.955763        0.397069     ...       -0.664348  -0.095557   \n",
       "\n",
       "    U73738_at  X06956_at  X16699_at  X83863_at  Z17240_at  L49218_f_at  \\\n",
       "0   -1.091470   0.392367   0.188727   0.116657   0.096927     0.630846   \n",
       "5    0.894241  -0.594481   0.655948  -1.028804  -1.014114     0.126619   \n",
       "9    1.613390  -0.285775   1.694218   2.188526   3.102138     1.081049   \n",
       "12  -0.919733  -0.518570  -0.053536   1.579287  -0.188549     0.936984   \n",
       "13   0.121424  -1.394081   1.278910  -1.218193  -0.736354    -0.161510   \n",
       "\n",
       "    M71243_f_at  Z78285_f_at  \n",
       "0     -0.452910     0.049965  \n",
       "5     -0.784603    -0.831473  \n",
       "9      0.121109    -0.892969  \n",
       "12     0.155481     0.480435  \n",
       "13    -0.743356     0.357444  \n",
       "\n",
       "[5 rows x 7130 columns]"
      ]
     },
     "execution_count": 5,
     "metadata": {},
     "output_type": "execute_result"
    }
   ],
   "source": [
    "df_train.head()"
   ]
  },
  {
   "cell_type": "code",
   "execution_count": 6,
   "metadata": {},
   "outputs": [
    {
     "data": {
      "text/html": [
       "<div>\n",
       "<style>\n",
       "    .dataframe thead tr:only-child th {\n",
       "        text-align: right;\n",
       "    }\n",
       "\n",
       "    .dataframe thead th {\n",
       "        text-align: left;\n",
       "    }\n",
       "\n",
       "    .dataframe tbody tr th {\n",
       "        vertical-align: top;\n",
       "    }\n",
       "</style>\n",
       "<table border=\"1\" class=\"dataframe\">\n",
       "  <thead>\n",
       "    <tr style=\"text-align: right;\">\n",
       "      <th></th>\n",
       "      <th>Cancer_type</th>\n",
       "      <th>AFFX-BioB-5_at</th>\n",
       "      <th>AFFX-BioB-M_at</th>\n",
       "      <th>AFFX-BioB-3_at</th>\n",
       "      <th>AFFX-BioC-5_at</th>\n",
       "      <th>AFFX-BioC-3_at</th>\n",
       "      <th>AFFX-BioDn-5_at</th>\n",
       "      <th>AFFX-BioDn-3_at</th>\n",
       "      <th>AFFX-CreX-5_at</th>\n",
       "      <th>AFFX-CreX-3_at</th>\n",
       "      <th>...</th>\n",
       "      <th>U48730_at</th>\n",
       "      <th>U58516_at</th>\n",
       "      <th>U73738_at</th>\n",
       "      <th>X06956_at</th>\n",
       "      <th>X16699_at</th>\n",
       "      <th>X83863_at</th>\n",
       "      <th>Z17240_at</th>\n",
       "      <th>L49218_f_at</th>\n",
       "      <th>M71243_f_at</th>\n",
       "      <th>Z78285_f_at</th>\n",
       "    </tr>\n",
       "  </thead>\n",
       "  <tbody>\n",
       "    <tr>\n",
       "      <th>1</th>\n",
       "      <td>0</td>\n",
       "      <td>-0.085359</td>\n",
       "      <td>0.691574</td>\n",
       "      <td>1.816745</td>\n",
       "      <td>-1.556498</td>\n",
       "      <td>-1.170117</td>\n",
       "      <td>-1.179603</td>\n",
       "      <td>0.727289</td>\n",
       "      <td>-0.558593</td>\n",
       "      <td>-0.364315</td>\n",
       "      <td>...</td>\n",
       "      <td>1.213473</td>\n",
       "      <td>0.637584</td>\n",
       "      <td>2.590145</td>\n",
       "      <td>-0.695696</td>\n",
       "      <td>-1.074501</td>\n",
       "      <td>-0.262121</td>\n",
       "      <td>-0.516460</td>\n",
       "      <td>-0.917850</td>\n",
       "      <td>-0.564620</td>\n",
       "      <td>-1.056958</td>\n",
       "    </tr>\n",
       "    <tr>\n",
       "      <th>2</th>\n",
       "      <td>0</td>\n",
       "      <td>0.169345</td>\n",
       "      <td>0.543139</td>\n",
       "      <td>-0.565986</td>\n",
       "      <td>-0.070263</td>\n",
       "      <td>0.244125</td>\n",
       "      <td>0.755332</td>\n",
       "      <td>0.240586</td>\n",
       "      <td>0.879750</td>\n",
       "      <td>-0.156665</td>\n",
       "      <td>...</td>\n",
       "      <td>0.062109</td>\n",
       "      <td>0.069400</td>\n",
       "      <td>0.862040</td>\n",
       "      <td>0.974354</td>\n",
       "      <td>0.379076</td>\n",
       "      <td>-1.122358</td>\n",
       "      <td>0.039060</td>\n",
       "      <td>0.234668</td>\n",
       "      <td>-0.684923</td>\n",
       "      <td>0.295948</td>\n",
       "    </tr>\n",
       "    <tr>\n",
       "      <th>3</th>\n",
       "      <td>0</td>\n",
       "      <td>0.467964</td>\n",
       "      <td>0.286750</td>\n",
       "      <td>1.628083</td>\n",
       "      <td>-1.146830</td>\n",
       "      <td>-1.020461</td>\n",
       "      <td>-0.961039</td>\n",
       "      <td>0.641958</td>\n",
       "      <td>0.253906</td>\n",
       "      <td>0.397069</td>\n",
       "      <td>...</td>\n",
       "      <td>-1.664939</td>\n",
       "      <td>0.588708</td>\n",
       "      <td>-1.660349</td>\n",
       "      <td>-0.812094</td>\n",
       "      <td>0.517512</td>\n",
       "      <td>0.908440</td>\n",
       "      <td>0.687167</td>\n",
       "      <td>0.162636</td>\n",
       "      <td>-0.146996</td>\n",
       "      <td>-0.052528</td>\n",
       "    </tr>\n",
       "    <tr>\n",
       "      <th>4</th>\n",
       "      <td>0</td>\n",
       "      <td>-2.527004</td>\n",
       "      <td>-1.278569</td>\n",
       "      <td>0.013975</td>\n",
       "      <td>-1.689878</td>\n",
       "      <td>-2.083013</td>\n",
       "      <td>-2.497416</td>\n",
       "      <td>-0.641168</td>\n",
       "      <td>-2.864335</td>\n",
       "      <td>-0.156665</td>\n",
       "      <td>...</td>\n",
       "      <td>1.885103</td>\n",
       "      <td>0.008305</td>\n",
       "      <td>-0.672861</td>\n",
       "      <td>-0.047919</td>\n",
       "      <td>1.226997</td>\n",
       "      <td>2.409861</td>\n",
       "      <td>0.548287</td>\n",
       "      <td>1.045033</td>\n",
       "      <td>0.561075</td>\n",
       "      <td>1.218384</td>\n",
       "    </tr>\n",
       "    <tr>\n",
       "      <th>6</th>\n",
       "      <td>0</td>\n",
       "      <td>0.292306</td>\n",
       "      <td>0.624104</td>\n",
       "      <td>-0.251549</td>\n",
       "      <td>-0.022627</td>\n",
       "      <td>0.221677</td>\n",
       "      <td>1.121748</td>\n",
       "      <td>0.073084</td>\n",
       "      <td>1.538534</td>\n",
       "      <td>-0.720286</td>\n",
       "      <td>...</td>\n",
       "      <td>0.843392</td>\n",
       "      <td>-0.132214</td>\n",
       "      <td>0.282427</td>\n",
       "      <td>1.105934</td>\n",
       "      <td>0.154118</td>\n",
       "      <td>-0.104677</td>\n",
       "      <td>-0.007233</td>\n",
       "      <td>0.414749</td>\n",
       "      <td>-0.653988</td>\n",
       "      <td>0.582928</td>\n",
       "    </tr>\n",
       "  </tbody>\n",
       "</table>\n",
       "<p>5 rows × 7130 columns</p>\n",
       "</div>"
      ],
      "text/plain": [
       "   Cancer_type  AFFX-BioB-5_at  AFFX-BioB-M_at  AFFX-BioB-3_at  \\\n",
       "1            0       -0.085359        0.691574        1.816745   \n",
       "2            0        0.169345        0.543139       -0.565986   \n",
       "3            0        0.467964        0.286750        1.628083   \n",
       "4            0       -2.527004       -1.278569        0.013975   \n",
       "6            0        0.292306        0.624104       -0.251549   \n",
       "\n",
       "   AFFX-BioC-5_at  AFFX-BioC-3_at  AFFX-BioDn-5_at  AFFX-BioDn-3_at  \\\n",
       "1       -1.556498       -1.170117        -1.179603         0.727289   \n",
       "2       -0.070263        0.244125         0.755332         0.240586   \n",
       "3       -1.146830       -1.020461        -0.961039         0.641958   \n",
       "4       -1.689878       -2.083013        -2.497416        -0.641168   \n",
       "6       -0.022627        0.221677         1.121748         0.073084   \n",
       "\n",
       "   AFFX-CreX-5_at  AFFX-CreX-3_at     ...       U48730_at  U58516_at  \\\n",
       "1       -0.558593       -0.364315     ...        1.213473   0.637584   \n",
       "2        0.879750       -0.156665     ...        0.062109   0.069400   \n",
       "3        0.253906        0.397069     ...       -1.664939   0.588708   \n",
       "4       -2.864335       -0.156665     ...        1.885103   0.008305   \n",
       "6        1.538534       -0.720286     ...        0.843392  -0.132214   \n",
       "\n",
       "   U73738_at  X06956_at  X16699_at  X83863_at  Z17240_at  L49218_f_at  \\\n",
       "1   2.590145  -0.695696  -1.074501  -0.262121  -0.516460    -0.917850   \n",
       "2   0.862040   0.974354   0.379076  -1.122358   0.039060     0.234668   \n",
       "3  -1.660349  -0.812094   0.517512   0.908440   0.687167     0.162636   \n",
       "4  -0.672861  -0.047919   1.226997   2.409861   0.548287     1.045033   \n",
       "6   0.282427   1.105934   0.154118  -0.104677  -0.007233     0.414749   \n",
       "\n",
       "   M71243_f_at  Z78285_f_at  \n",
       "1    -0.564620    -1.056958  \n",
       "2    -0.684923     0.295948  \n",
       "3    -0.146996    -0.052528  \n",
       "4     0.561075     1.218384  \n",
       "6    -0.653988     0.582928  \n",
       "\n",
       "[5 rows x 7130 columns]"
      ]
     },
     "execution_count": 6,
     "metadata": {},
     "output_type": "execute_result"
    }
   ],
   "source": [
    "df_test.head()"
   ]
  },
  {
   "cell_type": "code",
   "execution_count": 9,
   "metadata": {},
   "outputs": [
    {
     "data": {
      "text/plain": [
       "<matplotlib.text.Text at 0x11bf387b8>"
      ]
     },
     "execution_count": 9,
     "metadata": {},
     "output_type": "execute_result"
    },
    {
     "data": {
      "image/png": "[encoded data removed]",
      "text/plain": [
       "<matplotlib.figure.Figure at 0x11c2d9160>"
      ]
     },
     "metadata": {},
     "output_type": "display_data"
    }
   ],
   "source": [
    "# sort dataframes by cancer_type\n",
    "df_train.sort_values(['Cancer_type'], axis=0, inplace=True)\n",
    "genes = ['Cancer_type','D49818_at', 'M23161_at', 'hum_alu_at', 'AFFX-PheX-5_at', 'M15990_at']\n",
    "\n",
    "# visualize heatmap\n",
    "fig1, ax1 = plt.subplots(1,1, figsize=(12,10))\n",
    "ax1 = sns.heatmap(df_train[genes])\n",
    "ax1.set_xlabel(\"Genes\")\n",
    "ax1.set_ylabel(\"Subjects\")"
   ]
  },
  {
   "cell_type": "code",
   "execution_count": 10,
   "metadata": {},
   "outputs": [
    {
     "name": "stdout",
     "output_type": "stream",
     "text": [
      "Explained variance ratio: [ 0.16803525  0.11170436]\n"
     ]
    }
   ],
   "source": [
    "# Find first 2 PCA component\n",
    "X_train = df_train[all_predictors]\n",
    "y_train = df_train[\"Cancer_type\"]\n",
    "\n",
    "X_test = df_test[all_predictors]\n",
    "y_test = df_test[\"Cancer_type\"]\n",
    "\n",
    "pca = PCA(n_components=2)\n",
    "pca.fit(X_train)\n",
    "X_train_pca = pca.fit_transform(X_train)\n",
    "\n",
    "print('Explained variance ratio:', pca.explained_variance_ratio_)"
   ]
  },
  {
   "cell_type": "code",
   "execution_count": 11,
   "metadata": {},
   "outputs": [
    {
     "data": {
      "text/plain": [
       "<matplotlib.legend.Legend at 0x11c4a1e80>"
      ]
     },
     "execution_count": 11,
     "metadata": {},
     "output_type": "execute_result"
    },
    {
     "data": {
      "image/png": "[encoded data removed]",
      "text/plain": [
       "<matplotlib.figure.Figure at 0x11c01a0f0>"
      ]
     },
     "metadata": {},
     "output_type": "display_data"
    }
   ],
   "source": [
    "fig, ax = plt.subplots(1, 1, figsize=(7, 7))\n",
    "\n",
    "ax.scatter(X_train_pca[y_train==0][:, 0], X_train_pca[y_train==0][:, 1], label='Type_0: ALL')\n",
    "ax.scatter(X_train_pca[y_train==1][:, 0], X_train_pca[y_train==1][:, 1], label='Type_1: AML')\n",
    "\n",
    "ax.set_title('Dimention Reduced Classification - Train Data', fontsize=16)\n",
    "ax.set_xlabel('1st Principal Component', fontsize=16)\n",
    "ax.set_ylabel('2nd Principal Component', fontsize=16)\n",
    "ax.legend()"
   ]
  },
  {
   "cell_type": "markdown",
   "metadata": {},
   "source": [
    "## Answers for Part (a)\n",
    "\n",
    "Do you foresee a problem in fitting a classification model to such a data set (training set contains more predictors than observations)?\n",
    "\n",
    "> **The problem in fitting a model to a data set with more predictors than observations is known as the curse of dimensionality. This problem arises because the data become sparse as dimensionality increases, thus we do not have enough information to reliably infer a relationship between the response and the predictors. In addition, increasing model complexity to arbitrarily high levels (e.g. when p >> n) often invovles adding noise feaures that are not truly associated with the response that will lead to overfitting and a worse fitted model than only including those predictors that have a true relationship with the response. **\n",
    "\n",
    "By observing the heat map, comment on which of these genes are useful in discriminating between the two classes.\n",
    "\n",
    "> **Genes that are useful in discriminating between two classes have disparate values/patterns in each class. By observing the heat map, none of the genes are extermely useful in discriminating between the two class, but `M23161_at` is perhaps the most useful because it has more positive values for Cancer_type = 0 and more negative values for Cancer_type = 1. **\n",
    "\n",
    "How well do the top two principal components discriminate between the two classes?\n",
    "\n",
    "> **By visualizing the training data set in two dimensions using the first 2 principle components, there is no obvious boundary between the two cancer type. Hence, the first 2 principle components do not appear to be useful in discriminating between the two classes.**"
   ]
  },
  {
   "cell_type": "markdown",
   "metadata": {},
   "source": [
    "## Part (b): Linear Regression vs. Logistic Regression\n",
    "\n",
    "Begin by analyzing the differences between using linear regression and logistic regression for classification. For this part, you shall work with a single gene predictor: `D29963_at`.\n",
    "\n",
    "1. Fit a simple linear regression model to the training set using the single gene predictor `D29963_at`. We could interpret the scores predicted by regression model interpreted for a patient as an estimate of the probability that the patient has the `ALL` type cancer (class 1). Is there a problem with this interpretation?\n",
    "\n",
    "2. The fitted linear regression model can be converted to a classification model (i.e. a model that predicts one of two binary labels 0 or 1) by classifying patients with predicted score greater than 0.5 into the `ALL` type (class 1), and the others into the `AML` type (class 0). Evaluate the classification accuracy (1 - misclassification rate) of the obtained classification model on both the training and test sets.\n",
    "\n",
    "3. Next, fit a simple logistic regression model to the training set. How does the training and test calssification accuracy of this model compare with the linear regression model?  Remember, you need to set the regularization parameter for sklearn's logistic regression function to be a very large value in order not to regularize (use 'C=100000').\n",
    "\n",
    "4. Plot the quantitative output from linear regression model and the probabilistic output from the logistic regression model (on the training set points) as a function of the gene predictor. Also, display the true binary response for the training set points in the same plot.\n",
    "Based on these plots, does one of the models appear better suited for binary classification than the other? Explain.\n",
    "\n"
   ]
  },
  {
   "cell_type": "code",
   "execution_count": 12,
   "metadata": {
    "collapsed": true
   },
   "outputs": [],
   "source": [
    "# Simple linear regression with X = D29963_at\n",
    "X_train_simple_ones = sm.add_constant(df_train['D29963_at'])\n",
    "X_test_simple_ones = sm.add_constant(df_test['D29963_at'])\n",
    "\n",
    "simple_regr = sm.OLS(y_train, X_train_simple_ones).fit()\n",
    "\n",
    "y_hat_train_simple = simple_regr.predict(X_train_simple_ones)\n",
    "y_hat_test_simple = simple_regr.predict(X_test_simple_ones)"
   ]
  },
  {
   "cell_type": "code",
   "execution_count": 13,
   "metadata": {},
   "outputs": [
    {
     "name": "stdout",
     "output_type": "stream",
     "text": [
      "The accuracy of simple linear classification on TRAINING DATA is: 0.71875\n",
      "The accuracy of simple linear classification on TEST DATA is: 0.8292682926829268\n"
     ]
    }
   ],
   "source": [
    "# Turn predicted score into classification criterion\n",
    "def classify(y):\n",
    "    if y > 0.5:\n",
    "        return 1\n",
    "    else:\n",
    "        return 0\n",
    "\n",
    "y_hat_train_simple_cls = [classify(x) for x in y_hat_train_simple]\n",
    "y_hat_test_simple_cls = [classify(x) for x in y_hat_test_simple]\n",
    "\n",
    "\n",
    "# Calculate classification errors\n",
    "score_train_simple_cls = accuracy_score(y_train, y_hat_train_simple_cls)\n",
    "score_test_simple_cls = accuracy_score(y_test, y_hat_test_simple_cls)\n",
    "\n",
    "print(\"The accuracy of simple linear classification on TRAINING DATA is: {}\".format(score_train_simple_cls))\n",
    "print(\"The accuracy of simple linear classification on TEST DATA is: {}\".format(score_test_simple_cls))\n"
   ]
  },
  {
   "cell_type": "code",
   "execution_count": 14,
   "metadata": {},
   "outputs": [
    {
     "name": "stdout",
     "output_type": "stream",
     "text": [
      "The accuracy of simple logistic regression on TRAINING DATA is: 0.71875\n",
      "The accuracy of simple logistic regression on TEST DATA is: 0.8292682926829268\n"
     ]
    },
    {
     "name": "stderr",
     "output_type": "stream",
     "text": [
      "/Users/jasminetong/anaconda/lib/python3.6/site-packages/ipykernel_launcher.py:2: FutureWarning: reshape is deprecated and will raise in a subsequent release. Please use .values.reshape(...) instead\n",
      "  \n",
      "/Users/jasminetong/anaconda/lib/python3.6/site-packages/ipykernel_launcher.py:3: FutureWarning: reshape is deprecated and will raise in a subsequent release. Please use .values.reshape(...) instead\n",
      "  This is separate from the ipykernel package so we can avoid doing imports until\n"
     ]
    }
   ],
   "source": [
    "# Simple Logistic Regression\n",
    "X_train_simple = df_train['D29963_at'].reshape(-1,1)\n",
    "X_test_simple = df_test['D29963_at'].reshape(-1,1)\n",
    "\n",
    "simple_log_regr = LogisticRegression(C=100000)\n",
    "simple_log_regr.fit(X_train_simple, y_train)\n",
    "\n",
    "score_train_simple_log = simple_log_regr.score(X_train_simple, y_train)\n",
    "score_test_simple_log = simple_log_regr.score(X_test_simple, y_test)\n",
    "\n",
    "print(\"The accuracy of simple logistic regression on TRAINING DATA is: {}\".format(score_train_simple_log))\n",
    "print(\"The accuracy of simple logistic regression on TEST DATA is: {}\".format(score_test_simple_log))\n"
   ]
  },
  {
   "cell_type": "code",
   "execution_count": 15,
   "metadata": {},
   "outputs": [
    {
     "data": {
      "text/plain": [
       "<matplotlib.legend.Legend at 0x11c2b9470>"
      ]
     },
     "execution_count": 15,
     "metadata": {},
     "output_type": "execute_result"
    },
    {
     "data": {
      "image/png": "[encoded data removed]",
      "text/plain": [
       "<matplotlib.figure.Figure at 0x11c2b94a8>"
      ]
     },
     "metadata": {},
     "output_type": "display_data"
    }
   ],
   "source": [
    "# plot quantitative output vs probabilistic output\n",
    "fig, ax = plt.subplots(1, 1, figsize=(10,7))\n",
    "# true labels\n",
    "ax.scatter(x=df_train['D29963_at'], y=df_train['Cancer_type'], label=\"True Type\")\n",
    "# quantitative output from simple linear regression\n",
    "ax.scatter(x=df_train['D29963_at'], y=y_hat_train_simple, label=\"Quantitative - Linear regression\")\n",
    "# probabilistic output from logistic regression\n",
    "ax.scatter(x=df_train['D29963_at'], y=simple_log_regr.predict_proba(X_train_simple)[:,1], label=\"Probabilistic - Logistic regression\")\n",
    "\n",
    "ax.axhline(y=0.5, color='k', linestyle='--', label=\"y = 0.5\")\n",
    "\n",
    "ax.set_xlabel(\"D29963_at Gene expression\", fontsize=14)\n",
    "ax.set_ylabel(\"Cancer type\", fontsize=14)\n",
    "ax.set_title(\"Linear vs. Logistic - Training Data\", fontsize=20)\n",
    "ax.legend(fontsize=14)"
   ]
  },
  {
   "cell_type": "markdown",
   "metadata": {},
   "source": [
    "## Answers to Part (b)\n",
    "\n",
    "Fit a simple linear regression model to the training set using the single gene predictor D29963_at. We could interpret the scores predicted by regression model interpreted for a patient as an estimate of the probability that the patient has the type_1 cancer. Is there a problem with this interpretation?\n",
    "\n",
    "> **The predicted values by the simple linear regression model can take on values that are larger than 1 or smaller than 0. These are invalid probability values.** \n",
    "\n",
    "Evaluate the classification accuracy of the **obtained classification model (from regression)** on both the training and test sets.\n",
    "\n",
    "> **Simple linear regression classification model**\n",
    "- Accuracy on TRAINING set: 0.71875\n",
    "- Accuracy on TEST set: 0.8292682926829268\n",
    "\n",
    "The classification accuracy of the **simple logistic regression model**\n",
    "\n",
    "> **Simple logistic regression model**\n",
    "- Accuracy on TRAINING set: 0.71875\n",
    "- Accuracy on TRAINING set: 0.8292682926829268\n",
    "\n",
    "How does the training and test calssification accuracy of this model compare with the linear regression model?\n",
    "\n",
    "> **They gave the same training and test classification accuracies.**\n",
    "\n",
    "Based on these plots, does one of the models appear better suited for binary classification than the other? Explain.\n",
    "\n",
    "> **Although the two models gave the same training and test accuracies, logistic regression appears better suited for binary classification based on the plot. This is because the curve for logistic regression asymptotically approaches 1 to the right and approaches 0 to the left, bounding the possible predicted outcomes to 0 and 1 (which is binary). On the other hand, the linear line for linear regression monotonically increases to approach infinity (> 1) to the right and decreases to approach negative infinity (< 0) to the left. This is not ideal for binary classification as predictions can potentially take on values beyond [0, 1].**\n"
   ]
  },
  {
   "cell_type": "markdown",
   "metadata": {},
   "source": [
    "## Part (c): Multiple Logistic Regression\n",
    "\n",
    "1. Next, fit a multiple logistic regression model with all the gene predictors from the data set.  How does the classification accuracy of this model compare with the models fitted in Part (b) with a single gene (on both the training and test sets)?  \n",
    "\n",
    "2. \"Use the `visualize_prob` from `HW5_functions.py` to visualize the probabilties predicted by the fitted multiple logistic regression model on both the training and test data sets. The function creates a visualization that places the data points on a vertical line based on the predicted probabilities, with the `ALL` and `AML` classes shown in different colors, and with the 0.5 threshold highlighted using a dotted horizontal line.  Is there a difference in the spread of probabilities in the training and test plots? Are there data points for which the predicted probability is close to 0.5? If so, what can you say about these points?\""
   ]
  },
  {
   "cell_type": "code",
   "execution_count": 16,
   "metadata": {},
   "outputs": [
    {
     "name": "stdout",
     "output_type": "stream",
     "text": [
      "The accuracy of logistic regression using all predictors on TRAINING DATA is: 1.0\n",
      "The accuracy of logistic regression using all predictors on TEST DATA is: 0.975609756097561\n"
     ]
    }
   ],
   "source": [
    "# Fit a multiple logistic regression model with all gene predictors\n",
    "log_regr = LogisticRegression(C=100000)\n",
    "log_regr.fit(X_train, y_train)\n",
    "\n",
    "score_train_log = log_regr.score(X_train, y_train)\n",
    "score_test_log = log_regr.score(X_test, y_test)\n",
    "\n",
    "print(\"The accuracy of logistic regression using all predictors on TRAINING DATA is: {}\".format(score_train_log))\n",
    "print(\"The accuracy of logistic regression using all predictors on TEST DATA is: {}\".format(score_test_log))\n"
   ]
  },
  {
   "cell_type": "code",
   "execution_count": 17,
   "metadata": {
    "collapsed": true
   },
   "outputs": [],
   "source": [
    "# Provided codes --- HW5_functions.py\n",
    "import numpy as np\n",
    "\n",
    "def visualize_prob(model, x, y, ax):\n",
    "    # Use the model to predict probabilities for\n",
    "    y_pred = model.predict_proba(x)\n",
    "    \n",
    "    # Separate the predictions by types\n",
    "    ypos = y_pred[y==1] # Cancer_type labeled 1: AML\n",
    "    yneg = y_pred[y==0] # Cancer_type labeled 0: ALL\n",
    "    \n",
    "    # Count the number of label 1 and label 0 points\n",
    "    npos = ypos.shape[0]\n",
    "    nneg = yneg.shape[0]\n",
    "    \n",
    "    # Plot the probabilities on a vertical line at x = 0, \n",
    "    # with the positive points in blue and negative points in red\n",
    "    pos_handle = ax.plot(np.zeros((npos,1)), ypos[:,1], 'bo', label = 'Type_1: AML')\n",
    "    neg_handle = ax.plot(np.zeros((nneg,1)), yneg[:,1], 'ro', label = 'Type_0: ALL')\n",
    "    \n",
    "    # Line to mark prob 0.5\n",
    "    ax.axhline(y = 0.5, color = 'k', linestyle = '--')\n",
    "    \n",
    "    # Add y-label and legend, do not display x-axis, set y-axis limit\n",
    "    ax.set_ylabel('Probability of Type_1:AML class', fontsize=16)\n",
    "    ax.legend(loc = 'best', fontsize=14)\n",
    "    ax.get_xaxis().set_visible(False)\n",
    "    ax.set_ylim([0,1])"
   ]
  },
  {
   "cell_type": "code",
   "execution_count": 18,
   "metadata": {},
   "outputs": [
    {
     "data": {
      "text/plain": [
       "<matplotlib.text.Text at 0x11d085b00>"
      ]
     },
     "execution_count": 18,
     "metadata": {},
     "output_type": "execute_result"
    },
    {
     "data": {
      "image/png": "[encoded data removed]",
      "text/plain": [
       "<matplotlib.figure.Figure at 0x11c233278>"
      ]
     },
     "metadata": {},
     "output_type": "display_data"
    }
   ],
   "source": [
    "# visualize probability\n",
    "fig4, axarr4 = plt.subplots(1, 2, figsize=(14 ,7))\n",
    "visualize_prob(log_regr, X_train, y_train, axarr4[0])\n",
    "visualize_prob(log_regr, X_test, y_test, axarr4[1])\n",
    "\n",
    "axarr4[0].set_title(\"All predictors logistic model - Training Data\", fontsize=18)\n",
    "axarr4[1].set_title(\"All predictors logistic model - Test Data\", fontsize=18)"
   ]
  },
  {
   "cell_type": "markdown",
   "metadata": {},
   "source": [
    "## Answers to Part (c)\n",
    "\n",
    "Fit a multiple logistic regression model with all the gene predictors from the data set.  How does the classification accuracy of this model compare with the models fitted in Part (b) with a single gene (on both the training and test sets)?  \n",
    "\n",
    "> Accuracy on TRAINING set -- \n",
    "- **Multiple Logistic Regression**: 1.0\n",
    "- **Compare**: Simple single gene logistic: 0.71875\n",
    "\n",
    "> Accuracy on TEST set -- \n",
    "- **Multiple Logistic Regression**: 0.975609756097561  \n",
    "- **Compare**: Simple single gene logistic: 0.8292682926829268\n",
    "\n",
    "> ** From the above accuracy values, multiple logistic regression using all the gene predictors performed better on both the training and test data sets compared to simple logistic regression with a single gene.** \n",
    "\n",
    "Is there a difference in the spread of probabilities in the training and test plots? Are there data points for which the predicted probability is close to 0.5? If so, what can you say about these points?\"\n",
    "\n",
    "> ** Yes, there is a difference in the spread of probabilities: There is more spread in the test plot. There are a couple points in the test setfor which the predicted probability is closer to 0.5. These points are more likely to be wrongly classified as they are closer to the decision boundary.**"
   ]
  },
  {
   "cell_type": "markdown",
   "metadata": {},
   "source": [
    "## Part (d): Analyzing Significance of Coefficients\n",
    "\n",
    "How many of the coefficients estimated by the multiple logistic regression in the previous problem are significantly different from zero at a *significance level of 95%*? \n",
    "\n",
    "Hint: To answer this question, use *bootstrapping* with 100 boostrap samples/iterations.  \n",
    "\n"
   ]
  },
  {
   "cell_type": "code",
   "execution_count": 19,
   "metadata": {},
   "outputs": [
    {
     "name": "stdout",
     "output_type": "stream",
     "text": [
      "We identified 1367 significant predictors using the bootstrap method.\n"
     ]
    }
   ],
   "source": [
    "# copied from HW4 provided code\n",
    "# A function to select a random sample of size k from the training set\n",
    "def sample(x, y, k):\n",
    "    n = x.shape[0] # No. of training points\n",
    "    \n",
    "    # Choose random indices of size 'k'\n",
    "    subset_ind = np.random.choice(np.arange(n), k)\n",
    "    \n",
    "    # Get predictors and reponses with the indices\n",
    "    x_subset = x.iloc[subset_ind]\n",
    "    y_subset = y.iloc[subset_ind]\n",
    "    \n",
    "    return (x_subset, y_subset)\n",
    "\n",
    "\n",
    "# Compute betas for 100 trials\n",
    "n_trials = 100\n",
    "X_train_size = X_train.shape[0]\n",
    "\n",
    "betas = np.zeros((n_trials, len(all_predictors)+1))\n",
    "for i in range(n_trials):\n",
    "    X_train_sample, y_train_sample = sample(X_train, y_train, X_train_size) # Bootstrap to get training samples\n",
    "    \n",
    "    log_regr_sample = LogisticRegression(C=100000)\n",
    "    log_regr_sample.fit(X_train_sample, y_train_sample)\n",
    "    \n",
    "    betas[i, 0] = log_regr_sample.intercept_[0]\n",
    "    betas[i, 1:] = log_regr_sample.coef_[0]\n",
    "\n",
    "# Compute significant coeffs\n",
    "sig_beta_idx = []\n",
    "for j in range(len(all_predictors)+1):\n",
    "#     sorted_betas_j = np.sort(np.array(betas[:,j]))\n",
    "    beta_lower = np.percentile(betas[:,j], 2.5)\n",
    "    beta_upper = np.percentile(betas[:,j], 97.5)\n",
    "    if (np.sign(beta_upper) == np.sign(beta_lower)): # confidence interval does not contain 0\n",
    "        sig_beta_idx.append(j) \n",
    "#     if (np.sign(sorted_betas_j[1]) == np.sign(sorted_betas_j[97])):\n",
    "#         sig_beta_idx.append(j) \n",
    "\n",
    "print('We identified {} significant predictors using the bootstrap method.'.format(len(sig_beta_idx)))"
   ]
  },
  {
   "cell_type": "code",
   "execution_count": 20,
   "metadata": {},
   "outputs": [
    {
     "data": {
      "text/plain": [
       "['const',\n",
       " 'AFFX-CreX-5_at',\n",
       " 'AFFX-BioB-3_st',\n",
       " 'AFFX-ThrX-M_at',\n",
       " 'AFFX-HUMTFRR/M11507_M_at',\n",
       " 'AB000905_at',\n",
       " 'AB002315_at',\n",
       " 'AB002559_at',\n",
       " 'AB003102_at',\n",
       " 'AC000061_cds2_at',\n",
       " 'AC000064_cds1_at',\n",
       " 'AC002077_at',\n",
       " 'AF000234_at',\n",
       " 'AF001294_at',\n",
       " 'AF002020_at',\n",
       " 'AF009426_at',\n",
       " 'AF010193_at',\n",
       " 'AF015950_at',\n",
       " 'AJ001047_at',\n",
       " 'D00017_at']"
      ]
     },
     "execution_count": 20,
     "metadata": {},
     "output_type": "execute_result"
    }
   ],
   "source": [
    "X_names = ['const']+all_predictors\n",
    "sig_X = []\n",
    "for idx in sig_beta_idx:\n",
    "    sig_X.append(X_names[idx])\n",
    "sig_X[:20] # print out the first 20 selected significant genes"
   ]
  },
  {
   "cell_type": "code",
   "execution_count": 21,
   "metadata": {},
   "outputs": [
    {
     "name": "stdout",
     "output_type": "stream",
     "text": [
      "The accuracy of logistic regression with only significant predictors on TRAINING DATA is: 1.0\n",
      "The accuracy of logistic regression with only significant predictors on TEST DATA is: 1.0\n"
     ]
    }
   ],
   "source": [
    "sig_P = sig_X[1:]\n",
    "sig_P_train = df_train[sig_P]\n",
    "sig_P_test = df_test[sig_P]\n",
    "\n",
    "sig_log_regr_2 = LogisticRegression(C=100000)\n",
    "sig_log_regr_2.fit(sig_P_train, y_train)\n",
    "\n",
    "score_train_sig_P_log = sig_log_regr_2.score(sig_P_train, y_train)\n",
    "score_test_sig_P_log = sig_log_regr_2.score(sig_P_test, y_test)\n",
    "\n",
    "print(\"The accuracy of logistic regression with only significant predictors on TRAINING DATA is: {}\".format(score_train_sig_P_log))\n",
    "print(\"The accuracy of logistic regression with only significant predictors on TEST DATA is: {}\".format(score_test_sig_P_log))"
   ]
  },
  {
   "cell_type": "code",
   "execution_count": 22,
   "metadata": {},
   "outputs": [
    {
     "data": {
      "text/plain": [
       "<matplotlib.text.Text at 0x123298080>"
      ]
     },
     "execution_count": 22,
     "metadata": {},
     "output_type": "execute_result"
    },
    {
     "data": {
      "image/png": "[encoded data removed]",
      "text/plain": [
       "<matplotlib.figure.Figure at 0x11c2a52b0>"
      ]
     },
     "metadata": {},
     "output_type": "display_data"
    }
   ],
   "source": [
    "# visualize probability\n",
    "fig, ax = plt.subplots(1, 2, figsize=(14, 7))\n",
    "visualize_prob(sig_log_regr_2, sig_P_train, y_train, ax[0])\n",
    "visualize_prob(sig_log_regr_2, sig_P_test, y_test, ax[1])\n",
    "\n",
    "ax[0].set_title(\"Significant predictors only logistic model \\n- Training Data\", fontsize=18)\n",
    "ax[1].set_title(\"Significant predictors only logistic model \\n- Test Data\", fontsize=18)"
   ]
  },
  {
   "cell_type": "markdown",
   "metadata": {},
   "source": [
    "## Answers to part (d)\n",
    "\n",
    "How many of the coefficients estimated by the multiple logistic regression in the previous problem are significantly different from zero at a significance level of 95%?\n",
    "\n",
    "> **Approach: See whether the 95% confidence interval of betas got from bootstrapping contains zero. If zero is in the interval (for each beta, the 2nd least value and the 2nd largest value from the 100 trials have different sign), then the beta is not significant. If not, the beta is significant.**\n",
    "\n",
    "> **As printed above, we identified around 1100 (first time running this notebook: 1136 ) significant predictors using the bootstrap method.**"
   ]
  },
  {
   "cell_type": "markdown",
   "metadata": {},
   "source": [
    "## Part (e): Dimensionality Reduction using PCA\n",
    "\n",
    "A reasonable approach to reduce the dimensionality of the data is to use PCA and fit a logistic regression model on the first set of principal components contributing to 90% of the variance in the predictors.\n",
    "\n",
    "1. How do the classification accuracy values on both the training and tests sets compare with the models fitted in Parts (c) and (d)?  \n",
    "\n",
    "2. Re-fit a logistic regression model using 5-fold cross-validation to choose the number of principal components, and comment on whether you get better test performance than the model fitted above (explain your observations). \n",
    "\n",
    "3. Use the code provided in Part (c) to visualize the probabilities predicted by the fitted models on both the training and test sets. How does the spread of probabilities in these plots compare to those for the models in Part (c) and (d)? \n"
   ]
  },
  {
   "cell_type": "code",
   "execution_count": 23,
   "metadata": {},
   "outputs": [
    {
     "name": "stdout",
     "output_type": "stream",
     "text": [
      "Number of Components:  24\n",
      "Total explained_variance_ratio_ Train:  0.911484316071\n"
     ]
    }
   ],
   "source": [
    "n_pca = 1\n",
    "pca_model = PCA(n_components=n_pca)\n",
    "pca_model.fit(X_train)\n",
    "X_train_pca_model = pca_model.fit_transform(X_train)\n",
    "explained_var_sum = sum(pca_model.explained_variance_ratio_)\n",
    "\n",
    "while explained_var_sum<0.9:\n",
    "    n_pca += 1\n",
    "    pca_model = PCA(n_components=n_pca)\n",
    "    pca_model.fit(X_train)\n",
    "    X_train_pca_model = pca_model.fit_transform(X_train)\n",
    "    explained_var_sum = sum(pca_model.explained_variance_ratio_)\n",
    "\n",
    "print('Number of Components: ', n_pca)\n",
    "print('Total explained_variance_ratio_ Train: ',sum(pca_model.explained_variance_ratio_))"
   ]
  },
  {
   "cell_type": "code",
   "execution_count": 24,
   "metadata": {},
   "outputs": [
    {
     "name": "stdout",
     "output_type": "stream",
     "text": [
      "The accuracy of PCA logistic regression on TRAINING DATA is: 1.0\n",
      "The accuracy of PCA logistic regression on TEST DATA is: 0.43902439024390244\n"
     ]
    }
   ],
   "source": [
    "X_test_pca_model = pca_model.fit_transform(X_test)\n",
    "\n",
    "pca_log_regr = LogisticRegression(C=100000)\n",
    "pca_log_regr.fit(X_train_pca_model, y_train)\n",
    "\n",
    "score_train_pca_log = pca_log_regr.score(X_train_pca_model, y_train)\n",
    "score_test_pca_log = pca_log_regr.score(X_test_pca_model, y_test)\n",
    "\n",
    "print(\"The accuracy of PCA logistic regression on TRAINING DATA is: {}\".format(score_train_pca_log))\n",
    "print(\"The accuracy of PCA logistic regression on TEST DATA is: {}\".format(score_test_pca_log))"
   ]
  },
  {
   "cell_type": "code",
   "execution_count": 25,
   "metadata": {},
   "outputs": [
    {
     "data": {
      "text/plain": [
       "<matplotlib.text.Text at 0x11cb4c5c0>"
      ]
     },
     "execution_count": 25,
     "metadata": {},
     "output_type": "execute_result"
    },
    {
     "data": {
      "image/png": "[encoded data removed]",
      "text/plain": [
       "<matplotlib.figure.Figure at 0x12331beb8>"
      ]
     },
     "metadata": {},
     "output_type": "display_data"
    }
   ],
   "source": [
    "# visualize probability - the 1st set of PCA components (n=24) contributing to 90% of the predictors variance\n",
    "fig, ax = plt.subplots(1, 2, figsize=(14, 7))\n",
    "visualize_prob(pca_log_regr, X_train_pca_model, y_train, ax[0])\n",
    "visualize_prob(pca_log_regr, X_test_pca_model, y_test, ax[1])\n",
    "\n",
    "ax[0].set_title(\"90% variance explaining PCA logistic model \\n- Training Data\", fontsize=18)\n",
    "ax[1].set_title(\"90% variance explaining PCA logistic model \\n- Test Data\", fontsize=18)"
   ]
  },
  {
   "cell_type": "code",
   "execution_count": 24,
   "metadata": {},
   "outputs": [
    {
     "name": "stdout",
     "output_type": "stream",
     "text": [
      "The best model has n = 4 PCA components with model accuracy on the TRAINING DATA = 0.8428571428571429\n"
     ]
    }
   ],
   "source": [
    "# cross-validation \n",
    "# pca_cv = PCA()\n",
    "# n_components = np.arange(1, 10)\n",
    "# pca_scores = []\n",
    "# fold = 5\n",
    "# log_regr_pca_cv = LogisticRegression(C=100000)\n",
    "\n",
    "\n",
    "# for i, n in enumerate(n_components):\n",
    "#     # specify n PCA component\n",
    "#     pca_cv.n_components = n\n",
    "#     X_train_pca_cv = pca_cv.fit_transform(X_train.values)\n",
    "#     pca_scores.append(np.mean(cross_val_score(log_regr_pca_cv, X=X_train_pca_cv, y=y_train, cv=fold, scoring='accuracy')))\n",
    "\n",
    "# best_n = pca_scores.index(np.max(pca_scores)) + 1\n",
    "# best_accuracy = np.max(pca_scores)\n",
    "# print(\"The best model has n = {} PCA components with model accuracy on the TRAINING DATA = {}\".format(best_n, best_accuracy))"
   ]
  },
  {
   "cell_type": "code",
   "execution_count": 27,
   "metadata": {},
   "outputs": [
    {
     "data": {
      "text/html": [
       "<div>\n",
       "<style>\n",
       "    .dataframe thead tr:only-child th {\n",
       "        text-align: right;\n",
       "    }\n",
       "\n",
       "    .dataframe thead th {\n",
       "        text-align: left;\n",
       "    }\n",
       "\n",
       "    .dataframe tbody tr th {\n",
       "        vertical-align: top;\n",
       "    }\n",
       "</style>\n",
       "<table border=\"1\" class=\"dataframe\">\n",
       "  <thead>\n",
       "    <tr style=\"text-align: right;\">\n",
       "      <th></th>\n",
       "      <th>AFFX-BioB-5_at</th>\n",
       "      <th>AFFX-BioB-M_at</th>\n",
       "      <th>AFFX-BioB-3_at</th>\n",
       "      <th>AFFX-BioC-5_at</th>\n",
       "      <th>AFFX-BioC-3_at</th>\n",
       "      <th>AFFX-BioDn-5_at</th>\n",
       "      <th>AFFX-BioDn-3_at</th>\n",
       "      <th>AFFX-CreX-5_at</th>\n",
       "      <th>AFFX-CreX-3_at</th>\n",
       "      <th>AFFX-BioB-5_st</th>\n",
       "      <th>...</th>\n",
       "      <th>U48730_at</th>\n",
       "      <th>U58516_at</th>\n",
       "      <th>U73738_at</th>\n",
       "      <th>X06956_at</th>\n",
       "      <th>X16699_at</th>\n",
       "      <th>X83863_at</th>\n",
       "      <th>Z17240_at</th>\n",
       "      <th>L49218_f_at</th>\n",
       "      <th>M71243_f_at</th>\n",
       "      <th>Z78285_f_at</th>\n",
       "    </tr>\n",
       "  </thead>\n",
       "  <tbody>\n",
       "    <tr>\n",
       "      <th>0</th>\n",
       "      <td>-0.779208</td>\n",
       "      <td>0.165303</td>\n",
       "      <td>-0.440211</td>\n",
       "      <td>-0.832435</td>\n",
       "      <td>-0.242254</td>\n",
       "      <td>-1.006038</td>\n",
       "      <td>0.856866</td>\n",
       "      <td>0.286845</td>\n",
       "      <td>1.642969</td>\n",
       "      <td>0.641133</td>\n",
       "      <td>...</td>\n",
       "      <td>0.459604</td>\n",
       "      <td>-0.352156</td>\n",
       "      <td>-1.091470</td>\n",
       "      <td>0.392367</td>\n",
       "      <td>0.188727</td>\n",
       "      <td>0.116657</td>\n",
       "      <td>0.096927</td>\n",
       "      <td>0.630846</td>\n",
       "      <td>-0.452910</td>\n",
       "      <td>0.049965</td>\n",
       "    </tr>\n",
       "    <tr>\n",
       "      <th>39</th>\n",
       "      <td>-1.903419</td>\n",
       "      <td>-0.468921</td>\n",
       "      <td>0.251549</td>\n",
       "      <td>1.454081</td>\n",
       "      <td>0.289022</td>\n",
       "      <td>-0.163923</td>\n",
       "      <td>-1.845283</td>\n",
       "      <td>-0.986803</td>\n",
       "      <td>0.505838</td>\n",
       "      <td>-0.983826</td>\n",
       "      <td>...</td>\n",
       "      <td>1.720622</td>\n",
       "      <td>1.211878</td>\n",
       "      <td>0.969376</td>\n",
       "      <td>-0.493266</td>\n",
       "      <td>-1.507113</td>\n",
       "      <td>0.757841</td>\n",
       "      <td>0.660163</td>\n",
       "      <td>0.846943</td>\n",
       "      <td>-0.492438</td>\n",
       "      <td>-0.626488</td>\n",
       "    </tr>\n",
       "    <tr>\n",
       "      <th>58</th>\n",
       "      <td>0.994938</td>\n",
       "      <td>-0.091085</td>\n",
       "      <td>0.048912</td>\n",
       "      <td>-0.032154</td>\n",
       "      <td>0.940022</td>\n",
       "      <td>1.263172</td>\n",
       "      <td>1.359370</td>\n",
       "      <td>1.077385</td>\n",
       "      <td>-1.096034</td>\n",
       "      <td>0.367212</td>\n",
       "      <td>...</td>\n",
       "      <td>0.596671</td>\n",
       "      <td>0.903348</td>\n",
       "      <td>0.819106</td>\n",
       "      <td>-0.047919</td>\n",
       "      <td>-0.520757</td>\n",
       "      <td>-0.157159</td>\n",
       "      <td>-0.369865</td>\n",
       "      <td>-1.241996</td>\n",
       "      <td>-0.392758</td>\n",
       "      <td>2.407301</td>\n",
       "    </tr>\n",
       "    <tr>\n",
       "      <th>57</th>\n",
       "      <td>0.265957</td>\n",
       "      <td>0.637598</td>\n",
       "      <td>0.377324</td>\n",
       "      <td>0.901506</td>\n",
       "      <td>0.251608</td>\n",
       "      <td>0.118925</td>\n",
       "      <td>0.771535</td>\n",
       "      <td>0.166068</td>\n",
       "      <td>0.980467</td>\n",
       "      <td>0.413639</td>\n",
       "      <td>...</td>\n",
       "      <td>0.747445</td>\n",
       "      <td>0.225193</td>\n",
       "      <td>-0.404521</td>\n",
       "      <td>0.351881</td>\n",
       "      <td>-0.987978</td>\n",
       "      <td>0.744150</td>\n",
       "      <td>0.417123</td>\n",
       "      <td>-0.791794</td>\n",
       "      <td>0.425304</td>\n",
       "      <td>1.177387</td>\n",
       "    </tr>\n",
       "    <tr>\n",
       "      <th>55</th>\n",
       "      <td>0.432832</td>\n",
       "      <td>0.907480</td>\n",
       "      <td>-1.104022</td>\n",
       "      <td>0.587111</td>\n",
       "      <td>0.356366</td>\n",
       "      <td>1.796725</td>\n",
       "      <td>0.013037</td>\n",
       "      <td>0.923669</td>\n",
       "      <td>-0.789503</td>\n",
       "      <td>0.650419</td>\n",
       "      <td>...</td>\n",
       "      <td>0.377363</td>\n",
       "      <td>-0.394922</td>\n",
       "      <td>0.582967</td>\n",
       "      <td>-0.356625</td>\n",
       "      <td>0.482903</td>\n",
       "      <td>-0.686535</td>\n",
       "      <td>-0.790363</td>\n",
       "      <td>-0.161510</td>\n",
       "      <td>-0.643676</td>\n",
       "      <td>0.562430</td>\n",
       "    </tr>\n",
       "  </tbody>\n",
       "</table>\n",
       "<p>5 rows × 7129 columns</p>\n",
       "</div>"
      ],
      "text/plain": [
       "    AFFX-BioB-5_at  AFFX-BioB-M_at  AFFX-BioB-3_at  AFFX-BioC-5_at  \\\n",
       "0        -0.779208        0.165303       -0.440211       -0.832435   \n",
       "39       -1.903419       -0.468921        0.251549        1.454081   \n",
       "58        0.994938       -0.091085        0.048912       -0.032154   \n",
       "57        0.265957        0.637598        0.377324        0.901506   \n",
       "55        0.432832        0.907480       -1.104022        0.587111   \n",
       "\n",
       "    AFFX-BioC-3_at  AFFX-BioDn-5_at  AFFX-BioDn-3_at  AFFX-CreX-5_at  \\\n",
       "0        -0.242254        -1.006038         0.856866        0.286845   \n",
       "39        0.289022        -0.163923        -1.845283       -0.986803   \n",
       "58        0.940022         1.263172         1.359370        1.077385   \n",
       "57        0.251608         0.118925         0.771535        0.166068   \n",
       "55        0.356366         1.796725         0.013037        0.923669   \n",
       "\n",
       "    AFFX-CreX-3_at  AFFX-BioB-5_st     ...       U48730_at  U58516_at  \\\n",
       "0         1.642969        0.641133     ...        0.459604  -0.352156   \n",
       "39        0.505838       -0.983826     ...        1.720622   1.211878   \n",
       "58       -1.096034        0.367212     ...        0.596671   0.903348   \n",
       "57        0.980467        0.413639     ...        0.747445   0.225193   \n",
       "55       -0.789503        0.650419     ...        0.377363  -0.394922   \n",
       "\n",
       "    U73738_at  X06956_at  X16699_at  X83863_at  Z17240_at  L49218_f_at  \\\n",
       "0   -1.091470   0.392367   0.188727   0.116657   0.096927     0.630846   \n",
       "39   0.969376  -0.493266  -1.507113   0.757841   0.660163     0.846943   \n",
       "58   0.819106  -0.047919  -0.520757  -0.157159  -0.369865    -1.241996   \n",
       "57  -0.404521   0.351881  -0.987978   0.744150   0.417123    -0.791794   \n",
       "55   0.582967  -0.356625   0.482903  -0.686535  -0.790363    -0.161510   \n",
       "\n",
       "    M71243_f_at  Z78285_f_at  \n",
       "0     -0.452910     0.049965  \n",
       "39    -0.492438    -0.626488  \n",
       "58    -0.392758     2.407301  \n",
       "57     0.425304     1.177387  \n",
       "55    -0.643676     0.562430  \n",
       "\n",
       "[5 rows x 7129 columns]"
      ]
     },
     "execution_count": 27,
     "metadata": {},
     "output_type": "execute_result"
    }
   ],
   "source": [
    "X_train.head()"
   ]
  },
  {
   "cell_type": "code",
   "execution_count": 39,
   "metadata": {
    "collapsed": true
   },
   "outputs": [],
   "source": [
    "from sklearn.model_selection import KFold\n",
    "nnn_pca = 30\n",
    "\n",
    "accuracy_train_cv = np.zeros((nnn_pca,5))\n",
    "accuracy_valid_cv = np.zeros((nnn_pca,5))\n",
    "\n",
    "fold_ctr = 0\n",
    "\n",
    "for itrain, ivalid in KFold(n_splits=5, shuffle=True, random_state=9001).split(X_train.index):\n",
    "    # in general though its good for creating consistent psets, don't put seeds into kfold split\n",
    "    X_train_cv = X_train.iloc[itrain,:]\n",
    "    y_train_cv = y_train.iloc[itrain]\n",
    "    X_valid_cv = X_train.iloc[ivalid,:]\n",
    "    y_valid_cv = y_train.iloc[ivalid]\n",
    "    \n",
    "    # pca\n",
    "    pca = PCA()\n",
    "    pca.fit(X_train_cv)\n",
    "    X_train_pca_cv = pca.transform(X_train_cv)\n",
    "    X_valid_pca_cv = pca.transform(X_valid_cv)\n",
    "    \n",
    "    for comp in range(1,nnn_pca+1):\n",
    "        # fit logit\n",
    "        logregcv = LogisticRegression(C=100000, fit_intercept=True)\n",
    "        logregcv.fit(X_train_pca_cv[:,:comp], y_train_cv)\n",
    "        \n",
    "        # get predictions\n",
    "        yhat_train_pca_cv = logregcv.predict(X_train_pca_cv[:,:comp])\n",
    "        yhat_valid_pca_cv = logregcv.predict(X_valid_pca_cv[:,:comp])\n",
    "        \n",
    "        # get accuracy       \n",
    "        accuracy_train_cv[comp-1,fold_ctr] = accuracy_score(y_train_cv, yhat_train_pca_cv)\n",
    "        accuracy_valid_cv[comp-1,fold_ctr] = accuracy_score(y_valid_cv, yhat_valid_pca_cv)\n",
    "        \n",
    "    fold_ctr += 1\n"
   ]
  },
  {
   "cell_type": "code",
   "execution_count": 40,
   "metadata": {
    "collapsed": true
   },
   "outputs": [],
   "source": [
    "scores_train = np.mean(accuracy_train_cv, axis=1)[1:]\n",
    "scores_valid = np.mean(accuracy_valid_cv, axis=1)[1:]\n",
    "best_n = np.argmax(scores_valid)"
   ]
  },
  {
   "cell_type": "code",
   "execution_count": 41,
   "metadata": {},
   "outputs": [
    {
     "name": "stdout",
     "output_type": "stream",
     "text": [
      "The accuracy of best PCA logistic regression on TRAINING DATA is: 1.0\n",
      "The accuracy of best PCA logistic regression on TEST DATA is: 0.9512195121951219\n"
     ]
    }
   ],
   "source": [
    "pca = PCA()\n",
    "pca.fit(X_train)\n",
    "\n",
    "X_train_pca_best = pca.transform(X_train)[:,:best_n]\n",
    "X_test_pca_best = pca.transform(X_test)[:,:best_n]\n",
    "\n",
    "log_regr_pca_best = LogisticRegression(C=100000)\n",
    "log_regr_pca_best.fit(X_train_pca_best, y_train)\n",
    "score_train_log_pca_best = log_regr_pca_best.score(X_train_pca_best, y_train)\n",
    "score_test_log_pca_best = log_regr_pca_best.score(X_test_pca_best, y_test)\n",
    "\n",
    "print(\"The accuracy of best PCA logistic regression on TRAINING DATA is: {}\".format(score_train_log_pca_best))\n",
    "print(\"The accuracy of best PCA logistic regression on TEST DATA is: {}\".format(score_test_log_pca_best))"
   ]
  },
  {
   "cell_type": "code",
   "execution_count": 42,
   "metadata": {},
   "outputs": [
    {
     "data": {
      "text/plain": [
       "<matplotlib.text.Text at 0x1239bd438>"
      ]
     },
     "execution_count": 42,
     "metadata": {},
     "output_type": "execute_result"
    },
    {
     "data": {
      "image/png": "[encoded data removed]",
      "text/plain": [
       "<matplotlib.figure.Figure at 0x1237bd6d8>"
      ]
     },
     "metadata": {},
     "output_type": "display_data"
    }
   ],
   "source": [
    "# visualize probability - CV selected best choice of PCA components (n=4) used \n",
    "fig, ax = plt.subplots(1, 2, figsize=(14, 7))\n",
    "visualize_prob(log_regr_pca_best, X_train_pca_best, y_train, ax[0])\n",
    "visualize_prob(log_regr_pca_best, X_test_pca_best, y_test, ax[1])\n",
    "\n",
    "ax[0].set_title(\"CV selected best PCA logistic model \\n- Training Data\", fontsize=18)\n",
    "ax[1].set_title(\"CV selected best PCA logistic model \\n- Test Data\", fontsize=18)"
   ]
  },
  {
   "cell_type": "markdown",
   "metadata": {},
   "source": [
    "## Answers to Part (e)\n",
    "\n",
    "Fit the model on PCA components mentioned above. How do the classification accuracy values on both the training and tests sets compare with the models fitted in Parts (c) and (d)?\n",
    "\n",
    "> Accuracy on TRAINING set -- \n",
    "- **Part (b1) Simple single gene linear regression: ** 0.71875\n",
    "- **Part (b2) Simple single gene logistic regression:** 0.8292682926829268\n",
    "- **Part (c) Multiple logistic regression with all predictors:** 1.0\n",
    "- **Part (d) Multiple losgistic regression with significant predictors:** 1.0\n",
    "- **Part (e1) PCA explaining ~90% variance logstic regression:** 1.0\n",
    "\n",
    "> Accuracy on TEST set -- \n",
    "- **Part (b1) Simple single gene linear regression: ** 0.71875\n",
    "- **Part (b2) Simple single gene logistic regression:** 0.8292682926829268\n",
    "- **Part (c) Multiple logistic regression with all predictors:** 0.975609756097561\n",
    "- **Part (d) Multiple losgistic regression with significant predictors:** 1.0\n",
    "- **Part (e1) PCA explaining ~90% variance logstic regression:** 0.43902439024390244\n",
    "\n",
    "> **The PCA logistic model performed the same on the training set as models in parts (c) and (d) but performed worst on the test set. This is summarized above. **\n",
    "\n",
    "Re-fit a logistic regression model using 5-fold cross-validation to choose the number of principal components that maximizes accuracy, and comment on whether you get better test performance than the model fitted above (explain your observations).\n",
    "\n",
    "> Accuracy on TRAINING set -- \n",
    "- **Part (e1) PCA explaining ~90% variance logstic regression:** 1.0\n",
    "- **Part (e2) Cross-validated PCA logistic regression:** 0.9375\n",
    "\n",
    "> Accuracy on TEST set -- \n",
    "- **Part (e1) PCA explaining ~90% variance logstic regression:** 0.43902439024390244\n",
    "- **Part (e2) Cross-validated PCA logistic regression:** 0.4878048780487805\n",
    "\n",
    "> **Explanation: The cross-validated model has fewer numer of PCA components (n_component=4) compared to the model that captures at least 90% predictor variance (n_component=24). The former achieved a better test performance because the latter most likely had overfitted the training data.**\n",
    "\n",
    "Use the code provided in Part (c) to visualize the probabilities predicted by the fitted models on both the training and test sets. How does the spread of probabilities in these plots compare to those for the models in Part (c) and (d)?\n",
    "\n",
    ">  ** The trend in the spread of probabilities from the cross-validated PCA model on the training and test sets is the reverse of the trend from the models in Part (c) and (d). The spread of the probabilities from the cross-validated PCA model is higher in the training set compared to the test set while the spread from the models in Part (c) and (d) is higher in the test set compared to the training set.**"
   ]
  },
  {
   "cell_type": "markdown",
   "metadata": {},
   "source": [
    "---"
   ]
  },
  {
   "cell_type": "markdown",
   "metadata": {},
   "source": [
    "# APCOMP209a - Homework Question"
   ]
  },
  {
   "cell_type": "markdown",
   "metadata": {},
   "source": [
    "Suppose we want to conduct PCA on the model matrix $X \\in \\Re^{n×p}$, where the columns have been suitably set to zero mean. In this question, we consider the squared reconstruction error:\n",
    "\n",
    "$$  \\parallel XQ- XQ_m \\parallel ^2 $$\n",
    "\n",
    "for a suitable set of eigenvectors forming the matrix $Q_m$, as discussed below. Suppose that we conduct eigendecomposition of $X^T X$ and obtain eigenvalues $\\lambda_1, \\ldots , \\lambda_p$ and principal components $Q$, i.e.\n",
    "\n",
    "$$ X^T X = Q \\Lambda Q ^T $$\n",
    "\n",
    "(1) Suppose that the matrix norm is simply the squared dot product, namely\n",
    "\n",
    "$$ \\parallel A \\parallel ^2 = A^T A $$\n",
    "\n",
    "Then, express the reconstruction error as a sum of matrix products.\n",
    "\n",
    "\n",
    "### Answer (1) \n",
    "\n",
    "> \\begin{equation}\n",
    "    \\parallel XQ- XQ_m \\parallel ^2 \n",
    "                = (XQ- XQ_m)^T(XQ- XQ_m) \n",
    "                = (Q^TX^T-Q_m^TX^T)(XQ- XQ_m) \n",
    "                = Q^TX^TXQ - Q^TX^TXQ_m - Q_m^TX^TXQ + Q_M^TX^TXQ_m\n",
    " \\end{equation}\n",
    "\n",
    "---\n",
    "\n",
    "(2) Simplify your result from (1) based on properties of the matrices $Q$.\n",
    "\n",
    "\n",
    "### Answer (2) \n",
    "\n",
    "By plugging in $ X^T X = Q \\Lambda Q ^T $, we get\n",
    "\n",
    "> \\begin{equation}\n",
    "    \\parallel XQ- XQ_m \\parallel ^2 \n",
    "                = Q^TQ \\Lambda Q^TQ - Q^TQ \\Lambda Q^TQ_m - Q_m^TQ \\Lambda Q^TQ + Q_m^TQ \\Lambda Q^TQ_m \n",
    "                = \\Lambda - \\Lambda Q^TQ_m - Q_m^TQ \\Lambda + Q_m^TQ \\Lambda Q^TQ_m\n",
    " \\end{equation}\n",
    "\n",
    "---\n",
    "\n",
    "(3) Now let $Q_m$ be the matrix of the first $m < p$ eigenvectors, namely\n",
    "\n",
    "$$ Q_m = (q_1, \\ldots, q_m, 0, \\ldots, 0) \\in \\Re^{p \\times p} $$\n",
    "\n",
    "Thus, $X Q_m$ is the PCA projection of the data into the space spanned by the first $m$ principal components. Express the products $Q^T_m Q$ and $Q^T Q_m$, again using properties of the eigenbasis $q_1, \\ldots, q_p$.\n",
    "\n",
    "\n",
    "### Answer (3) \n",
    "\n",
    "> \\begin{equation}\n",
    "Q^T_m Q = \\begin{bmatrix}\n",
    "q_1^T \\\\\n",
    "\\vdots \\\\\n",
    "q_m^T \\\\\n",
    "0 \\\\\n",
    "\\vdots \\\\\n",
    "0\n",
    "\\end{bmatrix}\n",
    "[q_1 , \\ldots, q_m, q_{m+1}, \\ldots, q_p] \n",
    "= \\begin{bmatrix}\n",
    "\\parallel q_1 \\parallel ^2 & 0 & \\ldots & 0 & \\ldots & 0 \\\\\n",
    "0 & \\parallel q_2 \\parallel ^2 & \\ldots & 0 & \\ldots & 0 \\\\\n",
    "0 & \\ldots & \\ldots & 0 & \\ldots & 0\\\\\n",
    "0 & \\ldots &  \\parallel q_m \\parallel ^2 & 0 & \\ldots & 0 \\\\\n",
    "\\vdots & \\vdots & \\vdots & \\vdots & \\vdots & \\vdots \\\\\n",
    "0 & \\ldots & \\ldots & 0 & \\ldots & 0\n",
    "\\end{bmatrix}\n",
    "= \\begin{bmatrix}\n",
    "1 & 0 & \\ldots & 0 & \\ldots & 0 \\\\\n",
    "0 & 1 & \\ldots & 0 & \\ldots & 0 \\\\\n",
    "0 & \\ldots & \\ldots & 0 & \\ldots & 0\\\\\n",
    "0 & \\ldots &  1 & 0 & \\ldots & 0 \\\\\n",
    "\\vdots & \\vdots & \\vdots & \\vdots & \\vdots & \\vdots \\\\\n",
    "0 & \\ldots & \\ldots & 0 & \\ldots & 0\n",
    "\\end{bmatrix}\n",
    "\\end{equation}\n",
    "\n",
    "\n",
    "> \\begin{equation}\n",
    "Q^T Q_m = \\begin{bmatrix}\n",
    "q_1^T \\\\\n",
    "\\vdots \\\\\n",
    "q_m^T \\\\\n",
    "q_{m+1}^T \\\\\n",
    "\\vdots \\\\\n",
    "q_p^T\n",
    "\\end{bmatrix}\n",
    "[q_1 , \\ldots, q_m, 0, \\ldots, 0] \n",
    "= \\begin{bmatrix}\n",
    "\\parallel q_1 \\parallel ^2 & 0 & \\ldots & 0 & \\ldots & 0 \\\\\n",
    "0 & \\parallel q_2 \\parallel ^2 & \\ldots & 0 & \\ldots & 0 \\\\\n",
    "0 & \\ldots & \\ldots & 0 & \\ldots & 0\\\\\n",
    "0 & \\ldots &  \\parallel q_m \\parallel ^2 & 0 & \\ldots & 0 \\\\\n",
    "\\vdots & \\vdots & \\vdots & \\vdots & \\vdots & \\vdots \\\\\n",
    "0 & \\ldots & \\ldots & 0 & \\ldots & 0\n",
    "\\end{bmatrix}\n",
    "= \\begin{bmatrix}\n",
    "1 & 0 & \\ldots & 0 & \\ldots & 0 \\\\\n",
    "0 & 1 & \\ldots & 0 & \\ldots & 0 \\\\\n",
    "0 & \\ldots & \\ldots & 0 & \\ldots & 0\\\\\n",
    "0 & \\ldots &  1 & 0 & \\ldots & 0 \\\\\n",
    "\\vdots & \\vdots & \\vdots & \\vdots & \\vdots & \\vdots \\\\\n",
    "0 & \\ldots & \\ldots & 0 & \\ldots & 0\n",
    "\\end{bmatrix}\n",
    "\\end{equation}\n",
    "\n",
    "---\n",
    "\n",
    "(4) Use your results from (3) to finally fully simplify your expression from (2).\n",
    "\n",
    "\n",
    "### Answer (4) \n",
    "\n",
    "> Simplified expression from (2):\n",
    "\n",
    "> \\begin{equation}\n",
    "\\parallel XQ- XQ_m \\parallel ^2 \n",
    "= \\begin{bmatrix}\n",
    "\\lambda_1 & 0 & \\ldots & 0 & \\ldots & 0 \\\\\n",
    "0 & \\lambda_2 & \\ldots & 0 & \\ldots & 0 \\\\\n",
    "0 & \\ldots & \\ldots & 0 & \\ldots & 0\\\\\n",
    "0 & \\ldots &  \\lambda_m & 0 & \\ldots & 0 \\\\\n",
    "\\vdots & \\vdots & \\vdots & \\vdots & \\vdots & \\vdots \\\\\n",
    "0 & \\ldots & \\ldots & 0 & \\ldots & \\lambda_p\n",
    "\\end{bmatrix} - \n",
    "2 \\begin{bmatrix}\n",
    "\\lambda_1 & 0 & \\ldots & 0 & \\ldots & 0 \\\\\n",
    "0 & \\lambda_2 & \\ldots & 0 & \\ldots & 0 \\\\\n",
    "0 & \\ldots & \\ldots & 0 & \\ldots & 0\\\\\n",
    "0 & \\ldots &  \\lambda_m & 0 & \\ldots & 0 \\\\\n",
    "\\vdots & \\vdots & \\vdots & \\vdots & \\vdots & \\vdots \\\\\n",
    "0 & \\ldots & \\ldots & 0 & \\ldots & 0\n",
    "\\end{bmatrix} +\n",
    "\\begin{bmatrix}\n",
    "\\lambda_1 & 0 & \\ldots & 0 & \\ldots & 0 \\\\\n",
    "0 & \\lambda_2 & \\ldots & 0 & \\ldots & 0 \\\\\n",
    "0 & \\ldots & \\ldots & 0 & \\ldots & 0\\\\\n",
    "0 & \\ldots &  \\lambda_m & 0 & \\ldots & 0 \\\\\n",
    "\\vdots & \\vdots & \\vdots & \\vdots & \\vdots & \\vdots \\\\\n",
    "0 & \\ldots & \\ldots & 0 & \\ldots & 0\n",
    "\\end{bmatrix} \\\\\n",
    "= \\begin{bmatrix}\n",
    "0 & \\ldots & 0 & 0 & \\ldots & 0 \\\\\n",
    "\\vdots & \\quad & \\vdots & \\vdots & \\quad & \\vdots \\\\\n",
    "0 & \\ldots & 0 & 0 & \\ldots & 0 \\\\\n",
    "0 & \\ldots & 0 & \\lambda_{m+1} & \\ldots & 0 \\\\\n",
    "\\vdots & \\quad & \\vdots & \\vdots & \\quad & \\vdots \\\\\n",
    "0 & \\ldots & 0 & 0 & \\ldots & \\lambda_p\n",
    "\\end{bmatrix}\n",
    "\\end{equation}\n",
    "\n",
    "---\n",
    "\n",
    "(5) Note that the result you obtain should still be a matrix, i.e. this does not define a proper norm on the space of matrices (since the value should be a scalar). Consequently, the true matrix norm is actually the trace of the\n",
    "above result, namely\n",
    "\n",
    "$$ \\parallel A \\parallel ^2  = {\\rm trace} (A^T A) $$\n",
    "Use your result from (4) and this new definition to find a simple expression\n",
    "for the reconstruction error in terms of the eigenvalues.\n",
    "\n",
    "\n",
    "### Answer (5) \n",
    "\n",
    "> By the new definition of matrix norm using its trace, we can express the reconstruction error norm as:\n",
    "\n",
    "> \\begin{equation}\n",
    "\\parallel XQ- XQ_m \\parallel ^2 = trace[(XQ- XQ_m)^T(XQ- XQ_m)]\n",
    "= \\Sigma_{i=m+1}^p \\lambda_i\n",
    "\\end{equation}\n",
    "\n",
    "---\n",
    "\n",
    "(6) Interpret your result from (5). In light of your results, does our procedure for PCA (selecting the $m$ substantially larger eigenvalues) make sense? Why or why not?\n",
    "\n",
    "### Answer (6)\n",
    "\n",
    "> Giving reconstruction error $ = \\Sigma_{i=m+1}^p \\lambda_i$, PCA ignores the non-significant covariance terms from the $(m+1)^{th}$ and onwards. It make sense since the error is nothing more than the $p-m$ least significant eigenvalues.\n"
   ]
  },
  {
   "cell_type": "code",
   "execution_count": null,
   "metadata": {
    "collapsed": true
   },
   "outputs": [],
   "source": []
  }
 ],
 "metadata": {
  "anaconda-cloud": {},
  "kernelspec": {
   "display_name": "Python 3",
   "language": "python",
   "name": "python3"
  },
  "language_info": {
   "codemirror_mode": {
    "name": "ipython",
    "version": 3
   },
   "file_extension": ".py",
   "mimetype": "text/x-python",
   "name": "python",
   "nbconvert_exporter": "python",
   "pygments_lexer": "ipython3",
   "version": "3.6.1"
  }
 },
 "nbformat": 4,
 "nbformat_minor": 1
}
