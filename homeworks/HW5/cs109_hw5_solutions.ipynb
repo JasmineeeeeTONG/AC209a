{
 "cells": [
  {
   "cell_type": "markdown",
   "metadata": {},
   "source": [
    "# CS 109A/STAT 121A/AC 209A/CSCI E-109A: Homework 5 Solutions\n",
    "# Logistic Regression and PCA \n",
    "\n",
    "**Harvard University**<br/>\n",
    "**Fall 2017**<br/>\n",
    "**Instructors**: Pavlos Protopapas, Kevin Rader, Rahul Dave, Margo Levine\n",
    "\n",
    "---\n",
    "\n",
    "### INSTRUCTIONS\n",
    "\n",
    "- To submit your assignment follow the instructions given in canvas.\n",
    "- Restart the kernel and run the whole notebook again before you submit. \n",
    "- Do not include your name(s) in the notebook if you are submitting as a group. \n",
    "- If you submit individually and you have worked with someone, please include the name of your [one] partner below. \n",
    "\n",
    "---"
   ]
  },
  {
   "cell_type": "markdown",
   "metadata": {},
   "source": [
    "Your partner's name (if you submit separately):\n",
    "\n",
    "Enrollment Status (109A, 121A, 209A, or E109A):"
   ]
  },
  {
   "cell_type": "markdown",
   "metadata": {},
   "source": [
    "Import libraries:"
   ]
  },
  {
   "cell_type": "code",
   "execution_count": 1,
   "metadata": {},
   "outputs": [
    {
     "name": "stderr",
     "output_type": "stream",
     "text": [
      "/Users/jasminetong/anaconda/lib/python3.6/site-packages/statsmodels/compat/pandas.py:56: FutureWarning: The pandas.core.datetools module is deprecated and will be removed in a future version. Please use the pandas.tseries module instead.\n",
      "  from pandas.core import datetools\n"
     ]
    }
   ],
   "source": [
    "import numpy as np\n",
    "import pandas as pd\n",
    "import matplotlib\n",
    "import matplotlib.pyplot as plt\n",
    "import statsmodels.api as sm\n",
    "from statsmodels.api import OLS\n",
    "from sklearn.decomposition import PCA\n",
    "from sklearn.linear_model import LogisticRegression\n",
    "from sklearn.linear_model import LogisticRegressionCV\n",
    "from sklearn.utils import resample\n",
    "from sklearn.model_selection import cross_val_score\n",
    "from sklearn.metrics import accuracy_score\n",
    "%matplotlib inline\n",
    "import seaborn.apionly as sns\n"
   ]
  },
  {
   "cell_type": "markdown",
   "metadata": {},
   "source": [
    "## Cancer Classification from Gene Expressions\n",
    "\n",
    "In this homework assignment, we will build a classification model to distinguish between two related classes of cancer, acute lymphoblastic leukemia (ALL) and acute myeloid leukemia (AML), using gene expression measurements. The data set is provided in the file `dataset_hw5.csv`. Each row in this file corresponds to a tumor tissue sample from a patient with one of the two forms of Leukemia. The first column contains the cancer type, with 0 indicating the ALL class and 1 indicating the AML class. Columns 2-7130 contain expression levels of 7129 genes recorded from each tissue sample. \n",
    "\n",
    "In the following parts, we will use logistic regression to build a classification model for this data set. We will also use principal components analysis (PCA) to visualize the data and to reduce its dimensions. \n",
    "\n"
   ]
  },
  {
   "cell_type": "markdown",
   "metadata": {},
   "source": [
    "## Part (a): Data Exploration\n",
    "\n",
    "1. First step is to  split  the observations into an approximate 50-50 train-test split.  Below is some code to do this for you (we want to make sure everyone has the same splits).\n",
    "\n",
    "2. Take a peak at your training set: you should notice the severe differences in the measurements from one gene to the next (some are negative, some hover around zero, and some are well into the thousands).  To account for these differences in scale and variability, normalize each predictor to vary between 0 and 1.\n",
    "\n",
    "3. Notice that the results training set contains more predictors than observations. Do you foresee a problem in fitting a classification model to such a data set?\n",
    "\n",
    "4. A convenient tool to visualize the gene expression data is a heat map. Arrange the rows of the training set so that the 'AML' rows are grouped together and the 'ALL' rows are together. Generate a heat map of the data with expression values from the following genes: \n",
    "`D49818_at`, `M23161_at`, `hum_alu_at`, `AFFX-PheX-5_at`, `M15990_at`. By observing the heat map, comment on which of these genes are useful in discriminating between the two classes.\n",
    "\n",
    "5. We can also visualize this data set in two dimensions using PCA. Find the top two principal components for the gene expression data. Generate a scatter plot using these principal components, highlighting the AML and ALL points in different colors. How well do the top two principal components discriminate between the two classes?\n",
    "\n"
   ]
  },
  {
   "cell_type": "code",
   "execution_count": 2,
   "metadata": {
    "collapsed": true
   },
   "outputs": [],
   "source": [
    "np.random.seed(9001)\n",
    "df = pd.read_csv('dataset_hw5.csv')\n",
    "msk = np.random.rand(len(df)) < 0.5\n",
    "data_train = df[msk]\n",
    "data_test = df[~msk]"
   ]
  },
  {
   "cell_type": "markdown",
   "metadata": {},
   "source": [
    "#### 2. Normalize predictors to vary between 0 and 1"
   ]
  },
  {
   "cell_type": "code",
   "execution_count": 3,
   "metadata": {
    "collapsed": true
   },
   "outputs": [],
   "source": [
    "NORMALIZATION_STRATEGY = 1 # choose 0 for [0,1] scaling, choose 1 for (x-mu)/sd\n",
    "\n",
    "def normalize_columns_strat0(X, X_min, X_max):\n",
    "    return (X-X_min)/(X_max-X_min)\n",
    "\n",
    "def normalize_columns_strat1(X, X_mu, X_sd):\n",
    "    return (X-X_mu)/X_sd\n",
    "\n",
    "if NORMALIZATION_STRATEGY==1:\n",
    "    X_mu = np.append(0,np.mean(data_train,axis=0)[1:])\n",
    "    X_sd = np.append(1,np.std(data_train,axis=0)[1:])\n",
    "    data_train = normalize_columns_strat1(X=data_train, X_mu=X_mu, X_sd=X_sd)\n",
    "    data_test = normalize_columns_strat1(X=data_test, X_mu=X_mu, X_sd=X_sd)\n",
    "    assert np.allclose(np.mean(data_train,axis=0)[1:],0)\n",
    "else:\n",
    "    X_min = np.min(data_train,axis=0)\n",
    "    X_max = np.max(data_train,axis=0)\n",
    "    data_train = normalize_columns_strat0(X=data_train, X_min=X_min, X_max=X_max)\n",
    "    data_test = normalize_columns_strat0(X=data_test, X_min=X_min, X_max=X_max)   \n",
    "    assert np.max(data_train.values)==1 and np.min(data_train.values)==0\n",
    "    "
   ]
  },
  {
   "cell_type": "markdown",
   "metadata": {},
   "source": [
    "#### 3. Notice that the results training set contains more predictors than observations. Do you foresee a problem in fitting a classification model to such a data set?"
   ]
  },
  {
   "cell_type": "code",
   "execution_count": 4,
   "metadata": {},
   "outputs": [
    {
     "data": {
      "text/plain": [
       "(32, 7130)"
      ]
     },
     "execution_count": 4,
     "metadata": {},
     "output_type": "execute_result"
    }
   ],
   "source": [
    "data_train.shape"
   ]
  },
  {
   "cell_type": "markdown",
   "metadata": {},
   "source": [
    "* With many more predictors than observations, the model is grossly underidentified/underdetermined. \n",
    "* We risk finding spurious relationships between predictors and response."
   ]
  },
  {
   "cell_type": "markdown",
   "metadata": {},
   "source": [
    "#### 4. By observing the heat map, comment on which of these genes are useful in discriminating between the two classes."
   ]
  },
  {
   "cell_type": "code",
   "execution_count": 5,
   "metadata": {},
   "outputs": [
    {
     "data": {
      "text/plain": [
       "<matplotlib.axes._subplots.AxesSubplot at 0x11624cb70>"
      ]
     },
     "execution_count": 5,
     "metadata": {},
     "output_type": "execute_result"
    },
    {
     "data": {
      "image/png": "[encoded data removed]",
      "text/plain": [
       "<matplotlib.figure.Figure at 0x11625b470>"
      ]
     },
     "metadata": {},
     "output_type": "display_data"
    }
   ],
   "source": [
    "cols_of_interest = [\"Cancer_type\",\"D49818_at\", \"M23161_at\", \"hum_alu_at\", \"AFFX-PheX-5_at\", \"M15990_at\"]\n",
    "heat_df = data_train[cols_of_interest]\n",
    "heat_df = heat_df.sort_values(by=[\"Cancer_type\"])\n",
    "sns.heatmap(heat_df)"
   ]
  },
  {
   "cell_type": "markdown",
   "metadata": {},
   "source": [
    "* Kind of busy! Try examining genes individually."
   ]
  },
  {
   "cell_type": "code",
   "execution_count": 6,
   "metadata": {},
   "outputs": [
    {
     "data": {
      "image/png": "[encoded data removed]",
      "text/plain": [
       "<matplotlib.figure.Figure at 0x116cf6160>"
      ]
     },
     "metadata": {},
     "output_type": "display_data"
    }
   ],
   "source": [
    "plt.figure(figsize=(10,4))\n",
    "for i, col in enumerate(cols_of_interest[1:]):\n",
    "    heat_df = heat_df.sort_values(by=[\"Cancer_type\",col])\n",
    "    if NORMALIZATION_STRATEGY==1:\n",
    "        heat_df.loc[heat_df[\"Cancer_type\"]==0,\"Cancer_type\"] = -3.5\n",
    "        heat_df.loc[heat_df[\"Cancer_type\"]==1,\"Cancer_type\"] = 3.5\n",
    "    plt.subplot(1,5,i+1)\n",
    "    if i<4:\n",
    "        sns.heatmap(heat_df[[\"Cancer_type\",col]], cbar=False)\n",
    "    else:\n",
    "        sns.heatmap(heat_df[[\"Cancer_type\",col]], cbar=True)\n",
    "    plt.yticks([])\n"
   ]
  },
  {
   "cell_type": "markdown",
   "metadata": {},
   "source": [
    "* If the distribution of expression levels differs when Cancer_type=0 vs when Cancer_type=1, we argue that that gene may be useful in discriminating between cancer types.\n",
    "* The distributions of gene expression for this subset look very similar across cancer types. M23161_at seems the most promising of the bunch."
   ]
  },
  {
   "cell_type": "markdown",
   "metadata": {},
   "source": [
    "#### 5. Find the top two principal components for the gene expression data. Generate a scatter plot using these principal components, highlighting the AML and ALL points in different colors ..."
   ]
  },
  {
   "cell_type": "code",
   "execution_count": 7,
   "metadata": {},
   "outputs": [
    {
     "name": "stdout",
     "output_type": "stream",
     "text": [
      "first two principal components explained variance ratio = 0.280\n"
     ]
    },
    {
     "data": {
      "image/png": "[encoded data removed]",
      "text/plain": [
       "<matplotlib.figure.Figure at 0x11be95ac8>"
      ]
     },
     "metadata": {},
     "output_type": "display_data"
    }
   ],
   "source": [
    "# split out target variable\n",
    "X_train = data_train.iloc[:,1:]\n",
    "y_train = data_train.iloc[:,0]\n",
    "X_test = data_test.iloc[:,1:]\n",
    "y_test = data_test.iloc[:,0]\n",
    "\n",
    "# pca\n",
    "pca = PCA(n_components=2)\n",
    "pca.fit(X_train)\n",
    "X_train_pca = pca.transform(X_train)\n",
    "print(\"first two principal components explained variance ratio = %0.3f\" % np.sum(pca.explained_variance_ratio_))\n",
    "\n",
    "# scatter plot\n",
    "X_train_pca_df = pd.DataFrame(X_train_pca, columns=[\"pca1\", \"pca2\"])\n",
    "X_train_pca_df[\"Cancer_type\"] = y_train.values\n",
    "sns.lmplot(x=\"pca1\", \n",
    "           y=\"pca2\", \n",
    "           hue=\"Cancer_type\", \n",
    "           data=X_train_pca_df, \n",
    "           fit_reg=False, \n",
    "           legend=False, \n",
    "           palette='bwr')\n",
    "plt.legend();\n",
    "\n",
    "# add a manual eyeballed decision boundary\n",
    "# eyeball_decision = lambda x: -1-0.65*x \n",
    "# xToPlot = np.linspace(-60,60,100)\n",
    "# plt.plot(xToPlot, \n",
    "#          [eyeball_decision(x) for x in xToPlot], \n",
    "#          ls='--', \n",
    "#          color='black',\n",
    "#          label=\"eyeballed linear decision boundary\")\n",
    "# plt.xlim([min(X_train_pca[:,0])+1, max(X_train_pca[:,0])+1])\n",
    "# plt.ylim([min(X_train_pca[:,1])+1, max(X_train_pca[:,1])+1])\n"
   ]
  },
  {
   "cell_type": "markdown",
   "metadata": {},
   "source": [
    "#### ... How well do the top two principal components discriminate between the two classes?"
   ]
  },
  {
   "cell_type": "markdown",
   "metadata": {},
   "source": [
    "* It's difficult to draw a decision boundary (even a non-linear one) that perfectly separates red from blue points. However, there’s clearly some useful info in these two components in terms of creating a classifier."
   ]
  },
  {
   "cell_type": "markdown",
   "metadata": {},
   "source": [
    "## Part (b): Linear Regression vs. Logistic Regression\n",
    "\n",
    "Begin by analyzing the differences between using linear regression and logistic regression for classification. For this part, you shall work with a single gene predictor: `M23161_at`.\n",
    "\n",
    "1. Fit a simple linear regression model to the training set using the single gene predictor `D29963_at`. We could interpret the scores predicted by regression model interpreted for a patient as an estimate of the probability that the patient has the `ALL` type cancer (class 1). Is there a problem with this interpretation?\n",
    "\n",
    "2. The fitted linear regression model can be converted to a classification model (i.e. a model that predicts one of two binary labels 0 or 1) by classifying patients with predicted score greater than 0.5 into the `ALL` type (class 1), and the others into the `AML` type (class 0). Evaluate the classification accuracy (1 - misclassification rate) of the obtained classification model on both the training and test sets.\n",
    "\n",
    "3. Next, fit a simple logistic regression model to the training set. How does the training and test calssification accuracy of this model compare with the linear regression model?  Remember, you need to set the regularization parameter for sklearn's logistic regression function to be a very large value in order not to regularize (use 'C=100000').\n",
    "\n",
    "4. Plot the quantitative output from linear regression model and the probabilistic output from the logistic regression model (on the training set points) as a function of the gene predictor. Also, display the true binary response for the training set points in the same plot.\n",
    "Based on these plots, does one of the models appear better suited for binary classification than the other? Explain.\n",
    "\n"
   ]
  },
  {
   "cell_type": "markdown",
   "metadata": {},
   "source": [
    "#### 1. Fit a simple linear regression model to the training set using the single gene predictor `D29963_at` ..."
   ]
  },
  {
   "cell_type": "code",
   "execution_count": 8,
   "metadata": {},
   "outputs": [
    {
     "data": {
      "text/html": [
       "<table class=\"simpletable\">\n",
       "<caption>OLS Regression Results</caption>\n",
       "<tr>\n",
       "  <th>Dep. Variable:</th>       <td>Cancer_type</td>   <th>  R-squared:         </th> <td>   0.100</td>\n",
       "</tr>\n",
       "<tr>\n",
       "  <th>Model:</th>                   <td>OLS</td>       <th>  Adj. R-squared:    </th> <td>   0.070</td>\n",
       "</tr>\n",
       "<tr>\n",
       "  <th>Method:</th>             <td>Least Squares</td>  <th>  F-statistic:       </th> <td>   3.346</td>\n",
       "</tr>\n",
       "<tr>\n",
       "  <th>Date:</th>             <td>Wed, 01 Nov 2017</td> <th>  Prob (F-statistic):</th>  <td>0.0773</td> \n",
       "</tr>\n",
       "<tr>\n",
       "  <th>Time:</th>                 <td>23:38:37</td>     <th>  Log-Likelihood:    </th> <td> -20.501</td>\n",
       "</tr>\n",
       "<tr>\n",
       "  <th>No. Observations:</th>      <td>    32</td>      <th>  AIC:               </th> <td>   45.00</td>\n",
       "</tr>\n",
       "<tr>\n",
       "  <th>Df Residuals:</th>          <td>    30</td>      <th>  BIC:               </th> <td>   47.93</td>\n",
       "</tr>\n",
       "<tr>\n",
       "  <th>Df Model:</th>              <td>     1</td>      <th>                     </th>     <td> </td>   \n",
       "</tr>\n",
       "<tr>\n",
       "  <th>Covariance Type:</th>      <td>nonrobust</td>    <th>                     </th>     <td> </td>   \n",
       "</tr>\n",
       "</table>\n",
       "<table class=\"simpletable\">\n",
       "<tr>\n",
       "      <td></td>         <th>coef</th>     <th>std err</th>      <th>t</th>      <th>P>|t|</th>  <th>[0.025</th>    <th>0.975]</th>  \n",
       "</tr>\n",
       "<tr>\n",
       "  <th>const</th>     <td>    0.3750</td> <td>    0.084</td> <td>    4.473</td> <td> 0.000</td> <td>    0.204</td> <td>    0.546</td>\n",
       "</tr>\n",
       "<tr>\n",
       "  <th>D29963_at</th> <td>    0.1534</td> <td>    0.084</td> <td>    1.829</td> <td> 0.077</td> <td>   -0.018</td> <td>    0.325</td>\n",
       "</tr>\n",
       "</table>\n",
       "<table class=\"simpletable\">\n",
       "<tr>\n",
       "  <th>Omnibus:</th>       <td>14.047</td> <th>  Durbin-Watson:     </th> <td>   0.443</td>\n",
       "</tr>\n",
       "<tr>\n",
       "  <th>Prob(Omnibus):</th> <td> 0.001</td> <th>  Jarque-Bera (JB):  </th> <td>   3.932</td>\n",
       "</tr>\n",
       "<tr>\n",
       "  <th>Skew:</th>          <td> 0.498</td> <th>  Prob(JB):          </th> <td>   0.140</td>\n",
       "</tr>\n",
       "<tr>\n",
       "  <th>Kurtosis:</th>      <td> 1.601</td> <th>  Cond. No.          </th> <td>    1.00</td>\n",
       "</tr>\n",
       "</table>"
      ],
      "text/plain": [
       "<class 'statsmodels.iolib.summary.Summary'>\n",
       "\"\"\"\n",
       "                            OLS Regression Results                            \n",
       "==============================================================================\n",
       "Dep. Variable:            Cancer_type   R-squared:                       0.100\n",
       "Model:                            OLS   Adj. R-squared:                  0.070\n",
       "Method:                 Least Squares   F-statistic:                     3.346\n",
       "Date:                Wed, 01 Nov 2017   Prob (F-statistic):             0.0773\n",
       "Time:                        23:38:37   Log-Likelihood:                -20.501\n",
       "No. Observations:                  32   AIC:                             45.00\n",
       "Df Residuals:                      30   BIC:                             47.93\n",
       "Df Model:                           1                                         \n",
       "Covariance Type:            nonrobust                                         \n",
       "==============================================================================\n",
       "                 coef    std err          t      P>|t|      [0.025      0.975]\n",
       "------------------------------------------------------------------------------\n",
       "const          0.3750      0.084      4.473      0.000       0.204       0.546\n",
       "D29963_at      0.1534      0.084      1.829      0.077      -0.018       0.325\n",
       "==============================================================================\n",
       "Omnibus:                       14.047   Durbin-Watson:                   0.443\n",
       "Prob(Omnibus):                  0.001   Jarque-Bera (JB):                3.932\n",
       "Skew:                           0.498   Prob(JB):                        0.140\n",
       "Kurtosis:                       1.601   Cond. No.                         1.00\n",
       "==============================================================================\n",
       "\n",
       "Warnings:\n",
       "[1] Standard Errors assume that the covariance matrix of the errors is correctly specified.\n",
       "\"\"\""
      ]
     },
     "execution_count": 8,
     "metadata": {},
     "output_type": "execute_result"
    }
   ],
   "source": [
    "# add column to house intercept\n",
    "X_train_wcons = sm.add_constant(X_train[[\"D29963_at\"]])\n",
    "X_test_wcons = sm.add_constant(X_test[[\"D29963_at\"]])\n",
    "\n",
    "# fit\n",
    "ols = OLS(endog=y_train, exog=X_train_wcons).fit()\n",
    "ols.summary()"
   ]
  },
  {
   "cell_type": "markdown",
   "metadata": {},
   "source": [
    "#### ... We could interpret the scores predicted by regression model interpreted for a patient as an estimate of the probability that the patient has the ALL type cancer (class 1). Is there a problem with this interpretation?"
   ]
  },
  {
   "cell_type": "markdown",
   "metadata": {},
   "source": [
    "* A simple ols model may yield predictions outside [0,1], which are not valid probabilities. "
   ]
  },
  {
   "cell_type": "markdown",
   "metadata": {},
   "source": [
    "#### 2. Evaluate the classification accuracy (1 - misclassification rate) of the obtained classification model on both the training and test sets."
   ]
  },
  {
   "cell_type": "code",
   "execution_count": 9,
   "metadata": {},
   "outputs": [
    {
     "name": "stdout",
     "output_type": "stream",
     "text": [
      "ols single predictor accuracy in train = 0.719\n",
      "ols single predictor accuracy in test = 0.829\n"
     ]
    }
   ],
   "source": [
    "# predictions\n",
    "y_hat_ols_train = ols.predict(X_train_wcons)\n",
    "y_hat_ols_test = ols.predict(X_test_wcons)\n",
    "\n",
    "# accuracy\n",
    "print(\"ols single predictor accuracy in train = %0.3f\" % accuracy_score(y_train, y_hat_ols_train>0.5))\n",
    "print(\"ols single predictor accuracy in test = %0.3f\" % accuracy_score(y_test, y_hat_ols_test>0.5))"
   ]
  },
  {
   "cell_type": "markdown",
   "metadata": {},
   "source": [
    "#### 3. Next, fit a simple logistic regression model to the training set. ..."
   ]
  },
  {
   "cell_type": "code",
   "execution_count": 10,
   "metadata": {},
   "outputs": [
    {
     "data": {
      "text/plain": [
       "LogisticRegression(C=100000, class_weight=None, dual=False,\n",
       "          fit_intercept=False, intercept_scaling=1, max_iter=100,\n",
       "          multi_class='ovr', n_jobs=1, penalty='l2', random_state=None,\n",
       "          solver='liblinear', tol=0.0001, verbose=0, warm_start=False)"
      ]
     },
     "execution_count": 10,
     "metadata": {},
     "output_type": "execute_result"
    }
   ],
   "source": [
    "logreg = LogisticRegression(C=100000, fit_intercept=False)\n",
    "logreg.fit(X_train_wcons, y_train)\n"
   ]
  },
  {
   "cell_type": "markdown",
   "metadata": {},
   "source": [
    "#### ... How does the training and test calssification accuracy of this model compare with the linear regression model?"
   ]
  },
  {
   "cell_type": "code",
   "execution_count": 11,
   "metadata": {
    "scrolled": true
   },
   "outputs": [
    {
     "name": "stdout",
     "output_type": "stream",
     "text": [
      "logit single predictor accuracy in train = 0.719\n",
      "logit single predictor accuracy in test = 0.829\n"
     ]
    }
   ],
   "source": [
    "y_hat_logreg_train = logreg.predict_proba(X_train_wcons)[:,1]\n",
    "y_hat_logreg_test = logreg.predict_proba(X_test_wcons)[:,1]\n",
    "\n",
    "# accuracy\n",
    "print(\"logit single predictor accuracy in train = %0.3f\" % accuracy_score(y_train, y_hat_logreg_train>0.5))\n",
    "print(\"logit single predictor accuracy in test = %0.3f\" % accuracy_score(y_test, y_hat_logreg_test>0.5))"
   ]
  },
  {
   "cell_type": "markdown",
   "metadata": {},
   "source": [
    "* Logistic regression yields slightl better accuracy on train (0.78) but logit does better in test (0.805 vs 0.78).\n",
    "\n",
    "* Note, by “accuracy” here, we just mean the percentage of y_train observations that are perfectly predicted by our model. \n",
    "* It’s not really needed for a two-class problem like this, but we can also calculate recall and precision for our logit classifier: "
   ]
  },
  {
   "cell_type": "code",
   "execution_count": 12,
   "metadata": {},
   "outputs": [
    {
     "name": "stdout",
     "output_type": "stream",
     "text": [
      "             precision    recall  f1-score   support\n",
      "\n",
      "        0.0       0.70      0.95      0.81        20\n",
      "        1.0       0.80      0.33      0.47        12\n",
      "\n",
      "avg / total       0.74      0.72      0.68        32\n",
      "\n"
     ]
    }
   ],
   "source": [
    "from sklearn.metrics import classification_report\n",
    "print(classification_report(y_train, y_hat_ols_train>0.5))"
   ]
  },
  {
   "cell_type": "markdown",
   "metadata": {},
   "source": [
    "#### 4. Plot the quantitative output from linear regression model and the probabilistic output from the logistic regression model (on the training set points) as a function of the gene predictor. Also, display the true binary response for the training set points in the same plot. ..."
   ]
  },
  {
   "cell_type": "code",
   "execution_count": 13,
   "metadata": {},
   "outputs": [
    {
     "data": {
      "text/plain": [
       "<matplotlib.legend.Legend at 0x11db2acc0>"
      ]
     },
     "execution_count": 13,
     "metadata": {},
     "output_type": "execute_result"
    },
    {
     "data": {
      "image/png": "[encoded data removed]",
      "text/plain": [
       "<matplotlib.figure.Figure at 0x11dac43c8>"
      ]
     },
     "metadata": {},
     "output_type": "display_data"
    }
   ],
   "source": [
    "plt.scatter(X_train[[\"D29963_at\"]], y_hat_ols_train, label=\"ols\", c='blue', alpha=0.5, edgecolor='none', s=40)\n",
    "plt.scatter(X_train[[\"D29963_at\"]], y_hat_logreg_train, label=\"logreg\", c='red', alpha=0.5, edgecolor='none', s=40)\n",
    "plt.scatter(X_train[[\"D29963_at\"]], y_train, label=\"Cancer_type\", c='black', alpha=0.5, edgecolor='none', s=40)\n",
    "plt.title(\"Training\")\n",
    "plt.ylabel(\"predicted probability / true y\")\n",
    "plt.xlabel(\"D29963_at\")\n",
    "if NORMALIZATION_STRATEGY==0:\n",
    "    plt.xlim([-0.1,1.1])\n",
    "    plt.ylim([-0.1,1.1])\n",
    "plt.legend(bbox_to_anchor=(1.4,1))"
   ]
  },
  {
   "cell_type": "markdown",
   "metadata": {},
   "source": [
    "#### ... Based on these plots, does one of the models appear better suited for binary classification than the other? Explain."
   ]
  },
  {
   "cell_type": "markdown",
   "metadata": {},
   "source": [
    "* Both ols and logistic regression appear to yield similar predicted probabilities. \n",
    "* So based on this figure, no one model appears preferable to the other."
   ]
  },
  {
   "cell_type": "markdown",
   "metadata": {},
   "source": [
    "## Part (c): Multiple Logistic Regression\n",
    "\n",
    "1. Next, fit a multiple logistic regression model with all the gene predictors from the data set.  How does the classification accuracy of this model compare with the models fitted in Part (b) with a single gene (on both the training and test sets)?  \n",
    "\n",
    "2. \"Use the `visualize_prob` from `HW5_functions.py` to visualize the probabilties predicted by the fitted multiple logistic regression model on both the training and test data sets. The function creates a visualization that places the data points on a vertical line based on the predicted probabilities, with the `ALL` and `AML` classes shown in different colors, and with the 0.5 threshold highlighted using a dotted horizontal line.  Is there a difference in the spread of probabilities in the training and test plots? Are there data points for which the predicted probability is close to 0.5? If so, what can you say about these points?\""
   ]
  },
  {
   "cell_type": "code",
   "execution_count": 14,
   "metadata": {
    "collapsed": true
   },
   "outputs": [],
   "source": [
    "# starter code\n",
    "from HW5_functions import visualize_prob"
   ]
  },
  {
   "cell_type": "code",
   "execution_count": 14,
   "metadata": {
    "collapsed": true
   },
   "outputs": [],
   "source": [
    "def visualize_prob(model, x, y, ax, jitter=True):\n",
    "    # Use the model to predict probabilities for\n",
    "    y_pred = model.predict_proba(x)\n",
    "    \n",
    "    # Separate the predictions on the label 1 and label 0 points\n",
    "    ypos = y_pred[np.where(y==1)]\n",
    "    yneg = y_pred[np.where(y==0)]\n",
    "    \n",
    "    # Count the number of label 1 and label 0 points\n",
    "    npos = ypos.shape[0]\n",
    "    nneg = yneg.shape[0]\n",
    "    \n",
    "    # Plot the probabilities on a vertical line at x = 0, \n",
    "    # with the positive points in blue and negative points in red\n",
    "    if jitter==False:\n",
    "        pos_handle = ax.plot(np.zeros((npos,1)), ypos[:,1], 'bo', label = 'ALL')\n",
    "        neg_handle = ax.plot(np.zeros((nneg,1)), yneg[:,1], 'ro', label = 'AML')\n",
    "    else:\n",
    "        pos_handle = ax.plot(np.random.normal(loc=0, scale=0.05, size=npos), ypos[:,1], 'bx', label = 'ALL')\n",
    "        neg_handle = ax.plot(np.random.normal(loc=0, scale=0.05, size=nneg), yneg[:,1], 'o', label = 'AML', mfc='none', mec='r')\n",
    "    \n",
    "    # Line to mark prob 0.5\n",
    "    ax.axhline(y = 0.5, color = 'k', linestyle = '--')\n",
    "    \n",
    "    # Add y-label and legend, do not display x-axis, set y-axis limit\n",
    "    ax.set_ylabel('Probability of AML class')\n",
    "    ax.legend(loc = 'best')\n",
    "    ax.get_xaxis().set_visible(False)\n",
    "    ax.set_ylim([0,1])\n",
    "    ax.set_xlim([-1,1])"
   ]
  },
  {
   "cell_type": "markdown",
   "metadata": {},
   "source": [
    "#### 1. Next, fit a multiple logistic regression model with all the gene predictors from the data set. ..."
   ]
  },
  {
   "cell_type": "code",
   "execution_count": 15,
   "metadata": {},
   "outputs": [
    {
     "data": {
      "text/plain": [
       "LogisticRegression(C=100000, class_weight=None, dual=False,\n",
       "          fit_intercept=False, intercept_scaling=1, max_iter=100,\n",
       "          multi_class='ovr', n_jobs=1, penalty='l2', random_state=None,\n",
       "          solver='liblinear', tol=0.0001, verbose=0, warm_start=False)"
      ]
     },
     "execution_count": 15,
     "metadata": {},
     "output_type": "execute_result"
    }
   ],
   "source": [
    "logregmul = LogisticRegression(C=100000, fit_intercept=False)\n",
    "X_train_mul_wcons = sm.add_constant(X_train)\n",
    "X_test_mul_wcons = sm.add_constant(X_test)\n",
    "logregmul.fit(X_train_mul_wcons, y_train)\n"
   ]
  },
  {
   "cell_type": "markdown",
   "metadata": {},
   "source": [
    "#### ... How does the classification accuracy of this model compare with the models fitted in Part (b) with a single gene (on both the training and test sets)?"
   ]
  },
  {
   "cell_type": "code",
   "execution_count": 16,
   "metadata": {},
   "outputs": [
    {
     "name": "stdout",
     "output_type": "stream",
     "text": [
      "logit all predictors accuracy in train = 1.000\n",
      "logit all predictors accuracy in test = 0.976\n"
     ]
    }
   ],
   "source": [
    "y_hat_logregmul_train = logregmul.predict_proba(X_train_mul_wcons)[:,1]\n",
    "y_hat_logregmul_test = logregmul.predict_proba(X_test_mul_wcons)[:,1]\n",
    "\n",
    "# accuracy\n",
    "print(\"logit all predictors accuracy in train = %0.3f\" % accuracy_score(y_train, y_hat_logregmul_train>0.5))\n",
    "print(\"logit all predictors accuracy in test = %0.3f\" % accuracy_score(y_test, y_hat_logregmul_test>0.5))\n"
   ]
  },
  {
   "cell_type": "markdown",
   "metadata": {},
   "source": [
    "* accuracy in both training (1.00) and test (0.927) improves considerably with all genes vs a single gene."
   ]
  },
  {
   "cell_type": "markdown",
   "metadata": {},
   "source": [
    "#### 2. \"Use the visualize_prob from HW5_functions.py to visualize the probabilties predicted by the fitted multiple logistic regression model on both the training and test data sets. ... "
   ]
  },
  {
   "cell_type": "code",
   "execution_count": 17,
   "metadata": {},
   "outputs": [
    {
     "data": {
      "image/png": "[encoded data removed]",
      "text/plain": [
       "<matplotlib.figure.Figure at 0x11db83668>"
      ]
     },
     "metadata": {},
     "output_type": "display_data"
    }
   ],
   "source": [
    "# set jitter = False to get results without modification\n",
    "f, (ax1, ax2) = plt.subplots(1, 2)\n",
    "visualize_prob(\n",
    "    model=logregmul,\n",
    "    x=X_train_mul_wcons,\n",
    "    y=y_train,\n",
    "    ax=ax1,\n",
    "    jitter=True\n",
    ")\n",
    "ax1.set_title(\"TRAIN\")\n",
    "visualize_prob(\n",
    "    model=logregmul,\n",
    "    x=X_test_mul_wcons,\n",
    "    y=y_test,\n",
    "    ax=ax2,\n",
    "    jitter=True\n",
    ")\n",
    "ax2.set_title(\"TEST\")\n",
    "plt.tight_layout()"
   ]
  },
  {
   "cell_type": "markdown",
   "metadata": {},
   "source": [
    "#### ... Is there a difference in the spread of probabilities in the training and test plots? Are there data points for which the predicted probability is close to 0.5? If so, what can you say about these points?\""
   ]
  },
  {
   "cell_type": "markdown",
   "metadata": {},
   "source": [
    "* In training the probabilities are either 1 or 0. In test probabilities a handful of predicted probabilities fall closer to 0.5. \n",
    "* For these points, we are unsure if we should predict $\\hat{y}=0$ or $\\hat{y}=1$.\n",
    "* Furthermore, we can see one ALL case in test which a Bayes classifier would wrongly predict to be AML."
   ]
  },
  {
   "cell_type": "markdown",
   "metadata": {},
   "source": [
    "## Part (d): Analyzing Significance of Coefficients\n",
    "\n",
    "How many of the coefficients estimated by the multiple logistic regression in the previous problem are significantly different from zero at a *significance level of 95%*? \n",
    "\n",
    "Hint: To answer this question, use *bootstrapping* with 100 boostrap samples/iterations.  \n",
    "\n"
   ]
  },
  {
   "cell_type": "code",
   "execution_count": 18,
   "metadata": {
    "collapsed": true
   },
   "outputs": [],
   "source": [
    "b_genes = logregmul.coef_[0]"
   ]
  },
  {
   "cell_type": "code",
   "execution_count": 19,
   "metadata": {
    "collapsed": true
   },
   "outputs": [],
   "source": [
    "iterations = 100\n",
    "\n",
    "b_genes_boot = np.zeros((X_train_mul_wcons.shape[1],100))\n",
    "\n",
    "for i in range(iterations):\n",
    "    # sample with replacement from X_train\n",
    "    boot_rows = np.random.choice(range(X_train_mul_wcons.shape[0]), size=X_train_mul_wcons.shape[0], replace=True)\n",
    "    X_train_boot = X_train_mul_wcons.values[boot_rows]\n",
    "    y_train_boot = y_train.values[boot_rows]\n",
    "\n",
    "    # fit\n",
    "    logregmul_boot = LogisticRegression(C=100000, fit_intercept=False)\n",
    "    logregmul_boot.fit(X_train_boot, y_train_boot)\n",
    "    b_genes_boot[:,i] = logregmul_boot.coef_\n"
   ]
  },
  {
   "cell_type": "code",
   "execution_count": 21,
   "metadata": {},
   "outputs": [
    {
     "data": {
      "text/plain": [
       "((7130,), (7130,), 7130)"
      ]
     },
     "execution_count": 21,
     "metadata": {},
     "output_type": "execute_result"
    }
   ],
   "source": [
    "# construct confidence intervals\n",
    "b_genes_ci_upper = np.percentile(b_genes_boot, 97.5, axis=1)\n",
    "b_genes_ci_lower = np.percentile(b_genes_boot, 2.5, axis=1)\n",
    "b_genes_ci_upper.shape, b_genes_ci_lower.shape, X_train_mul_wcons.shape[1]"
   ]
  },
  {
   "cell_type": "code",
   "execution_count": 22,
   "metadata": {},
   "outputs": [
    {
     "name": "stdout",
     "output_type": "stream",
     "text": [
      "Significant coefficents at 5pct level = 1402 / 7130\n"
     ]
    }
   ],
   "source": [
    "# ct significant predictors\n",
    "sig_b_ct = 0\n",
    "\n",
    "# if ci contains 0, then insignificant\n",
    "for i in range(X_train_mul_wcons.shape[1]):\n",
    "    if b_genes_ci_upper[i]<0 or b_genes_ci_lower[i]>0:\n",
    "        sig_b_ct += 1\n",
    "\n",
    "print(\"Significant coefficents at 5pct level = %i / %i\" % (sig_b_ct, X_train_mul_wcons.shape[1]))"
   ]
  },
  {
   "cell_type": "code",
   "execution_count": 23,
   "metadata": {},
   "outputs": [
    {
     "data": {
      "text/plain": [
       "<matplotlib.legend.Legend at 0x11bea0278>"
      ]
     },
     "execution_count": 23,
     "metadata": {},
     "output_type": "execute_result"
    },
    {
     "data": {
      "image/png": "[encoded data removed]",
      "text/plain": [
       "<matplotlib.figure.Figure at 0x116d755f8>"
      ]
     },
     "metadata": {},
     "output_type": "display_data"
    }
   ],
   "source": [
    "# this plot is not asked for; just for illustration\n",
    "# to generate a dataframe of the significant predictors only\n",
    "sig_b = []\n",
    "\n",
    "# if ci contains 0, then insignificant\n",
    "for i in range(X_train_mul_wcons.shape[1]):\n",
    "    if b_genes_ci_upper[i]<0 or b_genes_ci_lower[i]>0:\n",
    "        row={}\n",
    "        row[\"gene\"] = X_train_mul_wcons.columns[i]\n",
    "        row[\"coef\"] = b_genes[i]\n",
    "        row[\"CI 2.5\"] = b_genes_ci_lower[i]\n",
    "        row[\"CI 97.5\"] = b_genes_ci_upper[i]\n",
    "        sig_b.append(row)\n",
    "    \n",
    "sig_b_df = pd.DataFrame(sig_b)\n",
    "sig_b_df = sig_b_df.sort_values(\"coef\", ascending=False)\n",
    "sig_b_df[[\"gene\",\"coef\",\"CI 2.5\",\"CI 97.5\"]].head()\n",
    "\n",
    "# plot\n",
    "plt.figure(figsize=(14,5))\n",
    "plt.errorbar(range(sig_b_df.shape[0]), \n",
    "             0.5*sig_b_df[\"CI 97.5\"]+0.5*sig_b_df[\"CI 2.5\"], \n",
    "             yerr=0.5*(sig_b_df[\"CI 97.5\"]-sig_b_df[\"coef\"])+0.5*(sig_b_df[\"coef\"]-sig_b_df[\"CI 2.5\"]),\n",
    "             fmt='.',\n",
    "             marker=None,\n",
    "             elinewidth=0.05,\n",
    "             label=\"95% CI\"\n",
    "         )\n",
    "plt.scatter(range(sig_b_df.shape[0]), sig_b_df[\"coef\"], color='red', label=\"coef_est\", marker='.')\n",
    "plt.xlim((0,sig_b_df.shape[0]))\n",
    "plt.xlabel(\"predictor\")\n",
    "plt.ylabel(\"Coef value\")\n",
    "plt.legend()"
   ]
  },
  {
   "cell_type": "markdown",
   "metadata": {},
   "source": [
    "## Part (e): Dimensionality Reduction using PCA\n",
    "\n",
    "A reasonable approach to reduce the dimensionality of the data is to use PCA and fit a logistic regression model on the first set of principal components contributing to 90% of the variance in the predictors.\n",
    "\n",
    "1. How do the classification accuracy values on both the training and tests sets compare with the models fitted in Parts (c) and (d)?  \n",
    "\n",
    "2. Re-fit a logistic regression model using 5-fold cross-validation to choose the number of principal components, and comment on whether you get better test performance than the model fitted above (explain your observations). \n",
    "\n",
    "3. Use the code provided in Part (c) to visualize the probabilities predicted by the fitted models on both the training and test sets. How does the spread of probabilities in these plots compare to those for the models in Part (c) and (d)? \n"
   ]
  },
  {
   "cell_type": "markdown",
   "metadata": {},
   "source": [
    "#### 0. A reasonable approach to reduce the dimensionality of the data is to use PCA and fit a logistic regression model on the first set of principal components contributing to 90% of the variance in the predictors."
   ]
  },
  {
   "cell_type": "code",
   "execution_count": 24,
   "metadata": {},
   "outputs": [
    {
     "data": {
      "image/png": "[encoded data removed]",
      "text/plain": [
       "<matplotlib.figure.Figure at 0x11bf75e80>"
      ]
     },
     "metadata": {},
     "output_type": "display_data"
    }
   ],
   "source": [
    "pca = PCA()\n",
    "pca.fit(X_train)\n",
    "var_c = np.cumsum(pca.explained_variance_ratio_)\n",
    "\n",
    "plt.plot(range(len(var_c)), var_c)\n",
    "plt.axhline(0.9,ls='--',color='red')\n",
    "plt.xlabel(\"pca components\")\n",
    "plt.ylabel(\"cumulative variance explained\");"
   ]
  },
  {
   "cell_type": "code",
   "execution_count": 25,
   "metadata": {},
   "outputs": [
    {
     "name": "stdout",
     "output_type": "stream",
     "text": [
      "the first 23 components explain 0.911 of variance\n"
     ]
    }
   ],
   "source": [
    "n_components_pca = np.sum(var_c<0.9)\n",
    "print(\"the first %i components explain %0.3f of variance\" % (n_components_pca, var_c[n_components_pca]))\n",
    "\n",
    "X_train_pca = pca.transform(X_train)[:,:n_components_pca]\n",
    "X_test_pca = pca.transform(X_test)[:,:n_components_pca]"
   ]
  },
  {
   "cell_type": "code",
   "execution_count": 31,
   "metadata": {},
   "outputs": [
    {
     "data": {
      "text/plain": [
       "((32, 26), (41, 26))"
      ]
     },
     "execution_count": 31,
     "metadata": {},
     "output_type": "execute_result"
    }
   ],
   "source": [
    "pca.transform(X_train).shape, pca.transform(X_test).shape"
   ]
  },
  {
   "cell_type": "code",
   "execution_count": 26,
   "metadata": {
    "collapsed": true
   },
   "outputs": [],
   "source": [
    "logregpca = LogisticRegression(C=100000, fit_intercept=True)\n",
    "logregpca.fit(X_train_pca, y_train)\n",
    "y_hat_pca_train = logregpca.predict_proba(X_train_pca)[:,1]\n",
    "y_hat_pca_test = logregpca.predict_proba(X_test_pca)[:,1]\n"
   ]
  },
  {
   "cell_type": "markdown",
   "metadata": {},
   "source": [
    "#### 1. How do the classification accuracy values on both the training and tests sets compare with the models fitted in Parts (c) and (d)?"
   ]
  },
  {
   "cell_type": "code",
   "execution_count": 27,
   "metadata": {},
   "outputs": [
    {
     "name": "stdout",
     "output_type": "stream",
     "text": [
      "pca 90pct + logit accuracy in train = 1.000\n",
      "pca 90pct + logit accuracy in test = 0.951\n"
     ]
    }
   ],
   "source": [
    "# accuracy\n",
    "print(\"pca 90pct + logit accuracy in train = %0.3f\" % accuracy_score(y_train, y_hat_pca_train>0.5))\n",
    "print(\"pca 90pct + logit accuracy in test = %0.3f\" % accuracy_score(y_test, y_hat_pca_test>0.5))\n"
   ]
  },
  {
   "cell_type": "markdown",
   "metadata": {},
   "source": [
    "* The accuracy in train and test is identical for pca + logreg vs logreg"
   ]
  },
  {
   "cell_type": "markdown",
   "metadata": {},
   "source": [
    "#### 2. Re-fit a logistic regression model using 5-fold cross-validation to choose the number of principal components, ... \n"
   ]
  },
  {
   "cell_type": "code",
   "execution_count": 28,
   "metadata": {
    "collapsed": true
   },
   "outputs": [],
   "source": [
    "from sklearn.model_selection import KFold"
   ]
  },
  {
   "cell_type": "code",
   "execution_count": 32,
   "metadata": {},
   "outputs": [
    {
     "name": "stdout",
     "output_type": "stream",
     "text": [
      "X_train_pca_cv.shape = (25, 25)\n",
      "X_train_pca_cv.shape = (25, 25)\n",
      "X_train_pca_cv.shape = (26, 26)\n",
      "X_train_pca_cv.shape = (26, 26)\n",
      "X_train_pca_cv.shape = (26, 26)\n"
     ]
    }
   ],
   "source": [
    "accuracy_train_cv = np.zeros((25,5))\n",
    "accuracy_valid_cv = np.zeros((25,5))\n",
    "\n",
    "fold_ctr = 0\n",
    "\n",
    "for itrain, ivalid in KFold(n_splits=5, shuffle=True, random_state=9001).split(X_train.index):\n",
    "    # in general though its good for creating consistent psets, don't put seeds into kfold\n",
    "    # split\n",
    "    X_train_cv = X_train.iloc[itrain,:]\n",
    "    y_train_cv = y_train.iloc[itrain]\n",
    "    X_valid_cv = X_train.iloc[ivalid,:]\n",
    "    y_valid_cv = y_train.iloc[ivalid]\n",
    "    \n",
    "    # pca\n",
    "    pca = PCA()\n",
    "    pca.fit(X_train_cv)\n",
    "    X_train_pca_cv = pca.transform(X_train_cv)\n",
    "    X_valid_pca_cv = pca.transform(X_valid_cv)\n",
    "    print('X_train_pca_cv.shape = {}'.format(X_train_pca_cv.shape))\n",
    "    \n",
    "    for comp in range(1,25):\n",
    "        # fit logit\n",
    "        logregcv = LogisticRegression(C=100000, fit_intercept=True)\n",
    "        logregcv.fit(X_train_pca_cv[:,:comp], y_train_cv)\n",
    "        \n",
    "        # get predictions\n",
    "        yhat_train_pca_cv = logregcv.predict(X_train_pca_cv[:,:comp])\n",
    "        yhat_valid_pca_cv = logregcv.predict(X_valid_pca_cv[:,:comp])\n",
    "        \n",
    "        # get accuracy       \n",
    "        accuracy_train_cv[comp,fold_ctr] = accuracy_score(y_train_cv, yhat_train_pca_cv)\n",
    "        accuracy_valid_cv[comp,fold_ctr] = accuracy_score(y_valid_cv, yhat_valid_pca_cv)\n",
    "        \n",
    "    fold_ctr += 1\n"
   ]
  },
  {
   "cell_type": "code",
   "execution_count": 33,
   "metadata": {},
   "outputs": [
    {
     "data": {
      "text/plain": [
       "<matplotlib.legend.Legend at 0x116d63208>"
      ]
     },
     "execution_count": 33,
     "metadata": {},
     "output_type": "execute_result"
    },
    {
     "data": {
      "image/png": "[encoded data removed]",
      "text/plain": [
       "<matplotlib.figure.Figure at 0x116dc3a20>"
      ]
     },
     "metadata": {},
     "output_type": "display_data"
    }
   ],
   "source": [
    "scores_train = np.mean(accuracy_train_cv, axis=1)[1:]\n",
    "upp_train = scores_train + np.std(accuracy_train_cv, axis=1)[1:] # this doesn't constrain accuracy to be less than 1\n",
    "low_train = scores_train - np.std(accuracy_train_cv, axis=1)[1:]\n",
    "plt.plot(range(1,25), scores_train, color='blue', label='train')\n",
    "plt.fill_between(range(1,25), low_train, upp_train, alpha=0.3);\n",
    "\n",
    "scores_valid = np.mean(accuracy_valid_cv, axis=1)[1:]\n",
    "upp_valid = scores_valid + np.std(accuracy_valid_cv, axis=1)[1:]\n",
    "low_valid = scores_valid - np.std(accuracy_valid_cv, axis=1)[1:]\n",
    "plt.plot(range(1,25), scores_valid, color='red', label='valid')\n",
    "plt.fill_between(range(1,25), low_valid, upp_valid, alpha=0.3, color='red')\n",
    "plt.plot(range(1,25), np.mean(accuracy_valid_cv, axis=1)[1:], color='red')\n",
    "\n",
    "plt.xlabel(\"pca components\")\n",
    "plt.ylabel(\"accuracy\")\n",
    "plt.legend(loc=4)"
   ]
  },
  {
   "cell_type": "code",
   "execution_count": 35,
   "metadata": {},
   "outputs": [
    {
     "data": {
      "text/plain": [
       "array([ 0.61661538,  0.64923077,  0.87538462,  0.97661538,  1.        ,\n",
       "        1.        ,  1.        ,  1.        ,  1.        ,  1.        ,\n",
       "        1.        ,  1.        ,  1.        ,  1.        ,  1.        ,\n",
       "        1.        ,  1.        ,  1.        ,  1.        ,  1.        ,\n",
       "        1.        ,  1.        ,  1.        ,  1.        ])"
      ]
     },
     "execution_count": 35,
     "metadata": {},
     "output_type": "execute_result"
    }
   ],
   "source": [
    "scores_train"
   ]
  },
  {
   "cell_type": "code",
   "execution_count": 38,
   "metadata": {},
   "outputs": [
    {
     "data": {
      "text/plain": [
       "13"
      ]
     },
     "execution_count": 38,
     "metadata": {},
     "output_type": "execute_result"
    }
   ],
   "source": [
    "np.argmax(scores_valid)"
   ]
  },
  {
   "cell_type": "code",
   "execution_count": 34,
   "metadata": {},
   "outputs": [
    {
     "name": "stdout",
     "output_type": "stream",
     "text": [
      "maximum validation accuracy using 14 pca components\n"
     ]
    }
   ],
   "source": [
    "# choose optimum as smallest number of components \"sufficiently\" close to maximum validation accuracy\n",
    "for i in range(len(scores_valid)):\n",
    "    if np.max(scores_valid)-scores_valid[i]<0.002:\n",
    "        n_components_optimal=i+1\n",
    "        break\n",
    "\n",
    "print(\"maximum validation accuracy using %i pca components\" % n_components_optimal)\n"
   ]
  },
  {
   "cell_type": "code",
   "execution_count": 39,
   "metadata": {
    "collapsed": true
   },
   "outputs": [],
   "source": [
    "logregpcacv = LogisticRegression(C=100000, fit_intercept=True)\n",
    "logregpcacv.fit(X_train_pca[:,:n_components_optimal], y_train)\n",
    "y_hat_pcacv_train = logregpcacv.predict_proba(X_train_pca[:,:n_components_optimal])[:,1]\n",
    "y_hat_pcacv_test = logregpcacv.predict_proba(X_test_pca[:,:n_components_optimal])[:,1]\n"
   ]
  },
  {
   "cell_type": "code",
   "execution_count": 40,
   "metadata": {},
   "outputs": [
    {
     "name": "stdout",
     "output_type": "stream",
     "text": [
      "pca cv + logit accuracy in train = 1.000\n",
      "pca cv + logit accuracy in test = 0.951\n"
     ]
    }
   ],
   "source": [
    "# accuracy\n",
    "print(\"pca cv + logit accuracy in train = %0.3f\" % accuracy_score(y_train, y_hat_pcacv_train>0.5))\n",
    "print(\"pca cv + logit accuracy in test = %0.3f\" % accuracy_score(y_test, y_hat_pcacv_test>0.5))\n"
   ]
  },
  {
   "cell_type": "markdown",
   "metadata": {},
   "source": [
    "#### ... and comment on whether you get better test performance than the model fitted above (explain your observations)."
   ]
  },
  {
   "cell_type": "markdown",
   "metadata": {},
   "source": [
    "* By running CV to choose the optimal number of components we get marginally worse performance on the test set."
   ]
  },
  {
   "cell_type": "markdown",
   "metadata": {},
   "source": [
    "#### 3. Use the code provided in Part (c) to visualize the probabilities predicted by the fitted models on both the training and test sets. ..."
   ]
  },
  {
   "cell_type": "code",
   "execution_count": 34,
   "metadata": {},
   "outputs": [
    {
     "data": {
      "image/png": "[encoded data removed]",
      "text/plain": [
       "<matplotlib.figure.Figure at 0x7f7fd8091320>"
      ]
     },
     "metadata": {},
     "output_type": "display_data"
    }
   ],
   "source": [
    "f, (ax1, ax2) = plt.subplots(1, 2)\n",
    "visualize_prob(\n",
    "    model=logregpcacv,\n",
    "    x=X_train_pca[:,:n_components_optimal],\n",
    "    y=y_train,\n",
    "    ax=ax1,\n",
    "    jitter=True\n",
    ")\n",
    "ax1.set_title(\"TRAIN\")\n",
    "visualize_prob(\n",
    "    model=logregpcacv,\n",
    "    x=X_test_pca[:,:n_components_optimal],\n",
    "    y=y_test,\n",
    "    ax=ax2,\n",
    "    jitter=True\n",
    ")\n",
    "ax2.set_title(\"TEST\")\n",
    "plt.tight_layout()"
   ]
  },
  {
   "cell_type": "markdown",
   "metadata": {},
   "source": [
    "#### ... How does the spread of probabilities in these plots compare to those for the models in Part (c) and (d)?"
   ]
  },
  {
   "cell_type": "markdown",
   "metadata": {},
   "source": [
    "* With the all-predictor logit model we risk finding spurious relationships between predictors and response.\n",
    "* Using PCA we hope to find some lower dimensional representation of our predictors that retains our predictive power but hopefully is less vulnerable to overfitting. \n",
    "* In training, the pca+logit model is still able to exactly distinguish between ALL and AML. However we see our performance has not improved in test (by Bayes classifier, 2 AML cases would be misclassified as ALL and we still have a case where predicted probability of AML is very close to 0.5)."
   ]
  },
  {
   "cell_type": "markdown",
   "metadata": {},
   "source": [
    "---\n",
    " "
   ]
  },
  {
   "cell_type": "markdown",
   "metadata": {},
   "source": [
    "# APCOMP209a - Homework Question"
   ]
  },
  {
   "cell_type": "markdown",
   "metadata": {},
   "source": [
    "Suppose we want to conduct PCA on the model matrix $X \\in \\Re^{n×p}$, where the columns have been suitably set to zero mean. In this question, we consider the squared reconstruction error:\n",
    "\n",
    "$$  \\parallel XQ- XQ_m \\parallel ^2 $$\n",
    "\n",
    "for a suitable set of eigenvectors forming the matrix $Q_m$, as discussed below. Suppose that we conduct eigendecomposition of $X^T X$ and obtain eigenvalues $\\lambda_1, \\ldots , \\lambda_p$ and principal components $Q$, i.e.\n",
    "\n",
    "$$ X^T X = Q \\Lambda Q ^T $$\n",
    "\n",
    "**(1) Suppose that the matrix norm is simply the squared dot product, namely**\n",
    "\n",
    "$$ \\parallel A \\parallel ^2 = A^T A $$\n",
    "\n",
    "Then, express the reconstruction error as a sum of matrix products."
   ]
  },
  {
   "cell_type": "markdown",
   "metadata": {},
   "source": [
    "**Solution**\n",
    "\n",
    "$$\n",
    "\\begin{align}\n",
    "\\parallel XQ-XQ_m \\parallel ^2 &= (XQ-XQ_m)^T (XQ-XQ_m) \\\\\n",
    "&= (Q^TX^T-Q_m^TX^T) (XQ-XQ_m) \\\\\n",
    "&= Q^TX^TXQ - Q^TX^TXQ_m - Q_m^TX^TXQ + Q_m^TX^TXQ_m \\\\\n",
    "&= Q^TX^TXQ - 2Q^TX^TXQ_m + Q_m^TX^TXQ_m\n",
    "\\end{align}\n",
    "$$"
   ]
  },
  {
   "cell_type": "markdown",
   "metadata": {},
   "source": [
    "**(2) Simplify your result from (1) based on properties of the matrices $Q$.**"
   ]
  },
  {
   "cell_type": "markdown",
   "metadata": {},
   "source": [
    "**Solution**\n",
    "\n",
    "$$\n",
    "\\begin{align}\n",
    "\\parallel XQ-XQ_m \\parallel ^2 &= Q^TX^TXQ - 2Q^TX^TXQ_m + Q_m^TX^TXQ_m \n",
    "\\end{align}\n",
    "$$\n",
    "\n",
    "Sub in: $X^TX = Q\\Lambda Q^T$.\n",
    "\n",
    "$$\n",
    "\\begin{align}\n",
    "&= Q^TQ\\Lambda Q^TQ - 2Q^TQ\\Lambda Q^TQ_m + Q_m^TQ\\Lambda Q^TQ_m\n",
    "\\end{align}\n",
    "$$\n",
    "\n",
    "$Q$ is an orthogonal matrix so $Q^T=Q^{-1}$.\n",
    "\n",
    "$$\n",
    "\\begin{align}\n",
    "&= \\Lambda - 2\\Lambda Q^TQ_m + Q^T_mQ \\Lambda Q^T Q_m\n",
    "\\end{align}\n",
    "$$\n"
   ]
  },
  {
   "cell_type": "markdown",
   "metadata": {},
   "source": [
    "**(3) Now let $Q_m$ be the matrix of the first $m < p$ eigenvectors, namely**\n",
    "\n",
    "$$ Q_m = (q_1, \\ldots, q_m, 0, \\ldots, 0) \\in \\Re^{p \\times p} $$\n",
    "\n",
    "Thus, $X Q_m$ is the PCA projection of the data into the space spanned by the first $m$ principal components. Express the products $Q^T_m Q$ and $Q^T Q_m$, again using properties of the eigenbasis $q_1, \\ldots, q_p$."
   ]
  },
  {
   "cell_type": "markdown",
   "metadata": {},
   "source": [
    "**Solution**\n",
    "\n",
    "By the orthogonality of the vectors in $Q$:\n",
    "\n",
    "$$\n",
    "Q^TQ_m = Q_m^TQ = I_{mp} \n",
    "$$\n",
    "\n",
    "where $I_{mp}$ is the identity matrix for the first $m$ rows and columns, and is 0 otherwise."
   ]
  },
  {
   "cell_type": "markdown",
   "metadata": {},
   "source": [
    "**(4) Use your results from (3) to finally fully simplify your expression from (2).**"
   ]
  },
  {
   "cell_type": "markdown",
   "metadata": {},
   "source": [
    "**Solution**\n",
    "\n",
    "$$\n",
    "\\begin{align}\n",
    "\\parallel XQ-XQ_m \\parallel ^2 &= \\Lambda - 2\\Lambda Q^TQ_m + Q^T_mQ \\Lambda Q^T Q_m \\\\\n",
    "&= \\Lambda - 2\\Lambda I_{mp} + I_{mp} \\Lambda I_{mp} \\\\\n",
    "&= \\Lambda - 2\\Lambda_{mp} + \\Lambda_{mp} \\\\\n",
    "&= \\Lambda - \\Lambda_{mp} \\\\\n",
    "\\end{align}\n",
    "$$\n",
    "\n",
    "where $\\Lambda_{mp}$ is the diagonal matrix of the first $m$ eigenvalues, and is 0 otherwise. "
   ]
  },
  {
   "cell_type": "markdown",
   "metadata": {},
   "source": [
    "**(5) Note that the result you obtain should still be a matrix, i.e. this does not define a proper norm on the space of matrices (since the value should be a scalar). Consequently, the true matrix norm is actually the trace of the\n",
    "above result, namely**\n",
    "\n",
    "$$ \\parallel A \\parallel ^2  = {\\rm trace} (A^T A) $$\n",
    "Use your result from (4) and this new definition to find a simple expression\n",
    "for the reconstruction error in terms of the eigenvalues."
   ]
  },
  {
   "cell_type": "markdown",
   "metadata": {},
   "source": [
    "**Solution**\n",
    "\n",
    "$$\n",
    "\\begin{align}\n",
    "\\parallel XQ-XQ_m \\parallel ^2 &= \\text{trace} (\\Lambda - \\Lambda_{mp}) \\\\\n",
    "&= \\sum_{i=m+1}^p \\lambda_i\n",
    "\\end{align}\n",
    "$$"
   ]
  },
  {
   "cell_type": "markdown",
   "metadata": {},
   "source": [
    "**(6) Interpret your result from (5). In light of your results, does our procedure for PCA (selecting the $m$ substantially larger eigenvalues) make sense? Why or why not?**"
   ]
  },
  {
   "cell_type": "markdown",
   "metadata": {
    "collapsed": true
   },
   "source": [
    "**Solution**\n",
    "\n",
    "* Reconstruction error is the sum of the eigenvalues of the components not selected during PCA.\n",
    "* Our procedure of selecting the $m$ largest eigenvalues is equivalent to failing to select the smallest eigenvalues and thereby minimizes reconstruction error."
   ]
  }
 ],
 "metadata": {
  "anaconda-cloud": {},
  "kernelspec": {
   "display_name": "Python 3",
   "language": "python",
   "name": "python3"
  },
  "language_info": {
   "codemirror_mode": {
    "name": "ipython",
    "version": 3
   },
   "file_extension": ".py",
   "mimetype": "text/x-python",
   "name": "python",
   "nbconvert_exporter": "python",
   "pygments_lexer": "ipython3",
   "version": "3.6.1"
  }
 },
 "nbformat": 4,
 "nbformat_minor": 1
}
