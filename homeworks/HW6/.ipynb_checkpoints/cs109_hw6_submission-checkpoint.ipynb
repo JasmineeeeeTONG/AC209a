{
 "cells": [
  {
   "cell_type": "markdown",
   "metadata": {},
   "source": [
    "# CS 109A/STAT 121A/AC 209A/CSCI E-109A: Homework 6\n",
    "# Reg-Logistic Regression, ROC, and Data Imputation\n",
    "\n",
    "**Harvard University**<br/>\n",
    "**Fall 2017**<br/>\n",
    "**Instructors**: Pavlos Protopapas, Kevin Rader, Rahul Dave, Margo Levine\n",
    "\n",
    "---\n",
    "\n",
    "### INSTRUCTIONS\n",
    "\n",
    "- To submit your assignment follow the instructions given in canvas.\n",
    "- Restart the kernel and run the whole notebook again before you submit. \n",
    "- Do not include your name(s) in the notebook if you are submitting as a group. \n",
    "- If you submit individually and you have worked with someone, please include the name of your [one] partner below. \n",
    "\n",
    "---"
   ]
  },
  {
   "cell_type": "markdown",
   "metadata": {},
   "source": [
    "Your partner's name (if you submit separately): **Chia Chi Ho (Michelle Ho)**\n",
    "\n",
    "Enrollment Status (109A, 121A, 209A, or E109A): **209A**"
   ]
  },
  {
   "cell_type": "markdown",
   "metadata": {},
   "source": [
    "Import libraries:"
   ]
  },
  {
   "cell_type": "code",
   "execution_count": 1,
   "metadata": {
    "collapsed": true
   },
   "outputs": [],
   "source": [
    "import time\n",
    "import numpy as np\n",
    "import pandas as pd\n",
    "import matplotlib\n",
    "import matplotlib.pyplot as plt\n",
    "import seaborn.apionly as sns\n",
    "from sklearn.metrics import mean_squared_error\n",
    "from sklearn.linear_model import LinearRegression\n",
    "from sklearn.linear_model import LogisticRegressionCV\n",
    "from sklearn.neighbors import KNeighborsRegressor\n",
    "import sklearn.metrics as metrics\n",
    "from sklearn.metrics import confusion_matrix\n",
    "from sklearn.preprocessing import PolynomialFeatures\n",
    "from sklearn.discriminant_analysis import LinearDiscriminantAnalysis\n",
    "from sklearn.discriminant_analysis import QuadraticDiscriminantAnalysis\n",
    "from sklearn.neighbors import KNeighborsClassifier\n",
    "from sklearn.tree import DecisionTreeClassifier\n",
    "from sklearn.model_selection import cross_val_score\n",
    "from sklearn.metrics import accuracy_score\n",
    "\n",
    "from sklearn.tree import export_graphviz\n",
    "from IPython.display import Image\n",
    "from IPython.display import display\n",
    "%matplotlib inline"
   ]
  },
  {
   "cell_type": "markdown",
   "metadata": {},
   "source": [
    "## Automated Breast Cancer Detection\n",
    "\n",
    "In this homework, we will consider the problem of early breast cancer detection from X-ray images. Specifically, given a candidate region of interest (ROI) from an X-ray image of a patient's breast, the goal is to predict if the region corresponds to a malignant tumor (label 1) or is normal (label 0). The training and test data sets for this problem is provided in the file `hw6_dataset.csv`. Each row in these files corresponds to a ROI in a patient's X-ray, with columns 1-117 containing features computed using standard image processing algorithms. The last column contains the class label, and is based on a radiologist's opinion or a biopsy. This data was obtained from the KDD Cup 2008 challenge.\n",
    "\n",
    "The data set contain a total of 69,098 candidate ROIs, of which only 409 are malignant, while the remaining are all normal. \n",
    "\n",
    "*Note*: be careful of reading/treating column names and row names in this data set."
   ]
  },
  {
   "cell_type": "markdown",
   "metadata": {},
   "source": [
    "## Question 1: Beyond Classification Accuracy\n",
    "\n",
    "\n",
    "0.  Split the data set into a training set and a testing set.  The training set should be 75% of the original data set, and the testing set 25%.  Use `np.random.seed(9001)`.\n",
    "\n",
    "1. Fit a logistic regression classifier to the training set and report the  accuracy of the classifier on the test set. You should use $L_2$ regularization in logistic regression, with the regularization parameter tuned using cross-validation. \n",
    "    1. How does the fitted model compare with a classifier that predicts 'normal' (label 0) on all patients? \n",
    "    2. Do you think the difference in the classification accuracies are large enough to declare logistic regression as a better classifier than the all 0's classifier? Why or why not?\n",
    "    \n",
    "For applications with imbalanced class labels, in this case when there are many more healthy subjects ($Y=0$) than those with cancer ($Y=1$), the classification accuracy may not be the best metric to evaluate a classifier's performance. As an alternative, we could analyze the confusion table for the classifier. \n",
    "\n",
    "<ol start=\"3\">\n",
    "<li> Compute the confusion table for both the fitted classifier and the classifier that predicts all 0's.</li>\n",
    "<li> Using the entries of the confusion table compute the *true positive rate* and the *true negative rate* for the two classifiers. Explain what these evaluation metrics mean for the specific task of cancer detection. Based on the observed metrics, comment on whether the fitted model is better than the all 0's classifier.</li>\n",
    "<li> What is the *false positive rate* of the fitted classifier, and how is it related to its true positive and true negative rate? Why is a classifier with high false positive rate undesirable for a cancer detection task?</li>\n",
    "</ol>\n",
    "*Hint:* You may use the `metrics.confusion_matrix` function to compute the confusion matrix for a classification model."
   ]
  },
  {
   "cell_type": "code",
   "execution_count": 2,
   "metadata": {
    "collapsed": true
   },
   "outputs": [],
   "source": [
    "# Split data into TRAINING (default 0.75) & TEST set\n",
    "def split_hw6_data(df, n=117, seed=9001, train_size=0.75): # Use seed=9001 each time\n",
    "    np.random.seed(seed)\n",
    "    msk = np.random.rand(len(df)) < train_size\n",
    "    data_train = df[msk]\n",
    "    data_test = df[~msk]\n",
    "    \n",
    "    X_train = data_train.iloc[:, :n]\n",
    "    X_test = data_test.iloc[:, :n]\n",
    "    y_train = data_train.iloc[:, n]\n",
    "    y_test = data_test.iloc[:, n]\n",
    "    \n",
    "    print('X_train.shape={} \\nX_test.shape={} \\ny_train.shape={} \\ny_test=shape{}'.format(X_train.shape, X_test.shape, y_train.shape, y_test.shape))\n",
    "    \n",
    "    return (X_train, X_test, y_train, y_test)"
   ]
  },
  {
   "cell_type": "code",
   "execution_count": 3,
   "metadata": {
    "collapsed": true
   },
   "outputs": [],
   "source": [
    "def model_summary(name, test_acc, cm):\n",
    "    print('===================================')\n",
    "    print('{}'.format(name))\n",
    "    print('-----------------------------------')\n",
    "    print('Accuracy - Test: {}'.format(test_acc))\n",
    "    print('Confusion Matrix:')\n",
    "    print(cm)\n",
    "    print('True Positive Rate: {}'.format(cm[1,1]/(cm[1,0]+cm[1,1])))\n",
    "    print('True Negative Rate: {}'.format(cm[0,0]/(cm[0,0]+cm[0,1])))\n",
    "    print('False Positive Rate: {}'.format(cm[0,1]/(cm[0,0]+cm[0,1])))\n",
    "    print('===================================')"
   ]
  },
  {
   "cell_type": "code",
   "execution_count": 4,
   "metadata": {},
   "outputs": [
    {
     "name": "stdout",
     "output_type": "stream",
     "text": [
      "X_train.shape=(52009, 117) \n",
      "X_test.shape=(17089, 117) \n",
      "y_train.shape=(52009,) \n",
      "y_test=shape(17089,)\n"
     ]
    }
   ],
   "source": [
    "df_full = pd.read_csv('hw6_dataset.csv', header=None)\n",
    "X_train_full, X_test_full, y_train_full, y_test_full = split_hw6_data(df_full)"
   ]
  },
  {
   "cell_type": "code",
   "execution_count": 5,
   "metadata": {},
   "outputs": [
    {
     "name": "stdout",
     "output_type": "stream",
     "text": [
      "===================================\n",
      "Model Predicting All Zeros\n",
      "-----------------------------------\n",
      "Accuracy - Test: 0.9942067996957107\n",
      "Confusion Matrix:\n",
      "[[16990     0]\n",
      " [   99     0]]\n",
      "True Positive Rate: 0.0\n",
      "True Negative Rate: 1.0\n",
      "False Positive Rate: 0.0\n",
      "===================================\n"
     ]
    }
   ],
   "source": [
    "# Model that predicts 0\n",
    "all0_test_acc = np.mean(1 - y_test_full)\n",
    "all0_cm = confusion_matrix(y_test_full, np.zeros(len(X_test_full)))\n",
    "model_summary('Model Predicting All Zeros', all0_test_acc, all0_cm)"
   ]
  },
  {
   "cell_type": "code",
   "execution_count": 6,
   "metadata": {},
   "outputs": [
    {
     "name": "stdout",
     "output_type": "stream",
     "text": [
      "===================================\n",
      "LogisticRegressionCV w/ L2 Regularization\n",
      "-----------------------------------\n",
      "Accuracy - Test: 0.995026040142782\n",
      "Confusion Matrix:\n",
      "[[16984     6]\n",
      " [   79    20]]\n",
      "True Positive Rate: 0.20202020202020202\n",
      "True Negative Rate: 0.9996468510888759\n",
      "False Positive Rate: 0.0003531489111241907\n",
      "===================================\n"
     ]
    }
   ],
   "source": [
    "# Logistic regression \n",
    "log_regr_cv = LogisticRegressionCV(penalty='l2', scoring='accuracy')\n",
    "log_regr_cv.fit(X_train_full, y_train_full)\n",
    "log_cv_score_test = log_regr_cv.score(X_test_full, y_test_full)\n",
    "log_cm = confusion_matrix(y_test_full, log_regr_cv.predict(X_test_full))\n",
    "\n",
    "model_summary('LogisticRegressionCV w/ L2 Regularization', log_cv_score_test, log_cm)"
   ]
  },
  {
   "cell_type": "markdown",
   "metadata": {},
   "source": [
    "## Answers for Question 1\n",
    "\n",
    "Report accuracy of on the test set: \n",
    "> **Model Predicting All Zeros:** \n",
    "   - **test_acc = 0.9942067996957107**\n",
    "\n",
    "> **Fitted LogisticRegression Classifier:** \n",
    "   - **test_acc = 0.995026040142782**\n",
    "\n",
    "How does the fitted model compare with a classifier that predicts 'normal' (label 0) on all patients? \n",
    "> **The fitted logistic regression model has similar accuracy compared to the model predicting all '0's. Both models have pretty high accuracy on the test set.**\n",
    "\n",
    "Do you think the difference in the classification accuracies are large enough to declare logistic regression as a better classifier than the all 0's classifier? Why or why not?\n",
    "> ** No, the difference is very small (~ 0.0009). With such a small magnitude, the difference in accuracy would most likely have no practical implications/ramifications. Therefore, we cannot declare logistic regression as a better classifier soley based on the accuracy on the test data.**\n",
    "\n",
    "Using the entries of the confusion table compute the *true positive rate* and the *true negative rate* for the two classifiers. \n",
    "> **Model Predicting All Zeros:**\n",
    "   - **true positive rate = 0.0**\n",
    "   - **true negative rate = 1.0**\n",
    "\n",
    "> **Fitted LogisticRegression Classifier:**\n",
    "   - **true positive rate = 0.20202020202020202**\n",
    "   - **true negative rate = 0.9996468510888759**\n",
    "\n",
    "Explain what these evaluation metrics mean for the specific task of cancer detection. Based on the observed metrics, comment on whether the fitted model is better than the all 0's classifier.\n",
    "> **In the context of cancer detection, the *true positive rate* represents the proportion of true cancer patients being classied as having cancer, and the *true negative rate* represents the proportion of true healthy subjects being classified as normal. For the specific task of cancer detection, the ability to diagnose cancer patients as having cancer is of paramount importance. Yet, the all 0's classifier has 0 chance of detecting cancer (TPR = 0) while the fitted model has a larger TPR of about 0.2. Therefore, even though the 2 clasffiers have similarly high true negative rates (`Specificity` $\\sim$ 1), the fitted model is better than the all 0's classifier.\n",
    "\n",
    "What is the *false positive rate* of the fitted classifier, and how is it related to its true positive and true negative rate? \n",
    "   \n",
    "> **False positive rate of the fitted classifier: = 0.0003531489111241907**\n",
    "\n",
    "> **False positive rate **\n",
    "\n",
    "> ** = $\\frac{false\\_positive}{observd\\_negative}$ **\n",
    "\n",
    ">  ** = $\\frac{observd\\_negative - true\\_negative}{observd\\_negative}$ **\n",
    "\n",
    ">  ** = $1- \\frac{true\\_negative}{observd\\_negative}$**\n",
    "\n",
    ">  ** = 1 - True Negative Rate **\n",
    "\n",
    "Why is a classifier with high false positive rate undesirable for a cancer detection task?\n",
    "> ** A cancer detection classifier with high false positive rate means that healthy subjects are classified as cancer patients at a high rate. This is undesirable because 1) hospitals would waste resources, 2) insurance companies would lose money and 3) perhaps more importantly, more subjects would go through unnecessary emotional trauma associated with a cancer diagosis, would have to spend a substantial amount of money on subsequent tests and would have increased health risks from getting more unnecessary tests. **\n",
    "\n",
    "> **(On the other hand, a cancer detection classifier with a high false negative rate is also undesirable because patients are not being diagnosed and put on appropriate treatment. By postponing diagnosis, morbidity and mortality rates would increase. )**"
   ]
  },
  {
   "cell_type": "markdown",
   "metadata": {},
   "source": [
    "## Question 2: ROC Analysis\n",
    "\n",
    "Another powerful diagnostic tool for class-imbalanced classification tasks is the Receiver Operating Characteristic (ROC) curve. Notice that the default logistic regression classifier in `sklearn` classifies a data point by thresholding the predicted class probability $\\hat{P}(Y=1)$ at 0.5. By using a different threshold, we can adjust the trade-off between the true positive rate (TPR) and false positive rate (FPR) of the classifier. The ROC curve allows us to visualize this trade-off across all possible thresholds.\n",
    "\n",
    "\n",
    "1. Display the ROC curve for the fitted classifier on the *test set*. In the same plot, also display the ROC curve for the all 0's classifier. How do the two curves compare?\n",
    "\n",
    "2.  Compute the highest TPR that can be achieved by the classifier at each of the following FPR's, and the thresholds at which they are achieved. Based on your results, comment on how the threshold influences a classifier's FPR.\n",
    "    - FPR = 0\n",
    "    - FPR = 0.1\n",
    "    - FPR = 0.5\n",
    "    - FPR = 0.9\n",
    "- Suppose a clinician told you that diagnosing a cancer patient as normal is *twice* as critical an error as diagnosing a normal patient as having cancer. Based on this information, what threshold would you recommend the clinician to use? What is the TPR and FPR of the classifier at this threshold? \n",
    "\n",
    "- Compute the area under the ROC curve (AUC) for both the fitted classifier and the all 0's classifier. How does the difference in the AUCs of the two classifiers compare with the difference between their classification accuracies in Question 1, Part 2(A)? \n",
    "\n",
    "*Hint:* You may use the `metrics.roc_curve` function to compute the ROC curve for a classification model and the `metrics.roc_auc_score` function to compute the AUC for the model."
   ]
  },
  {
   "cell_type": "code",
   "execution_count": 7,
   "metadata": {
    "collapsed": true
   },
   "outputs": [],
   "source": [
    "# Make ROC code from Lab7\n",
    "from sklearn.metrics import roc_curve, auc, roc_auc_score\n",
    "\n",
    "def make_roc(name, clf, ytest, xtest, ax=None, labe=5, proba=True, skip=0, all_zero=False):\n",
    "    initial=False\n",
    "    if not ax:\n",
    "        ax=plt.gca()\n",
    "        initial=True\n",
    "    if all_zero == False: \n",
    "        if proba:# for stuff like logistic regression\n",
    "            fpr, tpr, thresholds=roc_curve(ytest, clf.predict_proba(xtest)[:,1])\n",
    "            roc_auc = roc_auc_score(ytest, clf.predict_proba(xtest)[:,1])    \n",
    "        else:# for stuff like SVM\n",
    "            fpr, tpr, thresholds=roc_curve(ytest, clf.decision_function(xtest))\n",
    "    \n",
    "    else: # all_zero predictor\n",
    "        fpr, tpr, thresholds=roc_curve(ytest, np.zeros(len(xtest)))\n",
    "        roc_auc = roc_auc_score(ytest, np.zeros(len(xtest)))\n",
    "        \n",
    "#     roc_auc = auc(fpr, tpr) # compute Area Under the Curve, same with roc_auc_score(ytest, yscore)\n",
    "\n",
    "    if skip:\n",
    "        l=fpr.shape[0] \n",
    "        ax.plot(fpr[0:l:skip], tpr[0:l:skip], '.-', alpha=0.8, label='ROC curve for %s (area = %0.2f)' % (name, roc_auc))\n",
    "    else:\n",
    "        ax.plot(fpr, tpr, '.-', alpha=0.8, label='ROC curve for %s (area = %0.2f)' % (name, roc_auc))\n",
    "    \n",
    "    if all_zero:\n",
    "        ax.scatter(x=fpr, y=tpr, marker='o', s=400, color='r', label=' scatter - all_0\\'s_classifier')\n",
    "        \n",
    "    \n",
    "    label_kwargs = {}\n",
    "    label_kwargs['bbox'] = dict(\n",
    "        boxstyle='round,pad=0.3', alpha=0.2,\n",
    "    )\n",
    "    if labe!=None:\n",
    "        for k in range(0, fpr.shape[0],labe):\n",
    "            #from https://gist.github.com/podshumok/c1d1c9394335d86255b8\n",
    "            threshold = str(np.round(thresholds[k], 2))\n",
    "            ax.annotate(threshold, (fpr[k], tpr[k]), **label_kwargs)\n",
    "    if initial:\n",
    "        ax.plot([0, 1], [0, 1], 'k--')\n",
    "        ax.set_xlim([0.0, 1.0])\n",
    "        ax.set_ylim([0.0, 1.05])\n",
    "        ax.set_xlabel('False Positive Rate')\n",
    "        ax.set_ylabel('True Positive Rate')\n",
    "        ax.set_title('ROC')\n",
    "    ax.legend(loc=\"lower right\")\n",
    "    return ax\n"
   ]
  },
  {
   "cell_type": "code",
   "execution_count": 8,
   "metadata": {},
   "outputs": [
    {
     "data": {
      "text/plain": [
       "<matplotlib.axes._subplots.AxesSubplot at 0x10d84e7f0>"
      ]
     },
     "execution_count": 8,
     "metadata": {},
     "output_type": "execute_result"
    },
    {
     "data": {
      "image/png": "[encoded data removed]",
      "text/plain": [
       "<matplotlib.figure.Figure at 0x10d0c7a20>"
      ]
     },
     "metadata": {},
     "output_type": "display_data"
    }
   ],
   "source": [
    "sns.set_context(\"poster\")\n",
    "ax = make_roc(\"logistic\", log_regr_cv, y_test_full, X_test_full, labe=None)\n",
    "make_roc(\"all_zero\", None, y_test_full, X_test_full, labe=None, all_zero=True)"
   ]
  },
  {
   "cell_type": "code",
   "execution_count": 9,
   "metadata": {
    "collapsed": true
   },
   "outputs": [],
   "source": [
    "# manually change binary clf threshold to t, from Lab7\n",
    "def t_repredict(est, t, xtest):\n",
    "    probs = est.predict_proba(xtest)\n",
    "    p0 = probs[:,0]\n",
    "    p1 = probs[:,1]\n",
    "    ypred = (p1 > t)*1\n",
    "    return ypred"
   ]
  },
  {
   "cell_type": "code",
   "execution_count": 10,
   "metadata": {},
   "outputs": [
    {
     "name": "stdout",
     "output_type": "stream",
     "text": [
      "FPR = 0\n",
      "Highest TPR = 0.08080808080808081\n",
      "p_threshold = 0.9405510934189472\n",
      "Confusion Matrix: \n",
      "[[16990     0]\n",
      " [   92     7]]\n",
      "------------------------\n",
      "\n",
      "FPR = 0.1\n",
      "Highest TPR = 0.8383838383838383\n",
      "p_threshold = 0.006266183038149889\n",
      "Confusion Matrix: \n",
      "[[15292  1698]\n",
      " [   16    83]]\n",
      "------------------------\n",
      "\n",
      "FPR = 0.5\n",
      "Highest TPR = 0.9696969696969697\n",
      "p_threshold = 0.00021027820533256583\n",
      "Confusion Matrix: \n",
      "[[8496 8494]\n",
      " [   3   96]]\n",
      "------------------------\n",
      "\n",
      "FPR = 0.9\n",
      "Highest TPR = 1.0\n",
      "p_threshold = 2.486773984223019e-06\n",
      "Confusion Matrix: \n",
      "[[ 1700 15290]\n",
      " [    0    99]]\n",
      "------------------------\n",
      "\n"
     ]
    }
   ],
   "source": [
    "FPRs = [0, 0.1, 0.5, 0.9]\n",
    "fpr_long, tpr_long, thresholds_long = roc_curve(y_test_full, log_regr_cv.predict_proba(X_test_full)[:,1], drop_intermediate=False)\n",
    "\n",
    "for FPR in FPRs:\n",
    "    print('FPR = {}'.format(FPR))\n",
    "    for i, fpr in enumerate(fpr_long):\n",
    "        if fpr > FPR:\n",
    "            print('Highest TPR = {}'.format(tpr_long[i-1]))\n",
    "            print('p_threshold = {}'.format(thresholds_long[i-1]))\n",
    "            print('Confusion Matrix: ')\n",
    "            print(confusion_matrix(y_test_full, t_repredict(log_regr_cv, thresholds_long[i-1], X_test_full)))\n",
    "            print('------------------------\\n')\n",
    "            break"
   ]
  },
  {
   "cell_type": "code",
   "execution_count": 11,
   "metadata": {},
   "outputs": [
    {
     "name": "stdout",
     "output_type": "stream",
     "text": [
      "Number of observed negatives = 16990 \n",
      "Number of observed positives = 99\n"
     ]
    }
   ],
   "source": [
    "n_observed_0 = sum(y_test_full==0)\n",
    "n_observed_1 = sum(y_test_full==1)\n",
    "print('Number of observed negatives = {} \\nNumber of observed positives = {}'.format(n_observed_0, n_observed_1))"
   ]
  },
  {
   "cell_type": "code",
   "execution_count": 12,
   "metadata": {},
   "outputs": [
    {
     "name": "stdout",
     "output_type": "stream",
     "text": [
      "Given FN twice the cost of FP: \n",
      " - threshold = 0.384256642291652, \n",
      " - fpr = 0.0007062978222483814, \n",
      " - tpr = 0.2828282828282828\n"
     ]
    }
   ],
   "source": [
    "fpr_long, tpr_long, thresholds_long = roc_curve(y_test_full, log_regr_cv.predict_proba(X_test_full)[:,1], drop_intermediate=False)\n",
    "loss_long = []\n",
    "for fpr, tpr in zip(fpr_long, tpr_long):\n",
    "    loss = fpr + (1-tpr)*(n_observed_1/n_observed_0)*2 # define the loss taking a FN twice the cost of a FP\n",
    "    loss_long.append(loss)\n",
    "i_min_loss = np.argmin(loss_long)\n",
    "print('Given FN twice the cost of FP: \\n - threshold = {}, \\n - fpr = {}, \\n - tpr = {}'.format(thresholds_long[i_min_loss], fpr_long[i_min_loss], tpr_long[i_min_loss]))\n"
   ]
  },
  {
   "cell_type": "markdown",
   "metadata": {},
   "source": [
    "## Answers for Question 2\n",
    "\n",
    "Display the ROC curve for the fitted classifier on the *test set*. In the same plot, also display the ROC curve for the all 0's classifier. How do the two curves compare?\n",
    "> **The fitted classifier has a smooth ROC curve, and as false positive rate increases, the true positive rate increases and approaches 1. On the other hand, the all 0's classfier is a straight diagonal line, consisting of only 2 end points at (0,0) & (1,1). **\n",
    "\n",
    "Compute the highest TPR that can be achieved by the classifier at each of the following FPR's, and the thresholds at which they are achieved. Based on your results, comment on how the threshold influences a classifier's FPR.\n",
    "> - **FPR = 0, $\\quad$   Highest TPR $\\sim$ 0.0808, $\\quad$ Threshold = 0.9405510934189472**\n",
    "> - **FPR = 0.1, $\\quad$ Highest TPR $\\sim$ 0.8384,  $\\quad$ Threshold = 0.006266183038149889**\n",
    "> - **FPR = 0.5, $\\quad$ Highest TPR $\\sim$ 0.9697, $\\quad$ Threshold = 0.00021027820533256583**\n",
    "> - **FPR = 0.9, $\\quad$ Highest TPR $\\sim$ 1.0, $\\quad$ Threshold = 2.486773984223019e-06**\n",
    "\n",
    "> **As summarized above, as FPR increases, the highest TPR increases and the threshold decreases. Given the logistic classifier trained on this dataset, the larger the threshold, the less false positives we can get. But large thresholds also limit TPR to be small. This makes the model less likely to predict positives (either false or true). Therefore, We will get more false negatives, which usally cost more than a false positive for the specific task of cancer detection. **\n",
    "\n",
    "\n",
    "Suppose a clinician told you that diagnosing a cancer patient as normal is *twice* as critical an error as diagnosing a normal patient as having cancer. Based on this information, what threshold would you recommend the clinician to use? What is the TPR and FPR of the classifier at this threshold? \n",
    "> **Given a false negative is twice as critical as a false positive, we define a loss to be the total cost including both false positives and false negatives. Each false negative prediction costs twice of each false positive prediction. That is**\n",
    "\n",
    "> **`loss = fpr + (1-tpr)*(n_observed_1/n_observed_0)*2` **\n",
    "\n",
    "> (assuming the ratio ** `n_observed_1/n_observed_0`** to be representative of the true population)\n",
    "\n",
    "> **Walking through all possible values of fpr, tpr and thresholds given by the ROC curve, we calculate this loss at each point. The recommended threshold is achived at the `np.argmin(loss_long)`-th point. **\n",
    "\n",
    "> - ** Recommended Threshold  = 0.384256642291652 **\n",
    "> - ** FPR at the Threshold = 0.0007062978222483814 **\n",
    "> - ** TPR at the Threshold = 0.2828282828282828 **\n",
    "\n",
    "Compute the area under the ROC curve (AUC) for both the fitted classifier and the all 0's classifier. How does the difference in the AUCs of the two classifiers compare with the difference between their classification accuracies in Question 1, Part 2(A)? \n",
    "> **Model Predicting All Zeros:**\n",
    "   - **area under ROC = 0.5**\n",
    "\n",
    "> **Fitted LogisticRegression Classifier:**\n",
    "   - **area under ROC = 0.93**\n",
    "\n",
    "> ** The difference in the AUCs of the two classifiers is much larger than the difference between their classification accuracies in Question 1 Part 2(a).**\n",
    "\n",
    "> ** A better model as a larger AUC. Therefore, judging by the AUC, the fitted classifier is much better than the all 0's classifier. **"
   ]
  },
  {
   "cell_type": "markdown",
   "metadata": {
    "collapsed": true
   },
   "source": [
    "### Question 3: Missing data\n",
    "\n",
    "In this problem you are given a different data set, `hw6_dataset_missing.csv`, that is  similar to the one you used above (same column definitions and same conditions), however this data set contains missing values. \n",
    "\n",
    "*Note*: be careful of reading/treating column names and row names in this data set as well, it *may* be different than the first data set.\n",
    "\n",
    "\n",
    "1. Remove all observations that contain and missing values, split the dataset into a 75-25 train-test split, and fit the regularized logistic regression as in Question 1 (use `LogisticRegressionCV` again to retune).  Report the overall classification rate and TPR in the test set.\n",
    "2. Restart with a fresh copy of the data in `hw6_dataset_missing.csv` and impute the missing data via mean imputation.  Split the data 75-25 and fit the regularized logistic regression model.  Report the overall classification rate and TPR in the test set.  \n",
    "3. Again restart with a fresh copy of the data in `hw6_dataset_missing.csv` and impute the missing data via a model-based imputation method. Once again split the data 75-25 and fit the regularized logistic regression model.  Report the overall classification rate and TPR in the test set.  \n",
    "4. Compare the results in the 3 previous parts of this problem.  Prepare a paragraph (5-6 sentences) discussing the results, the computational complexity of the methods, and conjecture and explain why you get the results that you see.\n",
    "\n"
   ]
  },
  {
   "cell_type": "markdown",
   "metadata": {},
   "source": [
    "### Model 1: missing values dropped"
   ]
  },
  {
   "cell_type": "code",
   "execution_count": 13,
   "metadata": {},
   "outputs": [
    {
     "name": "stdout",
     "output_type": "stream",
     "text": [
      "Is there any value missing in the last column (response): False\n",
      "X_train.shape=(1080, 117) \n",
      "X_test.shape=(356, 117) \n",
      "y_train.shape=(1080,) \n",
      "y_test=shape(356,)\n"
     ]
    }
   ],
   "source": [
    "# Load the raw missing data\n",
    "df_mis = pd.read_csv('HW6_dataset_missing.csv', index_col='Unnamed: 0')\n",
    "print('Is there any value missing in the last column (response): {}'.format(df_mis[df_mis.columns[117]].isnull().any()))\n",
    "\n",
    "# Remove all missing values \n",
    "df_mis_drop = df_mis.dropna(how = 'any')\n",
    "\n",
    "# Split data into 0.75 Train & 0.25 Test\n",
    "X_train_drop, X_test_drop, y_train_drop, y_test_drop = split_hw6_data(df_mis_drop)"
   ]
  },
  {
   "cell_type": "code",
   "execution_count": 14,
   "metadata": {},
   "outputs": [
    {
     "name": "stdout",
     "output_type": "stream",
     "text": [
      "===================================\n",
      "LogisticRegressionCV w/ missing values DROPPED\n",
      "-----------------------------------\n",
      "Accuracy - Test: 0.9943820224719101\n",
      "Confusion Matrix:\n",
      "[[354   0]\n",
      " [  2   0]]\n",
      "True Positive Rate: 0.0\n",
      "True Negative Rate: 1.0\n",
      "False Positive Rate: 0.0\n",
      "===================================\n"
     ]
    },
    {
     "name": "stderr",
     "output_type": "stream",
     "text": [
      "/Users/jasminetong/anaconda/lib/python3.6/site-packages/sklearn/model_selection/_split.py:581: Warning: The least populated class in y has only 1 members, which is too few. The minimum number of groups for any class cannot be less than n_splits=3.\n",
      "  % (min_groups, self.n_splits)), Warning)\n"
     ]
    }
   ],
   "source": [
    "# Fit LogistricRegressionCV with L2 regularization on the FULL dataset\n",
    "log_regr_drop = LogisticRegressionCV(penalty='l2', scoring='accuracy')\n",
    "log_regr_drop.fit(X_train_drop, y_train_drop)\n",
    "log_drop_score_test = log_regr_drop.score(X_test_drop, y_test_drop)\n",
    "log_drop_cm = confusion_matrix(y_test_drop, log_regr_drop.predict(X_test_drop))\n",
    "\n",
    "model_summary('LogisticRegressionCV w/ missing values DROPPED', log_drop_score_test, log_drop_cm)"
   ]
  },
  {
   "cell_type": "markdown",
   "metadata": {},
   "source": [
    "### Model 2: missing values imputed with column mean"
   ]
  },
  {
   "cell_type": "code",
   "execution_count": 15,
   "metadata": {},
   "outputs": [
    {
     "name": "stdout",
     "output_type": "stream",
     "text": [
      "Mean Imputation Duration = 0.03406786918640137 seconds\n"
     ]
    }
   ],
   "source": [
    "# Load the raw missing data\n",
    "df_imp_mean = pd.read_csv('hw6_dataset_missing.csv', index_col='Unnamed: 0')\n",
    "\n",
    "# Fill NaNs with column mean\n",
    "start_imp_mean = time.time()\n",
    "df_imp_mean.fillna(df_imp_mean.mean()[:117], inplace=True) \n",
    "print('Mean Imputation Duration = {} seconds'.format(time.time() - start_imp_mean))"
   ]
  },
  {
   "cell_type": "code",
   "execution_count": 16,
   "metadata": {},
   "outputs": [
    {
     "name": "stdout",
     "output_type": "stream",
     "text": [
      "X_train.shape=(18874, 117) \n",
      "X_test.shape=(6125, 117) \n",
      "y_train.shape=(18874,) \n",
      "y_test=shape(6125,)\n"
     ]
    }
   ],
   "source": [
    "# Split data into 0.75 Train & 0.25 Test\n",
    "X_train_imp_mean, X_test_imp_mean, y_train_imp_mean, y_test_imp_mean = split_hw6_data(df_imp_mean)"
   ]
  },
  {
   "cell_type": "code",
   "execution_count": 17,
   "metadata": {},
   "outputs": [
    {
     "name": "stdout",
     "output_type": "stream",
     "text": [
      "===================================\n",
      "LogisticRegressionCV w/ missing values IMPUTED WITH MEAN\n",
      "-----------------------------------\n",
      "Accuracy - Test: 0.9926530612244898\n",
      "Confusion Matrix:\n",
      "[[6070    4]\n",
      " [  41   10]]\n",
      "True Positive Rate: 0.19607843137254902\n",
      "True Negative Rate: 0.9993414553836022\n",
      "False Positive Rate: 0.0006585446163977609\n",
      "===================================\n"
     ]
    }
   ],
   "source": [
    "# Fit LogistricRegressionCV with L2 regularization on the MEAN IMPUTED dataset\n",
    "log_regr_imp_mean = LogisticRegressionCV(penalty='l2', scoring='accuracy')\n",
    "log_regr_imp_mean.fit(X_train_imp_mean, y_train_imp_mean)\n",
    "log_imp_mean_score_test = log_regr_imp_mean.score(X_test_imp_mean, y_test_imp_mean)\n",
    "log_imp_mean_cm = confusion_matrix(y_test_imp_mean, log_regr_imp_mean.predict(X_test_imp_mean))\n",
    "\n",
    "model_summary('LogisticRegressionCV w/ missing values IMPUTED WITH MEAN', log_imp_mean_score_test, log_imp_mean_cm)"
   ]
  },
  {
   "cell_type": "markdown",
   "metadata": {},
   "source": [
    "### Model 3.1: missing values imputed with a linear regression model"
   ]
  },
  {
   "cell_type": "code",
   "execution_count": 18,
   "metadata": {},
   "outputs": [
    {
     "name": "stdout",
     "output_type": "stream",
     "text": [
      "Number of columns that have any missing value: 17\n",
      "Columns with NaNs:\n",
      "['93', '94', '95', '96', '97', '98', '99', '100', '101', '102', '103', '104', '105', '106', '107', '108', '109']\n"
     ]
    }
   ],
   "source": [
    "n_col_mis = sum(df_mis.isnull().any())\n",
    "print('Number of columns that have any missing value: {}'.format(n_col_mis))\n",
    "\n",
    "mis_col_names = []\n",
    "full_col_names = []\n",
    "for col in df_mis.columns[:117]:\n",
    "    if df_mis[col].isnull().any():\n",
    "        mis_col_names.append(col) # Names of columns with NaNs \n",
    "    else:\n",
    "        full_col_names.append(col) # Names of columns without NaNs \n",
    "\n",
    "print('Columns with NaNs:')\n",
    "print(mis_col_names)"
   ]
  },
  {
   "cell_type": "code",
   "execution_count": 19,
   "metadata": {},
   "outputs": [
    {
     "name": "stderr",
     "output_type": "stream",
     "text": [
      "/Users/jasminetong/anaconda/lib/python3.6/site-packages/ipykernel_launcher.py:9: SettingWithCopyWarning: \n",
      "A value is trying to be set on a copy of a slice from a DataFrame.\n",
      "Try using .loc[row_indexer,col_indexer] = value instead\n",
      "\n",
      "See the caveats in the documentation: http://pandas.pydata.org/pandas-docs/stable/indexing.html#indexing-view-versus-copy\n",
      "  if __name__ == '__main__':\n"
     ]
    },
    {
     "name": "stdout",
     "output_type": "stream",
     "text": [
      "Logistic Regression Imputation Duration = 3.389396905899048 seconds\n"
     ]
    }
   ],
   "source": [
    "# Make copies of the dataset with missing values\n",
    "df_mis = pd.read_csv('HW6_dataset_missing.csv', index_col='Unnamed: 0')\n",
    "df_imp_lin = pd.read_csv('HW6_dataset_missing.csv', index_col='Unnamed: 0')\n",
    "lin_regr = LinearRegression()\n",
    "\n",
    "start_imp_lin = time.time()\n",
    "for col in mis_col_names:\n",
    "    df = df_mis[full_col_names] # copy the cols without NaNs\n",
    "    df[col] = df_mis[col] # append the col with NaNs\n",
    "    df = df.dropna(axis=0, subset=[col]) # drop the rows with NaNs in col\n",
    "    \n",
    "    X_full = df[full_col_names]\n",
    "    y_full = df[col]\n",
    "    lin_regr.fit(X_full, y_full) # fit linear regression for the col with NaNs using other full cols\n",
    "    y_hat = lin_regr.predict(X_full)\n",
    "    mse = mean_squared_error(y_full, y_hat) # the current model's MSE\n",
    "    \n",
    "    X_missing = df_mis[df_mis[col].isnull()][full_col_names]\n",
    "    y_missing = lin_regr.predict(X_missing)\n",
    "    \n",
    "    # Add random uncertainty (scale = the current model's MSE )\n",
    "    y_missing_noise = y_missing + np.random.normal(loc=0, scale=np.sqrt(mse), size=y_missing.shape[0])\n",
    "    \n",
    "    missing_index = df_mis[col][df_mis[col].isnull()].index # get indices of the missing values\n",
    "    missing_series = pd.Series(data = y_missing_noise, index = missing_index)\n",
    "\n",
    "    df_imp_lin[col].fillna(missing_series, inplace=True) # fill in NaNs with linear regression results\n",
    "\n",
    "print('Logistic Regression Imputation Duration = {} seconds'.format(time.time() - start_imp_lin))"
   ]
  },
  {
   "cell_type": "code",
   "execution_count": 20,
   "metadata": {},
   "outputs": [
    {
     "name": "stdout",
     "output_type": "stream",
     "text": [
      "X_train.shape=(18874, 117) \n",
      "X_test.shape=(6125, 117) \n",
      "y_train.shape=(18874,) \n",
      "y_test=shape(6125,)\n"
     ]
    }
   ],
   "source": [
    "# Split data into 0.75 Train & 0.25 Test\n",
    "X_train_imp_lin, X_test_imp_lin, y_train_imp_lin, y_test_imp_lin = split_hw6_data(df_imp_lin)"
   ]
  },
  {
   "cell_type": "code",
   "execution_count": 21,
   "metadata": {},
   "outputs": [
    {
     "name": "stdout",
     "output_type": "stream",
     "text": [
      "===================================\n",
      "LogisticRegressionCV w/ missing values IMPUTED WITH LINEAR REGRESSION\n",
      "-----------------------------------\n",
      "Accuracy - Test: 0.9929795918367347\n",
      "Confusion Matrix:\n",
      "[[6073    1]\n",
      " [  42    9]]\n",
      "True Positive Rate: 0.17647058823529413\n",
      "True Negative Rate: 0.9998353638459005\n",
      "False Positive Rate: 0.00016463615409944023\n",
      "===================================\n"
     ]
    }
   ],
   "source": [
    "# Fit LogistricRegressionCV with L2 regularization on the LINEAR REGRESSIOPN IMPUTED dataset\n",
    "log_regr_imp_lin = LogisticRegressionCV(penalty='l2', scoring='accuracy')\n",
    "log_regr_imp_lin.fit(X_train_imp_lin, y_train_imp_lin)\n",
    "log_imp_lin_score_test = log_regr_imp_lin.score(X_test_imp_lin, y_test_imp_lin)\n",
    "log_imp_lin_cm = confusion_matrix(y_test_imp_lin, log_regr_imp_lin.predict(X_test_imp_lin))\n",
    "\n",
    "model_summary('LogisticRegressionCV w/ missing values IMPUTED WITH LINEAR REGRESSION', log_imp_lin_score_test, log_imp_lin_cm)"
   ]
  },
  {
   "cell_type": "markdown",
   "metadata": {},
   "source": [
    "### Model 3.2: missing values imputed with a KNN model"
   ]
  },
  {
   "cell_type": "code",
   "execution_count": 22,
   "metadata": {},
   "outputs": [
    {
     "name": "stderr",
     "output_type": "stream",
     "text": [
      "/Users/jasminetong/anaconda/lib/python3.6/site-packages/ipykernel_launcher.py:9: SettingWithCopyWarning: \n",
      "A value is trying to be set on a copy of a slice from a DataFrame.\n",
      "Try using .loc[row_indexer,col_indexer] = value instead\n",
      "\n",
      "See the caveats in the documentation: http://pandas.pydata.org/pandas-docs/stable/indexing.html#indexing-view-versus-copy\n",
      "  if __name__ == '__main__':\n"
     ]
    },
    {
     "name": "stdout",
     "output_type": "stream",
     "text": [
      "KNN(k=3) Regression Imputation Duration = 345.2554728984833 seconds\n"
     ]
    }
   ],
   "source": [
    "# Make copies of the dataset with missing values\n",
    "df_mis = pd.read_csv('HW6_dataset_missing.csv', index_col='Unnamed: 0')\n",
    "df_imp_knn = pd.read_csv('HW6_dataset_missing.csv', index_col='Unnamed: 0')\n",
    "knn_regr = KNeighborsRegressor(n_neighbors=3)\n",
    "\n",
    "start_imp_knn = time.time()\n",
    "for col in mis_col_names:\n",
    "    df = df_mis[full_col_names] # copy the cols without NaNs\n",
    "    df[col] = df_mis[col] # append the col with NaNs\n",
    "    df = df.dropna(axis=0, subset=[col]) # drop the rows with NaNs in col\n",
    "    \n",
    "    X_full = df[full_col_names]\n",
    "    y_full = df[col]\n",
    "    \n",
    "    # build models with cross validation to find the optimal k (taking too long time on my Mac)\n",
    "#     cv_scores = []\n",
    "#     for k in ks:\n",
    "#         knn_regr.set_params(n_neighbors=k)\n",
    "#         scores = cross_val_score(knn_regr, X_full, y_full, cv=3, scoring='r2')\n",
    "#         cv_scores.append(scores.mean())\n",
    "        \n",
    "#     optimal_k = ks[np.argmax(cv_scores)]\n",
    "#     knn_regr.set_params(n_neighbors=optimal_k) # set the number of neighbors to the optimal k\n",
    "    \n",
    "    knn_regr.fit(X_full, y_full)\n",
    "    \n",
    "    X_missing = df_mis[df_mis[col].isnull()][full_col_names]\n",
    "    y_missing = knn_regr.predict(X_missing)\n",
    "    \n",
    "    missing_index = df_mis[col][df_mis[col].isnull()].index # get indices of the missing values\n",
    "    missing_series = pd.Series(data = y_missing, index = missing_index)\n",
    "\n",
    "    df_imp_knn[col].fillna(missing_series, inplace=True) # fill in NaNs with linear regression results\n",
    "\n",
    "print('KNN(k=3) Regression Imputation Duration = {} seconds'.format(time.time() - start_imp_knn))"
   ]
  },
  {
   "cell_type": "code",
   "execution_count": 23,
   "metadata": {},
   "outputs": [
    {
     "name": "stdout",
     "output_type": "stream",
     "text": [
      "X_train.shape=(18874, 117) \n",
      "X_test.shape=(6125, 117) \n",
      "y_train.shape=(18874,) \n",
      "y_test=shape(6125,)\n"
     ]
    }
   ],
   "source": [
    "# Split data into 0.75 Train & 0.25 Test\n",
    "X_train_imp_knn, X_test_imp_knn, y_train_imp_knn, y_test_imp_knn = split_hw6_data(df_imp_knn)"
   ]
  },
  {
   "cell_type": "code",
   "execution_count": 24,
   "metadata": {},
   "outputs": [
    {
     "name": "stdout",
     "output_type": "stream",
     "text": [
      "===================================\n",
      "LogisticRegressionCV w/ missing values IMPUTED WITH KNN(k=3) REGRESSION\n",
      "-----------------------------------\n",
      "Accuracy - Test: 0.9929795918367347\n",
      "Confusion Matrix:\n",
      "[[6073    1]\n",
      " [  42    9]]\n",
      "True Positive Rate: 0.17647058823529413\n",
      "True Negative Rate: 0.9998353638459005\n",
      "False Positive Rate: 0.00016463615409944023\n",
      "===================================\n"
     ]
    }
   ],
   "source": [
    "# Fit LogistricRegressionCV with L2 regularization on the KNN IMPUTED dataset\n",
    "log_regr_imp_knn = LogisticRegressionCV(penalty='l2', scoring='accuracy')\n",
    "log_regr_imp_knn.fit(X_train_imp_knn, y_train_imp_knn)\n",
    "log_imp_knn_score_test = log_regr_imp_knn.score(X_test_imp_knn, y_test_imp_knn)\n",
    "log_imp_knn_cm = confusion_matrix(y_test_imp_knn, log_regr_imp_knn.predict(X_test_imp_knn))\n",
    "\n",
    "model_summary('LogisticRegressionCV w/ missing values IMPUTED WITH KNN(k=3) REGRESSION', log_imp_knn_score_test, log_imp_knn_cm)"
   ]
  },
  {
   "cell_type": "markdown",
   "metadata": {},
   "source": [
    "## Answers for Question 3\n",
    "\n",
    "Report the overall classification rate **(test_acc)** and TPR **(test_TPR)** in the test set.\n",
    "\n",
    "**Missing values DROPPED**\n",
    "> - ** test_acc = 0.9943820224719101 **\n",
    "> - ** test_TPR = 0.0 **\n",
    "\n",
    "**Missing values IMPUTED WITH MEAN**\n",
    "> - ** test_acc = 0.9926530612244898 **\n",
    "> - ** test_TPR = 0.19607843137254902 **\n",
    " \n",
    "**Missing values IMPUTED WITH LINEAR REGRESSION**\n",
    "> - ** test_acc = 0.9929795918367347 **\n",
    "> - ** test_TPR = 0.17647058823529413 **\n",
    "\n",
    "**Missing values IMPUTED WITH KNN(k=3) REGRESSION**\n",
    "> **Same with Missing values IMPUTED WITH LINEAR REGRESSION**\n",
    "> - ** test_acc = 0.9929795918367347 **\n",
    "> - ** test_TPR = 0.17647058823529413 **\n",
    "\n",
    "\n",
    "Compare the results in the 3 previous parts of this problem.  Prepare a paragraph (5-6 sentences) discussing the results, the computational complexity of the methods, and conjecture and explain why you get the results that you see.\n",
    "\n",
    "> **In Terms of Classification Accuracy: **\n",
    "> > **All of the models have similarly high accuracy on the test set (the biggest difference is only ~0.0017. One of the reasons for such high accuracy across all models is because the classes are very imbalanced. We have a lot more data points with a true '0' label compared to data points labeled '1'. Trained on highly imbalanced data, all models tend to predict '0''s correctly, leading to high classification accuracy. **\n",
    "\n",
    "> > ** Simply dropping missing values gives comparatively the best classification accuracy. This is because dropping missing values further increases the percentage of true '1' observations, while imputation would not change this percentage. For a class-imbalanced classification task, the fitted logistic model would naturally have higher accuracy when the percentage of true '1' observations is higher.**\n",
    "\n",
    "> **In Terms of Ture Postive Rate: **\n",
    "> > **A more reliable metric for model performance on class-imbalanced classification tasks is TPR on test set. The ranking of our models in terms of test_TPR is: MEAN imputation > LINEAR regression imputation = KNN(k=3) regression imputation > DROPPING all the missing observations. One potential reason why mean imputation performed better here compared to model imputation is that the predictors (columns) with missing values are not explained by the other predictors well. Furthermore, the predictors with missing values are likely to have a symmetric distribution so that mean imputation models well. Therefore, using other predictors to predict missing values for this dataset is not as effective as simply imputing with the mean.**\n",
    "\n",
    "> **In Terms of Model Complexity: **\n",
    "> - ** Running time (seconds) of the three imputation methods: **\n",
    "    > - ** Mean Imputation: ~ 0.035 **\n",
    "    > - ** Linear Regression Imputation : ~ 3.5 **\n",
    "    > - ** KNN(k=3) Imputation: ~ 350 **\n",
    "    \n",
    "> > ** Therefore, the ranking of our models in terms of model complexity is: KNN(k=3) regression imputation >> LINEAR regression imputation > MEAN imputation > DROPPING all the missing observations.**\n",
    "\n",
    "> > ** In conclusion, since mean imputation has the best TPR and low model complexity, we should adopt mean imputation for this dataset.  One caveat with mean imputation is that the sample variance within the predictors imputed would be smaller than expected, which should be taken into consideration (and potentially adjusted with a factor) when we use statistical tests to test for significance of predictors. **"
   ]
  },
  {
   "cell_type": "markdown",
   "metadata": {},
   "source": [
    "## APCOMP209a - Homework Question\n",
    "## Answers inline"
   ]
  },
  {
   "cell_type": "markdown",
   "metadata": {
    "collapsed": true
   },
   "source": [
    "\n",
    "This problem walks you through the derivation of the **likelihood equations** for a generalized linear model (GLM). Suppose that the random component of the GLM is in the univariate natural exponential family, so that\n",
    "$$f(y_i|\\theta_i) = h(y_i) e^{y_i\\theta_i - b(\\theta_i)}$$\n",
    "Define the individual log-likelihood for each observation $i$ as\n",
    "$$l_i(\\theta_i) \\equiv \\log f(y_i|\\theta_i)$$\n",
    "with linear predictor\n",
    "$$\\eta_i = x_i^T\\beta = g(\\mu_i)$$\n",
    "for some link function $g$ and where $\\mu_i=E(Y_i)$.\n",
    "\n",
    "1. Use the above expressions to write a simplified expression for the log-likelihood $l(\\theta)$ for the entire dataset, $y_1, \\dots, y_n$.\n",
    "\n",
    "    > **Answer 1** $$ l(\\theta) = \\log [\\Pi _i f(y_i|\\theta _i)] = \\Sigma _i [\\log f(y_i|\\theta _i)] = \\Sigma _i l_i(\\theta _i) $$\n",
    "\n",
    "2. Use the chain rule to express $\\frac{\\partial l_i}{\\partial \\beta_j}$ in terms of the derivatives of $l_i, \\theta_i, \\mu_i$, and $\\eta_i$. (*Hint*: Think carefully about which variables are related to which, and in what way. For example, for which of the above variables do you know the derivative with respect to $\\beta_j$?)\n",
    "\n",
    "    > **Answer 2** \n",
    "    \n",
    "    > Dependence Chain =\n",
    "    \n",
    "    > (loss_function vs. natrual_parameter $\\theta $) \n",
    "    \n",
    "    > x (natrual_parameter $\\theta $ vs. mean) \n",
    "    \n",
    "    > x (mean vs. link_function ) \n",
    "    \n",
    "    > x (linear_predictor_components) \n",
    "    \n",
    "    > $$ \\frac{\\partial l_i}{\\partial \\beta_j} = \\frac{\\partial l_i}{\\partial \\theta _i} \\frac{\\partial \\theta _i}{\\partial \\mu _i} \\frac{\\partial \\mu _i}{\\partial \\eta _i} \\frac{\\partial \\eta _i}{\\partial \\beta_j} $$\n",
    "\n",
    "3. Compute the derivatives for $\\frac{\\partial l_i}{\\partial \\theta_i}$ and $\\frac{\\partial \\eta_i}{\\partial \\beta_j}$.\n",
    "\n",
    "    > **Answer 3** $$ \\frac{\\partial l_i}{\\partial \\theta_i} = \\frac{1}{f(y_i|\\theta _i)} \\frac{\\partial f(y_i|\\theta _i)}{\\partial \\theta _i} =  \\frac{1}{f(y_i|\\theta _i)} f(y_i|\\theta _i) (y_i-b^{'}(\\theta _i)) = y_i-b^{'}(\\theta _i) = y_i - \\mu _i $$\n",
    "    \n",
    "    > $$\\frac{\\partial \\eta_i}{\\partial \\beta_j} = x_{ij} $$\n",
    "\n",
    "4. Express $\\mu_i$ in terms of $\\theta_i$, and use this relationship to compute $\\frac{\\partial \\theta_i}{\\partial \\mu_i}$. ({Hint}: Recall the cumulant function of a natural exponential family, and assume that you can write $\\partial f/\\partial g = (\\partial g / \\partial f)^{-1}$.)\n",
    "\n",
    "    > **Answer 4** $$ \\mu _i = b^{'}(\\theta _i) $$\n",
    "    \n",
    "    > $$ \\frac{\\partial \\theta_i}{\\partial \\mu_i} = \\frac{1}{\\frac{\\partial \\mu_i}{\\partial \\theta _i}} = \\frac{1}{b^{''}(\\theta _i)}$$\n",
    "\n",
    "5. Express $\\eta_i$ in terms of $\\mu_i$. Using the same hint as the above, compute $\\frac{\\partial \\mu_i}{\\partial \\eta_i}$.\n",
    "\n",
    "    > **Answer 5** $$ \\eta _i = g(\\mu _i) $$\n",
    "    \n",
    "    > $$ \\frac{\\partial \\mu_i}{\\partial \\eta_i} = \\frac{1}{\\frac{\\partial \\eta_i}{\\partial \\mu_i}} = \\frac{1}{g^{'}(\\mu_i)} $$\n",
    "\n",
    "6. Put all of the above parts together to write an expression for $\\frac{\\partial l}{\\partial \\beta_j}$. Use matrix notation to write this expression as $$\\nabla_{\\beta} l(\\beta) = XDV^{-1}(Y - \\mu) = 0$$ That is, compute the matrices $D$ and $V$ such that this equation holds.\n",
    "    \n",
    "    > **Answer 6** $$ \\frac{\\partial l}{\\partial \\beta_j} =  \\frac{\\partial l_i}{\\partial \\theta _i} \\frac{\\partial \\theta _i}{\\partial \\mu _i} \\frac{\\partial \\mu _i}{\\partial \\eta _i} \\frac{\\partial \\eta _i}{\\partial \\beta_j} = (y_i - \\mu _i) \\frac{1}{b^{''}(\\theta _i)} \\frac{1}{g^{'}(\\mu_i)} x_{ij} $$\n",
    "    \n",
    "    > $$ \\nabla_{\\beta} l(\\beta) = XDV^{-1}(Y - \\mu) = 0 $$\n",
    "    \n",
    "    > $$ D = \\begin{bmatrix}\n",
    "        \\frac{1}{g^{'}(\\mu_1)} & 0 & \\ldots & 0 \\\\\n",
    "        0 & \\frac{1}{g^{'}(\\mu_2)} & \\ldots & 0 \\\\\n",
    "        \\vdots & \\vdots & \\vdots & \\vdots & \\\\\n",
    "        0 & \\ldots & 0 & \\frac{1}{g^{'}(\\mu_n)} \\\\\n",
    "        \\end{bmatrix} $$\n",
    "    \n",
    "    > $$ V = \\begin{bmatrix}\n",
    "        b^{''}(\\theta_1) & 0 & \\ldots & 0 \\\\\n",
    "        0 & b^{''}(\\theta_2) & \\ldots & 0 \\\\\n",
    "        \\vdots & \\vdots & \\vdots & \\vdots & \\\\\n",
    "        0 & \\ldots & 0 & b^{''}(\\theta_n) \\\\\n",
    "        \\end{bmatrix} \\quad\n",
    "        V^{-1} = \\begin{bmatrix}\n",
    "        \\frac{1}{b^{''}(\\mu_1)} & 0 & \\ldots & 0 \\\\\n",
    "        0 & \\frac{1}{b^{''}(\\mu_2)} & \\ldots & 0 \\\\\n",
    "        \\vdots & \\vdots & \\vdots & \\vdots & \\\\\n",
    "        0 & \\ldots & 0 & \\frac{1}{b^{''}(\\mu_n)} \\\\\n",
    "        \\end{bmatrix} $$\n",
    "\n",
    "7. If we use the canonical link function, how do your answers to part (6) simplify?\n",
    "\n",
    "    > **Answer 7** Canonical Link function gives $$ \\theta _i = x_i^{T} \\beta = \\eta_i $$.\n",
    "    > $$ \\frac{\\partial \\theta_i}{\\partial \\mu_i} \\frac{\\partial \\mu_i}{\\partial \\eta_i} = \\frac{\\partial \\theta_i}{\\eta_i} = 1$$\n",
    "    \n",
    "    > $$ D V^{-1} = I $$\n",
    "    \n",
    "    > $$ \\nabla_{\\beta} l(\\beta) = XDV^{-1}(Y - \\mu) = X(Y - \\mu) = 0 $$\n",
    "\n",
    "8. Finally, compute the above likelihood equations in the case of logistic regression, and show that this is equivalent to the solution given in lecture.\n",
    "\n",
    "    > **Answer 8** The above likelihood equations give $$Y = \\mu$$\n",
    "    \n",
    "    > $$f(y_i|\\theta) = h(y_i) e^{y_i\\theta_i - b(\\theta_i)}$$\n",
    "    \n",
    "    > In Logistic Regression, $$f(y_i|\\theta_i) = \\mu_i^{y_i} (1-\\mu_i)^{1-y_i} = exp[y_i\\ln \\frac{\\mu _i}{1-\\mu _i}+\\ln (1-\\mu_i)]$$.\n",
    "    \n",
    "    > Therefore, $$\\theta_i = \\ln \\frac{\\mu_i}{1-\\mu_i}$$\n",
    "    \n",
    "    > Plug in the solution $Y = \\mu$ and change the equation to represent matrix, we get \n",
    "    \n",
    "    > $$ \\theta = \\ln \\frac{Y}{1-Y}$$\n",
    "    \n",
    "    > $$ \\frac{Y}{1-Y} = e^{\\theta} = e^{X^T\\beta}$$\n",
    "    \n",
    "    > $$ Y = \\frac{e^{X^{T}\\beta}}{1+e^{X^{T}\\beta}}$$ Y represents P(Y=1) in the lecture.\n",
    "    \n",
    "    > This proves that the solution of the likelihood equations is the same with the formula for P(Y=1) given in the lecture.\n"
   ]
  },
  {
   "cell_type": "code",
   "execution_count": null,
   "metadata": {
    "collapsed": true
   },
   "outputs": [],
   "source": []
  }
 ],
 "metadata": {
  "anaconda-cloud": {},
  "kernelspec": {
   "display_name": "Python 3",
   "language": "python",
   "name": "python3"
  },
  "language_info": {
   "codemirror_mode": {
    "name": "ipython",
    "version": 3
   },
   "file_extension": ".py",
   "mimetype": "text/x-python",
   "name": "python",
   "nbconvert_exporter": "python",
   "pygments_lexer": "ipython3",
   "version": "3.6.1"
  }
 },
 "nbformat": 4,
 "nbformat_minor": 1
}
