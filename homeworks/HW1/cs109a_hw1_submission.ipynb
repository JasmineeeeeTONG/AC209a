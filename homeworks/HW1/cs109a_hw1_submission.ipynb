{
 "cells": [
  {
   "cell_type": "markdown",
   "metadata": {},
   "source": [
    "# CS 109A/STAT 121A/AC 209A/CSCI E-109A: Homework 1\n",
    "\n",
    "\n",
    "\n",
    "**Harvard University**<br/>\n",
    "**Fall 2017**<br/>\n",
    "**Instructors**: Pavlos Protopapas, Kevin Rader, Rahul Dave, Margo Levine\n",
    "\n",
    "---\n",
    "\n",
    "### INSTRUCTIONS\n",
    "\n",
    "**WARNING**: There is web page scraping in this homework. It takes about 40 minutes. **Do not wait till the last minute** to do this homework.\n",
    "\n",
    "- To submit your assignment follow the instructions given in canvas.\n",
    "- Restart the kernel and run the whole notebook again before you submit. There is an important CAVEAT to this. DO NOT run the web-page fetching cells again. (We have provided hints like `# DO NOT RERUN THIS CELL WHEN SUBMITTING` on some of the cells where we provide the code). Instead load your data structures from the JSON files we will ask you to save below. Otherwise you will be waiting for a long time. (Another reason to not wait until the last moment to submit.)\n",
    "\n",
    "- Do not include your name in the notebook.\n",
    "\n",
    "---"
   ]
  },
  {
   "cell_type": "markdown",
   "metadata": {},
   "source": [
    "# Homework 1: Rihanna or Mariah?"
   ]
  },
  {
   "cell_type": "markdown",
   "metadata": {},
   "source": [
    "Billboard Magazine puts out a top 100 list of \"singles\" every week. Information from this list, as well as that from music sales, radio, and other sources is used to determine a top-100 \"singles\" of the year list. A **single** is typically one song, but sometimes can be two songs which are on one \"single\" record.\n",
    "\n",
    "In this homework you will: \n",
    "\n",
    "1. Scrape Wikipedia to obtain infprmation about the best singers and groups from each year (distinguishing between the two groups) as determined by the Billboard top 100 charts. You will have to clean this data. Along the way you will learn how to save data in json files to avoid repeated scraping. \n",
    "2. Scrape Wikipedia to obtain information on these singers. You will have to scrape the web pages, this time using a cache to guard against network timeouts (or your laptop going to sleep). You will again clean the data, and save it to a json file.\n",
    "3. Use pandas to represent these two datasets and merge them.\n",
    "4. Use the individual and merged datasets to visualize the performance of the artists and their songs. We have kept the amount of analysis limited here for reasons of time; but you might enjoy exploring music genres and other aspects of the music business you can find on these wikipedia pages at your own leisure."
   ]
  },
  {
   "cell_type": "markdown",
   "metadata": {},
   "source": [
    "You should have worked through Lab0 and Lab 1, and Lecture 2.  Lab 2 will help as well."
   ]
  },
  {
   "cell_type": "markdown",
   "metadata": {},
   "source": [
    "As usual, first we import the necessary libraries.  In particular, we use [Seaborn](http://stanford.edu/~mwaskom/software/seaborn/) to give us a nicer default color palette, with our plots being of large (`poster`) size and with a white-grid background. "
   ]
  },
  {
   "cell_type": "code",
   "execution_count": 1,
   "metadata": {
    "collapsed": true,
    "scrolled": false
   },
   "outputs": [],
   "source": [
    "%matplotlib inline\n",
    "import numpy as np\n",
    "import scipy as sp\n",
    "import matplotlib as mpl\n",
    "import matplotlib.cm as cm\n",
    "import matplotlib.pyplot as plt\n",
    "import pandas as pd\n",
    "import time\n",
    "pd.set_option('display.width', 500)\n",
    "pd.set_option('display.max_columns', 100)\n",
    "pd.set_option('display.notebook_repr_html', True)\n",
    "import seaborn as sns\n",
    "sns.set_style(\"whitegrid\")\n",
    "sns.set_context(\"poster\")"
   ]
  },
  {
   "cell_type": "markdown",
   "metadata": {},
   "source": [
    "## Q1. Scraping Wikipedia for Billboard Top 100."
   ]
  },
  {
   "cell_type": "markdown",
   "metadata": {},
   "source": [
    "In this question you will scrape Wikipedia for the Billboard's top 100 singles."
   ]
  },
  {
   "cell_type": "markdown",
   "metadata": {},
   "source": [
    "### Scraping Wikipedia for Billboard singles"
   ]
  },
  {
   "cell_type": "markdown",
   "metadata": {},
   "source": [
    "We'll be using  [BeautifulSoup](http://www.crummy.com/software/BeautifulSoup/), and suggest that you use Python's built in `requests` library to fetch the web page."
   ]
  },
  {
   "cell_type": "markdown",
   "metadata": {},
   "source": [
    "#### 1.1 Parsing the Billboard Wikipedia page for 1970"
   ]
  },
  {
   "cell_type": "markdown",
   "metadata": {},
   "source": [
    "Obtain the web page at http://en.wikipedia.org/wiki/Billboard_Year-End_Hot_100_singles_of_1970 using a HTTP GET request. From this web page we'll extract the top 100 singles and their rankings. Create a list of dictionaries, 100 of them to be precise, with entries like \n",
    "\n",
    "`{'url': '/wiki/Sugarloaf_(band)', 'ranking': 30, 'band_singer': 'Sugarloaf', 'title': 'Green-Eyed Lady'}`. \n",
    "\n",
    "If you look at that web page, you'll see a link for every song, from which you can get the `url` of the singer or band. We will use these links later to scrape information about the singer or band. From the listing we can also get the band or singer name `band_singer`, and `title` of the song.\n",
    "\n",
    "*HINT: look for a table with class `wikitable`.*"
   ]
  },
  {
   "cell_type": "markdown",
   "metadata": {
    "scrolled": true
   },
   "source": [
    "You should get something similar to this (where songs is the aforementioned list):\n",
    "\n",
    "```\n",
    "songs[2:4]\n",
    "```\n",
    "\n",
    "```\n",
    "[{'band_singer': 'The Guess Who',\n",
    "  'ranking': 3,\n",
    "  'title': '\"American Woman\"',\n",
    "  'url': '/wiki/The_Guess_Who'},\n",
    " {'band_singer': 'B.J. Thomas',\n",
    "  'ranking': 4,\n",
    "  'title': '\"Raindrops Keep Fallin\\' on My Head\"',\n",
    "  'url': '/wiki/B.J._Thomas'}]\n",
    "```"
   ]
  },
  {
   "cell_type": "code",
   "execution_count": 2,
   "metadata": {
    "collapsed": true
   },
   "outputs": [],
   "source": [
    "import requests\n",
    "from bs4 import BeautifulSoup"
   ]
  },
  {
   "cell_type": "code",
   "execution_count": 3,
   "metadata": {
    "collapsed": true
   },
   "outputs": [],
   "source": [
    "req_1970 = requests.get('http://en.wikipedia.org/wiki/Billboard_Year-End_Hot_100_singles_of_1970')\n",
    "page_1970 = req_1970.text\n",
    "\n",
    "soup_1970 = BeautifulSoup(page_1970, 'html.parser')"
   ]
  },
  {
   "cell_type": "code",
   "execution_count": 4,
   "metadata": {
    "collapsed": true
   },
   "outputs": [],
   "source": [
    "# find the wikitable and find its rows, columns\n",
    "wikitable_1970 = soup_1970.find_all('table', 'wikitable')\n",
    "rows_1970 = [row for row in wikitable_1970[0].find_all(\"tr\")]\n",
    "header_row_1970 = rows_1970[0]\n",
    "columns_1970 = [col.get_text() for col in header_row_1970.find_all(\"th\") if col.get_text()]"
   ]
  },
  {
   "cell_type": "code",
   "execution_count": 5,
   "metadata": {},
   "outputs": [],
   "source": [
    "# get values from the wikitable for the dictionary\n",
    "entries_1970 = []\n",
    "for row in rows_1970[1:]:\n",
    "    entries_1970.append(row.find_all('td'))"
   ]
  },
  {
   "cell_type": "code",
   "execution_count": 6,
   "metadata": {
    "scrolled": true
   },
   "outputs": [
    {
     "data": {
      "text/plain": [
       "[{'band_singer': 'The Guess Who',\n",
       "  'ranking': '3',\n",
       "  'title': '\"American Woman\"',\n",
       "  'url': '/wiki/The_Guess_Who'},\n",
       " {'band_singer': 'B.J. Thomas',\n",
       "  'ranking': '4',\n",
       "  'title': '\"Raindrops Keep Fallin\\' on My Head\"',\n",
       "  'url': '/wiki/B.J._Thomas'}]"
      ]
     },
     "execution_count": 6,
     "metadata": {},
     "output_type": "execute_result"
    }
   ],
   "source": [
    "songs_1970 = []\n",
    "\n",
    "for i, entry in enumerate(entries_1970):\n",
    "    entry_dict = dict.fromkeys(['band_singer','ranking', 'title', 'url'])\n",
    "    entry_dict['band_singer'] = entries_1970[i][2].get_text()\n",
    "    entry_dict['ranking'] = entries_1970[i][0].get_text()\n",
    "    entry_dict['title'] = entries_1970[i][1].get_text()\n",
    "    entry_dict['url'] = entries_1970[i][2].find('a').get('href', None)\n",
    "    songs_1970.append(entry_dict)\n",
    "\n",
    "songs_1970[2:4]"
   ]
  },
  {
   "cell_type": "markdown",
   "metadata": {},
   "source": [
    "#### 1.2 Generalize the previous: scrape Wikipedia from 1992 to 2014"
   ]
  },
  {
   "cell_type": "markdown",
   "metadata": {},
   "source": [
    "By visiting the urls similar to the ones for 1970, we can obtain the billboard top 100 for the years 1992 to 2014. (We choose these later years rather than 1970 as you might find music from this era more interesting.) Download these using Python's `requests` module and store the text from those requests in a dictionary called `yearstext`. This dictionary ought to have as its keys the years (as integers from 1992 to 2014), and as values corresponding to these keys the text of the page being fetched.\n",
    "\n",
    "You ought to sleep a second (look up `time.sleep` in Python) at the very least in-between fetching each web page: you do not want Wikipedia to think you are a marauding bot attempting to mount a denial-of-service attack."
   ]
  },
  {
   "cell_type": "markdown",
   "metadata": {},
   "source": [
    "*HINT: you might find `range` and string-interpolation useful to construct the URLs *.\n"
   ]
  },
  {
   "cell_type": "code",
   "execution_count": 10,
   "metadata": {
    "collapsed": true
   },
   "outputs": [],
   "source": [
    "yearstext = {}\n",
    "for year in range(1992, 2015):\n",
    "    req = requests.get('http://en.wikipedia.org/wiki/Billboard_Year-End_Hot_100_singles_of_{}'.format(year))\n",
    "    page = req.text\n",
    "    yearstext.update({year: page})\n",
    "    time.sleep(10)"
   ]
  },
  {
   "cell_type": "markdown",
   "metadata": {},
   "source": [
    "#### 1.3 Parse and Clean data "
   ]
  },
  {
   "cell_type": "markdown",
   "metadata": {},
   "source": [
    "Remember the code you wrote to get data from 1970 which produces a list of dictionaries, one corresponding to each single.  Now write a function `parse_year(the_year, yeartext_dict)` which takes the year, prints it out, gets the text for the year from the just created `yearstext` dictionary, and return a list of dictionaries for that year, with one dictionary for each single. Store this list in the variable `yearinfo`.\n",
    "\n",
    "The dictionaries **must** be of this form:\n",
    "\n",
    "```\n",
    "{'band_singer': ['Brandy', 'Monica'],\n",
    "  'ranking': 2,\n",
    "  'song': ['The Boy Is Mine'],\n",
    "  'songurl': ['/wiki/The_Boy_Is_Mine_(song)'],\n",
    "  'titletext': '\" The Boy Is Mine \"',\n",
    "  'url': ['/wiki/Brandy_Norwood', '/wiki/Monica_(entertainer)']}\n",
    "```"
   ]
  },
  {
   "cell_type": "markdown",
   "metadata": {},
   "source": [
    "The spec of this function is provided below:"
   ]
  },
  {
   "cell_type": "code",
   "execution_count": null,
   "metadata": {},
   "outputs": [],
   "source": [
    "\"\"\"\n",
    "Function\n",
    "--------\n",
    "parse_year\n",
    "\n",
    "Inputs\n",
    "------\n",
    "the_year: the year you want the singles for\n",
    "yeartext_dict: a dictionary with keys as integer years and values the downloaded web pages \n",
    "    from wikipedia for that year.\n",
    "   \n",
    "Returns\n",
    "-------\n",
    "\n",
    "a list of dictionaries, each of which corresponds to a single and has the\n",
    "following data:\n",
    "\n",
    "Eg:\n",
    "\n",
    "{'band_singer': ['Brandy', 'Monica'],\n",
    "  'ranking': 2,\n",
    "  'song': ['The Boy Is Mine'],\n",
    "  'songurl': ['/wiki/The_Boy_Is_Mine_(song)'],\n",
    "  'titletext': '\" The Boy Is Mine \"',\n",
    "  'url': ['/wiki/Brandy_Norwood', '/wiki/Monica_(entertainer)']}\n",
    "  \n",
    "A dictionary with the following data:\n",
    "    band_singer: a list of bands/singers who made this single\n",
    "    song: a list of the titles of songs on this single\n",
    "    songurl: a list of the same size as song which has urls for the songs on the single \n",
    "        (see point 3 above)\n",
    "    ranking: ranking of the single\n",
    "    titletext: the contents of the table cell\n",
    "    band_singer: a list of bands or singers on this single\n",
    "    url: a list of wikipedia singer/band urls on this single: only put in the part \n",
    "        of the url from /wiki onwards\n",
    "    \n",
    "\n",
    "Notes\n",
    "-----\n",
    "See description and example above.\n",
    "\"\"\""
   ]
  },
  {
   "cell_type": "code",
   "execution_count": 9,
   "metadata": {
    "collapsed": true
   },
   "outputs": [],
   "source": [
    "def parse_year(the_year, yeartext_dict):\n",
    "    soup = BeautifulSoup(yeartext_dict[the_year], 'html.parser')\n",
    "    \n",
    "    # Find the wikitable and get its rows, columns\n",
    "    wikitable = soup.find_all('table', 'wikitable')\n",
    "    rows = [row for row in wikitable[0].find_all(\"tr\")]\n",
    "    header_row = rows[0]\n",
    "    columns = [col.get_text() for col in header_row.find_all(\"th\") if col.get_text()]\n",
    "    \n",
    "    # Get values from the wikitable for the dictionary\n",
    "    entries = []\n",
    "    for row in rows[1:]:\n",
    "        entries.append(row.find_all(['td', 'th']))\n",
    "    \n",
    "    # Construct the dictionary\n",
    "    songs = []\n",
    "    for i, entry in enumerate(entries):\n",
    "        entry_dict = {'band_singer':[], 'ranking':[], 'song':[], 'songurl':[], 'titletext':[],'url':[]}\n",
    "        entry_dict['ranking'] = float(entries[i][0].get_text()) #get ranking\n",
    "        entry_dict['titletext'] = entries[i][1].get_text() #get titletext\n",
    "\n",
    "        #get song name(s) and song url(s)\n",
    "        song = entries[i][1]\n",
    "        for s in song.find_all('a'): #find all song anchors\n",
    "            entry_dict['song'].append(s.get_text()) #parse by url tags\n",
    "            entry_dict['songurl'].append(s.get('href', None))\n",
    "        if (entry_dict['song'] == []): #if no song anchor is found, use the text stripped of \"\" marks\n",
    "            entry_dict['song'] = entries[i][1].get_text().replace('\"','') \n",
    "            entry_dict['songurl'] = [None]\n",
    "\n",
    "        #get artist name(s) and artist url(s)\n",
    "        artist = entries[i][2]\n",
    "        for a in artist.find_all('a'): #find all artist anchors\n",
    "            entry_dict['band_singer'].append(a.get_text()) #parse by url tags\n",
    "            entry_dict['url'].append(a.get('href', None))\n",
    "        if (entry_dict['band_singer'] == []): #if no song anchor is found, use the text stripped of \"\" marks\n",
    "            entry_dict['band_singer'] = entries[i][2].get_text().replace('\"','') \n",
    "            entry_dict['url'] = [None]\n",
    "\n",
    "        songs.append(entry_dict)\n",
    "    \n",
    "    return songs"
   ]
  },
  {
   "cell_type": "code",
   "execution_count": 12,
   "metadata": {
    "collapsed": true
   },
   "outputs": [],
   "source": [
    "yearinfo = {}\n",
    "\n",
    "for year in range(1992, 2015):\n",
    "    hit_list_dict = parse_year(year, yearstext)\n",
    "    yearinfo.update({year:hit_list_dict})"
   ]
  },
  {
   "cell_type": "markdown",
   "metadata": {},
   "source": [
    "#### Helpful notes\n",
    "\n",
    "Notice that some singles might have multiple songs:\n",
    "\n",
    "```\n",
    "{'band_singer': ['Jewel'],\n",
    "  'ranking': 2,\n",
    "  'song': ['Foolish Games', 'You Were Meant for Me'],\n",
    "  'songurl': ['/wiki/Foolish_Games',\n",
    "   '/wiki/You_Were_Meant_for_Me_(Jewel_song)'],\n",
    "  'titletext': '\" Foolish Games \" / \" You Were Meant for Me \"',\n",
    "  'url': ['/wiki/Jewel_(singer)']}\n",
    "```"
   ]
  },
  {
   "cell_type": "markdown",
   "metadata": {},
   "source": [
    "And some singles don't have a song URL:\n",
    "\n",
    "```\n",
    "{'band_singer': [u'Nu Flavor'],\n",
    "  'ranking': 91,\n",
    "  'song': [u'Heaven'],\n",
    "  'songurl': [None],\n",
    "  'titletext': u'\"Heaven\"',\n",
    "  'url': [u'/wiki/Nu_Flavor']}\n",
    "```"
   ]
  },
  {
   "cell_type": "markdown",
   "metadata": {},
   "source": [
    "Thus there are some issues this function must handle:\n",
    "\n",
    "1. There can be more than one  `band_singer` as can be seen above (sometimes with a comma, sometimes with \"featuring\" in between). The best way to parse these is to look for the urls.\n",
    "2. There can be two songs in a single, because of the way the industry works: there are two-sided singles. See https://en.wikipedia.org/wiki/Billboard_Year-End_Hot_100_singles_of_1997 for an example. You can find other examples in 1998 and 1999.\n",
    "3. The `titletext` is the contents of the table cell, and retains the quotes that Wikipedia puts on the single.\n",
    "4. If no song anchor is found (see the 24th song in the above url), assume there is one song in the single, set `songurl` to [`None`] and the song name to the contents of the table cell with the quotes stripped (ie `song` is a one-element list with this the `titletext` stripped of its quotes)."
   ]
  },
  {
   "cell_type": "markdown",
   "metadata": {},
   "source": [
    "As a check, we can do this for 1997. We'll print the first 5 outputs: `parse_year(1997, yearstext)[:5]`"
   ]
  },
  {
   "cell_type": "markdown",
   "metadata": {},
   "source": [
    "This should give the following. Notice that the year 1997 exercises the edge cases we talked about earlier."
   ]
  },
  {
   "cell_type": "markdown",
   "metadata": {},
   "source": [
    "```\n",
    "[{'band_singer': ['Elton John'],\n",
    "  'ranking': 1,\n",
    "  'song': ['Something About the Way You Look Tonight',\n",
    "   'Candle in the Wind 1997'],\n",
    "  'songurl': ['/wiki/Something_About_the_Way_You_Look_Tonight',\n",
    "   '/wiki/Candle_in_the_Wind_1997'],\n",
    "  'titletext': '\" Something About the Way You Look Tonight \" / \" Candle in the Wind 1997 \"',\n",
    "  'url': ['/wiki/Elton_John']},\n",
    " {'band_singer': ['Jewel'],\n",
    "  'ranking': 2,\n",
    "  'song': ['Foolish Games', 'You Were Meant for Me'],\n",
    "  'songurl': ['/wiki/Foolish_Games',\n",
    "   '/wiki/You_Were_Meant_for_Me_(Jewel_song)'],\n",
    "  'titletext': '\" Foolish Games \" / \" You Were Meant for Me \"',\n",
    "  'url': ['/wiki/Jewel_(singer)']},\n",
    " {'band_singer': ['Puff Daddy', 'Faith Evans', '112'],\n",
    "  'ranking': 3,\n",
    "  'song': [\"I'll Be Missing You\"],\n",
    "  'songurl': ['/wiki/I%27ll_Be_Missing_You'],\n",
    "  'titletext': '\" I\\'ll Be Missing You \"',\n",
    "  'url': ['/wiki/Sean_Combs', '/wiki/Faith_Evans', '/wiki/112_(band)']},\n",
    " {'band_singer': ['Toni Braxton'],\n",
    "  'ranking': 4,\n",
    "  'song': ['Un-Break My Heart'],\n",
    "  'songurl': ['/wiki/Un-Break_My_Heart'],\n",
    "  'titletext': '\" Un-Break My Heart \"',\n",
    "  'url': ['/wiki/Toni_Braxton']},\n",
    " {'band_singer': ['Puff Daddy', 'Mase'],\n",
    "  'ranking': 5,\n",
    "  'song': [\"Can't Nobody Hold Me Down\"],\n",
    "  'songurl': ['/wiki/Can%27t_Nobody_Hold_Me_Down'],\n",
    "  'titletext': '\" Can\\'t Nobody Hold Me Down \"',\n",
    "  'url': ['/wiki/Sean_Combs', '/wiki/Mase']}]\n",
    "```"
   ]
  },
  {
   "cell_type": "code",
   "execution_count": 13,
   "metadata": {},
   "outputs": [
    {
     "data": {
      "text/plain": [
       "[{'band_singer': ['Elton John'],\n",
       "  'ranking': 1.0,\n",
       "  'song': ['Something About the Way You Look Tonight',\n",
       "   'Candle in the Wind 1997'],\n",
       "  'songurl': ['/wiki/Something_About_the_Way_You_Look_Tonight',\n",
       "   '/wiki/Candle_in_the_Wind_1997'],\n",
       "  'titletext': '\"Something About the Way You Look Tonight\" / \"Candle in the Wind 1997\"',\n",
       "  'url': ['/wiki/Elton_John']},\n",
       " {'band_singer': ['Jewel'],\n",
       "  'ranking': 2.0,\n",
       "  'song': ['Foolish Games', 'You Were Meant for Me'],\n",
       "  'songurl': ['/wiki/Foolish_Games',\n",
       "   '/wiki/You_Were_Meant_for_Me_(Jewel_song)'],\n",
       "  'titletext': '\"Foolish Games\" / \"You Were Meant for Me\"',\n",
       "  'url': ['/wiki/Jewel_(singer)']},\n",
       " {'band_singer': ['Puff Daddy', 'Faith Evans', '112'],\n",
       "  'ranking': 3.0,\n",
       "  'song': [\"I'll Be Missing You\"],\n",
       "  'songurl': ['/wiki/I%27ll_Be_Missing_You'],\n",
       "  'titletext': '\"I\\'ll Be Missing You\"',\n",
       "  'url': ['/wiki/Sean_Combs', '/wiki/Faith_Evans', '/wiki/112_(band)']},\n",
       " {'band_singer': ['Toni Braxton'],\n",
       "  'ranking': 4.0,\n",
       "  'song': ['Un-Break My Heart'],\n",
       "  'songurl': ['/wiki/Un-Break_My_Heart'],\n",
       "  'titletext': '\"Un-Break My Heart\"',\n",
       "  'url': ['/wiki/Toni_Braxton']},\n",
       " {'band_singer': ['Puff Daddy', 'Mase'],\n",
       "  'ranking': 5.0,\n",
       "  'song': [\"Can't Nobody Hold Me Down\"],\n",
       "  'songurl': ['/wiki/Can%27t_Nobody_Hold_Me_Down'],\n",
       "  'titletext': '\"Can\\'t Nobody Hold Me Down\"',\n",
       "  'url': ['/wiki/Sean_Combs', '/wiki/Mase']}]"
      ]
     },
     "execution_count": 13,
     "metadata": {},
     "output_type": "execute_result"
    }
   ],
   "source": [
    "parse_year(1997, yearstext)[:5]"
   ]
  },
  {
   "cell_type": "markdown",
   "metadata": {},
   "source": [
    "#### Save a json file of information from the scraped files"
   ]
  },
  {
   "cell_type": "markdown",
   "metadata": {},
   "source": [
    "We do not want to lose all this work, so let's save the last data structure we created to disk. That way if you need to re-run from here, you don't need to redo all these requests and parsing. \n",
    "\n",
    "DO NOT RERUN THE HTTP REQUESTS TO WIKIPEDIA WHEN SUBMITTING.\n",
    "\n",
    "*We **DO NOT** need to see these JSON files in your submission!*"
   ]
  },
  {
   "cell_type": "code",
   "execution_count": 11,
   "metadata": {
    "collapsed": true
   },
   "outputs": [],
   "source": [
    "import json"
   ]
  },
  {
   "cell_type": "code",
   "execution_count": null,
   "metadata": {
    "collapsed": true,
    "scrolled": false
   },
   "outputs": [],
   "source": [
    "# DO NOT RERUN THIS CELL WHEN SUBMITTING\n",
    "fd = open(\"data/yearinfo.json\",\"w\")\n",
    "json.dump(yearinfo, fd)\n",
    "fd.close()\n",
    "del yearinfo"
   ]
  },
  {
   "cell_type": "markdown",
   "metadata": {},
   "source": [
    "Now let's reload our JSON file into the yearinfo variable, just to be sure everything is working."
   ]
  },
  {
   "cell_type": "code",
   "execution_count": 14,
   "metadata": {
    "collapsed": true,
    "scrolled": true
   },
   "outputs": [],
   "source": [
    "# RERUN WHEN SUBMITTING\n",
    "# Another way to deal with files. Has the advantage of closing the file for you.\n",
    "with open(\"data/yearinfo.json\", \"r\") as fd:\n",
    "    yearinfo = json.load(fd)"
   ]
  },
  {
   "cell_type": "markdown",
   "metadata": {},
   "source": [
    "#### 1.4 Construct a year-song-singer dataframe from the yearly information"
   ]
  },
  {
   "cell_type": "markdown",
   "metadata": {},
   "source": [
    "Let's construct a dataframe `flatframe` from the `yearinfo`. The frame should be similar to the frame below.  Each row of the frame represents a song, and carries with it the chief properties of year, song, singer, and ranking.\n",
    "\n",
    "![](https://raw.githubusercontent.com/cs109/a-2017/master/hwassets/images/HW1SC1.png)"
   ]
  },
  {
   "cell_type": "markdown",
   "metadata": {},
   "source": [
    "To construct the dataframe, we'll need to iterate over the years and the singles per year. Notice how, above, the dataframe is ordered by ranking and then year. While the exact order is up to you, note that you will have to come up with a scheme to order the information.\n",
    "\n",
    "Check that the dataframe has sensible data types. You will also likely find that the year field has become an \"object\" (Pandas treats strings as generic objects): this is due to the conversion to and back from JSON. Such conversions need special care. Fix any data type issues with `flatframe`. (See Pandas [astype](http://pandas.pydata.org/pandas-docs/stable/generated/pandas.DataFrame.astype.html) function.) \n",
    "We will use this `flatframe` in the next question. \n",
    "\n",
    "(As an aside, we used the name `flatframe` to indicate that this dataframe is flattened from a hierarchical dictionary structure with the keys being the years.)"
   ]
  },
  {
   "cell_type": "code",
   "execution_count": 15,
   "metadata": {},
   "outputs": [
    {
     "data": {
      "text/html": [
       "<div>\n",
       "<style>\n",
       "    .dataframe thead tr:only-child th {\n",
       "        text-align: right;\n",
       "    }\n",
       "\n",
       "    .dataframe thead th {\n",
       "        text-align: left;\n",
       "    }\n",
       "\n",
       "    .dataframe tbody tr th {\n",
       "        vertical-align: top;\n",
       "    }\n",
       "</style>\n",
       "<table border=\"1\" class=\"dataframe\">\n",
       "  <thead>\n",
       "    <tr style=\"text-align: right;\">\n",
       "      <th></th>\n",
       "      <th>ranking</th>\n",
       "      <th>song</th>\n",
       "      <th>songurl</th>\n",
       "      <th>year</th>\n",
       "      <th>band_singer</th>\n",
       "      <th>url</th>\n",
       "    </tr>\n",
       "  </thead>\n",
       "  <tbody>\n",
       "    <tr>\n",
       "      <th>0</th>\n",
       "      <td>1.0</td>\n",
       "      <td>End of the Road</td>\n",
       "      <td>/wiki/End_of_the_Road</td>\n",
       "      <td>1992</td>\n",
       "      <td>Boyz II Men</td>\n",
       "      <td>/wiki/Boyz_II_Men</td>\n",
       "    </tr>\n",
       "    <tr>\n",
       "      <th>1</th>\n",
       "      <td>2.0</td>\n",
       "      <td>Baby Got Back</td>\n",
       "      <td>/wiki/Baby_Got_Back</td>\n",
       "      <td>1992</td>\n",
       "      <td>Sir Mix-a-Lot</td>\n",
       "      <td>/wiki/Sir_Mix-a-Lot</td>\n",
       "    </tr>\n",
       "    <tr>\n",
       "      <th>2</th>\n",
       "      <td>3.0</td>\n",
       "      <td>Jump</td>\n",
       "      <td>/wiki/Jump</td>\n",
       "      <td>1992</td>\n",
       "      <td>Kris Kross</td>\n",
       "      <td>/wiki/Kris_Kross</td>\n",
       "    </tr>\n",
       "    <tr>\n",
       "      <th>3</th>\n",
       "      <td>4.0</td>\n",
       "      <td>Save the Best for Last</td>\n",
       "      <td>/wiki/Save_the_Best_for_Last</td>\n",
       "      <td>1992</td>\n",
       "      <td>Vanessa Williams</td>\n",
       "      <td>/wiki/Vanessa_L._Williams</td>\n",
       "    </tr>\n",
       "    <tr>\n",
       "      <th>4</th>\n",
       "      <td>5.0</td>\n",
       "      <td>Baby-Baby-Baby</td>\n",
       "      <td>/wiki/Baby-Baby-Baby</td>\n",
       "      <td>1992</td>\n",
       "      <td>TLC</td>\n",
       "      <td>/wiki/TLC_(band)</td>\n",
       "    </tr>\n",
       "  </tbody>\n",
       "</table>\n",
       "</div>"
      ],
      "text/plain": [
       "   ranking                    song                       songurl  year       band_singer                        url\n",
       "0      1.0         End of the Road         /wiki/End_of_the_Road  1992       Boyz II Men          /wiki/Boyz_II_Men\n",
       "1      2.0           Baby Got Back           /wiki/Baby_Got_Back  1992     Sir Mix-a-Lot        /wiki/Sir_Mix-a-Lot\n",
       "2      3.0                    Jump                    /wiki/Jump  1992        Kris Kross           /wiki/Kris_Kross\n",
       "3      4.0  Save the Best for Last  /wiki/Save_the_Best_for_Last  1992  Vanessa Williams  /wiki/Vanessa_L._Williams\n",
       "4      5.0          Baby-Baby-Baby          /wiki/Baby-Baby-Baby  1992               TLC           /wiki/TLC_(band)"
      ]
     },
     "execution_count": 15,
     "metadata": {},
     "output_type": "execute_result"
    }
   ],
   "source": [
    "songs_dict_list = []\n",
    "singers_dict_list = []\n",
    "for year in yearinfo:\n",
    "    for record in yearinfo[str(year)]:\n",
    "        songs = record['song']\n",
    "        songurls = record['songurl']\n",
    "        for song, songurl in zip(songs, songurls):\n",
    "            songs_dict = {}\n",
    "            songs_dict['year'] = str(year)\n",
    "            songs_dict['ranking'] = record['ranking']\n",
    "            songs_dict['song'] = song\n",
    "            songs_dict['songurl'] = songurl\n",
    "            songs_dict_list.append(songs_dict)\n",
    "            \n",
    "            \n",
    "for year in yearinfo:    \n",
    "    for record in yearinfo[str(year)]:\n",
    "        singers = record['band_singer']\n",
    "        urls = record['url']\n",
    "        for singer, url in zip(singers, urls):\n",
    "            singer_dict = {}\n",
    "            singer_dict['year'] = str(year)\n",
    "            singer_dict['ranking'] = record['ranking']\n",
    "            singer_dict['band_singer'] = singer\n",
    "            singer_dict['url'] = url\n",
    "            singers_dict_list.append(singer_dict)\n",
    "\n",
    "df_song = pd.DataFrame(songs_dict_list)\n",
    "df_singer = pd.DataFrame(singers_dict_list)\n",
    "flatframe = df_song.merge(df_singer, how='inner')\n",
    "flatframe.head()"
   ]
  },
  {
   "cell_type": "markdown",
   "metadata": {},
   "source": [
    "### Who are the highest quality singers?"
   ]
  },
  {
   "cell_type": "markdown",
   "metadata": {},
   "source": [
    "Here we show the highest quality singers and plot them on a bar chart.\n",
    "\n",
    "#### 1.5 Find highest quality singers according to how prolific they are\n",
    "\n",
    "What do we mean by highest quality? This is of course open to interpretation, but let's define \"highest quality\" here as the number of times a singer appears in the top 100 over this time period. If a singer appears twice in a year (for different songs), this is counted as two appearances, not one. \n",
    "\n",
    "Make a bar-plot of the most prolific singers. Singers on this chart should have appeared at-least more than 15 times. (HINT: look at the docs for the pandas method `value_counts`.)\n"
   ]
  },
  {
   "cell_type": "code",
   "execution_count": 16,
   "metadata": {},
   "outputs": [
    {
     "data": {
      "image/png": "[encoded data removed]",
      "text/plain": [
       "<matplotlib.figure.Figure at 0x114532d68>"
      ]
     },
     "metadata": {},
     "output_type": "display_data"
    }
   ],
   "source": [
    "singer_counts = flatframe['band_singer'].value_counts(sort=True)\n",
    "prolific_singers = singer_counts[singer_counts > 15]\n",
    "\n",
    "ax = plt.gca()\n",
    "prolific_singers.plot(kind='barh', alpha=0.5).invert_yaxis()\n",
    "nums = np.arange(len(prolific_singers))\n",
    "for singer, p in zip(prolific_singers, nums):\n",
    "    plt.annotate(str(singer), xy=(singer + 1, p), va='center')\n",
    "plt.grid(axis='y', color='white', linestyle='-')\n",
    "plt.title('Most prolific singers')\n",
    "plt.xlabel('# of top-100 appearances from 1992 to 2014')\n",
    "sns.despine()"
   ]
  },
  {
   "cell_type": "markdown",
   "metadata": {},
   "source": [
    "#### 1.6 What if we used a different metric?"
   ]
  },
  {
   "cell_type": "markdown",
   "metadata": {},
   "source": [
    "What we would like to capture is this: a singer should to be scored higher if the singer appears higher in the rankings. So we'd say that a singer who appeared once at a higher and once at a lower ranking is a \"higher quality\" singer than one who appeared twice at a lower ranking. \n",
    "\n",
    "To do this, group all of a singers songs together and assign each song a score `101 - ranking`. Order the singers by their total score and make a bar chart for the top 20.\n"
   ]
  },
  {
   "cell_type": "code",
   "execution_count": 17,
   "metadata": {},
   "outputs": [
    {
     "data": {
      "image/png": "[encoded data removed]",
      "text/plain": [
       "<matplotlib.figure.Figure at 0x113dbad68>"
      ]
     },
     "metadata": {},
     "output_type": "display_data"
    }
   ],
   "source": [
    "top_20 = flatframe.groupby(['band_singer'])['ranking'].apply(lambda x: np.sum(101-x)).sort_values(ascending=False)[:20]\n",
    "ax = plt.gca()\n",
    "top_20.plot(kind='barh', alpha=0.5).invert_yaxis()\n",
    "nums = np.arange(len(top_20))\n",
    "for singer, p in zip(top_20, nums):\n",
    "    plt.annotate(str(int(singer)), xy=(singer + 30, p), va='center')\n",
    "plt.grid(axis='y', color='white', linestyle='-')\n",
    "plt.title('Top 20 singers')\n",
    "plt.xlabel('Total score')\n",
    "sns.despine()\n"
   ]
  },
  {
   "cell_type": "markdown",
   "metadata": {},
   "source": [
    "#### 1.7 Do you notice any major differences when you change the metric?\n",
    "\n",
    "How have the singers at the top shifted places? Why do you think this happens?"
   ]
  },
  {
   "cell_type": "markdown",
   "metadata": {},
   "source": [
    "<font color='blue'> <strong>Answer: </strong><br>\n",
    "\n",
    "The two lists are very similar because the more times a singer/band made the top-100, the higher score they would have received based on our definition of score. \n",
    "\n",
    "However, there are minor differences in the list and the ranking of people when the metric was changed. Those who appeared in the \"Top 20 singers\" but not in the \"Most prolific singers\" did not make the top-100 very frequently but ranked very highly each time they did. Examples of this group include 50 Cent and Bruno Mars.\n",
    "\n",
    "On the other hand, those who appeared in the \"Most prolific singers\" but not in the \"Top 20 singers\" made the top-100 frequently but did not achieve high ranking each time they did. Examples of this group include Britney Spears and Taylor Swift.\n",
    "</font>"
   ]
  },
  {
   "cell_type": "markdown",
   "metadata": {},
   "source": [
    "## Q2. Scraping and Constructing: Information about Artists, Bands and Genres from Wikipedia"
   ]
  },
  {
   "cell_type": "markdown",
   "metadata": {},
   "source": [
    "Our next job is to use those band/singer urls we collected under `flatframe.url` and get information about singers and/or bands."
   ]
  },
  {
   "cell_type": "markdown",
   "metadata": {},
   "source": [
    "### Scrape information about artists from wikipedia"
   ]
  },
  {
   "cell_type": "markdown",
   "metadata": {},
   "source": [
    "We wish to fetch information about the singers or groups for all the winning songs in a list of years.\n",
    "\n",
    "Here we show a function that fetches information about a singer or group from their url on wikipedia. We create a cache object `urlcache` that will avoid redundant HTTP requests (e.g. an artist might have multiple singles on a single year, or be on the list over a span of years). Once we have fetched information about an artist, we don't need to do it again. The caching also helps if the network goes down, or the target website is having some problems. You simply need to run the `get_page` function below again, and the `urlcache` dictionary will continue to be filled.\n",
    "\n",
    "If the request gets an HTTP return code different from 200, (such as a 404 not found or 500 Internal Server Error) the cells for that URL will have a value of 1; and if the request completely fails (e.g. no network connection) the cell will have a value of 2. This will allow you to analyse the failed requests.\n",
    "\n",
    "Notice that we have wrapped the call in whats called _an exception block_. We try to make the request. If it fails entirely, or returns a HTTP code thats not 200, we set the status to 2 and 1 respectively."
   ]
  },
  {
   "cell_type": "code",
   "execution_count": null,
   "metadata": {
    "collapsed": true,
    "scrolled": true
   },
   "outputs": [],
   "source": [
    "urlcache={}\n"
   ]
  },
  {
   "cell_type": "code",
   "execution_count": null,
   "metadata": {
    "collapsed": true,
    "scrolled": true
   },
   "outputs": [],
   "source": [
    "def get_page(url):\n",
    "    # Check if URL has already been visited.\n",
    "    if (url not in urlcache) or (urlcache[url]==1) or (urlcache[url]==2):\n",
    "        time.sleep(1)\n",
    "        # try/except blocks are used whenever the code could generate an exception (e.g. division by zero).\n",
    "        # In this case we don't know if the page really exists, or even if it does, if we'll be able to reach it.\n",
    "        try:\n",
    "            r = requests.get(\"http://en.wikipedia.org%s\" % url)\n",
    "\n",
    "            if r.status_code == 200:\n",
    "                urlcache[url] = r.text\n",
    "            else:\n",
    "                urlcache[url] = 1\n",
    "        except:\n",
    "            urlcache[url] = 2\n",
    "    return urlcache[url]\n"
   ]
  },
  {
   "cell_type": "markdown",
   "metadata": {},
   "source": [
    "We sort the `flatframe` by year, ascending, first. Think why."
   ]
  },
  {
   "cell_type": "code",
   "execution_count": 18,
   "metadata": {
    "scrolled": true
   },
   "outputs": [
    {
     "data": {
      "text/html": [
       "<div>\n",
       "<style>\n",
       "    .dataframe thead tr:only-child th {\n",
       "        text-align: right;\n",
       "    }\n",
       "\n",
       "    .dataframe thead th {\n",
       "        text-align: left;\n",
       "    }\n",
       "\n",
       "    .dataframe tbody tr th {\n",
       "        vertical-align: top;\n",
       "    }\n",
       "</style>\n",
       "<table border=\"1\" class=\"dataframe\">\n",
       "  <thead>\n",
       "    <tr style=\"text-align: right;\">\n",
       "      <th></th>\n",
       "      <th>ranking</th>\n",
       "      <th>song</th>\n",
       "      <th>songurl</th>\n",
       "      <th>year</th>\n",
       "      <th>band_singer</th>\n",
       "      <th>url</th>\n",
       "    </tr>\n",
       "  </thead>\n",
       "  <tbody>\n",
       "    <tr>\n",
       "      <th>0</th>\n",
       "      <td>1.0</td>\n",
       "      <td>End of the Road</td>\n",
       "      <td>/wiki/End_of_the_Road</td>\n",
       "      <td>1992</td>\n",
       "      <td>Boyz II Men</td>\n",
       "      <td>/wiki/Boyz_II_Men</td>\n",
       "    </tr>\n",
       "    <tr>\n",
       "      <th>77</th>\n",
       "      <td>72.0</td>\n",
       "      <td>Everything About You</td>\n",
       "      <td>/wiki/Everything_About_You_(Ugly_Kid_Joe_song)</td>\n",
       "      <td>1992</td>\n",
       "      <td>Ugly Kid Joe</td>\n",
       "      <td>/wiki/Ugly_Kid_Joe</td>\n",
       "    </tr>\n",
       "    <tr>\n",
       "      <th>76</th>\n",
       "      <td>71.0</td>\n",
       "      <td>Friday I'm in Love</td>\n",
       "      <td>/wiki/Friday_I%27m_in_Love</td>\n",
       "      <td>1992</td>\n",
       "      <td>The Cure</td>\n",
       "      <td>/wiki/The_Cure</td>\n",
       "    </tr>\n",
       "    <tr>\n",
       "      <th>75</th>\n",
       "      <td>70.0</td>\n",
       "      <td>Do I Have to Say the Words?</td>\n",
       "      <td>/wiki/Do_I_Have_to_Say_the_Words%3F</td>\n",
       "      <td>1992</td>\n",
       "      <td>Bryan Adams</td>\n",
       "      <td>/wiki/Bryan_Adams</td>\n",
       "    </tr>\n",
       "    <tr>\n",
       "      <th>74</th>\n",
       "      <td>69.0</td>\n",
       "      <td>Wildside</td>\n",
       "      <td>/wiki/Wildside_(Marky_Mark_and_the_Funky_Bunch...</td>\n",
       "      <td>1992</td>\n",
       "      <td>Marky Mark and the Funky Bunch</td>\n",
       "      <td>/wiki/Marky_Mark_and_the_Funky_Bunch</td>\n",
       "    </tr>\n",
       "  </tbody>\n",
       "</table>\n",
       "</div>"
      ],
      "text/plain": [
       "    ranking                         song                                            songurl  year                     band_singer                                   url\n",
       "0       1.0              End of the Road                              /wiki/End_of_the_Road  1992                     Boyz II Men                     /wiki/Boyz_II_Men\n",
       "77     72.0         Everything About You     /wiki/Everything_About_You_(Ugly_Kid_Joe_song)  1992                    Ugly Kid Joe                    /wiki/Ugly_Kid_Joe\n",
       "76     71.0           Friday I'm in Love                         /wiki/Friday_I%27m_in_Love  1992                        The Cure                        /wiki/The_Cure\n",
       "75     70.0  Do I Have to Say the Words?                /wiki/Do_I_Have_to_Say_the_Words%3F  1992                     Bryan Adams                     /wiki/Bryan_Adams\n",
       "74     69.0                     Wildside  /wiki/Wildside_(Marky_Mark_and_the_Funky_Bunch...  1992  Marky Mark and the Funky Bunch  /wiki/Marky_Mark_and_the_Funky_Bunch"
      ]
     },
     "execution_count": 18,
     "metadata": {},
     "output_type": "execute_result"
    }
   ],
   "source": [
    "flatframe=flatframe.sort_values('year')\n",
    "flatframe.head()"
   ]
  },
  {
   "cell_type": "markdown",
   "metadata": {},
   "source": [
    "### Clean flatframe \n",
    "There is one entry from 1997 that has no url because it was a jam from various artists. We remove this entry."
   ]
  },
  {
   "cell_type": "code",
   "execution_count": 19,
   "metadata": {},
   "outputs": [
    {
     "data": {
      "text/html": [
       "<div>\n",
       "<style>\n",
       "    .dataframe thead tr:only-child th {\n",
       "        text-align: right;\n",
       "    }\n",
       "\n",
       "    .dataframe thead th {\n",
       "        text-align: left;\n",
       "    }\n",
       "\n",
       "    .dataframe tbody tr th {\n",
       "        vertical-align: top;\n",
       "    }\n",
       "</style>\n",
       "<table border=\"1\" class=\"dataframe\">\n",
       "  <thead>\n",
       "    <tr style=\"text-align: right;\">\n",
       "      <th></th>\n",
       "      <th>ranking</th>\n",
       "      <th>song</th>\n",
       "      <th>songurl</th>\n",
       "      <th>year</th>\n",
       "      <th>band_singer</th>\n",
       "      <th>url</th>\n",
       "    </tr>\n",
       "  </thead>\n",
       "  <tbody>\n",
       "    <tr>\n",
       "      <th>642</th>\n",
       "      <td>72.0</td>\n",
       "      <td>The Jock Jam</td>\n",
       "      <td>/wiki/Jock_Jam</td>\n",
       "      <td>1997</td>\n",
       "      <td>V</td>\n",
       "      <td>None</td>\n",
       "    </tr>\n",
       "  </tbody>\n",
       "</table>\n",
       "</div>"
      ],
      "text/plain": [
       "     ranking          song         songurl  year band_singer   url\n",
       "642     72.0  The Jock Jam  /wiki/Jock_Jam  1997           V  None"
      ]
     },
     "execution_count": 19,
     "metadata": {},
     "output_type": "execute_result"
    }
   ],
   "source": [
    "flatframe[flatframe.url.isnull()]"
   ]
  },
  {
   "cell_type": "code",
   "execution_count": 20,
   "metadata": {},
   "outputs": [
    {
     "data": {
      "text/plain": [
       "ranking        False\n",
       "song           False\n",
       "songurl         True\n",
       "year           False\n",
       "band_singer    False\n",
       "url            False\n",
       "dtype: bool"
      ]
     },
     "execution_count": 20,
     "metadata": {},
     "output_type": "execute_result"
    }
   ],
   "source": [
    "flatframe = flatframe[flatframe.url.notnull()]\n",
    "flatframe.isnull().any()"
   ]
  },
  {
   "cell_type": "markdown",
   "metadata": {},
   "source": [
    "#### Pulling and saving the data"
   ]
  },
  {
   "cell_type": "code",
   "execution_count": null,
   "metadata": {
    "collapsed": true,
    "scrolled": true
   },
   "outputs": [],
   "source": [
    "# DO NOT RERUN THIS CELL WHEN SUBMITTING\n",
    "# Here we are populating the url cache\n",
    "# subsequent calls to this cell should be very fast, since Python won't\n",
    "# need to fetch the page from the web server.\n",
    "# NOTE this function will take quite some time to run (about 30 mins for me), since we sleep 1 second before\n",
    "# making a request. If you run it again it will be almost instantaneous, save requests that might have failed\n",
    "# (you will need to run it again if requests fail..see cell below for how to test this)\n",
    "flatframe[\"url\"].apply(get_page)"
   ]
  },
  {
   "cell_type": "markdown",
   "metadata": {},
   "source": [
    "You may have to run this function again and again, in case there were network problems. Note that, because there is a \"global\" cache, it will take less time each time you run it. Also note that this function is designed to be run again and again: it attempts to make sure that there are no unresolved pages remaining. Let us make sure of this: *the sum below should be 0, and the boolean True.*"
   ]
  },
  {
   "cell_type": "code",
   "execution_count": null,
   "metadata": {
    "scrolled": true
   },
   "outputs": [],
   "source": [
    "# DO NOT RERUN THIS CELL WHEN SUBMITTING\n",
    "print(\"Number of bad requests:\",np.sum([(urlcache[k]==1) or (urlcache[k]==2) for k in urlcache])) # no one or 0's)\n",
    "print(\"Did we get all urls?\", len(flatframe.url.unique())==len(urlcache)) # we got all of the urls"
   ]
  },
  {
   "cell_type": "markdown",
   "metadata": {},
   "source": [
    "Let's save the `urlcache` to disk, just in case we need it again."
   ]
  },
  {
   "cell_type": "code",
   "execution_count": null,
   "metadata": {
    "collapsed": true
   },
   "outputs": [],
   "source": [
    "# DO NOT RERUN THIS CELL WHEN SUBMITTING\n",
    "with open(\"data/artistinfo.json\",\"w\") as fd:\n",
    "    json.dump(urlcache, fd)\n",
    "del urlcache"
   ]
  },
  {
   "cell_type": "code",
   "execution_count": 21,
   "metadata": {
    "collapsed": true,
    "scrolled": false
   },
   "outputs": [],
   "source": [
    "# RERUN WHEN SUBMITTING\n",
    "with open(\"data/artistinfo.json\") as json_file:\n",
    "    urlcache = json.load(json_file)"
   ]
  },
  {
   "cell_type": "markdown",
   "metadata": {},
   "source": [
    "#### 2.1 Extract information about singers and bands"
   ]
  },
  {
   "cell_type": "markdown",
   "metadata": {},
   "source": [
    "From each page we collected about a singer or a band, extract the following information:\n",
    "\n",
    "1. If the page has the text \"Born\" in the sidebar on the right, extract the element with the class `.bday`. If the page doesn't contain \"Born\", store `False`.  Store either of these into the variable `born`. We want to analyze the artist's age.\n",
    "\n",
    "2. If the text \"Years active\" is found, but no \"born\", assume a band. Store into the variable `ya` the value of the next table cell corresponding to this, or `False` if the text is not found.\n",
    "\n",
    "Put this all into a function `singer_band_info` which takes the singer/band url as argument and returns a dictionary `dict(url=url, born=born, ya=ya)`.\n",
    "\n",
    "The information can be found on the sidebar on each such wikipedia page, as the example here shows:\n",
    "\n",
    "![sandg](https://raw.githubusercontent.com/cs109/a-2017/master/hwassets/images/sandg.png).\n",
    "\n"
   ]
  },
  {
   "cell_type": "markdown",
   "metadata": {},
   "source": [
    "Write the function `singer_band_info` according to the following specification:"
   ]
  },
  {
   "cell_type": "code",
   "execution_count": 22,
   "metadata": {
    "collapsed": true
   },
   "outputs": [],
   "source": [
    "\"\"\"\n",
    "Function\n",
    "--------\n",
    "singer_band_info\n",
    "\n",
    "Inputs\n",
    "------\n",
    "url: the url\n",
    "page_text: the text associated with the url\n",
    "   \n",
    "Returns\n",
    "-------\n",
    "A dictionary with the following data:\n",
    "    url: copy the input argument url into this value\n",
    "    born: the artist's birthday\n",
    "    ya: years active variable\n",
    "\n",
    "Notes\n",
    "-----\n",
    "See description above. Also note that some of the genres urls might require a \n",
    "bit of care and special handling.\n",
    "\"\"\"\n",
    "\n",
    "def singer_band_info(url, page_text):\n",
    "    singer_dict = {}\n",
    "    singer_dict['url'] = url\n",
    "    \n",
    "    soup = BeautifulSoup(page_text, 'html.parser')\n",
    "    box = soup.find('table', 'infobox')\n",
    "    # Return False for both 'born' and 'ya' entry if no infobox at all\n",
    "    if box == None:\n",
    "        singer_dict['born'] = False\n",
    "        singer_dict['ya'] = False\n",
    "        return singer_dict\n",
    "    # Fill in 'born' and 'ya' with contents from the infobox\n",
    "    if 'Born' in box.get_text():\n",
    "        bday_ele = soup.find('span', 'bday')\n",
    "        if bday_ele != None:\n",
    "            singer_dict['born'] = bday_ele.get_text()\n",
    "        else:\n",
    "            singer_dict['born'] = False\n",
    "    else:\n",
    "        singer_dict['born'] = False\n",
    "    if 'Years active' in box.get_text():\n",
    "        singer_dict['ya'] = soup.find('th', text='Years active').find_next('td').get_text()\n",
    "    else:\n",
    "        singer_dict['ya'] = False\n",
    "    return singer_dict"
   ]
  },
  {
   "cell_type": "markdown",
   "metadata": {},
   "source": [
    "#### 2.2  Merging this information in"
   ]
  },
  {
   "cell_type": "markdown",
   "metadata": {},
   "source": [
    "Iterate over the items in the singer-group dictionary cache `urlcache`, run the above function, and create a dataframe from there with columns `url`, `born`, and `ya`. Merge this dataframe on the `url` key with `flatframe`, creating a rather wide dataframe that we shall call `largedf`. It should look something like this:\n",
    "\n",
    "![](https://raw.githubusercontent.com/cs109/a-2017/master/hwassets/images/HW1SC3.png)\n",
    "\n",
    "Notice how the `born` and `ya` and `url` are repeated every time a different song from a given band is represented in a row."
   ]
  },
  {
   "cell_type": "code",
   "execution_count": 23,
   "metadata": {
    "collapsed": true
   },
   "outputs": [],
   "source": [
    "# Extract singer information from urlcache\n",
    "singer_info_list = []\n",
    "for url in urlcache:\n",
    "    singer_info_list.append(singer_band_info(url, urlcache[url]))\n",
    "info_df = pd.DataFrame(singer_info_list)"
   ]
  },
  {
   "cell_type": "markdown",
   "metadata": {},
   "source": [
    "We found that here is one singer whose has no infobox on his page:"
   ]
  },
  {
   "cell_type": "code",
   "execution_count": 24,
   "metadata": {},
   "outputs": [
    {
     "data": {
      "text/html": [
       "<div>\n",
       "<style>\n",
       "    .dataframe thead tr:only-child th {\n",
       "        text-align: right;\n",
       "    }\n",
       "\n",
       "    .dataframe thead th {\n",
       "        text-align: left;\n",
       "    }\n",
       "\n",
       "    .dataframe tbody tr th {\n",
       "        vertical-align: top;\n",
       "    }\n",
       "</style>\n",
       "<table border=\"1\" class=\"dataframe\">\n",
       "  <thead>\n",
       "    <tr style=\"text-align: right;\">\n",
       "      <th></th>\n",
       "      <th>ranking</th>\n",
       "      <th>song</th>\n",
       "      <th>songurl</th>\n",
       "      <th>year</th>\n",
       "      <th>band_singer</th>\n",
       "      <th>url</th>\n",
       "      <th>born</th>\n",
       "      <th>ya</th>\n",
       "    </tr>\n",
       "  </thead>\n",
       "  <tbody>\n",
       "    <tr>\n",
       "      <th>0</th>\n",
       "      <td>1.0</td>\n",
       "      <td>End of the Road</td>\n",
       "      <td>/wiki/End_of_the_Road</td>\n",
       "      <td>1992</td>\n",
       "      <td>Boyz II Men</td>\n",
       "      <td>/wiki/Boyz_II_Men</td>\n",
       "      <td>False</td>\n",
       "      <td>1985–present</td>\n",
       "    </tr>\n",
       "    <tr>\n",
       "      <th>1</th>\n",
       "      <td>84.0</td>\n",
       "      <td>Uhh Ahh</td>\n",
       "      <td>/wiki/Uhh_Ahh</td>\n",
       "      <td>1992</td>\n",
       "      <td>Boyz II Men</td>\n",
       "      <td>/wiki/Boyz_II_Men</td>\n",
       "      <td>False</td>\n",
       "      <td>1985–present</td>\n",
       "    </tr>\n",
       "    <tr>\n",
       "      <th>2</th>\n",
       "      <td>37.0</td>\n",
       "      <td>It's So Hard to Say Goodbye to Yesterday</td>\n",
       "      <td>/wiki/It%27s_So_Hard_to_Say_Goodbye_to_Yesterday</td>\n",
       "      <td>1992</td>\n",
       "      <td>Boyz II Men</td>\n",
       "      <td>/wiki/Boyz_II_Men</td>\n",
       "      <td>False</td>\n",
       "      <td>1985–present</td>\n",
       "    </tr>\n",
       "    <tr>\n",
       "      <th>3</th>\n",
       "      <td>12.0</td>\n",
       "      <td>In the Still of the Nite</td>\n",
       "      <td>/wiki/In_the_Still_of_the_Night_(1956_song)#Bo...</td>\n",
       "      <td>1993</td>\n",
       "      <td>Boyz II Men</td>\n",
       "      <td>/wiki/Boyz_II_Men</td>\n",
       "      <td>False</td>\n",
       "      <td>1985–present</td>\n",
       "    </tr>\n",
       "    <tr>\n",
       "      <th>4</th>\n",
       "      <td>3.0</td>\n",
       "      <td>I'll Make Love to You</td>\n",
       "      <td>/wiki/I%27ll_Make_Love_to_You</td>\n",
       "      <td>1994</td>\n",
       "      <td>Boyz II Men</td>\n",
       "      <td>/wiki/Boyz_II_Men</td>\n",
       "      <td>False</td>\n",
       "      <td>1985–present</td>\n",
       "    </tr>\n",
       "  </tbody>\n",
       "</table>\n",
       "</div>"
      ],
      "text/plain": [
       "   ranking                                      song                                            songurl  year  band_singer                url   born            ya\n",
       "0      1.0                           End of the Road                              /wiki/End_of_the_Road  1992  Boyz II Men  /wiki/Boyz_II_Men  False  1985–present\n",
       "1     84.0                                   Uhh Ahh                                      /wiki/Uhh_Ahh  1992  Boyz II Men  /wiki/Boyz_II_Men  False  1985–present\n",
       "2     37.0  It's So Hard to Say Goodbye to Yesterday   /wiki/It%27s_So_Hard_to_Say_Goodbye_to_Yesterday  1992  Boyz II Men  /wiki/Boyz_II_Men  False  1985–present\n",
       "3     12.0                  In the Still of the Nite  /wiki/In_the_Still_of_the_Night_(1956_song)#Bo...  1993  Boyz II Men  /wiki/Boyz_II_Men  False  1985–present\n",
       "4      3.0                     I'll Make Love to You                      /wiki/I%27ll_Make_Love_to_You  1994  Boyz II Men  /wiki/Boyz_II_Men  False  1985–present"
      ]
     },
     "execution_count": 24,
     "metadata": {},
     "output_type": "execute_result"
    }
   ],
   "source": [
    "# merge flatframe and info_df into largedf\n",
    "largedf = flatframe.merge(info_df, how='inner')\n",
    "largedf.head()"
   ]
  },
  {
   "cell_type": "markdown",
   "metadata": {},
   "source": [
    "#### 2.3 What is the age at which singers achieve their top ranking?"
   ]
  },
  {
   "cell_type": "markdown",
   "metadata": {},
   "source": [
    "Plot a histogram of the age at which singers achieve their top ranking. What conclusions can you draw from this distribution of ages?\n",
    "\n",
    "*HINT: You will need to do some manipulation of the `born` column, and find the song for which a band or an artist achieves their top ranking. You will then need to put these rows together into another dataframe or array to make the plot.*"
   ]
  },
  {
   "cell_type": "code",
   "execution_count": 25,
   "metadata": {},
   "outputs": [],
   "source": [
    "# define singers as the entries with 'born' information\n",
    "largedf_with_born = largedf[largedf['born'] != False]"
   ]
  },
  {
   "cell_type": "code",
   "execution_count": 26,
   "metadata": {},
   "outputs": [
    {
     "data": {
      "text/plain": [
       "<matplotlib.text.Text at 0x1236930b8>"
      ]
     },
     "execution_count": 26,
     "metadata": {},
     "output_type": "execute_result"
    },
    {
     "data": {
      "image/png": "[encoded data removed]",
      "text/plain": [
       "<matplotlib.figure.Figure at 0x12367d7f0>"
      ]
     },
     "metadata": {},
     "output_type": "display_data"
    }
   ],
   "source": [
    "# Get ages to their top for all singers\n",
    "ages_singer_to_top = []\n",
    "for k, v in largedf_with_born.groupby('band_singer'):\n",
    "    top_years = v[v.ranking==v.ranking.min()]['year'].values # all the years in which the singer\n",
    "    for top_year in top_years:\n",
    "        born_year = v[v.year==top_year]['born'].values[0][:4]\n",
    "        age = int(top_year) - int(born_year)\n",
    "        ages_singer_to_top.append(age)\n",
    "\n",
    "plt.hist(ages_singer_to_top, alpha=0.5, bins=20)\n",
    "plt.title('Singer age when they achieve their top ranking')\n",
    "plt.xlabel('Age')\n",
    "plt.ylabel('Count')"
   ]
  },
  {
   "cell_type": "markdown",
   "metadata": {},
   "source": [
    "<font color='blue'> <strong> Note: </strong>\n",
    "We count all the ages at which singers achieve their top ranking. i.e. The top ranking for singer is No.2, and he/she achieved that twice, in 1995 and 1997. He/she was born in 1980, then both 15 and 17 are counted.\n",
    "</font>"
   ]
  },
  {
   "cell_type": "markdown",
   "metadata": {},
   "source": [
    "<font color='blue'> <strong> Answer: </strong>\n",
    "Most people achieved their top ranking in their 20s or 30s. The later data points (especially those >40 years) represent either the singers who had reached their top earlier but reached it again (a resurgence of popularity) or the unlikely singers that reached their popularity very late. \n",
    "</font>"
   ]
  },
  {
   "cell_type": "markdown",
   "metadata": {},
   "source": [
    "#### 2.4 At what year since inception do bands reach their top rankings?"
   ]
  },
  {
   "cell_type": "markdown",
   "metadata": {},
   "source": [
    "Make a similar calculation to plot a histogram of the years since inception at which bands reach their top ranking. What conclusions can you draw?"
   ]
  },
  {
   "cell_type": "code",
   "execution_count": 27,
   "metadata": {
    "collapsed": true
   },
   "outputs": [],
   "source": [
    "# Define band as the entries with 'ya' information and no 'born' information\n",
    "largedf_band = largedf.loc[(largedf['ya'] != False) & (largedf['born'] == False) ]"
   ]
  },
  {
   "cell_type": "code",
   "execution_count": 28,
   "metadata": {},
   "outputs": [
    {
     "data": {
      "text/plain": [
       "<matplotlib.text.Text at 0x122fe9ba8>"
      ]
     },
     "execution_count": 28,
     "metadata": {},
     "output_type": "execute_result"
    },
    {
     "data": {
      "image/png": "[encoded data removed]",
      "text/plain": [
       "<matplotlib.figure.Figure at 0x1140c51d0>"
      ]
     },
     "metadata": {},
     "output_type": "display_data"
    }
   ],
   "source": [
    "# Get years to their top for all bands\n",
    "years_to_top_for_bands = []\n",
    "for k, v in largedf_band.groupby('band_singer'):\n",
    "    top_years = v[v.ranking==v.ranking.min()]['year'].values # all the years the bands reached their top\n",
    "    for top_year in top_years:\n",
    "        ya = v[v.year==top_year]['ya'].values[0]\n",
    "        ya = ya.strip(' \\t\\n\\r') # remove leading spaces/tabs \n",
    "        ya = ya[:4]\n",
    "        #print(ya)\n",
    "        age_band = int(top_year) - int(ya)\n",
    "        years_to_top_for_bands.append(age_band)\n",
    "\n",
    "plt.hist(years_to_top_for_bands, alpha=0.5, bins=20)\n",
    "plt.title('Time for bands to reach their top ranking')\n",
    "plt.xlabel('Years since inception')\n",
    "plt.ylabel('Count')"
   ]
  },
  {
   "cell_type": "markdown",
   "metadata": {},
   "source": [
    "<font color='blue'> <strong> Note: </strong>\n",
    "We count all the years bands took to achieve their top ranking. i.e. The top ranking for band is No.2, and they achieved that twice, in 1995 and 1997. Both times counted.\n",
    "</font>"
   ]
  },
  {
   "cell_type": "markdown",
   "metadata": {
    "collapsed": true
   },
   "source": [
    "<font color='blue'> <strong> Answer: </strong>\n",
    "Similar trends was observed for bands: most bands achieved their top ranking early on (before 10 years since inception). The later data points (especially those >20 years) represent either the bands who had reached their top earlier but reached it again (a resurgence of popularity) or the unlikely bands that reached their popularity very late. \n",
    "</font>"
   ]
  },
  {
   "cell_type": "code",
   "execution_count": null,
   "metadata": {
    "collapsed": true
   },
   "outputs": [],
   "source": []
  }
 ],
 "metadata": {
  "kernelspec": {
   "display_name": "Python 3",
   "language": "python",
   "name": "python3"
  },
  "language_info": {
   "codemirror_mode": {
    "name": "ipython",
    "version": 3
   },
   "file_extension": ".py",
   "mimetype": "text/x-python",
   "name": "python",
   "nbconvert_exporter": "python",
   "pygments_lexer": "ipython3",
   "version": "3.6.6"
  }
 },
 "nbformat": 4,
 "nbformat_minor": 1
}
