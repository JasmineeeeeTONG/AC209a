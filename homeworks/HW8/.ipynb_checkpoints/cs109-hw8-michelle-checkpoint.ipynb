{
 "cells": [
  {
   "cell_type": "markdown",
   "metadata": {},
   "source": [
    "# CS 109A/STAT 121A/AC 209A/CSCI E-109A: Homework 8\n",
    "# Ensemble methods\n",
    "\n",
    "**Harvard University**<br/>\n",
    "**Fall 2017**<br/>\n",
    "**Instructors**: Pavlos Protopapas, Kevin Rader, Rahul Dave\n"
   ]
  },
  {
   "cell_type": "markdown",
   "metadata": {},
   "source": [
    "Import libraries:"
   ]
  },
  {
   "cell_type": "code",
   "execution_count": 1,
   "metadata": {
    "collapsed": true
   },
   "outputs": [],
   "source": [
    "import numpy as np\n",
    "import pandas as pd\n",
    "import matplotlib\n",
    "import matplotlib.pyplot as plt\n",
    "import sklearn.metrics as metrics\n",
    "from sklearn.model_selection import cross_val_score\n",
    "from sklearn.metrics import confusion_matrix\n",
    "from sklearn import tree\n",
    "from sklearn.tree import DecisionTreeClassifier\n",
    "from sklearn.ensemble import RandomForestClassifier\n",
    "from sklearn.ensemble import AdaBoostClassifier\n",
    "from sklearn.linear_model import LogisticRegressionCV\n",
    "from IPython.display import display\n",
    "\n",
    "import warnings\n",
    "warnings.filterwarnings(\"ignore\")\n",
    "%matplotlib inline\n",
    "np.random.seed(12345)"
   ]
  },
  {
   "cell_type": "markdown",
   "metadata": {},
   "source": [
    "# Higgs Boson Discovery\n",
    "\n",
    "The discovery of the Higgs boson in July 2012 marked a fundamental breakthrough in particle physics. The Higgs boson particle was discovered through experiments at the Large Hadron Collider at CERN, by colliding beams of protons at high energy. A key challenge in analyzing the results of these experiments is to differentiate between a collision that produces Higgs bosons and collisions thats produce only background noise. We shall explore the use of ensemble methods for this classification task.\n",
    "\n",
    "You are provided with data from Monte-Carlo simulations of collisions of particles in a particle collider experiment. The training set is available in `Higgs_train.csv` and the test set is in `Higgs_test.csv`. Each row in these files corresponds to a particle colision described by 28 features (columns 1-28), of which the first 21 features are kinematic properties measured by the particle detectors in the accelerator, and the remaining features are derived by physicists from the the first 21 features. The class label is provided in the last column, with a label of 1 indicating that the collision produces Higgs bosons (signal), and a label of 0 indicating that the collision produces other particles (background). \n",
    "\n",
    "The data set provided to you is a small subset of the HIGGS data set in the UCI machine learning repository. The following paper contains further details about the data set and the predictors used: <a href = \"https://www.nature.com/articles/ncomms5308\">Baldi et al., Nature Communications 5, 2014</a>.\n"
   ]
  },
  {
   "cell_type": "markdown",
   "metadata": {},
   "source": [
    "## Question 1 (2pt): Single Decision Tree\n",
    "We start by building a basic model which we will use as our base model for comparison. \n",
    "\n",
    "1. Fit a decision tree model to the training set and report the classification accuracy of the model on the test set. Use 5-fold cross-validation to choose the (maximum) depth for the tree. You will use the max_depth you find here throughout the homework. \n"
   ]
  },
  {
   "cell_type": "code",
   "execution_count": 2,
   "metadata": {},
   "outputs": [
    {
     "name": "stdout",
     "output_type": "stream",
     "text": [
      "Training:\n"
     ]
    },
    {
     "data": {
      "text/html": [
       "<div>\n",
       "<style>\n",
       "    .dataframe thead tr:only-child th {\n",
       "        text-align: right;\n",
       "    }\n",
       "\n",
       "    .dataframe thead th {\n",
       "        text-align: left;\n",
       "    }\n",
       "\n",
       "    .dataframe tbody tr th {\n",
       "        vertical-align: top;\n",
       "    }\n",
       "</style>\n",
       "<table border=\"1\" class=\"dataframe\">\n",
       "  <thead>\n",
       "    <tr style=\"text-align: right;\">\n",
       "      <th></th>\n",
       "      <th>lepton pT</th>\n",
       "      <th>lepton eta</th>\n",
       "      <th>lepton phi</th>\n",
       "      <th>missing energy magnitude</th>\n",
       "      <th>missing energy phi</th>\n",
       "      <th>jet 1 pt</th>\n",
       "      <th>jet 1 eta</th>\n",
       "      <th>jet 1 phi</th>\n",
       "      <th>jet 1 b-tag</th>\n",
       "      <th>jet 2 pt</th>\n",
       "      <th>...</th>\n",
       "      <th>jet 4 phi</th>\n",
       "      <th>jet 4 b-tag</th>\n",
       "      <th>m_jj</th>\n",
       "      <th>m_jjj</th>\n",
       "      <th>m_lv</th>\n",
       "      <th>m_jlv</th>\n",
       "      <th>m_bb</th>\n",
       "      <th>m_wbb</th>\n",
       "      <th>m_wwbb</th>\n",
       "      <th>class</th>\n",
       "    </tr>\n",
       "  </thead>\n",
       "  <tbody>\n",
       "    <tr>\n",
       "      <th>0</th>\n",
       "      <td>0.376816</td>\n",
       "      <td>-1.583727</td>\n",
       "      <td>-1.707552</td>\n",
       "      <td>0.990897</td>\n",
       "      <td>0.114397</td>\n",
       "      <td>1.253553</td>\n",
       "      <td>0.619859</td>\n",
       "      <td>-1.479572</td>\n",
       "      <td>2.173076</td>\n",
       "      <td>0.753658</td>\n",
       "      <td>...</td>\n",
       "      <td>0.397156</td>\n",
       "      <td>0.000000</td>\n",
       "      <td>0.522449</td>\n",
       "      <td>1.318622</td>\n",
       "      <td>0.982398</td>\n",
       "      <td>1.359610</td>\n",
       "      <td>0.964809</td>\n",
       "      <td>1.309991</td>\n",
       "      <td>1.083203</td>\n",
       "      <td>1.0</td>\n",
       "    </tr>\n",
       "    <tr>\n",
       "      <th>1</th>\n",
       "      <td>0.707330</td>\n",
       "      <td>0.087603</td>\n",
       "      <td>-0.399742</td>\n",
       "      <td>0.918742</td>\n",
       "      <td>-1.229936</td>\n",
       "      <td>1.172847</td>\n",
       "      <td>-0.552574</td>\n",
       "      <td>0.886053</td>\n",
       "      <td>2.173076</td>\n",
       "      <td>1.298317</td>\n",
       "      <td>...</td>\n",
       "      <td>0.236231</td>\n",
       "      <td>0.000000</td>\n",
       "      <td>0.439696</td>\n",
       "      <td>0.828885</td>\n",
       "      <td>0.992241</td>\n",
       "      <td>1.157820</td>\n",
       "      <td>2.215780</td>\n",
       "      <td>1.189586</td>\n",
       "      <td>0.937976</td>\n",
       "      <td>1.0</td>\n",
       "    </tr>\n",
       "    <tr>\n",
       "      <th>2</th>\n",
       "      <td>0.617290</td>\n",
       "      <td>0.265839</td>\n",
       "      <td>-1.345227</td>\n",
       "      <td>1.154581</td>\n",
       "      <td>1.036646</td>\n",
       "      <td>0.954822</td>\n",
       "      <td>0.377252</td>\n",
       "      <td>-0.147960</td>\n",
       "      <td>0.000000</td>\n",
       "      <td>1.063507</td>\n",
       "      <td>...</td>\n",
       "      <td>-0.542413</td>\n",
       "      <td>0.000000</td>\n",
       "      <td>1.024506</td>\n",
       "      <td>1.026255</td>\n",
       "      <td>0.986289</td>\n",
       "      <td>0.927720</td>\n",
       "      <td>1.371080</td>\n",
       "      <td>0.981672</td>\n",
       "      <td>0.917436</td>\n",
       "      <td>1.0</td>\n",
       "    </tr>\n",
       "    <tr>\n",
       "      <th>3</th>\n",
       "      <td>0.850992</td>\n",
       "      <td>-0.380876</td>\n",
       "      <td>-0.071264</td>\n",
       "      <td>1.468704</td>\n",
       "      <td>-0.795133</td>\n",
       "      <td>0.691818</td>\n",
       "      <td>0.883260</td>\n",
       "      <td>0.496881</td>\n",
       "      <td>0.000000</td>\n",
       "      <td>1.616349</td>\n",
       "      <td>...</td>\n",
       "      <td>-1.520171</td>\n",
       "      <td>0.000000</td>\n",
       "      <td>1.197755</td>\n",
       "      <td>1.100534</td>\n",
       "      <td>0.987262</td>\n",
       "      <td>1.353453</td>\n",
       "      <td>1.455383</td>\n",
       "      <td>0.994682</td>\n",
       "      <td>0.953553</td>\n",
       "      <td>1.0</td>\n",
       "    </tr>\n",
       "    <tr>\n",
       "      <th>4</th>\n",
       "      <td>0.767540</td>\n",
       "      <td>-0.691572</td>\n",
       "      <td>-0.040191</td>\n",
       "      <td>0.614843</td>\n",
       "      <td>0.143765</td>\n",
       "      <td>0.748614</td>\n",
       "      <td>0.397057</td>\n",
       "      <td>-0.873640</td>\n",
       "      <td>0.000000</td>\n",
       "      <td>1.147862</td>\n",
       "      <td>...</td>\n",
       "      <td>0.502034</td>\n",
       "      <td>1.550981</td>\n",
       "      <td>0.921948</td>\n",
       "      <td>0.864080</td>\n",
       "      <td>0.982839</td>\n",
       "      <td>1.373222</td>\n",
       "      <td>0.601492</td>\n",
       "      <td>0.918621</td>\n",
       "      <td>0.957063</td>\n",
       "      <td>0.0</td>\n",
       "    </tr>\n",
       "  </tbody>\n",
       "</table>\n",
       "<p>5 rows × 29 columns</p>\n",
       "</div>"
      ],
      "text/plain": [
       "   lepton pT   lepton eta   lepton phi   missing energy magnitude  \\\n",
       "0   0.376816    -1.583727    -1.707552                   0.990897   \n",
       "1   0.707330     0.087603    -0.399742                   0.918742   \n",
       "2   0.617290     0.265839    -1.345227                   1.154581   \n",
       "3   0.850992    -0.380876    -0.071264                   1.468704   \n",
       "4   0.767540    -0.691572    -0.040191                   0.614843   \n",
       "\n",
       "    missing energy phi   jet 1 pt   jet 1 eta   jet 1 phi   jet 1 b-tag  \\\n",
       "0             0.114397   1.253553    0.619859   -1.479572      2.173076   \n",
       "1            -1.229936   1.172847   -0.552574    0.886053      2.173076   \n",
       "2             1.036646   0.954822    0.377252   -0.147960      0.000000   \n",
       "3            -0.795133   0.691818    0.883260    0.496881      0.000000   \n",
       "4             0.143765   0.748614    0.397057   -0.873640      0.000000   \n",
       "\n",
       "    jet 2 pt   ...     jet 4 phi   jet 4 b-tag      m_jj     m_jjj      m_lv  \\\n",
       "0   0.753658   ...      0.397156      0.000000  0.522449  1.318622  0.982398   \n",
       "1   1.298317   ...      0.236231      0.000000  0.439696  0.828885  0.992241   \n",
       "2   1.063507   ...     -0.542413      0.000000  1.024506  1.026255  0.986289   \n",
       "3   1.616349   ...     -1.520171      0.000000  1.197755  1.100534  0.987262   \n",
       "4   1.147862   ...      0.502034      1.550981  0.921948  0.864080  0.982839   \n",
       "\n",
       "      m_jlv      m_bb     m_wbb    m_wwbb   class  \n",
       "0  1.359610  0.964809  1.309991  1.083203     1.0  \n",
       "1  1.157820  2.215780  1.189586  0.937976     1.0  \n",
       "2  0.927720  1.371080  0.981672  0.917436     1.0  \n",
       "3  1.353453  1.455383  0.994682  0.953553     1.0  \n",
       "4  1.373222  0.601492  0.918621  0.957063     0.0  \n",
       "\n",
       "[5 rows x 29 columns]"
      ]
     },
     "metadata": {},
     "output_type": "display_data"
    },
    {
     "name": "stdout",
     "output_type": "stream",
     "text": [
      "Number of columns with missing data in TRAIN:  0\n",
      "Number of columns with missing data in TEST:  0\n",
      "The shapes of X_train: (5000, 28), y_train: (5000,), X_test: (5000, 28), y_test: (5000,)\n"
     ]
    }
   ],
   "source": [
    "# read in data\n",
    "df_train = pd.read_csv(\"Higgs_train.csv\")\n",
    "df_test = pd.read_csv(\"Higgs_test.csv\")\n",
    "\n",
    "print('Training:')\n",
    "display(df_train.head())\n",
    "\n",
    "# check if data has missing value\n",
    "print('Number of columns with missing data in TRAIN: ', np.sum(df_train.isnull().any()))\n",
    "print('Number of columns with missing data in TEST: ', np.sum(df_test.isnull().any()))\n",
    "\n",
    "# define features and responses in test and train\n",
    "X_train = df_train[[c for c in df_train.columns if c not in [' class']]]\n",
    "X_test = df_test[[c for c in df_test.columns if c not in [' class']]]\n",
    "\n",
    "y_train = df_train[' class']\n",
    "y_test = df_test[' class']\n",
    "\n",
    "print('The shapes of X_train: {}, y_train: {}, X_test: {}, y_test: {}'.format(X_train.shape, y_train.shape, X_test.shape, y_test.shape))"
   ]
  },
  {
   "cell_type": "code",
   "execution_count": 3,
   "metadata": {},
   "outputs": [
    {
     "name": "stdout",
     "output_type": "stream",
     "text": [
      "=============================\n",
      "Simple Decision Tree\n",
      "\n",
      "Optimal Depth = 4\n",
      "train_acc = 0.6602\n",
      "test_acc = 0.6496\n",
      "\n",
      "=============================\n"
     ]
    }
   ],
   "source": [
    "# fit simple decision tree\n",
    "depths = [1, 2, 4, 6, 8, 10, 12, 14, 16, 18, 20, 25, 30, 40]\n",
    "cv_scores_tree = []\n",
    "\n",
    "for d in depths:\n",
    "    simple_tree = DecisionTreeClassifier(max_depth=d)\n",
    "    scores = cross_val_score(simple_tree, X_train, y_train, cv=5, scoring='accuracy')\n",
    "    cv_scores_tree.append(scores.mean())\n",
    "\n",
    "optimal_depth = depths[cv_scores_tree.index(max(cv_scores_tree))]\n",
    "tree_optimal = DecisionTreeClassifier(max_depth=optimal_depth).fit(X_train, y_train)\n",
    "print('=============================')\n",
    "print('Simple Decision Tree\\n')\n",
    "print('Optimal Depth = {}'.format(optimal_depth))\n",
    "print('train_acc = {}\\ntest_acc = {}\\n'.format(tree_optimal.score(X_train, y_train), tree_optimal.score(X_test, y_test)))\n",
    "print('=============================')"
   ]
  },
  {
   "cell_type": "markdown",
   "metadata": {},
   "source": [
    "## Question 2 (15pt): Dropout-based Approach\n",
    "We start with a simple method inspired from the idea of 'dropout' in machine learning, where we fit multiple decision trees on random subsets of predictors, and combine them through a majority vote. The procedure is described below.\n",
    "\n",
    "- For each predictor in the training sample, set the predictor values to 0 with probability $p$  (i.e. drop the predictor by setting it to 0). Repeat this for $B$ trials to create $B$ separate training sets.\n",
    "\n",
    "\n",
    "- Fit decision tree models $\\hat{h}^1(x), \\ldots, \\hat{h}^B(x) \\in \\{0,1\\}$ to the $B$ training sets. \n",
    "\n",
    "- Combine the decision tree models into a single classifier by taking a majority vote:\n",
    "$$\n",
    "\\hat{H}_{maj}(x) \\,=\\, majority\\Big(\\hat{h}^1(x), \\ldots, \\hat{h}^B(x)\\Big).\n",
    "$$\n",
    "\n",
    "\n",
    "We shall refer to the combined classifier as an ** *ensemble classifier* **. Implement the described dropout approach, and answer the following questions:\n",
    "1. Apply the dropout procedure with $p = 0.5$ for different number of trees (say $2, 4, 8, 16, \\ldots, 256$), and evaluate the training and test accuracy of the combined classifier. Does an increase in the number of trees improve the training and test performance? Explain your observations in terms of the bias-variance trade-off for the classifier.\n",
    "- Fix the number of trees to 64 and apply the dropout procedure with different dropout rates $p = 0.1, 0.3, 0.5, 0.7, 0.9$. Based on your results, explain how the dropout rate influences the bias and variance of the combined classifier.\n",
    "- Apply 5-fold cross-validation to choose the optimal combination of the dropout rate and number of trees. How does the test performance of an ensemble of trees fitted with the optimal dropout rate and number of trees compare with the single decision tree model in Question 1?\n",
    "[hint: Training with large number of trees can take long time. You may need to restrict the max number of trees.]"
   ]
  },
  {
   "cell_type": "code",
   "execution_count": 4,
   "metadata": {
    "collapsed": true
   },
   "outputs": [],
   "source": [
    "# predictors = list(X_train.columns)\n",
    "# num_trees = [2**i for i in range(1, 9)]\n",
    "# fixed_p = 0.5\n",
    "# ps = [0.1, 0.3, 0.5, 0.7, 0.9]\n",
    "# fixed_num_tree = 64\n",
    "\n",
    "\n",
    "# estimators = []\n",
    "\n",
    "# for i in range(2):\n",
    "#     choice = np.random.choice(range(2), replace=True, size=len(predictors), p=[1-ps[2], ps[2]])\n",
    "#     chosen_predictors = [predictor for predictor, in_choice in zip(predictors, choice) if in_choice]\n",
    "#     X_train_ensemble = X_train[chosen_predictors]\n",
    "#     clf = DecisionTreeClassifier().fit(X_train_ensemble, y_train)\n",
    "#     estimators.append(('tree'+ str(i+1), clf))\n",
    "\n"
   ]
  },
  {
   "cell_type": "markdown",
   "metadata": {},
   "source": [
    "## Question 3 (15pt): Random Forests\n",
    "\n",
    "We now move to a more sophisticated ensemble technique, namely random forest:\n",
    "1. How does a random forest approach differ from the dropout procedure described in Question 2? \n",
    " \n",
    "- Fit random forest models to the training set for different number of trees (say $2, 4, 8, 16, \\ldots, 256$), and evaluate the training and test accuracies of the models. You may set the number of predictors for each tree in the random forest model to $\\sqrt{p}$, where $p$ is the total number of predictors. \n",
    "\n",
    "- Based on your results, do you find that a larger number of trees necessarily improves the test accuracy of a random forest model? Explain how the number of trees effects the training and test accuracy of a random forest classifier, and how this relates to the bias-variance trade-off for the classifier. \n",
    "  \n",
    "- Fixing the number of trees to a reasonable value, apply 5-fold cross-validation to choose the optimal value for the  number of predictors. How does the test performance of random forest model fitted with the optimal number of trees compare with the dropout approach in Question 2?  \n",
    "\n",
    "\n",
    "\n"
   ]
  },
  {
   "cell_type": "markdown",
   "metadata": {},
   "source": [
    "### COMMENT: I DONT THINK WE SHOULD RESTRICT DEPTH HERE. BUT I DID BOTH. "
   ]
  },
  {
   "cell_type": "code",
   "execution_count": 5,
   "metadata": {
    "collapsed": true
   },
   "outputs": [],
   "source": [
    "n_estimators = [2**i for i in range(1, 9)]\n",
    "\n",
    "# rf1 does not restrict tree depth\n",
    "train_acc_rf1 = []\n",
    "test_acc_rf1 = []\n",
    "\n",
    "# rf2 restricts tree depth to optimal depth found in question 1\n",
    "train_acc_rf2 = []\n",
    "test_acc_rf2 = []\n",
    "\n",
    "for n in n_estimators:\n",
    "    rf1 = RandomForestClassifier(oob_score=True, \n",
    "                                n_estimators=n, max_features='sqrt', n_jobs=-1).fit(X_train, y_train)\n",
    "    train_acc_rf1.append(rf1.score(X_train, y_train))\n",
    "    test_acc_rf1.append(rf1.score(X_test, y_test))\n",
    "    \n",
    "    rf2 = RandomForestClassifier(oob_score=True, max_depth=optimal_depth,\n",
    "                                n_estimators=n, max_features='sqrt', n_jobs=-1).fit(X_train, y_train)\n",
    "    train_acc_rf2.append(rf2.score(X_train, y_train))\n",
    "    test_acc_rf2.append(rf2.score(X_test, y_test)) "
   ]
  },
  {
   "cell_type": "code",
   "execution_count": 6,
   "metadata": {},
   "outputs": [
    {
     "data": {
      "text/plain": [
       "<matplotlib.legend.Legend at 0x119c29b00>"
      ]
     },
     "execution_count": 6,
     "metadata": {},
     "output_type": "execute_result"
    },
    {
     "data": {
      "image/png": "[encoded data removed]",
      "text/plain": [
       "<matplotlib.figure.Figure at 0x1196e0160>"
      ]
     },
     "metadata": {},
     "output_type": "display_data"
    }
   ],
   "source": [
    "# plot accuracy vs. n_estimators\n",
    "fig, ax = plt.subplots(1, 2, figsize = (17, 6))\n",
    "ax[0].plot(n_estimators, train_acc_rf1, 'b-', label='train')\n",
    "ax[0].plot(n_estimators, test_acc_rf1, 'r-', label='test')\n",
    "ax[0].set_xlabel('n_estimators', fontsize=16)\n",
    "ax[0].set_ylabel('Accuracy', fontsize=16)\n",
    "ax[0].set_title('Random Forest Accuracy VS. n_estimators \\nMax_depth = unrestricted', fontsize=16)\n",
    "ax[0].legend(fontsize=14)\n",
    "\n",
    "ax[1].plot(n_estimators, train_acc_rf2, 'b-', label='train')\n",
    "ax[1].plot(n_estimators, test_acc_rf2, 'r-', label='test')\n",
    "ax[1].set_xlabel('n_estimators', fontsize=16)\n",
    "ax[1].set_ylabel('Accuracy', fontsize=16)\n",
    "ax[1].set_title('Random Forest Accuracy VS. n_estimators \\nMax_depth = 4', fontsize=16)\n",
    "ax[1].legend(fontsize=14)"
   ]
  },
  {
   "cell_type": "code",
   "execution_count": 7,
   "metadata": {},
   "outputs": [
    {
     "name": "stdout",
     "output_type": "stream",
     "text": [
      "The optimal n_estimators from random forest with unrestricted depth:  128\n",
      "The optimal n_estimators from random forest with max_depth = 4:  128\n"
     ]
    }
   ],
   "source": [
    "optimal_n_rf1 = n_estimators[test_acc_rf1.index(max(test_acc_rf1))]\n",
    "optimal_n_rf2 = n_estimators[test_acc_rf2.index(max(test_acc_rf2))]\n",
    "\n",
    "print('The optimal n_estimators from random forest with unrestricted depth: ', optimal_n_rf1)\n",
    "print('The optimal n_estimators from random forest with max_depth = 4: ', optimal_n_rf2)"
   ]
  },
  {
   "cell_type": "markdown",
   "metadata": {},
   "source": [
    "### Cross-validation to find the optimal max_features\n",
    "\n",
    "**CV #1 - fixing n_estimators and max_depth**: We fix the number of estimators to the number that gave us the best test accuracy from the previous part. We also fix the tree depth to optimal tree depth found in question 1."
   ]
  },
  {
   "cell_type": "code",
   "execution_count": 8,
   "metadata": {},
   "outputs": [
    {
     "name": "stdout",
     "output_type": "stream",
     "text": [
      "=============================\n",
      "Cross-Validated Random Forest\n",
      "\n",
      "Fixed n_estimator: 128\n",
      "Fixed max_depth: 4\n",
      "Optimal max_feature = 0.4\n",
      "train_acc = 0.699\n",
      "test_acc = 0.687\n",
      "\n",
      "=============================\n"
     ]
    }
   ],
   "source": [
    "cv_scores_rf = []\n",
    "    \n",
    "max_features = [0.1, 0.2, 0.4, 0.6, 0.8]\n",
    "for f in max_features:\n",
    "    rf_cv = RandomForestClassifier(oob_score=True, max_depth=optimal_depth,\n",
    "                                n_estimators=optimal_n_rf1, max_features=f, n_jobs=-1).fit(X_train, y_train)\n",
    "    scores = cross_val_score(rf_cv, X_train, y_train, cv=5, scoring='accuracy')\n",
    "    cv_scores_rf.append(scores.mean())\n",
    "\n",
    "optimal_f = max_features[cv_scores_rf.index(max(cv_scores_rf))]\n",
    "rf_optimal = RandomForestClassifier(oob_score=True, max_depth=optimal_depth,\n",
    "                                n_estimators=optimal_n_rf1, max_features=optimal_f, n_jobs=-1).fit(X_train, y_train)\n",
    "print('=============================')\n",
    "print('Cross-Validated Random Forest\\n')\n",
    "print('Fixed n_estimator: {}'.format(optimal_n_rf2))\n",
    "print('Fixed max_depth: {}'.format(optimal_depth))\n",
    "print('Optimal max_feature = {}'.format(optimal_f))\n",
    "print('train_acc = {}\\ntest_acc = {}\\n'.format(rf_optimal.score(X_train, y_train), rf_optimal.score(X_test, y_test)))\n",
    "print('=============================')"
   ]
  },
  {
   "cell_type": "markdown",
   "metadata": {},
   "source": [
    "**CV #2 - fixing n_estimators and unrestricted depth**: We fix the number of estimators to the number that gave us the best test accuracy from the previous part."
   ]
  },
  {
   "cell_type": "code",
   "execution_count": 9,
   "metadata": {},
   "outputs": [
    {
     "name": "stdout",
     "output_type": "stream",
     "text": [
      "=============================\n",
      "Cross-Validated Random Forest\n",
      "\n",
      "Fixed n_estimator: 128\n",
      "Unrestricted depth\n",
      "Optimal max_feature = 0.6\n",
      "train_acc = 1.0\n",
      "test_acc = 0.6996\n",
      "\n",
      "=============================\n"
     ]
    }
   ],
   "source": [
    "cv_scores_rf2 = []\n",
    "    \n",
    "max_features = [0.1, 0.2, 0.4, 0.6, 0.8]\n",
    "for f in max_features:\n",
    "    rf_cv2 = RandomForestClassifier(oob_score=True,\n",
    "                                n_estimators=optimal_n_rf1, max_features=f, n_jobs=-1).fit(X_train, y_train)\n",
    "    scores = cross_val_score(rf_cv2, X_train, y_train, cv=5, scoring='accuracy')\n",
    "    cv_scores_rf2.append(scores.mean())\n",
    "\n",
    "optimal_f2 = max_features[cv_scores_rf2.index(max(cv_scores_rf2))]\n",
    "rf_optimal2 = RandomForestClassifier(oob_score=True,\n",
    "                                n_estimators=optimal_n_rf1, max_features=optimal_f2, n_jobs=-1).fit(X_train, y_train)\n",
    "print('=============================')\n",
    "print('Cross-Validated Random Forest\\n')\n",
    "print('Fixed n_estimator: {}'.format(optimal_n_rf1))\n",
    "print('Unrestricted depth')\n",
    "print('Optimal max_feature = {}'.format(optimal_f2))\n",
    "print('train_acc = {}\\ntest_acc = {}\\n'.format(rf_optimal2.score(X_train, y_train), rf_optimal2.score(X_test, y_test)))\n",
    "print('=============================')"
   ]
  },
  {
   "cell_type": "markdown",
   "metadata": {},
   "source": [
    "## Question 4 (15pt): Boosting\n",
    "\n",
    "We next compare the random forest model with the approach of boosting:\n",
    "\n",
    "\n",
    "1. Apply the AdaBoost algorithm to fit an ensemble of decision trees. Set the learning rate to 0.05, and try out different tree depths for the base learners: 1, 2, 10, and unrestricted depth.  Make a plot of the training accuracy of the ensemble classifier as a function of tree depths. Make a similar plot of the test accuracies as a function of number of trees (say $2, 4, 8, 16, \\ldots, 256$).\n",
    "- How does the number of trees influence the training and test performance? Compare and contrast between the trends you see in the training and test performance of AdaBoost and that of the random forest models in Question 3. Give an explanation for your observations.\n",
    "- How does the tree depth of the base learner impact the training and test performance? Recall that with random forests, we allow the depth of the individual trees to be unrestricted. Would you recommend the same strategy for boosting? Explain your answer.\n",
    "- Apply 5-fold cross-validation to choose the optimal number of trees $B$ for the ensemble and the optimal tree depth for the base learners. How does an ensemble classifier fitted with the optimal number of trees and the optimal tree depth compare with the random forest model fitted in Question 3.4? \n",
    "\n"
   ]
  },
  {
   "cell_type": "code",
   "execution_count": 10,
   "metadata": {
    "collapsed": true
   },
   "outputs": [],
   "source": [
    "l_rate = 0.05\n",
    "\n",
    "# testing for optimal depth of base estimator \n",
    "base_depths = [1, 2, 4, 10, None]\n",
    "\n",
    "train_acc_ab1 = []\n",
    "test_acc_ab1 = []\n",
    "\n",
    "for d in base_depths:\n",
    "    ab1 = AdaBoostClassifier(DecisionTreeClassifier(max_depth=d), learning_rate=l_rate).fit(X_train, y_train)\n",
    "    train_acc_ab1.append(ab1.score(X_train, y_train))\n",
    "    test_acc_ab1.append(ab1.score(X_test, y_test))\n",
    "\n",
    "# testing for optimal number of estimators\n",
    "n_estimators = [2**i for i in range(1, 9)]\n",
    "optimal_ab_depth = base_depths[test_acc_ab1.index(max(test_acc_ab1))] # the best depth from above\n",
    "train_acc_ab2 = []\n",
    "test_acc_ab2 = []\n",
    "\n",
    "for n in n_estimators:\n",
    "    ab2 = AdaBoostClassifier(DecisionTreeClassifier(max_depth=optimal_ab_depth), \n",
    "                             learning_rate=l_rate, n_estimators=n).fit(X_train, y_train)\n",
    "    train_acc_ab2.append(ab2.score(X_train, y_train))\n",
    "    test_acc_ab2.append(ab2.score(X_test, y_test))"
   ]
  },
  {
   "cell_type": "code",
   "execution_count": 11,
   "metadata": {},
   "outputs": [
    {
     "data": {
      "text/plain": [
       "<matplotlib.legend.Legend at 0x11a13ca90>"
      ]
     },
     "execution_count": 11,
     "metadata": {},
     "output_type": "execute_result"
    },
    {
     "data": {
      "image/png": "[encoded data removed]",
      "text/plain": [
       "<matplotlib.figure.Figure at 0x119cff080>"
      ]
     },
     "metadata": {},
     "output_type": "display_data"
    }
   ],
   "source": [
    "fig, ax = plt.subplots(1, 2, figsize = (17, 6))\n",
    "ax[0].plot([1,2,4,10,15], train_acc_ab1, 'b-', label='train')\n",
    "ax[0].plot([1,2,4,10,15], test_acc_ab1, 'r-', label='test')\n",
    "ax[0].set_xlabel('Base_Tree_Depth', fontsize=16)\n",
    "ax[0].set_ylabel('Accuracy', fontsize=16)\n",
    "ax[0].set_title('Adaboost Accuracy VS. Base Learner Depth \\nLearning rate = 0.05 \\nN_estimator = 50(default)', fontsize=16)\n",
    "ax[0].annotate('unrestricted depth', xy=(15, 1), xytext=(8, 0.8),\n",
    "            arrowprops=dict(arrowstyle='->'))\n",
    "ax[0].annotate('unrestricted depth', xy=(15, 0.61), xytext=(8, 0.8),\n",
    "            arrowprops=dict(arrowstyle='->'))\n",
    "ax[0].legend()\n",
    "\n",
    "ax[1].plot(n_estimators, train_acc_ab2, 'b-', label='train')\n",
    "ax[1].plot(n_estimators, test_acc_ab2, 'r-', label='test')\n",
    "ax[1].set_xlabel('n_estimators', fontsize=16)\n",
    "ax[1].set_ylabel('Accuracy', fontsize=16)\n",
    "ax[1].set_title('Adaboost Accuracy VS. Number of Trees \\nLearning rate = 0.05 \\nBase_tree_depth = 4', fontsize=16)\n",
    "ax[1].legend()"
   ]
  },
  {
   "cell_type": "markdown",
   "metadata": {},
   "source": [
    "### Cross-validation to find the optimal AdaBoost classifier\n",
    "Choosing optimal number of trees  B  for the ensemble and the optimal tree depth for the base learners with fixed learning rate = 0.05"
   ]
  },
  {
   "cell_type": "code",
   "execution_count": 12,
   "metadata": {
    "collapsed": true
   },
   "outputs": [],
   "source": [
    "from itertools import product\n",
    "from collections import OrderedDict\n",
    "\n",
    "param_dict = OrderedDict(\n",
    "    base_depths = [1, 2, 4, 10],\n",
    "    n_estimators = [2**i for i in range(1, 10)]\n",
    ")\n",
    "\n",
    "cv_scores_ab = []\n",
    "params = []\n",
    "for d, n in product(*param_dict.values()):\n",
    "    params.append((d,n))\n",
    "\n",
    "for d, n in params:  \n",
    "    ab_cv = AdaBoostClassifier(DecisionTreeClassifier(max_depth=d),\n",
    "                            n_estimators=n, learning_rate=l_rate).fit(X_train, y_train)\n",
    "    scores = cross_val_score(ab_cv, X_train, y_train, cv=5, scoring='accuracy', n_jobs=-1)\n",
    "    cv_scores_ab.append(scores.mean())\n",
    "\n",
    "optimal_param = params[cv_scores_ab.index(max(cv_scores_ab))]\n",
    "\n",
    "optimal_base_depth_ab = optimal_param[0]\n",
    "optimal_n_ab = optimal_param[1]\n",
    "\n",
    "optimal_ab = AdaBoostClassifier(DecisionTreeClassifier(max_depth=optimal_base_depth_ab),\n",
    "                               n_estimators=optimal_n_ab, learning_rate=l_rate).fit(X_train, y_train)"
   ]
  },
  {
   "cell_type": "code",
   "execution_count": 13,
   "metadata": {},
   "outputs": [
    {
     "name": "stdout",
     "output_type": "stream",
     "text": [
      "=============================\n",
      "Optimal AdaBoost Decision Tree\n",
      "\n",
      "Optimal base learner depth = 2\n",
      "Optimal number of estimators/trees = 256\n",
      "Fixed Learning rate = 0.05\n",
      "train_acc = 0.7402\n",
      "test_acc = 0.694\n",
      "\n",
      "=============================\n"
     ]
    }
   ],
   "source": [
    "print('=============================')\n",
    "print('Optimal AdaBoost Decision Tree\\n')\n",
    "print('Optimal base learner depth = {}'.format(optimal_base_depth_ab))\n",
    "print('Optimal number of estimators/trees = {}'.format(optimal_n_ab))\n",
    "print('Fixed Learning rate = {}'.format(l_rate))\n",
    "print('train_acc = {}\\ntest_acc = {}\\n'.format(optimal_ab.score(X_train, y_train), optimal_ab.score(X_test, y_test)))\n",
    "print('=============================')"
   ]
  },
  {
   "cell_type": "markdown",
   "metadata": {},
   "source": [
    "## Question 5 (3pt): Meta-classifier\n",
    "\n",
    "We have so far explored techniques that grow a collection of trees either by creating multiple copies of the original training set, or through a sequential procedure, and then combines these trees into a single classifier. Consider an alternate scenario where you are provided with a pre-trained collection of trees, say from different participants of a data science competition for Higgs boson discovery. What would be a good strategy to combine these pre-fitted trees into a single powerful classifier? Of course, a simple approach would be to take the majority vote from the individual trees. Can we do better than this simple combination strategy?\n",
    "\n",
    "A collection of 100 decision tree classifiers is provided in the file `models.npy` and can be loaded into an array by executing:\n",
    "\n",
    "`models = np.load('models.npy')`\n",
    "\n",
    "You can make predictions using the $i^\\text{th}$ model on an array of predictors `x` by executing:\n",
    "\n",
    "`model[i].predict(x)`  &nbsp;&nbsp;&nbsp;\n",
    "or &nbsp;&nbsp;&nbsp;\n",
    "`model[i].predict_proba(x)`\n",
    "\n",
    "and score the model on predictors `x` and labels `y` by using:\n",
    "\n",
    "`model[i].score(x, y)`.\n",
    "\n",
    "1. Implement a strategy to combine the provided decision tree classifiers, and compare the test perfomance of your approach with the majority vote classifier. Explain your strategy/algorithm.\n",
    "\n"
   ]
  },
  {
   "cell_type": "markdown",
   "metadata": {},
   "source": [
    "--- \n",
    "\n",
    "---\n",
    "\n",
    "## APCOMP209a - Homework Question\n",
    "​\n",
    "We've worked with imputation methods on missing data in Homework 6.  We've worked with Decision Trees in HW7 and here.  Now let's see what happens if we try to work with Decision Trees and Missing Data at the same time! We'll be working with a dataset from the UCI Machine Learning Repository that uses a variety of wine chemical predictors to classify wines grown in the same region in Italy.  Each line represents 13 (mostly chemical) predictors of the response variable wine class, including things like alcohol content, hue , and phenols.  Unfortunately some of the predictor values were lost in measurement. Please load `wine_quality_missing.csv`. \n",
    "​\n",
    "*Note*: As in HW6 be careful of reading/treating column names and row names in this data set.\n",
    "​\n",
    "​\n",
    "1. Remove all observations that contain and missing values, split the dataset into a 75-25 train-test split, and fit the sklearn DecisionTreeClassifier and RandomForestClassifier.   Use cross-validation to find the optimal tree depth for each method.  Report the optimal tree-depth, overall classification rate and confusion matrix on the test set for each method.\n",
    "2. Restart with a fresh copy of the data and impute the missing data via mean imputation.  Split the data 75-25 and again fit DecisionTreeClassifier and RandomForestClassifier using cross-validation to find the optimal tree depth.  Report the optimal tree depth, overall classification rate and confusion matrix on the test set for each method.  \n",
    "3. Again restart with a fresh copy of the data but this time let's try something different.  As discussed in section, CART Decision Trees can take advantage of surrogate splits to handle missing data.  Split the data 75-25 and construct a **custom** decision tree model and train it on the training set with missing data. Report the optimal tree depth, overall classification rate and confusion matrix on the test set and compare your results to the Imputation and DecisionTree model results in part 1 & 2.\n"
   ]
  },
  {
   "cell_type": "code",
   "execution_count": 2,
   "metadata": {
    "collapsed": true
   },
   "outputs": [],
   "source": [
    "# function to split data into TRAINING (default 0.75) & TEST set\n",
    "def split_hw8_data(df, response, seed=9001, train_size=0.75): # Use seed=9001 each time\n",
    "    np.random.seed(seed)\n",
    "    msk = np.random.rand(len(df)) < train_size\n",
    "    data_train = df[msk]\n",
    "    data_test = df[~msk]\n",
    "    \n",
    "    X_train = data_train[[c for c in data_train.columns if c not in response]]\n",
    "    X_test = data_test[[c for c in data_test.columns if c not in response]]\n",
    "    y_train = data_train[response]\n",
    "    y_test = data_test[response]\n",
    "    \n",
    "    print('X_train.shape = {} \\nX_test.shape = {} \\ny_train.shape = {} \\ny_test.shape = {}'.format(X_train.shape, X_test.shape, y_train.shape, y_test.shape))\n",
    "    \n",
    "    return (X_train, X_test, y_train, y_test)"
   ]
  },
  {
   "cell_type": "markdown",
   "metadata": {},
   "source": [
    "### Removing all missing values"
   ]
  },
  {
   "cell_type": "code",
   "execution_count": 3,
   "metadata": {},
   "outputs": [
    {
     "name": "stdout",
     "output_type": "stream",
     "text": [
      "X_train.shape = (26, 13) \n",
      "X_test.shape = (17, 13) \n",
      "y_train.shape = (26,) \n",
      "y_test.shape = (17,)\n"
     ]
    }
   ],
   "source": [
    "df_wine = pd.read_csv(\"wine_quality_missing.csv\")\n",
    "df_wine_full = df_wine.dropna(how='any')\n",
    "\n",
    "X_train_wine1, X_test_wine1, y_train_wine1, y_test_wine1 = split_hw8_data(df_wine_full, 'Class')"
   ]
  },
  {
   "cell_type": "code",
   "execution_count": 5,
   "metadata": {
    "scrolled": false
   },
   "outputs": [
    {
     "name": "stdout",
     "output_type": "stream",
     "text": [
      "=============================\n",
      "Decision Tree with Missiong Values DROPPED\n",
      "\n",
      "Optimal max_depth = 6\n",
      "The Decision Tree Classifier = DecisionTreeClassifier(class_weight=None, criterion='gini', max_depth=6,\n",
      "            max_features=None, max_leaf_nodes=None,\n",
      "            min_impurity_split=1e-07, min_samples_leaf=1,\n",
      "            min_samples_split=2, min_weight_fraction_leaf=0.0,\n",
      "            presort=False, random_state=None, splitter='best')\n",
      "train_acc = 1.0\n",
      "test_acc = 1.0\n",
      "\n",
      "Confusion matrix for Test data:\n",
      "[[6 0 0]\n",
      " [0 8 0]\n",
      " [0 0 3]]\n",
      "=============================\n",
      "Random Forest with Missiong Values DROPPED\n",
      "\n",
      "Optimal max_depth = 6\n",
      "The Decision Tree Classifier = 6\n",
      "train_acc = 1.0\n",
      "test_acc = 0.8823529411764706\n",
      "\n",
      "Confusion matrix for Test data:\n",
      "[[5 1 0]\n",
      " [1 7 0]\n",
      " [0 0 3]]\n",
      "=============================\n"
     ]
    }
   ],
   "source": [
    "# depths = [1, 2, 4, 6, 8, 10, 12, 14, 16, 18, 20, 25, 30, 40]\n",
    "depths = [2, 4, 6, 8, 10, 15, 20, 30, 40]\n",
    "cv_scores_tree_drop = []\n",
    "cv_scores_rf_drop = []\n",
    "\n",
    "for d in depths:\n",
    "    # decision tree\n",
    "    tree_drop = DecisionTreeClassifier(max_depth=d)\n",
    "    scores_tree = cross_val_score(tree_drop, X_train_wine1, y_train_wine1, cv=5, scoring='accuracy')\n",
    "    cv_scores_tree_drop.append(scores_tree.mean())\n",
    "    \n",
    "    # random forest\n",
    "    rf_drop = RandomForestClassifier(max_depth=d)\n",
    "    scores_rf = cross_val_score(rf_drop, X_train_wine1, y_train_wine1, cv=5, scoring='accuracy')\n",
    "    cv_scores_rf_drop.append(scores_rf.mean())\n",
    "\n",
    "optimal_depth_tree_drop = depths[cv_scores_tree_drop.index(max(cv_scores_tree_drop))]\n",
    "optimal_depth_rf_drop = depths[cv_scores_rf_drop.index(max(cv_scores_rf_drop))]\n",
    "tree_drop_optimal = DecisionTreeClassifier(max_depth=optimal_depth_tree_drop).fit(X_train_wine1, y_train_wine1)\n",
    "rf_drop_optimal = RandomForestClassifier(max_depth=optimal_depth_rf_drop).fit(X_train_wine1, y_train_wine1)\n",
    "\n",
    "print('=============================')\n",
    "print('Decision Tree with Missiong Values DROPPED\\n')\n",
    "print('Optimal max_depth = {}'.format(optimal_depth_tree_drop))\n",
    "print('The Decision Tree Classifier = {}'.format(tree_drop_optimal))\n",
    "print('train_acc = {}\\ntest_acc = {}\\n'.format(tree_drop_optimal.score(X_train_wine1, y_train_wine1), tree_drop_optimal.score(X_test_wine1, y_test_wine1)))\n",
    "print('Confusion matrix for Test data:')\n",
    "print(confusion_matrix(y_test_wine1, tree_drop_optimal.predict(X_test_wine1)))\n",
    "print('=============================')\n",
    "print('Random Forest with Missiong Values DROPPED\\n')\n",
    "print('Optimal max_depth = {}'.format(optimal_depth_rf_drop))\n",
    "print('The Decision Tree Classifier = {}'.format(optimal_depth_rf_drop))\n",
    "print('train_acc = {}\\ntest_acc = {}\\n'.format(rf_drop_optimal.score(X_train_wine1, y_train_wine1), rf_drop_optimal.score(X_test_wine1, y_test_wine1)))\n",
    "print('Confusion matrix for Test data:')\n",
    "print(confusion_matrix(y_test_wine1, rf_drop_optimal.predict(X_test_wine1)))\n",
    "print('=============================')"
   ]
  },
  {
   "cell_type": "markdown",
   "metadata": {},
   "source": [
    "### Impute missing data with MEAN"
   ]
  },
  {
   "cell_type": "code",
   "execution_count": 17,
   "metadata": {
    "scrolled": false
   },
   "outputs": [
    {
     "name": "stdout",
     "output_type": "stream",
     "text": [
      "Mean Imputation Duration = 0.004935026168823242 seconds\n",
      "Number of NaN in the dataset after imputing: 0\n",
      "X_train.shape = (123, 13) \n",
      "X_test.shape = (55, 13) \n",
      "y_train.shape = (123,) \n",
      "y_test.shape = (55,)\n"
     ]
    }
   ],
   "source": [
    "import time\n",
    "# model with mean imputation\n",
    "df_wine_mean = df_wine.copy()\n",
    "\n",
    "start_imp_mean = time.time() # calculate the amount of time to impute mean\n",
    "for column in df_wine_mean.columns[:-1]:\n",
    "    col_mean = df_wine_full[column].mean() # calculate column mean from the full dataset where missing data is dropped\n",
    "    df_wine_mean[column].fillna(col_mean, inplace=True) # fill na's with column mean\n",
    "\n",
    "print('Mean Imputation Duration = {} seconds'.format(time.time() - start_imp_mean))\n",
    "print(\"Number of NaN in the dataset after imputing: {}\".format(sum(df_wine_mean.isnull().any())))\n",
    "X_train_wine2, X_test_wine2, y_train_wine2, y_test_wine2 = split_hw8_data(df_wine_mean, 'Class')"
   ]
  },
  {
   "cell_type": "code",
   "execution_count": 18,
   "metadata": {},
   "outputs": [
    {
     "name": "stdout",
     "output_type": "stream",
     "text": [
      "=============================\n",
      "Decision Tree with Missiong Values IMPUTED WITH MEAN\n",
      "\n",
      "Optimal max_depth = 40\n",
      "The Decision Tree Classifier = DecisionTreeClassifier(class_weight=None, criterion='gini', max_depth=40,\n",
      "            max_features=None, max_leaf_nodes=None,\n",
      "            min_impurity_split=1e-07, min_samples_leaf=1,\n",
      "            min_samples_split=2, min_weight_fraction_leaf=0.0,\n",
      "            presort=False, random_state=None, splitter='best')\n",
      "train_acc = 1.0\n",
      "test_acc = 0.8909090909090909\n",
      "\n",
      "Confusion matrix for Test data:\n",
      "[[17  3  0]\n",
      " [ 0 18  0]\n",
      " [ 0  3 14]]\n",
      "=============================\n",
      "Random Forest with Missiong Values IMPUTED WITH MEAN\n",
      "\n",
      "Optimal max_depth = 8\n",
      "The Decision Tree Classifier = RandomForestClassifier(bootstrap=True, class_weight=None, criterion='gini',\n",
      "            max_depth=8, max_features='auto', max_leaf_nodes=None,\n",
      "            min_impurity_split=1e-07, min_samples_leaf=1,\n",
      "            min_samples_split=2, min_weight_fraction_leaf=0.0,\n",
      "            n_estimators=10, n_jobs=1, oob_score=False, random_state=None,\n",
      "            verbose=0, warm_start=False)\n",
      "train_acc = 1.0\n",
      "test_acc = 0.9636363636363636\n",
      "\n",
      "Confusion matrix for Test data:\n",
      "[[18  2  0]\n",
      " [ 0 18  0]\n",
      " [ 0  0 17]]\n",
      "=============================\n"
     ]
    }
   ],
   "source": [
    "depths = [1, 2, 4, 6, 8, 10, 12, 14, 16, 18, 20, 25, 30, 40]\n",
    "cv_scores_tree_mean = []\n",
    "cv_scores_rf_mean = []\n",
    "\n",
    "for d in depths:\n",
    "    # decision tree\n",
    "    tree_mean = DecisionTreeClassifier(max_depth=d)\n",
    "    scores_tree = cross_val_score(tree_mean, X_train_wine2, y_train_wine2, cv=5, scoring='accuracy')\n",
    "    cv_scores_tree_mean.append(scores_tree.mean())\n",
    "    \n",
    "    # random forest\n",
    "    rf_mean = RandomForestClassifier(max_depth=d)\n",
    "    scores_rf = cross_val_score(rf_mean, X_train_wine2, y_train_wine2, cv=5, scoring='accuracy')\n",
    "    cv_scores_rf_mean.append(scores_rf.mean())\n",
    "\n",
    "optimal_depth_tree_mean = depths[cv_scores_tree_mean.index(max(cv_scores_tree_mean))]\n",
    "optimal_depth_rf_mean = depths[cv_scores_rf_mean.index(max(cv_scores_rf_mean))]\n",
    "tree_mean_optimal = DecisionTreeClassifier(max_depth=optimal_depth_tree_mean).fit(X_train_wine2, y_train_wine2)\n",
    "rf_mean_optimal = RandomForestClassifier(max_depth=optimal_depth_rf_mean).fit(X_train_wine2, y_train_wine2)\n",
    "\n",
    "print('=============================')\n",
    "print('Decision Tree with Missiong Values IMPUTED WITH MEAN\\n')\n",
    "print('Optimal max_depth = {}'.format(optimal_depth_tree_mean))\n",
    "print('The Decision Tree Classifier = {}'.format(tree_mean_optimal))\n",
    "print('train_acc = {}\\ntest_acc = {}\\n'.format(tree_mean_optimal.score(X_train_wine2, y_train_wine2), tree_mean_optimal.score(X_test_wine2, y_test_wine2)))\n",
    "print('Confusion matrix for Test data:')\n",
    "print(confusion_matrix(y_test_wine2, tree_mean_optimal.predict(X_test_wine2)))\n",
    "print('=============================')\n",
    "print('Random Forest with Missiong Values IMPUTED WITH MEAN\\n')\n",
    "print('Optimal max_depth = {}'.format(optimal_depth_rf_mean))\n",
    "print('The Decision Tree Classifier = {}'.format(rf_mean_optimal))\n",
    "print('train_acc = {}\\ntest_acc = {}\\n'.format(rf_mean_optimal.score(X_train_wine2, y_train_wine2), rf_mean_optimal.score(X_test_wine2, y_test_wine2)))\n",
    "print('Confusion matrix for Test data:')\n",
    "print(confusion_matrix(y_test_wine2, rf_mean_optimal.predict(X_test_wine2)))\n",
    "print('=============================')"
   ]
  },
  {
   "cell_type": "code",
   "execution_count": null,
   "metadata": {
    "collapsed": true
   },
   "outputs": [],
   "source": []
  }
 ],
 "metadata": {
  "anaconda-cloud": {},
  "kernelspec": {
   "display_name": "Python 3",
   "language": "python",
   "name": "python3"
  },
  "language_info": {
   "codemirror_mode": {
    "name": "ipython",
    "version": 3
   },
   "file_extension": ".py",
   "mimetype": "text/x-python",
   "name": "python",
   "nbconvert_exporter": "python",
   "pygments_lexer": "ipython3",
   "version": "3.6.1"
  },
  "latex_envs": {
   "bibliofile": "biblio.bib",
   "cite_by": "apalike",
   "current_citInitial": 1,
   "eqLabelWithNumbers": true,
   "eqNumInitial": 0
  }
 },
 "nbformat": 4,
 "nbformat_minor": 1
}
