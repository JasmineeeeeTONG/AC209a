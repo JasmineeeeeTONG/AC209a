{
 "cells": [
  {
   "cell_type": "markdown",
   "metadata": {},
   "source": [
    "# CS 109A/STAT 121A/AC 209A/CSCI E-109A: Homework 8\n",
    "# Ensemble methods\n",
    "\n",
    "**Harvard University**<br/>\n",
    "**Fall 2017**<br/>\n",
    "**Instructors**: Pavlos Protopapas, Kevin Rader, Rahul Dave\n"
   ]
  },
  {
   "cell_type": "markdown",
   "metadata": {},
   "source": [
    "Import libraries:"
   ]
  },
  {
   "cell_type": "code",
   "execution_count": 20,
   "metadata": {
    "collapsed": true
   },
   "outputs": [],
   "source": [
    "import numpy as np\n",
    "import pandas as pd\n",
    "import matplotlib\n",
    "import matplotlib.pyplot as plt\n",
    "import sklearn.metrics as metrics\n",
    "from sklearn.metrics import confusion_matrix\n",
    "from sklearn.model_selection import cross_val_score\n",
    "from sklearn import tree\n",
    "from sklearn.tree import DecisionTreeClassifier\n",
    "from sklearn.ensemble import RandomForestClassifier\n",
    "from sklearn.ensemble import AdaBoostClassifier\n",
    "from sklearn.linear_model import LogisticRegressionCV\n",
    "from copy import deepcopy\n",
    "from itertools import product\n",
    "from collections import OrderedDict\n",
    "from sklearn.model_selection import KFold\n",
    "%matplotlib inline"
   ]
  },
  {
   "cell_type": "markdown",
   "metadata": {},
   "source": [
    "# Higgs Boson Discovery\n",
    "\n",
    "The discovery of the Higgs boson in July 2012 marked a fundamental breakthrough in particle physics. The Higgs boson particle was discovered through experiments at the Large Hadron Collider at CERN, by colliding beams of protons at high energy. A key challenge in analyzing the results of these experiments is to differentiate between a collision that produces Higgs bosons and collisions thats produce only background noise. We shall explore the use of ensemble methods for this classification task.\n",
    "\n",
    "You are provided with data from Monte-Carlo simulations of collisions of particles in a particle collider experiment. The training set is available in `Higgs_train.csv` and the test set is in `Higgs_test.csv`. Each row in these files corresponds to a particle colision described by 28 features (columns 1-28), of which the first 21 features are kinematic properties measured by the particle detectors in the accelerator, and the remaining features are derived by physicists from the the first 21 features. The class label is provided in the last column, with a label of 1 indicating that the collision produces Higgs bosons (signal), and a label of 0 indicating that the collision produces other particles (background). \n",
    "\n",
    "The data set provided to you is a small subset of the HIGGS data set in the UCI machine learning repository. The following paper contains further details about the data set and the predictors used: <a href = \"https://www.nature.com/articles/ncomms5308\">Baldi et al., Nature Communications 5, 2014</a>.\n"
   ]
  },
  {
   "cell_type": "markdown",
   "metadata": {},
   "source": [
    "## Question 1 (2pt): Single Decision Tree\n",
    "We start by building a basic model which we will use as our base model for comparison. \n",
    "\n",
    "1. Fit a decision tree model to the training set and report the classification accuracy of the model on the test set. Use 5-fold cross-validation to choose the (maximum) depth for the tree. You will use the max_depth you find here throughout the homework. \n"
   ]
  },
  {
   "cell_type": "code",
   "execution_count": 2,
   "metadata": {},
   "outputs": [
    {
     "name": "stdout",
     "output_type": "stream",
     "text": [
      "Number of columns with missing data in TRAIN:  0\n",
      "Number of columns with missing data in TEST:  0\n"
     ]
    }
   ],
   "source": [
    "# read in data\n",
    "df_train = pd.read_csv(\"Higgs_train.csv\")\n",
    "df_test = pd.read_csv(\"Higgs_test.csv\")\n",
    "\n",
    "# check if data has missing value\n",
    "print('Number of columns with missing data in TRAIN: ', np.sum(df_train.isnull().any()))\n",
    "print('Number of columns with missing data in TEST: ', np.sum(df_test.isnull().any()))"
   ]
  },
  {
   "cell_type": "code",
   "execution_count": 3,
   "metadata": {},
   "outputs": [
    {
     "data": {
      "text/plain": [
       "((5000, 28), (5000,), (5000, 28), (5000,))"
      ]
     },
     "execution_count": 3,
     "metadata": {},
     "output_type": "execute_result"
    }
   ],
   "source": [
    "# Separate features and response\n",
    "X_train = df_train.iloc[:, :-1]\n",
    "y_train = df_train.iloc[:, -1]\n",
    "\n",
    "X_test = df_test.iloc[:, :-1]\n",
    "y_test = df_test.iloc[:, -1]\n",
    "\n",
    "X_train.shape, y_train.shape, X_test.shape, y_test.shape"
   ]
  },
  {
   "cell_type": "code",
   "execution_count": 4,
   "metadata": {},
   "outputs": [
    {
     "name": "stdout",
     "output_type": "stream",
     "text": [
      "=============================\n",
      "Single Decision Tree\n",
      "\n",
      "Optimal Depth = 4\n",
      "train_acc = 0.6602\n",
      "test_acc = 0.6496\n",
      "\n"
     ]
    }
   ],
   "source": [
    "# Fit a single Decision Tree Model & Use 5-fold CV to choose max_depth\n",
    "depths = [1, 2, 4, 6, 8, 10, 12, 14, 16, 18, 20, 25, 30, 40, 60]\n",
    "cv_scores_tree = []\n",
    "\n",
    "for d in depths:\n",
    "    tree = DecisionTreeClassifier(max_depth=d, random_state=22)\n",
    "    scores = cross_val_score(tree, X_train, y_train, cv=5, scoring='accuracy')\n",
    "    cv_scores_tree.append(scores.mean())\n",
    "\n",
    "optimal_depth = depths[cv_scores_tree.index(max(cv_scores_tree))]\n",
    "tree_optimal = DecisionTreeClassifier(max_depth=optimal_depth, random_state=22).fit(X_train, y_train)\n",
    "print('=============================')\n",
    "print('Single Decision Tree\\n')\n",
    "print('Optimal Depth = {}'.format(optimal_depth))\n",
    "print('train_acc = {}\\ntest_acc = {}\\n'.format(tree_optimal.score(X_train, y_train), tree_optimal.score(X_test, y_test)))"
   ]
  },
  {
   "cell_type": "markdown",
   "metadata": {},
   "source": [
    "## Question 2 (15pt): Dropout-based Approach\n",
    "We start with a simple method inspired from the idea of 'dropout' in machine learning, where we fit multiple decision trees on random subsets of predictors, and combine them through a majority vote. The procedure is described below.\n",
    "\n",
    "- For each predictor in the training sample, set the predictor values to 0 with probability $p$  (i.e. drop the predictor by setting it to 0). Repeat this for $B$ trials to create $B$ separate training sets.\n",
    "\n",
    "\n",
    "- Fit decision tree models $\\hat{h}^1(x), \\ldots, \\hat{h}^B(x) \\in \\{0,1\\}$ to the $B$ training sets. \n",
    "\n",
    "- Combine the decision tree models into a single classifier by taking a majority vote:\n",
    "$$\n",
    "\\hat{H}_{maj}(x) \\,=\\, majority\\Big(\\hat{h}^1(x), \\ldots, \\hat{h}^B(x)\\Big).\n",
    "$$\n",
    "\n",
    "\n",
    "We shall refer to the combined classifier as an ** *ensemble classifier* **. Implement the described dropout approach, and answer the following questions:\n",
    "1. Apply the dropout procedure with $p = 0.5$ for different number of trees (say $2, 4, 8, 16, \\ldots, 256$), and evaluate the training and test accuracy of the combined classifier. Does an increase in the number of trees improve the training and test performance? Explain your observations in terms of the bias-variance trade-off for the classifier.\n",
    "- Fix the number of trees to 64 and apply the dropout procedure with different dropout rates $p = 0.1, 0.3, 0.5, 0.7, 0.9$. Based on your results, explain how the dropout rate influences the bias and variance of the combined classifier.\n",
    "- Apply 5-fold cross-validation to choose the optimal combination of the dropout rate and number of trees. How does the test performance of an ensemble of trees fitted with the optimal dropout rate and number of trees compare with the single decision tree model in Question 1?\n",
    "[hint: Training with large number of trees can take long time. You may need to restrict the max number of trees.]"
   ]
  },
  {
   "cell_type": "code",
   "execution_count": 5,
   "metadata": {},
   "outputs": [
    {
     "name": "stdout",
     "output_type": "stream",
     "text": [
      "[False False  True False False False  True False False]\n"
     ]
    },
    {
     "data": {
      "text/plain": [
       "array([3, 7])"
      ]
     },
     "execution_count": 5,
     "metadata": {},
     "output_type": "execute_result"
    }
   ],
   "source": [
    "arr = np.array([1,2,3,4,5,6,7,8,9])\n",
    "msk = np.random.rand(len(arr)) < 0.1\n",
    "arr2 = deepcopy(arr)\n",
    "print(msk)\n",
    "arr2[msk]"
   ]
  },
  {
   "cell_type": "code",
   "execution_count": 6,
   "metadata": {
    "collapsed": true
   },
   "outputs": [],
   "source": [
    "def dropout_ensemble_fit_pred(n, p, xtrain, ytrain, xtest, ytest, depth):\n",
    "    y_preds_train = np.zeros((xtrain.shape[0], n))\n",
    "    y_preds_test = np.zeros((xtest.shape[0], n))\n",
    "    \n",
    "    np.random.seed(9001)\n",
    "    for i in range(n):\n",
    "        # Dropout features randomly with probability = p\n",
    "        msk = np.random.rand(len(xtrain.columns)) < p\n",
    "        xtrain_samp = deepcopy(xtrain)\n",
    "        xtest_samp = deepcopy(xtest)\n",
    "        xtrain_samp.iloc[:, msk] = 0\n",
    "        xtest_samp.iloc[:, msk] = 0\n",
    "        \n",
    "        # Fit a tree \n",
    "        tree = DecisionTreeClassifier(max_depth=depth, random_state=22).fit(xtrain_samp, ytrain)\n",
    "        y_preds_train[:, i] = tree.predict(xtrain_samp)\n",
    "        y_preds_test[:, i] = tree.predict(xtest_samp)\n",
    "        \n",
    "    # Majority vote of the n trees - Train\n",
    "    maj_pred_train = np.zeros((xtrain.shape[0],))\n",
    "    for i in range(xtrain.shape[0]):\n",
    "        num_ones_train = np.count_nonzero(y_preds_train[i, :])\n",
    "        num_zeros_train = n - num_ones_train\n",
    "        if num_ones_train >= num_zeros_train:\n",
    "            maj_pred_train[i] = 1\n",
    "    \n",
    "    # Majority vote of the n trees - Test\n",
    "    maj_pred_test = np.zeros((xtest.shape[0],))\n",
    "    for i in range(xtest.shape[0]):\n",
    "        num_ones_test = np.count_nonzero(y_preds_test[i, :])\n",
    "        num_zeros_test = n - num_ones_test\n",
    "        if num_ones_test >= num_zeros_test:\n",
    "            maj_pred_test[i] = 1\n",
    "    \n",
    "    return maj_pred_train, maj_pred_test"
   ]
  },
  {
   "cell_type": "code",
   "execution_count": 7,
   "metadata": {},
   "outputs": [
    {
     "name": "stdout",
     "output_type": "stream",
     "text": [
      "Train Accuracies:\n",
      " [0.65920000000000001, 0.66600000000000004, 0.67479999999999996, 0.66859999999999997, 0.67879999999999996, 0.68400000000000005, 0.68159999999999998, 0.68259999999999998]\n",
      "\n",
      "Test Accuracies:\n",
      " [0.64880000000000004, 0.64600000000000002, 0.6522, 0.65559999999999996, 0.65880000000000005, 0.66220000000000001, 0.66000000000000003, 0.66159999999999997]\n"
     ]
    }
   ],
   "source": [
    "n_trees = [2**(i+1) for i in np.arange(8)]\n",
    "\n",
    "acc_train_1 = []\n",
    "acc_test_1 = []\n",
    "\n",
    "for n in n_trees:\n",
    "    maj_pred_train, maj_pred_test = dropout_ensemble_fit_pred(n, 0.5, X_train, y_train, X_test, y_test, optimal_depth)\n",
    "    \n",
    "    # Record the train and test accuracy of the ensemble classifier\n",
    "    acc_train_1.append(metrics.accuracy_score(y_train, maj_pred_train))\n",
    "    acc_test_1.append(metrics.accuracy_score(y_test, maj_pred_test))\n",
    "\n",
    "print('Train Accuracies:\\n', acc_train_1)\n",
    "print('\\nTest Accuracies:\\n', acc_test_1)"
   ]
  },
  {
   "cell_type": "code",
   "execution_count": 8,
   "metadata": {},
   "outputs": [
    {
     "data": {
      "text/plain": [
       "<matplotlib.legend.Legend at 0x10c61fbe0>"
      ]
     },
     "execution_count": 8,
     "metadata": {},
     "output_type": "execute_result"
    },
    {
     "data": {
      "image/png": "[encoded data removed]",
      "text/plain": [
       "<matplotlib.figure.Figure at 0x111db6780>"
      ]
     },
     "metadata": {},
     "output_type": "display_data"
    }
   ],
   "source": [
    "# Plot the accracies VS. number of trees\n",
    "fig, ax = plt.subplots(1, 1, figsize = (8, 6))\n",
    "ax.plot(n_trees, acc_train_1, 's-', label='train')\n",
    "ax.plot(n_trees, acc_test_1, 's-', label='test')\n",
    "\n",
    "ax.set_xlabel(\"#_trees\", fontsize=16)\n",
    "ax.set_ylabel(\"Accuracy\", fontsize=16)\n",
    "ax.set_title(\"Accuracy VS. Number of trees\", fontsize=18)\n",
    "ax.legend(fontsize=14)"
   ]
  },
  {
   "cell_type": "code",
   "execution_count": 9,
   "metadata": {},
   "outputs": [
    {
     "name": "stdout",
     "output_type": "stream",
     "text": [
      "Train Accuracies:\n",
      " [0.66020000000000001, 0.66400000000000003, 0.68400000000000005, 0.70279999999999998, 0.56240000000000001]\n",
      "\n",
      "Test Accuracies:\n",
      " [0.64959999999999996, 0.6512, 0.66220000000000001, 0.66200000000000003, 0.55200000000000005]\n"
     ]
    }
   ],
   "source": [
    "ps = [0.1, 0.3, 0.5, 0.7, 0.9]\n",
    "\n",
    "acc_train_2 = []\n",
    "acc_test_2 = []\n",
    "\n",
    "for p in ps:\n",
    "    maj_pred_train, maj_pred_test = dropout_ensemble_fit_pred(64, p, X_train, y_train, X_test, y_test, optimal_depth)\n",
    "    \n",
    "    # Record the train and test accuracy of the ensemble classifier\n",
    "    acc_train_2.append(metrics.accuracy_score(y_train, maj_pred_train))\n",
    "    acc_test_2.append(metrics.accuracy_score(y_test, maj_pred_test))\n",
    "    \n",
    "\n",
    "print('Train Accuracies:\\n', acc_train_2)\n",
    "print('\\nTest Accuracies:\\n', acc_test_2)"
   ]
  },
  {
   "cell_type": "code",
   "execution_count": 10,
   "metadata": {},
   "outputs": [
    {
     "data": {
      "text/plain": [
       "<matplotlib.legend.Legend at 0x117c97cf8>"
      ]
     },
     "execution_count": 10,
     "metadata": {},
     "output_type": "execute_result"
    },
    {
     "data": {
      "image/png": "[encoded data removed]",
      "text/plain": [
       "<matplotlib.figure.Figure at 0x117c37208>"
      ]
     },
     "metadata": {},
     "output_type": "display_data"
    }
   ],
   "source": [
    "# Plot the accracies VS. dropout rate\n",
    "fig, ax = plt.subplots(1, 1, figsize = (8, 6))\n",
    "ax.plot(ps, acc_train_2, 's-', label='train')\n",
    "ax.plot(ps, acc_test_2, 's-', label='test')\n",
    "\n",
    "ax.set_xlabel(\"Dropout Rate\", fontsize=16)\n",
    "ax.set_ylabel(\"Accuracy\", fontsize=16)\n",
    "ax.set_title(\"Accuracy VS. Dropout Rate\", fontsize=18)\n",
    "ax.legend(fontsize=14)"
   ]
  },
  {
   "cell_type": "markdown",
   "metadata": {},
   "source": [
    "## Question 2 \n",
    "### 3. 5-fold cv to choose the optimal combination of the dropout rate and number of trees."
   ]
  },
  {
   "cell_type": "code",
   "execution_count": 11,
   "metadata": {},
   "outputs": [
    {
     "data": {
      "text/plain": [
       "odict_values([[2, 4, 8, 16, 32, 64, 128, 256], [0.1, 0.3, 0.5, 0.7, 0.9]])"
      ]
     },
     "execution_count": 11,
     "metadata": {},
     "output_type": "execute_result"
    }
   ],
   "source": [
    "params = OrderedDict(\n",
    "    n_estimators = [2**(i+1) for i in np.arange(8)],\n",
    "    dropout_prob = [0.1, 0.3, 0.5, 0.7, 0.9]\n",
    ")\n",
    "params.values()"
   ]
  },
  {
   "cell_type": "code",
   "execution_count": 12,
   "metadata": {
    "collapsed": true
   },
   "outputs": [],
   "source": [
    "# Use 5-fold cv to choose the optimal combination of dropout rate & #_trees in the Dropout Ensemble model\n",
    "cv_scores_dropout_ensemble = np.zeros((5, len(params['n_estimators'])*len(params['dropout_prob'])))\n",
    "fold = 0\n",
    "params_dict = {}\n",
    "for idx_train, idx_valid in KFold(5, shuffle=True, random_state=22).split(range(X_train.shape[0])): \n",
    "    xtrain_cv = X_train.iloc[idx_train]\n",
    "    ytrain_cv = y_train.iloc[idx_train]\n",
    "    xvalid_cv = X_train.iloc[idx_valid]\n",
    "    yvalid_cv = y_train.iloc[idx_valid]\n",
    "    \n",
    "    for i, (n, p) in enumerate(product(*params.values())):\n",
    "        params_dict[i] = (n, p)\n",
    "        maj_pred_train, maj_pred_valid = dropout_ensemble_fit_pred(n, p, xtrain_cv, ytrain_cv, xvalid_cv, yvalid_cv, optimal_depth)\n",
    "        cv_scores_dropout_ensemble[fold, i] = metrics.accuracy_score(yvalid_cv, maj_pred_valid)\n",
    "    \n",
    "    fold += 1"
   ]
  },
  {
   "cell_type": "code",
   "execution_count": 13,
   "metadata": {},
   "outputs": [
    {
     "name": "stdout",
     "output_type": "stream",
     "text": [
      "Maximum validation score = 0.6562000000000001\n",
      "The optimal set of parameters: n_estimators = 64, dropout_prob = 0.5\n"
     ]
    }
   ],
   "source": [
    "mean_scores_dropout_ensemble = cv_scores_dropout_ensemble.mean(axis=0)\n",
    "max_score_valid = max(mean_scores_dropout_ensemble)\n",
    "idx_optimal = np.argmax(mean_scores_dropout_ensemble)\n",
    "optimal_params = params_dict[idx_optimal]\n",
    "\n",
    "print('Maximum validation score = {}'.format(max_score_valid))\n",
    "print('The optimal set of parameters: n_estimators = {}, dropout_prob = {}'.format(optimal_params[0], optimal_params[1]))"
   ]
  },
  {
   "cell_type": "code",
   "execution_count": 14,
   "metadata": {},
   "outputs": [
    {
     "name": "stdout",
     "output_type": "stream",
     "text": [
      "=============================\n",
      "Dropout Ensemble Trees Classifier\n",
      "\n",
      "Optimal Number of Trees = 64\n",
      "Optimal Dropout Rate = 0.5\n",
      "train_acc = 0.684\n",
      "test_acc = 0.6622\n",
      "\n"
     ]
    }
   ],
   "source": [
    "maj_pred_train, maj_pred_test = dropout_ensemble_fit_pred(optimal_params[0], optimal_params[1], \n",
    "                                                          X_train, y_train, X_test, y_test, optimal_depth)\n",
    "best_dropout_ensemble_acc_train = metrics.accuracy_score(y_train, maj_pred_train)\n",
    "best_dropout_ensemble_acc_test = metrics.accuracy_score(y_test, maj_pred_test)\n",
    "\n",
    "print('=============================')\n",
    "print('Dropout Ensemble Trees Classifier\\n')\n",
    "print('Optimal Number of Trees = {}'.format(optimal_params[0]))\n",
    "print('Optimal Dropout Rate = {}'.format(optimal_params[1]))\n",
    "\n",
    "print('train_acc = {}\\ntest_acc = {}\\n'.format(best_dropout_ensemble_acc_train, best_dropout_ensemble_acc_test))"
   ]
  },
  {
   "cell_type": "markdown",
   "metadata": {},
   "source": [
    "## Question 3 (15pt): Random Forests\n",
    "\n",
    "We now move to a more sophisticated ensemble technique, namely random forest:\n",
    "1. How does a random forest approach differ from the dropout procedure described in Question 2? \n",
    " \n",
    "- Fit random forest models to the training set for different number of trees (say $2, 4, 8, 16, \\ldots, 256$), and evaluate the training and test accuracies of the models. You may set the number of predictors for each tree in the random forest model to $\\sqrt{p}$, where $p$ is the total number of predictors. \n",
    "\n",
    "- Based on your results, do you find that a larger number of trees necessarily improves the test accuracy of a random forest model? Explain how the number of trees effects the training and test accuracy of a random forest classifier, and how this relates to the bias-variance trade-off for the classifier. \n",
    "  \n",
    "- Fixing the number of trees to a reasonable value, apply 5-fold cross-validation to choose the optimal value for the  number of predictors. How does the test performance of random forest model fitted with the optimal number of trees compare with the dropout approach in Question 2?  \n",
    "\n",
    "\n",
    "\n"
   ]
  },
  {
   "cell_type": "code",
   "execution_count": 15,
   "metadata": {},
   "outputs": [
    {
     "name": "stderr",
     "output_type": "stream",
     "text": [
      "/Users/jasminetong/anaconda/lib/python3.6/site-packages/sklearn/ensemble/forest.py:439: UserWarning: Some inputs do not have OOB scores. This probably means too few trees were used to compute any reliable oob estimates.\n",
      "  warn(\"Some inputs do not have OOB scores. \"\n",
      "/Users/jasminetong/anaconda/lib/python3.6/site-packages/sklearn/ensemble/forest.py:444: RuntimeWarning: invalid value encountered in true_divide\n",
      "  predictions[k].sum(axis=1)[:, np.newaxis])\n",
      "/Users/jasminetong/anaconda/lib/python3.6/site-packages/sklearn/ensemble/forest.py:439: UserWarning: Some inputs do not have OOB scores. This probably means too few trees were used to compute any reliable oob estimates.\n",
      "  warn(\"Some inputs do not have OOB scores. \"\n",
      "/Users/jasminetong/anaconda/lib/python3.6/site-packages/sklearn/ensemble/forest.py:444: RuntimeWarning: invalid value encountered in true_divide\n",
      "  predictions[k].sum(axis=1)[:, np.newaxis])\n",
      "/Users/jasminetong/anaconda/lib/python3.6/site-packages/sklearn/ensemble/forest.py:439: UserWarning: Some inputs do not have OOB scores. This probably means too few trees were used to compute any reliable oob estimates.\n",
      "  warn(\"Some inputs do not have OOB scores. \"\n",
      "/Users/jasminetong/anaconda/lib/python3.6/site-packages/sklearn/ensemble/forest.py:444: RuntimeWarning: invalid value encountered in true_divide\n",
      "  predictions[k].sum(axis=1)[:, np.newaxis])\n",
      "/Users/jasminetong/anaconda/lib/python3.6/site-packages/sklearn/ensemble/forest.py:439: UserWarning: Some inputs do not have OOB scores. This probably means too few trees were used to compute any reliable oob estimates.\n",
      "  warn(\"Some inputs do not have OOB scores. \"\n",
      "/Users/jasminetong/anaconda/lib/python3.6/site-packages/sklearn/ensemble/forest.py:444: RuntimeWarning: invalid value encountered in true_divide\n",
      "  predictions[k].sum(axis=1)[:, np.newaxis])\n"
     ]
    },
    {
     "name": "stdout",
     "output_type": "stream",
     "text": [
      "Train Accuracies:\n",
      " [0.83499999999999996, 0.92500000000000004, 0.97640000000000005, 0.99739999999999995, 0.99960000000000004, 1.0, 1.0, 1.0]\n",
      "\n",
      "Test Accuracies:\n",
      " [0.56779999999999997, 0.59719999999999995, 0.63680000000000003, 0.66100000000000003, 0.67959999999999998, 0.69179999999999997, 0.6956, 0.70599999999999996]\n"
     ]
    }
   ],
   "source": [
    "n_trees = [2**(i+1) for i in np.arange(8)]\n",
    "RF_acc_train = []\n",
    "RF_acc_test = []\n",
    "for n in n_trees:\n",
    "    # Fit the Random Forest Classifier\n",
    "    RF_clf = RandomForestClassifier(oob_score=True, n_estimators=n, max_features='sqrt', \n",
    "                                    n_jobs=-1, random_state=22).fit(X_train, y_train)\n",
    "    \n",
    "    # Record mean accuracya score on Train & Test set\n",
    "    RF_acc_train.append(RF_clf.score(X_train, y_train))\n",
    "    RF_acc_test.append(RF_clf.score(X_test, y_test))\n",
    "\n",
    "print('Train Accuracies:\\n', RF_acc_train)\n",
    "print('\\nTest Accuracies:\\n', RF_acc_test)"
   ]
  },
  {
   "cell_type": "code",
   "execution_count": 16,
   "metadata": {},
   "outputs": [
    {
     "data": {
      "text/plain": [
       "<matplotlib.legend.Legend at 0x117ea4cc0>"
      ]
     },
     "execution_count": 16,
     "metadata": {},
     "output_type": "execute_result"
    },
    {
     "data": {
      "image/png": "[encoded data removed]",
      "text/plain": [
       "<matplotlib.figure.Figure at 0x117ceb0f0>"
      ]
     },
     "metadata": {},
     "output_type": "display_data"
    }
   ],
   "source": [
    "# Plot the accracies VS. number of trees in the random forest\n",
    "fig, ax = plt.subplots(1, 1, figsize = (8, 6))\n",
    "ax.plot(n_trees, RF_acc_train, 's-', label='train')\n",
    "ax.plot(n_trees, RF_acc_test, 's-', label='test')\n",
    "\n",
    "ax.set_xlabel(\"#_trees in the Random Forest\", fontsize=16)\n",
    "ax.set_ylabel(\"Accuracy\", fontsize=16)\n",
    "ax.set_title(\"Accuracy VS. #_trees in the Random Forest\", fontsize=18)\n",
    "ax.legend(fontsize=14)"
   ]
  },
  {
   "cell_type": "code",
   "execution_count": 17,
   "metadata": {},
   "outputs": [
    {
     "name": "stdout",
     "output_type": "stream",
     "text": [
      "=============================\n",
      "Optimal Random Forest (#_trees=64)\n",
      "\n",
      "Optimal max_feature = 0.3\n",
      "train_acc = 1.0\n",
      "test_acc = 0.699\n",
      "\n"
     ]
    }
   ],
   "source": [
    "# Use 5-fold CV to choose max_features in a 64-tree RF\n",
    "max_features = [0.1, 0.3, 0.5, 0.7, 0.9]\n",
    "cv_scores_RF = []\n",
    "\n",
    "for f in max_features:\n",
    "    RF_clf = RandomForestClassifier(oob_score=True, n_estimators=64, max_features=f, n_jobs=-1, random_state=22)\n",
    "    scores = cross_val_score(RF_clf, X_train, y_train, cv=5, scoring='accuracy')\n",
    "    cv_scores_RF.append(scores.mean())\n",
    "\n",
    "optimal_f = max_features[cv_scores_RF.index(max(cv_scores_RF))]\n",
    "RF_optimal = RandomForestClassifier(oob_score=True, n_estimators=64, \n",
    "                                    max_features=optimal_f, n_jobs=-1, random_state=22).fit(X_train, y_train)\n",
    "\n",
    "print('=============================')\n",
    "print('Optimal Random Forest (#_trees=64)\\n')\n",
    "print('Optimal max_feature = {}'.format(optimal_f))\n",
    "print('train_acc = {}\\ntest_acc = {}\\n'.format(RF_optimal.score(X_train, y_train), RF_optimal.score(X_test, y_test)))"
   ]
  },
  {
   "cell_type": "markdown",
   "metadata": {},
   "source": [
    "## Question 4 (15pt): Boosting\n",
    "\n",
    "We next compare the random forest model with the approach of boosting:\n",
    "\n",
    "\n",
    "1. Apply the AdaBoost algorithm to fit an ensemble of decision trees. Set the learning rate to 0.05, and try out different tree depths for the base learners: 1, 2, 10, and unrestricted depth.  Make a plot of the training accuracy of the ensemble classifier as a function of tree depths. Make a similar plot of the test accuracies as a function of number of trees (say $2, 4, 8, 16, \\ldots, 256$).\n",
    "- How does the number of trees influence the training and test performance? Compare and contrast between the trends you see in the training and test performance of AdaBoost and that of the random forest models in Question 3. Give an explanation for your observations.\n",
    "- How does the tree depth of the base learner impact the training and test performance? Recall that with random forests, we allow the depth of the individual trees to be unrestricted. Would you recommend the same strategy for boosting? Explain your answer.\n",
    "- Apply 5-fold cross-validation to choose the optimal number of trees $B$ for the ensemble and the optimal tree depth for the base learners. How does an ensemble classifier fitted with the optimal number of trees and the optimal tree depth compare with the random forest model fitted in Question 3.4? \n",
    "\n"
   ]
  },
  {
   "cell_type": "code",
   "execution_count": 18,
   "metadata": {},
   "outputs": [
    {
     "name": "stdout",
     "output_type": "stream",
     "text": [
      "Train Accuracies:\n",
      " [0.64739999999999998, 0.67720000000000002, 1.0, 1.0]\n",
      "\n",
      "Test Accuracies:\n",
      " [0.64439999999999997, 0.67820000000000003, 0.63160000000000005, 0.60780000000000001]\n"
     ]
    }
   ],
   "source": [
    "l_rate = 0.05\n",
    "base_depths = [1, 2, 10, None]\n",
    "\n",
    "ab1_acc_train = []\n",
    "ab1_acc_test = []\n",
    "\n",
    "for d in base_depths:\n",
    "    ab1 = AdaBoostClassifier(DecisionTreeClassifier(max_depth=d, random_state=22), learning_rate=l_rate, \n",
    "                             random_state=22).fit(X_train, y_train)\n",
    "    ab1_acc_train.append(ab1.score(X_train, y_train))\n",
    "    ab1_acc_test.append(ab1.score(X_test, y_test))\n",
    "\n",
    "print('Train Accuracies:\\n', ab1_acc_train)\n",
    "print('\\nTest Accuracies:\\n', ab1_acc_test)"
   ]
  },
  {
   "cell_type": "code",
   "execution_count": 19,
   "metadata": {},
   "outputs": [
    {
     "data": {
      "text/plain": [
       "<matplotlib.legend.Legend at 0x117fc2cc0>"
      ]
     },
     "execution_count": 19,
     "metadata": {},
     "output_type": "execute_result"
    },
    {
     "data": {
      "image/png": "[encoded data removed]",
      "text/plain": [
       "<matplotlib.figure.Figure at 0x117cf5278>"
      ]
     },
     "metadata": {},
     "output_type": "display_data"
    }
   ],
   "source": [
    "# Plot the accracies VS. tree depths\n",
    "fig, ax = plt.subplots(1, 1, figsize = (8, 6))\n",
    "ax.plot([1, 2, 10, 100], ab1_acc_train, 's-', label='train')\n",
    "ax.plot([1, 2, 10, 100], ab1_acc_test, 's-', label='test')\n",
    "\n",
    "ax.set_xlabel(\"Tree Depths\", fontsize=16)\n",
    "ax.set_ylabel(\"Accuracy\", fontsize=16)\n",
    "ax.set_title(\"Accuracy VS. Tree Depths in Adaboosting\", fontsize=18)\n",
    "ax.legend(fontsize=14)"
   ]
  },
  {
   "cell_type": "code",
   "execution_count": 20,
   "metadata": {},
   "outputs": [
    {
     "name": "stdout",
     "output_type": "stream",
     "text": [
      "Train Accuracies:\n",
      " [0.66059999999999997, 0.68140000000000001, 0.69879999999999998, 0.71779999999999999, 0.74480000000000002, 0.78180000000000005, 0.83279999999999998, 0.89680000000000004]\n",
      "\n",
      "Test Accuracies:\n",
      " [0.64600000000000002, 0.66239999999999999, 0.67459999999999998, 0.67979999999999996, 0.68700000000000006, 0.68959999999999999, 0.68640000000000001, 0.67279999999999995]\n"
     ]
    }
   ],
   "source": [
    "l_rate = 0.05\n",
    "n_trees = [2**(i+1) for i in np.arange(8)]\n",
    "\n",
    "ab2_acc_train = []\n",
    "ab2_acc_test = []\n",
    "\n",
    "for n in n_trees:\n",
    "    # Fit the AdaBoost Classifier\n",
    "    ab2 = AdaBoostClassifier(DecisionTreeClassifier(max_depth=optimal_depth, random_state=22), n_estimators=n, \n",
    "                             learning_rate=l_rate, random_state=22).fit(X_train, y_train)\n",
    "    \n",
    "    # Record mean accuracya score on Train & Test set\n",
    "    ab2_acc_train.append(ab2.score(X_train, y_train))\n",
    "    ab2_acc_test.append(ab2.score(X_test, y_test))\n",
    "\n",
    "print('Train Accuracies:\\n', ab2_acc_train)\n",
    "print('\\nTest Accuracies:\\n', ab2_acc_test)"
   ]
  },
  {
   "cell_type": "code",
   "execution_count": 21,
   "metadata": {},
   "outputs": [
    {
     "data": {
      "text/plain": [
       "<matplotlib.legend.Legend at 0x1180976a0>"
      ]
     },
     "execution_count": 21,
     "metadata": {},
     "output_type": "execute_result"
    },
    {
     "data": {
      "image/png": "[encoded data removed]",
      "text/plain": [
       "<matplotlib.figure.Figure at 0x117fe8940>"
      ]
     },
     "metadata": {},
     "output_type": "display_data"
    }
   ],
   "source": [
    "# Plot the accracies VS. #_trees\n",
    "fig, ax = plt.subplots(1, 1, figsize = (8, 6))\n",
    "ax.plot(n_trees, ab2_acc_train, 's-', label='train')\n",
    "ax.plot(n_trees, ab2_acc_test, 's-', label='test')\n",
    "\n",
    "ax.set_xlabel(\"#_trees\", fontsize=16)\n",
    "ax.set_ylabel(\"Accuracy\", fontsize=16)\n",
    "ax.set_title(\"Accuracy VS. #_trees in Adaboosting\", fontsize=18)\n",
    "ax.legend(fontsize=14)"
   ]
  },
  {
   "cell_type": "code",
   "execution_count": 22,
   "metadata": {},
   "outputs": [
    {
     "data": {
      "text/plain": [
       "odict_values([[2, 4, 6, 8], [2, 4, 8, 16, 32, 64]])"
      ]
     },
     "execution_count": 22,
     "metadata": {},
     "output_type": "execute_result"
    }
   ],
   "source": [
    "ab_params = OrderedDict(\n",
    "    base_depths = [2, 4, 6, 8],\n",
    "    n_estimators = [2**(i+1) for i in np.arange(6)]\n",
    ")\n",
    "ab_params.values()"
   ]
  },
  {
   "cell_type": "code",
   "execution_count": 23,
   "metadata": {
    "collapsed": true
   },
   "outputs": [],
   "source": [
    "# Use 5-fold CV to choose max_depth & #_trees in AdaBoost Classifier\n",
    "l_rate = 0.05\n",
    "ab_params_dict = {}\n",
    "cv_scores_ab = []\n",
    "for i, (d, n) in enumerate(product(*ab_params.values())):\n",
    "    ab_params_dict[i] = (d, n)\n",
    "    ab_clf = AdaBoostClassifier(DecisionTreeClassifier(max_depth=d, random_state=22), n_estimators=n, \n",
    "                                learning_rate=l_rate, random_state=22).fit(X_train, y_train)\n",
    "    scores = cross_val_score(ab_clf, X_train, y_train, cv=5, scoring='accuracy')\n",
    "    cv_scores_ab.append(scores.mean())\n",
    "\n",
    "# Use the set of optimal params to fit Adaboost Classifier\n",
    "optimal_ab_params = ab_params_dict[cv_scores_ab.index(max(cv_scores_ab))]\n",
    "optimal_ab_depth = optimal_ab_params[0]\n",
    "optimal_ab_n = optimal_ab_params[1]\n",
    "ab_optimal = AdaBoostClassifier(DecisionTreeClassifier(max_depth=optimal_ab_depth, random_state=22), n_estimators=optimal_ab_n, \n",
    "                                learning_rate=l_rate, random_state=22).fit(X_train, y_train)"
   ]
  },
  {
   "cell_type": "code",
   "execution_count": 24,
   "metadata": {},
   "outputs": [
    {
     "name": "stdout",
     "output_type": "stream",
     "text": [
      "=============================\n",
      "Optimal Adaboost Classifier\n",
      "\n",
      "Optimal base_depth = 4\n",
      "Optimal #_trees = 64\n",
      "train_acc = 0.7818\n",
      "test_acc = 0.6896\n",
      "\n"
     ]
    }
   ],
   "source": [
    "print('=============================')\n",
    "print('Optimal Adaboost Classifier\\n')\n",
    "print('Optimal base_depth = {}'.format(optimal_ab_depth))\n",
    "print('Optimal #_trees = {}'.format(optimal_ab_n))\n",
    "print('train_acc = {}\\ntest_acc = {}\\n'.format(ab_optimal.score(X_train, y_train), ab_optimal.score(X_test, y_test)))"
   ]
  },
  {
   "cell_type": "markdown",
   "metadata": {},
   "source": [
    "## Question 5 (3pt): Meta-classifier\n",
    "\n",
    "We have so far explored techniques that grow a collection of trees either by creating multiple copies of the original training set, or through a sequential procedure, and then combines these trees into a single classifier. Consider an alternate scenario where you are provided with a pre-trained collection of trees, say from different participants of a data science competition for Higgs boson discovery. What would be a good strategy to combine these pre-fitted trees into a single powerful classifier? Of course, a simple approach would be to take the majority vote from the individual trees. Can we do better than this simple combination strategy?\n",
    "\n",
    "A collection of 100 decision tree classifiers is provided in the file `models.npy` and can be loaded into an array by executing:\n",
    "\n",
    "`models = np.load('models.npy')`\n",
    "\n",
    "You can make predictions using the $i^\\text{th}$ model on an array of predictors `x` by executing:\n",
    "\n",
    "`model[i].predict(x)`  &nbsp;&nbsp;&nbsp;\n",
    "or &nbsp;&nbsp;&nbsp;\n",
    "`model[i].predict_proba(x)`\n",
    "\n",
    "and score the model on predictors `x` and labels `y` by using:\n",
    "\n",
    "`model[i].score(x, y)`.\n",
    "\n",
    "1. Implement a strategy to combine the provided decision tree classifiers, and compare the test perfomance of your approach with the majority vote classifier. Explain your strategy/algorithm.\n",
    "\n"
   ]
  },
  {
   "cell_type": "code",
   "execution_count": 25,
   "metadata": {},
   "outputs": [
    {
     "data": {
      "text/plain": [
       "100"
      ]
     },
     "execution_count": 25,
     "metadata": {},
     "output_type": "execute_result"
    }
   ],
   "source": [
    "# Load the models\n",
    "models = np.load('models.npy', encoding = 'latin1')\n",
    "len(models)"
   ]
  },
  {
   "cell_type": "code",
   "execution_count": 26,
   "metadata": {},
   "outputs": [
    {
     "name": "stdout",
     "output_type": "stream",
     "text": [
      "Models Mean Accuracy on Train Set: 0.591344\n",
      "Models Mean Accuracy on Test Set: 0.593988\n"
     ]
    }
   ],
   "source": [
    "# Print mean accuracy of the models\n",
    "models_acc_train = []\n",
    "models_acc_test = []\n",
    "for m in models:\n",
    "    models_acc_train.append(m.score(X_train, y_train))\n",
    "    models_acc_test.append(m.score(X_test, y_test))\n",
    "\n",
    "print('Models Mean Accuracy on Train Set: {}'.format(np.mean(models_acc_train)))\n",
    "print('Models Mean Accuracy on Test Set: {}'.format(np.mean(models_acc_test)))"
   ]
  },
  {
   "cell_type": "code",
   "execution_count": 27,
   "metadata": {},
   "outputs": [
    {
     "name": "stdout",
     "output_type": "stream",
     "text": [
      "Models Majority Vote Accuracy on Train Set: 0.6546\n",
      "Models Majority Vote Accuracy on Test Set: 0.6668\n"
     ]
    }
   ],
   "source": [
    "# Majority Vote Classifer\n",
    "models_y_preds_train = np.zeros((X_train.shape[0], len(models)))\n",
    "models_y_preds_test = np.zeros((X_test.shape[0], len(models)))\n",
    "\n",
    "# Record the prediction of each model\n",
    "for i, m in enumerate(models):\n",
    "    models_y_preds_train[:, i] = m.predict(X_train)\n",
    "    models_y_preds_test[:, i] = m.predict(X_test)\n",
    "\n",
    "# Take majority - Train\n",
    "models_maj_pred_train = np.zeros((X_train.shape[0],))\n",
    "for i in range(X_train.shape[0]):\n",
    "    num_ones_train = np.count_nonzero(models_y_preds_train[i, :])\n",
    "    num_zeros_train = len(models) - num_ones_train\n",
    "    if num_ones_train >= num_zeros_train:\n",
    "        models_maj_pred_train[i] = 1\n",
    "\n",
    "# Take majority - Test\n",
    "models_maj_pred_test = np.zeros((X_test.shape[0],))\n",
    "for i in range(X_test.shape[0]):\n",
    "    num_ones_train = np.count_nonzero(models_y_preds_test[i, :])\n",
    "    num_zeros_train = len(models) - num_ones_train\n",
    "    if num_ones_train >= num_zeros_train:\n",
    "        models_maj_pred_test[i] = 1\n",
    "\n",
    "models_maj_acc_train = metrics.accuracy_score(y_train, models_maj_pred_train)\n",
    "models_maj_acc_test = metrics.accuracy_score(y_test, models_maj_pred_test)\n",
    "print('Models Majority Vote Accuracy on Train Set: {}'.format(models_maj_acc_train))\n",
    "print('Models Majority Vote Accuracy on Test Set: {}'.format(models_maj_acc_test))"
   ]
  },
  {
   "cell_type": "code",
   "execution_count": 28,
   "metadata": {},
   "outputs": [
    {
     "data": {
      "text/plain": [
       "((5000, 100), (5000, 100))"
      ]
     },
     "execution_count": 28,
     "metadata": {},
     "output_type": "execute_result"
    }
   ],
   "source": [
    "# Meta Classifier takes prediction probability of all models as input features\n",
    "meta_X_train = pd.DataFrame()\n",
    "meta_X_test = pd.DataFrame()\n",
    "for i, m in enumerate(models):\n",
    "    meta_X_train[i] = m.predict_proba(X_train)[:, 1]\n",
    "    meta_X_test[i] = m.predict_proba(X_test)[:, 1]\n",
    "\n",
    "meta_X_train.shape, meta_X_test.shape"
   ]
  },
  {
   "cell_type": "code",
   "execution_count": 29,
   "metadata": {},
   "outputs": [
    {
     "name": "stdout",
     "output_type": "stream",
     "text": [
      "Meta-classifier Accuracy on Train Set: 0.6976\n",
      "Meta-classifier Accuracy on Test Set: 0.6896\n"
     ]
    }
   ],
   "source": [
    "# Meta Classifier use logistic regression to classify\n",
    "meta_clf = LogisticRegressionCV().fit(meta_X_train, y_train)\n",
    "meta_acc_train = meta_clf.score(meta_X_train, y_train)\n",
    "meta_acc_test = meta_clf.score(meta_X_test, y_test)\n",
    "\n",
    "print('Meta-classifier Accuracy on Train Set: {}'.format(meta_acc_train))\n",
    "print('Meta-classifier Accuracy on Test Set: {}'.format(meta_acc_test))"
   ]
  },
  {
   "cell_type": "markdown",
   "metadata": {},
   "source": [
    "--- \n",
    "\n",
    "---\n",
    "\n",
    "## APCOMP209a - Homework Question\n",
    "​\n",
    "We've worked with imputation methods on missing data in Homework 6.  We've worked with Decision Trees in HW7 and here.  Now let's see what happens if we try to work with Decision Trees and Missing Data at the same time! We'll be working with a dataset from the UCI Machine Learning Repository that uses a variety of wine chemical predictors to classify wines grown in the same region in Italy.  Each line represents 13 (mostly chemical) predictors of the response variable wine class, including things like alcohol content, hue , and phenols.  Unfortunately some of the predictor values were lost in measurement. Please load `wine_quality_missing.csv`. \n",
    "​\n",
    "*Note*: As in HW6 be careful of reading/treating column names and row names in this data set.\n",
    "​\n",
    "​\n",
    "1. Remove all observations that contain and missing values, split the dataset into a 75-25 train-test split, and fit the sklearn DecisionTreeClassifier and RandomForestClassifier.   Use cross-validation to find the optimal tree depth for each method.  Report the optimal tree-depth, overall classification rate and confusion matrix on the test set for each method.\n",
    "2. Restart with a fresh copy of the data and impute the missing data via mean imputation.  Split the data 75-25 and again fit DecisionTreeClassifier and RandomForestClassifier using cross-validation to find the optimal tree depth.  Report the optimal tree depth, overall classification rate and confusion matrix on the test set for each method.  \n",
    "3. Again restart with a fresh copy of the data but this time let's try something different.  As discussed in section, CART Decision Trees can take advantage of surrogate splits to handle missing data.  Split the data 75-25 and construct a **custom** decision tree model and train it on the training set with missing data. Report the optimal tree depth, overall classification rate and confusion matrix on the test set and compare your results to the Imputation and DecisionTree model results in part 1 & 2.\n"
   ]
  },
  {
   "cell_type": "code",
   "execution_count": 3,
   "metadata": {},
   "outputs": [
    {
     "data": {
      "text/html": [
       "<div>\n",
       "<style>\n",
       "    .dataframe thead tr:only-child th {\n",
       "        text-align: right;\n",
       "    }\n",
       "\n",
       "    .dataframe thead th {\n",
       "        text-align: left;\n",
       "    }\n",
       "\n",
       "    .dataframe tbody tr th {\n",
       "        vertical-align: top;\n",
       "    }\n",
       "</style>\n",
       "<table border=\"1\" class=\"dataframe\">\n",
       "  <thead>\n",
       "    <tr style=\"text-align: right;\">\n",
       "      <th></th>\n",
       "      <th>Alcohol</th>\n",
       "      <th>Malic acid</th>\n",
       "      <th>Ash</th>\n",
       "      <th>Alcalinity of ash</th>\n",
       "      <th>Magnesium</th>\n",
       "      <th>Total phenols</th>\n",
       "      <th>Flavanoids</th>\n",
       "      <th>Nonflavanoid phenols</th>\n",
       "      <th>Proanthocyanins</th>\n",
       "      <th>Color intensity</th>\n",
       "      <th>Hue</th>\n",
       "      <th>OD280/OD315 of diluted wines</th>\n",
       "      <th>Proline</th>\n",
       "      <th>Class</th>\n",
       "    </tr>\n",
       "  </thead>\n",
       "  <tbody>\n",
       "    <tr>\n",
       "      <th>0</th>\n",
       "      <td>14.23</td>\n",
       "      <td>1.71</td>\n",
       "      <td>2.43</td>\n",
       "      <td>15.6</td>\n",
       "      <td>127.0</td>\n",
       "      <td>2.80</td>\n",
       "      <td>3.06</td>\n",
       "      <td>0.28</td>\n",
       "      <td>2.29</td>\n",
       "      <td>5.64</td>\n",
       "      <td>1.04</td>\n",
       "      <td>3.92</td>\n",
       "      <td>1065.0</td>\n",
       "      <td>1</td>\n",
       "    </tr>\n",
       "    <tr>\n",
       "      <th>1</th>\n",
       "      <td>13.20</td>\n",
       "      <td>1.78</td>\n",
       "      <td>2.14</td>\n",
       "      <td>NaN</td>\n",
       "      <td>100.0</td>\n",
       "      <td>2.65</td>\n",
       "      <td>2.76</td>\n",
       "      <td>0.26</td>\n",
       "      <td>1.28</td>\n",
       "      <td>4.38</td>\n",
       "      <td>1.05</td>\n",
       "      <td>3.40</td>\n",
       "      <td>1050.0</td>\n",
       "      <td>1</td>\n",
       "    </tr>\n",
       "    <tr>\n",
       "      <th>2</th>\n",
       "      <td>13.16</td>\n",
       "      <td>2.36</td>\n",
       "      <td>2.67</td>\n",
       "      <td>18.6</td>\n",
       "      <td>101.0</td>\n",
       "      <td>2.80</td>\n",
       "      <td>3.24</td>\n",
       "      <td>0.30</td>\n",
       "      <td>2.81</td>\n",
       "      <td>5.68</td>\n",
       "      <td>1.03</td>\n",
       "      <td>3.17</td>\n",
       "      <td>1185.0</td>\n",
       "      <td>1</td>\n",
       "    </tr>\n",
       "    <tr>\n",
       "      <th>3</th>\n",
       "      <td>14.37</td>\n",
       "      <td>1.95</td>\n",
       "      <td>2.50</td>\n",
       "      <td>NaN</td>\n",
       "      <td>113.0</td>\n",
       "      <td>3.85</td>\n",
       "      <td>3.49</td>\n",
       "      <td>0.24</td>\n",
       "      <td>2.18</td>\n",
       "      <td>7.80</td>\n",
       "      <td>0.86</td>\n",
       "      <td>3.45</td>\n",
       "      <td>1480.0</td>\n",
       "      <td>1</td>\n",
       "    </tr>\n",
       "    <tr>\n",
       "      <th>4</th>\n",
       "      <td>13.24</td>\n",
       "      <td>2.59</td>\n",
       "      <td>2.87</td>\n",
       "      <td>21.0</td>\n",
       "      <td>118.0</td>\n",
       "      <td>2.80</td>\n",
       "      <td>2.69</td>\n",
       "      <td>0.39</td>\n",
       "      <td>NaN</td>\n",
       "      <td>4.32</td>\n",
       "      <td>1.04</td>\n",
       "      <td>2.93</td>\n",
       "      <td>735.0</td>\n",
       "      <td>1</td>\n",
       "    </tr>\n",
       "  </tbody>\n",
       "</table>\n",
       "</div>"
      ],
      "text/plain": [
       "   Alcohol  Malic acid   Ash  Alcalinity of ash  Magnesium  Total phenols  \\\n",
       "0    14.23        1.71  2.43               15.6      127.0           2.80   \n",
       "1    13.20        1.78  2.14                NaN      100.0           2.65   \n",
       "2    13.16        2.36  2.67               18.6      101.0           2.80   \n",
       "3    14.37        1.95  2.50                NaN      113.0           3.85   \n",
       "4    13.24        2.59  2.87               21.0      118.0           2.80   \n",
       "\n",
       "   Flavanoids  Nonflavanoid phenols  Proanthocyanins  Color intensity   Hue  \\\n",
       "0        3.06                  0.28             2.29             5.64  1.04   \n",
       "1        2.76                  0.26             1.28             4.38  1.05   \n",
       "2        3.24                  0.30             2.81             5.68  1.03   \n",
       "3        3.49                  0.24             2.18             7.80  0.86   \n",
       "4        2.69                  0.39              NaN             4.32  1.04   \n",
       "\n",
       "   OD280/OD315 of diluted wines  Proline  Class  \n",
       "0                          3.92   1065.0      1  \n",
       "1                          3.40   1050.0      1  \n",
       "2                          3.17   1185.0      1  \n",
       "3                          3.45   1480.0      1  \n",
       "4                          2.93    735.0      1  "
      ]
     },
     "execution_count": 3,
     "metadata": {},
     "output_type": "execute_result"
    }
   ],
   "source": [
    "df_wine = pd.read_csv(\"wine_quality_missing.csv\")\n",
    "df_wine.head()"
   ]
  },
  {
   "cell_type": "code",
   "execution_count": 4,
   "metadata": {
    "collapsed": true
   },
   "outputs": [],
   "source": [
    "# function to split data into TRAIN (default 0.75) & TEST set\n",
    "def split_hw8_data(df, response, seed=9001, train_size=0.75): # Use seed=9001 each time\n",
    "    np.random.seed(seed)\n",
    "    msk = np.random.rand(len(df)) < train_size\n",
    "    data_train = df[msk]\n",
    "    data_test = df[~msk]\n",
    "    \n",
    "    X_train = data_train[[c for c in data_train.columns if c not in response]]\n",
    "    X_test = data_test[[c for c in data_test.columns if c not in response]]\n",
    "    y_train = data_train[response]\n",
    "    y_test = data_test[response]\n",
    "    \n",
    "    print('X_train.shape = {} \\nX_test.shape = {} \\ny_train.shape = {} \\ny_test.shape = {}'.format(X_train.shape, X_test.shape, y_train.shape, y_test.shape))\n",
    "    \n",
    "    return (X_train, X_test, y_train, y_test)"
   ]
  },
  {
   "cell_type": "code",
   "execution_count": 5,
   "metadata": {},
   "outputs": [
    {
     "name": "stdout",
     "output_type": "stream",
     "text": [
      "X_train.shape = (26, 13) \n",
      "X_test.shape = (17, 13) \n",
      "y_train.shape = (26,) \n",
      "y_test.shape = (17,)\n"
     ]
    }
   ],
   "source": [
    "# Remove observations with any missing values\n",
    "df_wine_full = df_wine.dropna(axis=0, how='any')\n",
    "\n",
    "# Split the dataframe with full observations into Train & Test set\n",
    "X_train_wine1, X_test_wine1, y_train_wine1, y_test_wine1 = split_hw8_data(df_wine_full, 'Class')"
   ]
  },
  {
   "cell_type": "code",
   "execution_count": 6,
   "metadata": {
    "collapsed": true
   },
   "outputs": [],
   "source": [
    "# Function that performs CV to find an optimal depth for a Decision Tree/ Random Forest model\n",
    "def wine_clf_depth_CV5(clf_type, xtrain, ytrain, xtest, ytest):\n",
    "    # CV to find the optimal depth\n",
    "    depths = [2, 4, 6, 8, 10, 15, 20, 30, 40]\n",
    "    cv_scores = []\n",
    "    for d in depths:\n",
    "        if clf_type == 'DecisionTree':\n",
    "            clf = DecisionTreeClassifier(max_depth=d, random_state=22)\n",
    "        else: # clf_type == 'RandomForest'\n",
    "            clf = RandomForestClassifier(max_depth=d, random_state=22)\n",
    "        \n",
    "        scores = cross_val_score(clf, xtrain, ytrain, cv=5, scoring='accuracy')\n",
    "        cv_scores.append(scores.mean())\n",
    "    \n",
    "    # Fit the model on the optimal depth\n",
    "    optimal_d = depths[cv_scores.index(max(cv_scores))]\n",
    "    if clf_type == 'DecisionTree':\n",
    "        optimal_clf = DecisionTreeClassifier(max_depth=optimal_d, random_state=22).fit(xtrain, ytrain)\n",
    "        \n",
    "    else:\n",
    "        optimal_clf = RandomForestClassifier(max_depth=optimal_d, random_state=22).fit(xtrain, ytrain)\n",
    "    acc_train = optimal_clf.score(xtrain, ytrain)\n",
    "    acc_test = optimal_clf.score(xtest, ytest)\n",
    "    \n",
    "    print('=============================')\n",
    "    print('Optimal {}\\n'.format(clf_type))\n",
    "    print('Optimal depth = {}'.format(optimal_d))\n",
    "    print('train_acc = {}\\ntest_acc = {}'.format(acc_train, acc_test))\n",
    "    print('Confusion Matrix:')\n",
    "    print(confusion_matrix(ytest, optimal_clf.predict(xtest)))\n",
    "    print()"
   ]
  },
  {
   "cell_type": "code",
   "execution_count": 7,
   "metadata": {},
   "outputs": [
    {
     "name": "stdout",
     "output_type": "stream",
     "text": [
      "=============================\n",
      "Optimal DecisionTree\n",
      "\n",
      "Optimal depth = 2\n",
      "train_acc = 1.0\n",
      "test_acc = 0.7647058823529411\n",
      "Confusion Matrix:\n",
      "[[4 2 0]\n",
      " [0 7 1]\n",
      " [0 1 2]]\n",
      "\n"
     ]
    }
   ],
   "source": [
    "# Decision Tree model\n",
    "wine_clf_depth_CV5('DecisionTree', X_train_wine1, y_train_wine1, X_test_wine1, y_test_wine1)"
   ]
  },
  {
   "cell_type": "code",
   "execution_count": 8,
   "metadata": {},
   "outputs": [
    {
     "name": "stdout",
     "output_type": "stream",
     "text": [
      "=============================\n",
      "Optimal RandomForest\n",
      "\n",
      "Optimal depth = 2\n",
      "train_acc = 1.0\n",
      "test_acc = 0.9411764705882353\n",
      "Confusion Matrix:\n",
      "[[6 0 0]\n",
      " [1 7 0]\n",
      " [0 0 3]]\n",
      "\n"
     ]
    }
   ],
   "source": [
    "# Random Forest model\n",
    "wine_clf_depth_CV5('RandomForest', X_train_wine1, y_train_wine1, X_test_wine1, y_test_wine1)"
   ]
  },
  {
   "cell_type": "code",
   "execution_count": 9,
   "metadata": {},
   "outputs": [
    {
     "name": "stdout",
     "output_type": "stream",
     "text": [
      "X_train.shape = (123, 13) \n",
      "X_test.shape = (55, 13) \n",
      "y_train.shape = (123,) \n",
      "y_test.shape = (55,)\n"
     ]
    }
   ],
   "source": [
    "# Impute missing value with column mean\n",
    "df_wine_imp = pd.read_csv(\"wine_quality_missing.csv\")\n",
    "df_wine_imp.fillna(df_wine_imp.mean()[:-1], inplace=True) \n",
    "\n",
    "# Split the mean imputed dataframe into Train & Test set\n",
    "X_train_wine2, X_test_wine2, y_train_wine2, y_test_wine2 = split_hw8_data(df_wine_imp, 'Class')"
   ]
  },
  {
   "cell_type": "code",
   "execution_count": 10,
   "metadata": {},
   "outputs": [
    {
     "name": "stdout",
     "output_type": "stream",
     "text": [
      "=============================\n",
      "Optimal DecisionTree\n",
      "\n",
      "Optimal depth = 4\n",
      "train_acc = 0.991869918699187\n",
      "test_acc = 0.8909090909090909\n",
      "Confusion Matrix:\n",
      "[[15  5  0]\n",
      " [ 0 18  0]\n",
      " [ 0  1 16]]\n",
      "\n"
     ]
    }
   ],
   "source": [
    "# Decision Tree model\n",
    "wine_clf_depth_CV5('DecisionTree', X_train_wine2, y_train_wine2, X_test_wine2, y_test_wine2)"
   ]
  },
  {
   "cell_type": "code",
   "execution_count": 11,
   "metadata": {},
   "outputs": [
    {
     "name": "stdout",
     "output_type": "stream",
     "text": [
      "=============================\n",
      "Optimal RandomForest\n",
      "\n",
      "Optimal depth = 6\n",
      "train_acc = 0.991869918699187\n",
      "test_acc = 0.9272727272727272\n",
      "Confusion Matrix:\n",
      "[[19  1  0]\n",
      " [ 1 16  1]\n",
      " [ 0  1 16]]\n",
      "\n"
     ]
    }
   ],
   "source": [
    "# Random Forest model\n",
    "wine_clf_depth_CV5('RandomForest', X_train_wine2, y_train_wine2, X_test_wine2, y_test_wine2)"
   ]
  },
  {
   "cell_type": "code",
   "execution_count": 12,
   "metadata": {},
   "outputs": [
    {
     "data": {
      "text/plain": [
       "((123, 14), (55, 14))"
      ]
     },
     "execution_count": 12,
     "metadata": {},
     "output_type": "execute_result"
    }
   ],
   "source": [
    "# Start with a new copy of data\n",
    "df_wine_cart = pd.read_csv(\"wine_quality_missing.csv\")\n",
    "\n",
    "# Split the dataframe into Train & Test set\n",
    "np.random.seed(9001)\n",
    "msk = np.random.rand(len(df_wine_cart)) < 0.75\n",
    "df_wine_cart_train = df_wine_cart[msk]\n",
    "df_wine_cart_test = df_wine_cart[~msk]\n",
    "\n",
    "df_wine_cart_train.shape, df_wine_cart_test.shape"
   ]
  },
  {
   "cell_type": "code",
   "execution_count": 13,
   "metadata": {},
   "outputs": [
    {
     "data": {
      "text/html": [
       "<div>\n",
       "<style>\n",
       "    .dataframe thead tr:only-child th {\n",
       "        text-align: right;\n",
       "    }\n",
       "\n",
       "    .dataframe thead th {\n",
       "        text-align: left;\n",
       "    }\n",
       "\n",
       "    .dataframe tbody tr th {\n",
       "        vertical-align: top;\n",
       "    }\n",
       "</style>\n",
       "<table border=\"1\" class=\"dataframe\">\n",
       "  <thead>\n",
       "    <tr style=\"text-align: right;\">\n",
       "      <th></th>\n",
       "      <th>Alcohol</th>\n",
       "      <th>Malic acid</th>\n",
       "      <th>Ash</th>\n",
       "      <th>Alcalinity of ash</th>\n",
       "      <th>Magnesium</th>\n",
       "      <th>Total phenols</th>\n",
       "      <th>Flavanoids</th>\n",
       "      <th>Nonflavanoid phenols</th>\n",
       "      <th>Proanthocyanins</th>\n",
       "      <th>Color intensity</th>\n",
       "      <th>Hue</th>\n",
       "      <th>OD280/OD315 of diluted wines</th>\n",
       "      <th>Proline</th>\n",
       "      <th>Class</th>\n",
       "    </tr>\n",
       "  </thead>\n",
       "  <tbody>\n",
       "    <tr>\n",
       "      <th>0</th>\n",
       "      <td>14.23</td>\n",
       "      <td>1.71</td>\n",
       "      <td>2.43</td>\n",
       "      <td>15.6</td>\n",
       "      <td>127.0</td>\n",
       "      <td>2.80</td>\n",
       "      <td>3.06</td>\n",
       "      <td>0.28</td>\n",
       "      <td>2.29</td>\n",
       "      <td>5.64</td>\n",
       "      <td>1.04</td>\n",
       "      <td>3.92</td>\n",
       "      <td>1065.0</td>\n",
       "      <td>1</td>\n",
       "    </tr>\n",
       "    <tr>\n",
       "      <th>3</th>\n",
       "      <td>14.37</td>\n",
       "      <td>1.95</td>\n",
       "      <td>2.50</td>\n",
       "      <td>NaN</td>\n",
       "      <td>113.0</td>\n",
       "      <td>3.85</td>\n",
       "      <td>3.49</td>\n",
       "      <td>0.24</td>\n",
       "      <td>2.18</td>\n",
       "      <td>7.80</td>\n",
       "      <td>0.86</td>\n",
       "      <td>3.45</td>\n",
       "      <td>1480.0</td>\n",
       "      <td>1</td>\n",
       "    </tr>\n",
       "    <tr>\n",
       "      <th>5</th>\n",
       "      <td>14.20</td>\n",
       "      <td>1.76</td>\n",
       "      <td>2.45</td>\n",
       "      <td>15.2</td>\n",
       "      <td>112.0</td>\n",
       "      <td>NaN</td>\n",
       "      <td>3.39</td>\n",
       "      <td>0.34</td>\n",
       "      <td>1.97</td>\n",
       "      <td>6.75</td>\n",
       "      <td>1.05</td>\n",
       "      <td>NaN</td>\n",
       "      <td>1450.0</td>\n",
       "      <td>1</td>\n",
       "    </tr>\n",
       "    <tr>\n",
       "      <th>6</th>\n",
       "      <td>14.39</td>\n",
       "      <td>NaN</td>\n",
       "      <td>2.45</td>\n",
       "      <td>14.6</td>\n",
       "      <td>96.0</td>\n",
       "      <td>2.50</td>\n",
       "      <td>2.52</td>\n",
       "      <td>0.30</td>\n",
       "      <td>1.98</td>\n",
       "      <td>5.25</td>\n",
       "      <td>1.02</td>\n",
       "      <td>3.58</td>\n",
       "      <td>1290.0</td>\n",
       "      <td>1</td>\n",
       "    </tr>\n",
       "    <tr>\n",
       "      <th>9</th>\n",
       "      <td>13.86</td>\n",
       "      <td>1.35</td>\n",
       "      <td>2.27</td>\n",
       "      <td>16.0</td>\n",
       "      <td>98.0</td>\n",
       "      <td>2.98</td>\n",
       "      <td>3.15</td>\n",
       "      <td>0.22</td>\n",
       "      <td>1.85</td>\n",
       "      <td>7.22</td>\n",
       "      <td>1.01</td>\n",
       "      <td>NaN</td>\n",
       "      <td>1045.0</td>\n",
       "      <td>1</td>\n",
       "    </tr>\n",
       "  </tbody>\n",
       "</table>\n",
       "</div>"
      ],
      "text/plain": [
       "   Alcohol  Malic acid   Ash  Alcalinity of ash  Magnesium  Total phenols  \\\n",
       "0    14.23        1.71  2.43               15.6      127.0           2.80   \n",
       "3    14.37        1.95  2.50                NaN      113.0           3.85   \n",
       "5    14.20        1.76  2.45               15.2      112.0            NaN   \n",
       "6    14.39         NaN  2.45               14.6       96.0           2.50   \n",
       "9    13.86        1.35  2.27               16.0       98.0           2.98   \n",
       "\n",
       "   Flavanoids  Nonflavanoid phenols  Proanthocyanins  Color intensity   Hue  \\\n",
       "0        3.06                  0.28             2.29             5.64  1.04   \n",
       "3        3.49                  0.24             2.18             7.80  0.86   \n",
       "5        3.39                  0.34             1.97             6.75  1.05   \n",
       "6        2.52                  0.30             1.98             5.25  1.02   \n",
       "9        3.15                  0.22             1.85             7.22  1.01   \n",
       "\n",
       "   OD280/OD315 of diluted wines  Proline  Class  \n",
       "0                          3.92   1065.0      1  \n",
       "3                          3.45   1480.0      1  \n",
       "5                           NaN   1450.0      1  \n",
       "6                          3.58   1290.0      1  \n",
       "9                           NaN   1045.0      1  "
      ]
     },
     "execution_count": 13,
     "metadata": {},
     "output_type": "execute_result"
    }
   ],
   "source": [
    "df_wine_cart_train.head()"
   ]
  },
  {
   "cell_type": "code",
   "execution_count": 14,
   "metadata": {},
   "outputs": [
    {
     "name": "stdout",
     "output_type": "stream",
     "text": [
      "Columns with NaNs:\n",
      "['Alcohol', 'Malic acid', 'Ash', 'Alcalinity of ash', 'Magnesium', 'Total phenols', 'Flavanoids', 'Nonflavanoid phenols', 'Proanthocyanins', 'Color intensity', 'Hue', 'OD280/OD315 of diluted wines', 'Proline']\n",
      "\n",
      "Full Columns:\n",
      "['Class']\n"
     ]
    }
   ],
   "source": [
    "mis_col_names = []\n",
    "full_col_names = []\n",
    "for c in df_wine_cart_train.columns:\n",
    "    if df_wine_cart_train[c].isnull().any():\n",
    "        mis_col_names.append(c) # Names of columns with NaNs \n",
    "    else:\n",
    "        full_col_names.append(c) # Names of columns without NaNs\n",
    "\n",
    "print('Columns with NaNs:')\n",
    "print(mis_col_names)\n",
    "print()\n",
    "print('Full Columns:')\n",
    "print(full_col_names)"
   ]
  },
  {
   "cell_type": "markdown",
   "metadata": {},
   "source": [
    "### Credit of Reference: \n",
    "Surrogate Tree Implementation based on work from **Ziqi Guo** and [online](https://machinelearningmastery.com/implement-decision-tree-algorithm-scratch-python/)\n",
    "\n",
    "---"
   ]
  },
  {
   "cell_type": "code",
   "execution_count": 18,
   "metadata": {
    "collapsed": true
   },
   "outputs": [],
   "source": [
    "def gini_index(left, right, response):\n",
    "    n_left = left.shape[0]\n",
    "    n_right = right.shape[0]\n",
    "    n_instances = n_left + n_right\n",
    "    gini_left = 1 - np.sum([(i/n_left)**2 for i in left[response].value_counts()])\n",
    "    gini_right = 1 - np.sum([(i/n_right)**2 for i in right[response].value_counts()])\n",
    "    \n",
    "    # Weight the 2 gini scores by the portion of data points in each branch\n",
    "    gini = gini_left * n_left/n_instances + gini_right * n_right/n_instances\n",
    "    \n",
    "    return gini\n",
    "\n",
    "def get_optimal_split(data_train, response):\n",
    "    x_train = data_train.drop(response, axis=1)\n",
    "    col_inds = list(range(x_train.shape[1]))\n",
    "    col_names = x_train.columns.values\n",
    "    \n",
    "    best_gini, best_col, best_threshold = 999, -1, 999\n",
    "    \n",
    "    for col in col_inds:\n",
    "        complete = data_train.dropna(subset=[col_names[col]])\n",
    "        for j in range(complete.shape[0]):\n",
    "            left = complete[complete.iloc[:,col] <= complete.iloc[j,col]]\n",
    "            right = complete[complete.iloc[:,col] > complete.iloc[j,col]]\n",
    "            gini = gini_index(left, right, response)\n",
    "            if gini < best_gini:\n",
    "                best_gini, best_col, best_threshold = gini, col, complete.iloc[j,col]\n",
    "    complete = data_train.dropna(subset=[col_names[best_col]])\n",
    "    return best_col, best_threshold, complete\n",
    "    \n",
    "\n",
    "def SurrogateTreeFit(data_train, response, max_depth):\n",
    "    x_train = data_train.drop(response, axis=1)\n",
    "    col_inds = list(range(x_train.shape[1]))\n",
    "    col_names = x_train.columns.values\n",
    "\n",
    "    tree = {} \n",
    "    stack = [{'data':data_train, 'depth':1}]\n",
    "    while stack:\n",
    "        data = stack.pop()\n",
    "        n = len(tree) # the current number of nodes in the tree\n",
    "        \n",
    "        if data['depth'] == max_depth: # reaches the max_depth, need to append a leaf node\n",
    "            tree[n] = {'class': data['data'][response].value_counts().idxmax()}\n",
    "        \n",
    "        else: # not yet reached the max_depth\n",
    "            best_col, best_threshold, complete = get_optimal_split(data['data'], 'Class')\n",
    "            \n",
    "            # all data points in the node is in the same class\n",
    "            if len(complete[response].unique()) == 1: \n",
    "                for i in range(n, n+1+np.sum([2**i for i in range(1, max_depth-data['depth']+1)])):\n",
    "                    tree[i] = {'class': complete[response].value_counts().idxmax()}\n",
    "            \n",
    "            # further split and fine surrogate splits\n",
    "            else:\n",
    "                left = complete[complete.iloc[:,best_col] <= best_threshold]\n",
    "                right = complete[complete.iloc[:,best_col] > best_threshold]\n",
    "                tree[n] = {'feature': best_col, 'threshold': best_threshold, 'left_node': n+1, \n",
    "                           'right_node': int(n+1+np.sum([2**i for i in range(max_depth-data['depth'])])), \n",
    "                           'left': set(left.index), 'right': set(right.index)}\n",
    "                stack.extend([{'data':right, 'depth':data['depth']+1}, {'data':left, 'depth':data['depth']+1}])\n",
    "                \n",
    "                # Record surrogate splits for each internal node\n",
    "                other_col_inds = col_inds[:tree[n]['feature']] + col_inds[tree[n]['feature']+1:]\n",
    "                surrogate_candidates = []\n",
    "                for col in other_col_inds:\n",
    "                    col_full_data = data_train.dropna(subset=[col_names[col]])\n",
    "                    best_similar_score = 0\n",
    "                    best_threshold = None\n",
    "                    for j in range(col_full_data.shape[0]):\n",
    "                        left = set(col_full_data[col_full_data.iloc[:,col] <= col_full_data.iloc[j,col]].index)\n",
    "                        right = set(col_full_data[col_full_data.iloc[:,col] > col_full_data.iloc[j,col]].index)\n",
    "                        \n",
    "                        # similarity score\n",
    "                        score = (len(tree[n]['left'].intersection(left)) + len(tree[n]['right'].intersection(right)))/complete.shape[0]\n",
    "                        if score > best_similar_score:\n",
    "                            best_similar_score = score\n",
    "                            best_threshold = col_full_data.iloc[j,col]\n",
    "                    \n",
    "                    # For each feature for a surrogate split, \n",
    "                    # find the threshold that gives a split most similar to the optimal split\n",
    "                    surrogate_candidates.append([best_similar_score, col, best_threshold])\n",
    "                \n",
    "                # Sort the surrogate splits given by all other features by their similarity to the optimal split\n",
    "                surrogate_candidates = sorted(surrogate_candidates, reverse=True, key = lambda x: x[0])\n",
    "                tree[n]['surrogate'] = surrogate_candidates\n",
    "    return tree\n",
    "    \n",
    "def SurrogateTreePredict(data_test, tree):\n",
    "    pred_test = []\n",
    "    for i in range(data_test.shape[0]):\n",
    "        cur = 0\n",
    "        while 'class' not in tree[cur]:\n",
    "            value = data_test.iloc[i, tree[cur]['feature']]\n",
    "            \n",
    "            if not np.isnan(value): # predict the record using the optimal feature & threshold\n",
    "                if value <= tree[cur]['threshold']:\n",
    "                    cur = tree[cur]['left_node']\n",
    "                else:\n",
    "                    cur = tree[cur]['right_node']\n",
    "                continue\n",
    "            \n",
    "            else: # predict the record using the first surrogate feature & threshold\n",
    "                for sur in tree[cur]['surrogate']:\n",
    "                    value = data_test.iloc[i, sur[1]]\n",
    "                    if not np.isnan(value):\n",
    "                        surrogate_threshold = sur[2]\n",
    "                        if value <= surrogate_threshold:\n",
    "                            cur = tree[cur]['left_node']\n",
    "                        else:\n",
    "                            cur = tree[cur]['right_node']\n",
    "                        break\n",
    "        pred_test.append(tree[cur]['class'])\n",
    "    return pred_test"
   ]
  },
  {
   "cell_type": "code",
   "execution_count": 22,
   "metadata": {},
   "outputs": [],
   "source": [
    "# Use 5-fold cv to choose the optimal depth of the cart surrogate tree\n",
    "depths_cart = [2, 4, 6, 8]\n",
    "cv_scores_cart = np.zeros((5, len(depths_cart)))\n",
    "fold = 0\n",
    "params_dict = {}\n",
    "for idx_train, idx_valid in KFold(5, shuffle=True, random_state=22).split(range(df_wine_cart_train.shape[0])): \n",
    "    data_train_cv = df_wine_cart_train.iloc[idx_train]\n",
    "    data_valid_cv = df_wine_cart_train.iloc[idx_valid]\n",
    "    \n",
    "    for i, d in enumerate(depths_cart):\n",
    "        cart_tree = SurrogateTreeFit(data_train_cv, 'Class', d)\n",
    "        cart_preds_valid = SurrogateTreePredict(data_valid_cv, cart_tree)\n",
    "        cv_scores_cart[fold, i] = metrics.accuracy_score(data_valid_cv['Class'], cart_preds_valid)\n",
    "    \n",
    "    fold += 1"
   ]
  },
  {
   "cell_type": "code",
   "execution_count": 23,
   "metadata": {},
   "outputs": [
    {
     "name": "stdout",
     "output_type": "stream",
     "text": [
      "Maximum validation score: 0.8856666666666666\n",
      "The optimal depth for cart surrogate tree: 4\n"
     ]
    }
   ],
   "source": [
    "mean_scores_cart = cv_scores_cart.mean(axis=0)\n",
    "idx_optimal = np.argmax(mean_scores_cart)\n",
    "optimal_depth_cart = depths_cart[np.argmax(mean_scores_cart)]\n",
    "\n",
    "print('Maximum validation score: {}'.format(max(mean_scores_cart)))\n",
    "print('The optimal depth for cart surrogate tree: {}'.format(optimal_depth_cart))"
   ]
  },
  {
   "cell_type": "code",
   "execution_count": 24,
   "metadata": {},
   "outputs": [
    {
     "name": "stdout",
     "output_type": "stream",
     "text": [
      "=============================\n",
      "CART Surrogate Tree \n",
      "\n",
      "train_acc = 0.943089430894309\n",
      "test_acc = 0.8363636363636363\n",
      "Confusion Matrix:\n",
      "[[16  4  0]\n",
      " [ 0 18  0]\n",
      " [ 1  4 12]]\n",
      "\n"
     ]
    }
   ],
   "source": [
    "optimal_cart_tree = SurrogateTreeFit(df_wine_cart_train, 'Class', optimal_depth_cart)\n",
    "optimal_cart_preds_train = SurrogateTreePredict(df_wine_cart_train, optimal_cart_tree)\n",
    "optimal_cart_preds_test = SurrogateTreePredict(df_wine_cart_test, optimal_cart_tree)\n",
    "\n",
    "surrogate_acc_train = metrics.accuracy_score(df_wine_cart_train['Class'], surrogate_preds_train)\n",
    "surrogate_acc_test = metrics.accuracy_score(df_wine_cart_test['Class'], surrogate_preds_test)\n",
    "\n",
    "print('=============================')\n",
    "print('Optimal CART Surrogate Tree \\n')\n",
    "print('')\n",
    "print('train_acc = {}\\ntest_acc = {}'.format(surrogate_acc_train, surrogate_acc_test))\n",
    "print('Confusion Matrix:')\n",
    "print(confusion_matrix(df_wine_cart_test['Class'], surrogate_preds_test))\n",
    "print()"
   ]
  },
  {
   "cell_type": "code",
   "execution_count": null,
   "metadata": {
    "collapsed": true
   },
   "outputs": [],
   "source": []
  }
 ],
 "metadata": {
  "anaconda-cloud": {},
  "kernelspec": {
   "display_name": "Python 3",
   "language": "python",
   "name": "python3"
  },
  "language_info": {
   "codemirror_mode": {
    "name": "ipython",
    "version": 3
   },
   "file_extension": ".py",
   "mimetype": "text/x-python",
   "name": "python",
   "nbconvert_exporter": "python",
   "pygments_lexer": "ipython3",
   "version": "3.6.1"
  },
  "latex_envs": {
   "bibliofile": "biblio.bib",
   "cite_by": "apalike",
   "current_citInitial": 1,
   "eqLabelWithNumbers": true,
   "eqNumInitial": 0
  }
 },
 "nbformat": 4,
 "nbformat_minor": 1
}
